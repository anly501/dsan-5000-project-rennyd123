{
 "cells": [
  {
   "attachments": {},
   "cell_type": "markdown",
   "metadata": {},
   "source": [
    "---\n",
    "format: html\n",
    "styles:\n",
    "  - |\n",
    "    #quarto-content > * {\n",
    "      padding-top: 0 !important;\n",
    "    }\n",
    "---"
   ]
  },
  {
   "cell_type": "markdown",
   "metadata": {},
   "source": [
    "```{=html}\n",
    "<style>\n",
    "body {\n",
    "    margin: 0;\n",
    "    padding: 0;\n",
    "}\n",
    ".main {\n",
    "    padding-top: 0 !important;\n",
    "}\n",
    "</style>\n",
    "```"
   ]
  },
  {
   "cell_type": "markdown",
   "metadata": {},
   "source": [
    "::: {.column-screen}\n",
    "![](images/home_page_big.png)\n",
    ":::"
   ]
  }
 ],
 "metadata": {
  "kernelspec": {
   "display_name": "Python 3",
   "language": "python",
   "name": "python3"
  },
  "language_info": {
   "name": "python",
   "version": "3.8.2"
  },
  "orig_nbformat": 4,
  "vscode": {
   "interpreter": {
    "hash": "31f2aee4e71d21fbe5cf8b01ff0e069b9275f58929596ceb00d14d90e3e16cd6"
   }
  }
 },
 "nbformat": 4,
 "nbformat_minor": 2
}
