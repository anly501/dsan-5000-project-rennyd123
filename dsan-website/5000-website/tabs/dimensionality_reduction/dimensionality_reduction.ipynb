{
 "cells": [
  {
   "cell_type": "markdown",
   "metadata": {},
   "source": [
    "## Project Proposal \n",
    "\n",
    "The objective of my project is to explore what factors can affect athletes ability to get injuries. There are various factors that can be involved, such as how an athlete warms up, the nature of the position or sport that they play, the location that they play in or on, etc. My goal is to explore if any factors have positive correlations with injuries so that athletes can be sure to do what they can avoid injury. For this section of the paper, I've decided to use a dataset regarding injuries that soccer players have since it has a lot of features including what injury prevention measures they took, what risk factors they have, and information about their position and number of injuries. To explore my data further, I plan to use Python, Pandas, scikit-learn, numpy, and matplotlib. "
   ]
  },
  {
   "cell_type": "code",
   "execution_count": 75,
   "metadata": {},
   "outputs": [
    {
     "name": "stdout",
     "output_type": "stream",
     "text": [
      "   Prevention Measure Stretching  Prevention Measure Warm Up  \\\n",
      "0                              1                           0   \n",
      "1                              1                           1   \n",
      "2                              1                           0   \n",
      "3                              1                           1   \n",
      "4                              1                           1   \n",
      "\n",
      "   Prevention Measure Specific Strength Exercises  Prevention Measure Bracing  \\\n",
      "0                                               1                           0   \n",
      "1                                               0                           0   \n",
      "2                                               0                           0   \n",
      "3                                               1                           0   \n",
      "4                                               0                           0   \n",
      "\n",
      "   Prevention Measure Taping  Prevention Measure Shoe Insoles  \\\n",
      "0                          0                                0   \n",
      "1                          0                                0   \n",
      "2                          0                                1   \n",
      "3                          0                                0   \n",
      "4                          1                                0   \n",
      "\n",
      "   Prevention Measure Face Masks  Prevention Measure Medical Corset  \n",
      "0                              0                                  0  \n",
      "1                              0                                  0  \n",
      "2                              0                                  0  \n",
      "3                              0                                  0  \n",
      "4                              0                                  0  \n"
     ]
    }
   ],
   "source": [
    "from sklearn.model_selection import train_test_split\n",
    "import pandas as pd \n",
    "import matplotlib as plt\n",
    "from sklearn.preprocessing import StandardScaler\n",
    "\n",
    "file_path = \"../../../../data/01-modified-data/injury_prevention_data_soccer.csv\"\n",
    "soccer_injury = pd.read_csv(file_path)\n",
    "\n",
    "soccer_injury.columns = soccer_injury.columns.str.strip()\n",
    "\n",
    "soccer_injury = soccer_injury.replace({\"yes\": 1, \"no\": 0})\n",
    "soccer_injury.head()\n",
    "\n",
    "x_vars = ['Prevention Measure Stretching', 'Prevention Measure Warm Up',\n",
    "       'Prevention Measure Specific Strength Exercises',\n",
    "       'Prevention Measure Bracing', 'Prevention Measure Taping',\n",
    "       'Prevention Measure Shoe Insoles', 'Prevention Measure Face Masks',\n",
    "       'Prevention Measure Medical Corset']\n",
    "target_var = \"Position\"\n",
    "\n",
    "si_subset = soccer_injury[x_vars]\n",
    "print(si_subset.head())\n",
    "\n",
    "X = si_subset.copy()\n",
    "y = soccer_injury[target_var].values.copy()\n",
    "X = StandardScaler().fit_transform(X)\n",
    "X_train, X_test, y_train, y_test = train_test_split(X, y, test_size=0.2, random_state=5000)"
   ]
  },
  {
   "cell_type": "markdown",
   "metadata": {},
   "source": [
    "## Principal Component Analysis (PCA)\n",
    "\n",
    "In the following section, I will apply PCA to my dataset, determine the optimal number of principle components to retain, and create several visualizations of my results. My analysis of the findings will be included in the project report section. "
   ]
  },
  {
   "cell_type": "markdown",
   "metadata": {},
   "source": [
    "#### Determining Optimal Number of Principal Components to Retain"
   ]
  },
  {
   "cell_type": "code",
   "execution_count": 57,
   "metadata": {},
   "outputs": [
    {
     "name": "stdout",
     "output_type": "stream",
     "text": [
      "--------------------\n",
      "The optimal numbers of features is: 5\n",
      "--------------------\n"
     ]
    },
    {
     "data": {
      "image/png": "[encoded data removed]",
      "text/plain": [
       "<Figure size 1000x600 with 1 Axes>"
      ]
     },
     "metadata": {},
     "output_type": "display_data"
    }
   ],
   "source": [
    "from sklearn.model_selection import train_test_split\n",
    "from sklearn.ensemble import RandomForestClassifier\n",
    "from sklearn.metrics import accuracy_score\n",
    "import matplotlib.pyplot as plt\n",
    "import numpy as np\n",
    "\n",
    "clf = RandomForestClassifier(random_state=5000)\n",
    "\n",
    "num_features_list = []\n",
    "train_accuracy_list = []\n",
    "test_accuracy_list = []\n",
    "\n",
    "for num_features in range(1, X.shape[1] + 1):\n",
    "    X_train_subset = X_train[:, :num_features]\n",
    "    X_test_subset = X_test[:, :num_features]\n",
    "\n",
    "    clf.fit(X_train_subset, y_train)\n",
    "\n",
    "    y_train_pred = clf.predict(X_train_subset)\n",
    "    y_test_pred = clf.predict(X_test_subset)\n",
    "\n",
    "    train_accuracy = accuracy_score(y_train, y_train_pred)\n",
    "    test_accuracy = accuracy_score(y_test, y_test_pred)\n",
    "\n",
    "    num_features_list.append(num_features)\n",
    "    train_accuracy_list.append(train_accuracy)\n",
    "    test_accuracy_list.append(test_accuracy)\n",
    "\n",
    "max_test_accuracy_index = np.argmax(test_accuracy_list)\n",
    "optimal_num_features = num_features_list[max_test_accuracy_index]\n",
    "max_test_accuracy = test_accuracy_list[max_test_accuracy_index]\n",
    "\n",
    "print(\"--------------------\")\n",
    "print(f\"The optimal numbers of features is: {optimal_num_features}\")\n",
    "print(\"--------------------\")\n",
    "\n",
    "plt.figure(figsize=(10, 6))\n",
    "plt.plot(num_features_list, train_accuracy_list, label='Training Accuracy', marker='o')\n",
    "plt.plot(num_features_list, test_accuracy_list, label='Test Accuracy', marker='o')\n",
    "\n",
    "plt.axhline(y=max_test_accuracy, color='gray', linestyle='--', label=f'Max Test Accuracy: {max_test_accuracy:.3f}')\n",
    "\n",
    "plt.xlabel('Number of Features')\n",
    "plt.ylabel('Accuracy')\n",
    "plt.title('Training and Test Accuracy vs Number of Features')\n",
    "plt.legend()\n",
    "plt.grid(True)\n",
    "plt.show()"
   ]
  },
  {
   "cell_type": "markdown",
   "metadata": {},
   "source": [
    "When visualizing the relationship between the number of features and the training/test accuracies, we can see that the ideal number of components to preserve is 5. At this point, both training and test accuracies peak. Further inclusion of features beyond this juncture results in diminishing returns, therefore opting for 5 principal components is ideal to achieve the best possible model performance."
   ]
  },
  {
   "cell_type": "markdown",
   "metadata": {},
   "source": [
    "#### Visualizing Components in 2D and 3D"
   ]
  },
  {
   "cell_type": "code",
   "execution_count": 74,
   "metadata": {},
   "outputs": [
    {
     "name": "stdout",
     "output_type": "stream",
     "text": [
      "--------------------\n",
      "\n",
      "NUMERIC MEAN: [-0.00201034  0.01068603 -0.00032657 -0.00938756  0.00730824  0.01352997\n",
      " -0.05410685 -0.02640217]\n",
      "X SHAPE (139, 8)\n",
      "NUMERIC COV:\n",
      "[[ 1.01069218  0.18935776 -0.00196516  0.05282107  0.00661368 -0.0647079\n",
      "  -0.01144854  0.03709847]\n",
      " [ 0.18935776  1.0701004   0.04656088  0.08867232  0.0978689   0.04056186\n",
      "  -0.00317229  0.07436123]\n",
      " [-0.00196516  0.04656088  1.02891192  0.02010355  0.02930677 -0.0087439\n",
      "   0.01279287  0.12234954]\n",
      " [ 0.05282107  0.08867232  0.02010355  1.10248723  0.29394645  0.0408016\n",
      "   0.00382599 -0.04527452]\n",
      " [ 0.00661368  0.0978689   0.02930677  0.29394645  1.06298682  0.11608761\n",
      "   0.04166169  0.08416888]\n",
      " [-0.0647079   0.04056186 -0.0087439   0.0408016   0.11608761  1.05299611\n",
      "  -0.02847412 -0.07680258]\n",
      " [-0.01144854 -0.00317229  0.01279287  0.00382599  0.04166169 -0.02847412\n",
      "   0.07348617 -0.00430721]\n",
      " [ 0.03709847  0.07436123  0.12234954 -0.04527452  0.08416888 -0.07680258\n",
      "  -0.00430721  1.11144041]]\n",
      "--------------------\n",
      "--------------------\n",
      "\n",
      "COV EIGENVALUES: [0.07003203 1.49266597 1.27841776 0.74063531 0.81583674 1.13377912\n",
      " 0.95030564 1.03142866]\n",
      "COV EIGENVECTORS (across rows):\n",
      "[[-1.33683435e-02 -2.97466331e-03  1.33068460e-02 -8.88273193e-03\n",
      "   4.97145708e-02 -3.59882108e-02 -9.97819789e-01 -1.20599490e-02]\n",
      " [ 2.26642156e-01  4.24301544e-01  1.47777672e-01  5.77906328e-01\n",
      "   5.90375626e-01  1.80501381e-01  1.32844095e-02  1.77445669e-01]\n",
      " [-3.35007842e-01 -3.00308507e-01 -3.26799046e-01  2.95386218e-01\n",
      "   1.95538493e-01  4.21120366e-01  4.77774670e-04 -6.22861156e-01]\n",
      " [-1.06989016e-01  2.27160808e-02 -9.94989265e-02  5.91283697e-01\n",
      "  -6.90799512e-01  2.24055749e-01 -5.15162714e-02  3.13786571e-01]\n",
      " [-6.92887139e-01  6.28699099e-01 -8.96758129e-02 -8.98398522e-03\n",
      "  -2.31688373e-02 -3.21106863e-01  1.80737231e-02 -1.12023749e-01]\n",
      " [ 5.84894793e-01  4.28028380e-01 -4.21865229e-01  9.59288174e-03\n",
      "  -2.57602374e-01 -1.27636013e-01 -1.74678276e-02 -4.62247155e-01]\n",
      " [-4.41512706e-02 -1.48491137e-02 -8.03697013e-01 -1.85254246e-01\n",
      "   2.26968448e-01  1.02731819e-01 -6.93886337e-03  5.05435945e-01]\n",
      " [ 2.51768948e-02 -3.88029360e-01 -1.71307105e-01  4.41116848e-01\n",
      "   1.23025847e-01 -7.80145091e-01  2.90707107e-02 -1.61960842e-02]]\n",
      "--------------------\n",
      "--------------------\n",
      "\n",
      "PCA\n",
      "[[ 2.26642156e-01  4.24301544e-01  1.47777672e-01  5.77906328e-01\n",
      "   5.90375626e-01  1.80501381e-01  1.32844095e-02  1.77445669e-01]\n",
      " [ 3.35007842e-01  3.00308507e-01  3.26799046e-01 -2.95386218e-01\n",
      "  -1.95538493e-01 -4.21120366e-01 -4.77774670e-04  6.22861156e-01]\n",
      " [-5.84894793e-01 -4.28028380e-01  4.21865229e-01 -9.59288174e-03\n",
      "   2.57602374e-01  1.27636013e-01  1.74678276e-02  4.62247155e-01]\n",
      " [ 2.51768948e-02 -3.88029360e-01 -1.71307105e-01  4.41116848e-01\n",
      "   1.23025847e-01 -7.80145091e-01  2.90707107e-02 -1.61960842e-02]\n",
      " [-4.41512706e-02 -1.48491137e-02 -8.03697013e-01 -1.85254246e-01\n",
      "   2.26968448e-01  1.02731819e-01 -6.93886337e-03  5.05435945e-01]]\n",
      "--------------------\n",
      "--------------------\n",
      "2D Visualization\n",
      "--------------------\n"
     ]
    },
    {
     "name": "stderr",
     "output_type": "stream",
     "text": [
      "/var/folders/kw/p7j6fdpx3vvgm6c0krhwpvb80000gn/T/ipykernel_33979/625416821.py:36: UserWarning: No data for colormapping provided via 'c'. Parameters 'cmap' will be ignored\n",
      "  plt.scatter(X_2d[:, 0], X_2d[:, 1], marker=\".\", cmap=\"viridis\")\n"
     ]
    },
    {
     "data": {
      "image/png": "[encoded data removed]",
      "text/plain": [
       "<Figure size 800x600 with 1 Axes>"
      ]
     },
     "metadata": {},
     "output_type": "display_data"
    },
    {
     "name": "stdout",
     "output_type": "stream",
     "text": [
      "--------------------\n",
      "3D Visualization\n",
      "--------------------\n"
     ]
    },
    {
     "data": {
      "image/png": "[encoded data removed]",
      "text/plain": [
       "<Figure size 640x480 with 1 Axes>"
      ]
     },
     "metadata": {},
     "output_type": "display_data"
    }
   ],
   "source": [
    "from sklearn.decomposition import PCA\n",
    "import numpy as np\n",
    "from numpy import linalg as LA\n",
    "import matplotlib.pyplot as plt\n",
    "import plotly.io as pio\n",
    "\n",
    "print(\"--------------------\")\n",
    "print('\\nNUMERIC MEAN:',np.mean(X,axis=0))\n",
    "print(\"X SHAPE\",X.shape)\n",
    "print(\"NUMERIC COV:\")\n",
    "print(np.cov(X.T))\n",
    "print(\"--------------------\")\n",
    "\n",
    "w, v1 = LA.eig(np.cov(X.T))\n",
    "print(\"--------------------\")\n",
    "print(\"\\nCOV EIGENVALUES:\",w)\n",
    "print(\"COV EIGENVECTORS (across rows):\")\n",
    "print(v1.T)\n",
    "print(\"--------------------\")\n",
    "\n",
    "pca = PCA(n_components=5) \n",
    "pca.fit(X)\n",
    "print(\"--------------------\")\n",
    "print('\\nPCA')\n",
    "print(pca.components_)\n",
    "v2=pca.components_\n",
    "print(\"--------------------\")\n",
    "\n",
    "#print(v1/v2)\n",
    "\n",
    "print(\"--------------------\")\n",
    "print(\"2D Visualization\")\n",
    "print(\"--------------------\")\n",
    "\n",
    "X_2d = np.dot(X, v2[:2, :].T)\n",
    "plt.figure(figsize=(8, 6))\n",
    "plt.scatter(X_2d[:, 0], X_2d[:, 1], marker=\".\", cmap=\"viridis\")\n",
    "\n",
    "plt.quiver(0, 0, v2[0, 0], v2[0, 1], color='r', scale=3, label='PCA 1')\n",
    "plt.quiver(0, 0, v2[1, 0], v2[1, 1], color='g', scale=3, label='PCA 2')\n",
    "\n",
    "plt.xlabel('PCA 1')\n",
    "plt.ylabel('PCA 2')\n",
    "plt.title('2D Projection of Data with PCA Components')\n",
    "plt.legend()\n",
    "plt.show()\n",
    "\n",
    "print(\"--------------------\")\n",
    "print(\"3D Visualization\")\n",
    "print(\"--------------------\")\n",
    "\n",
    "jitter = 0.01 * np.random.randn(*X.shape)\n",
    "X += jitter\n",
    "\n",
    "fig = plt.figure()\n",
    "ax = fig.add_subplot(projection='3d')\n",
    "ax.scatter(X[:, 0], X[:, 1], X[:, 2], marker=\".\")\n",
    "v1=v1*1000\n",
    "v2=v2*1000\n",
    "\n",
    "ax.quiver(0,0,0,v1[0,0],v1[1,0],v1[2,0])\n",
    "ax.quiver(0,0,0,v1[0,1],v1[1,1],v1[2,1])\n",
    "ax.quiver(0,0,0,v1[0,2],v1[1,2],v1[2,2])\n",
    "\n",
    "ax.quiver(0,0,0,v2[0,0],v2[1,0],v2[2,0])\n",
    "ax.quiver(0,0,0,v2[0,1],v2[1,1],v2[2,1])\n",
    "ax.quiver(0,0,0,v2[0,2],v2[1,2],v2[2,2])\n",
    "plt.show()"
   ]
  },
  {
   "cell_type": "markdown",
   "metadata": {},
   "source": [
    "#### Interactive Versions of 2D and 3D Graphs"
   ]
  },
  {
   "cell_type": "code",
   "execution_count": 119,
   "metadata": {},
   "outputs": [
    {
     "data": {
      "text/html": [
       "        <script type=\"text/javascript\">\n",
       "        window.PlotlyConfig = {MathJaxConfig: 'local'};\n",
       "        if (window.MathJax && window.MathJax.Hub && window.MathJax.Hub.Config) {window.MathJax.Hub.Config({SVG: {font: \"STIX-Web\"}});}\n",
       "        if (typeof require !== 'undefined') {\n",
       "        require.undef(\"plotly\");\n",
       "        requirejs.config({\n",
       "            paths: {\n",
       "                'plotly': ['https://cdn.plot.ly/plotly-2.12.1.min']\n",
       "            }\n",
       "        });\n",
       "        require(['plotly'], function(Plotly) {\n",
       "            window._Plotly = Plotly;\n",
       "        });\n",
       "        }\n",
       "        </script>\n",
       "        "
      ]
     },
     "metadata": {},
     "output_type": "display_data"
    },
    {
     "data": {
      "application/vnd.plotly.v1+json": {
       "config": {
        "plotlyServerURL": "https://plot.ly"
       },
       "data": [
        {
         "marker": {
          "color": [
           0,
           1,
           2,
           3,
           4,
           5,
           6,
           7,
           8,
           9,
           10,
           11,
           12,
           13,
           14,
           15,
           16,
           17,
           18,
           19,
           20,
           21,
           22,
           23,
           24,
           25,
           26,
           27,
           28,
           29,
           30,
           31,
           32,
           33,
           34,
           35,
           36,
           37,
           38,
           39,
           40,
           41,
           42,
           43,
           44,
           45,
           46,
           47,
           48,
           49,
           50,
           51,
           52,
           53,
           54,
           55,
           56,
           57,
           58,
           59,
           60,
           61,
           62,
           63,
           64,
           65,
           66,
           67,
           68,
           69,
           70,
           71,
           72,
           73,
           74,
           75,
           76,
           77,
           78,
           79,
           80,
           81,
           82,
           83,
           84,
           85,
           86,
           87,
           88,
           89,
           90,
           91,
           92,
           93,
           94,
           95,
           96,
           97,
           98,
           99,
           100,
           101,
           102,
           103,
           104,
           105,
           106,
           107,
           108,
           109,
           110,
           111,
           112,
           113,
           114,
           115,
           116,
           117,
           118,
           119,
           120,
           121,
           122,
           123,
           124,
           125,
           126,
           127,
           128,
           129,
           130,
           131,
           132,
           133,
           134,
           135,
           136,
           137,
           138
          ],
          "colorscale": [
           [
            0,
            "#440154"
           ],
           [
            0.1111111111111111,
            "#482878"
           ],
           [
            0.2222222222222222,
            "#3e4989"
           ],
           [
            0.3333333333333333,
            "#31688e"
           ],
           [
            0.4444444444444444,
            "#26828e"
           ],
           [
            0.5555555555555556,
            "#1f9e89"
           ],
           [
            0.6666666666666666,
            "#35b779"
           ],
           [
            0.7777777777777778,
            "#6ece58"
           ],
           [
            0.8888888888888888,
            "#b5de2b"
           ],
           [
            1,
            "#fde725"
           ]
          ],
          "opacity": 0.8,
          "size": 8
         },
         "mode": "markers",
         "text": [
          "Point 0",
          "Point 1",
          "Point 2",
          "Point 3",
          "Point 4",
          "Point 5",
          "Point 6",
          "Point 7",
          "Point 8",
          "Point 9",
          "Point 10",
          "Point 11",
          "Point 12",
          "Point 13",
          "Point 14",
          "Point 15",
          "Point 16",
          "Point 17",
          "Point 18",
          "Point 19",
          "Point 20",
          "Point 21",
          "Point 22",
          "Point 23",
          "Point 24",
          "Point 25",
          "Point 26",
          "Point 27",
          "Point 28",
          "Point 29",
          "Point 30",
          "Point 31",
          "Point 32",
          "Point 33",
          "Point 34",
          "Point 35",
          "Point 36",
          "Point 37",
          "Point 38",
          "Point 39",
          "Point 40",
          "Point 41",
          "Point 42",
          "Point 43",
          "Point 44",
          "Point 45",
          "Point 46",
          "Point 47",
          "Point 48",
          "Point 49",
          "Point 50",
          "Point 51",
          "Point 52",
          "Point 53",
          "Point 54",
          "Point 55",
          "Point 56",
          "Point 57",
          "Point 58",
          "Point 59",
          "Point 60",
          "Point 61",
          "Point 62",
          "Point 63",
          "Point 64",
          "Point 65",
          "Point 66",
          "Point 67",
          "Point 68",
          "Point 69",
          "Point 70",
          "Point 71",
          "Point 72",
          "Point 73",
          "Point 74",
          "Point 75",
          "Point 76",
          "Point 77",
          "Point 78",
          "Point 79",
          "Point 80",
          "Point 81",
          "Point 82",
          "Point 83",
          "Point 84",
          "Point 85",
          "Point 86",
          "Point 87",
          "Point 88",
          "Point 89",
          "Point 90",
          "Point 91",
          "Point 92",
          "Point 93",
          "Point 94",
          "Point 95",
          "Point 96",
          "Point 97",
          "Point 98",
          "Point 99",
          "Point 100",
          "Point 101",
          "Point 102",
          "Point 103",
          "Point 104",
          "Point 105",
          "Point 106",
          "Point 107",
          "Point 108",
          "Point 109",
          "Point 110",
          "Point 111",
          "Point 112",
          "Point 113",
          "Point 114",
          "Point 115",
          "Point 116",
          "Point 117",
          "Point 118",
          "Point 119",
          "Point 120",
          "Point 121",
          "Point 122",
          "Point 123",
          "Point 124",
          "Point 125",
          "Point 126",
          "Point 127",
          "Point 128",
          "Point 129",
          "Point 130",
          "Point 131",
          "Point 132",
          "Point 133",
          "Point 134",
          "Point 135",
          "Point 136",
          "Point 137",
          "Point 138"
         ],
         "type": "scatter",
         "x": [
          -0.8288227245477083,
          -0.556865611386836,
          -0.8077902841175364,
          0.04502019181523312,
          0.7675459196479938,
          0.011659685646958436,
          1.3044364890694664,
          -0.8690260402066686,
          -0.47649637852674764,
          0.763817415132374,
          -1.326388946500956,
          0.026300455741400223,
          -1.3989235239827207,
          -0.11241046485084456,
          -1.2918493744984056,
          -0.8231325802176811,
          0.590271627337567,
          -0.07606779309897908,
          0.6090547925338857,
          -0.48912072369055365,
          -1.3708929915822474,
          1.8418096250947988,
          -0.08068934305229283,
          -0.10136059733946737,
          -0.10156264925146721,
          -1.3747495870461022,
          1.7611685537375197,
          -0.48205957206420746,
          0.7634444758003878,
          -0.09264843534983226,
          -0.857603328552584,
          -0.7901575930394755,
          -1.6133933510412706,
          0.7174265053012738,
          2.656729469607729,
          -0.46931626681949506,
          -0.7705993651995199,
          -0.8544423837052197,
          -1.3708459243775957,
          -0.48303919614391894,
          0.03325016455309899,
          -0.816165519785912,
          -0.058685338373975736,
          -0.5330133738047012,
          0.42913138130049433,
          -0.4834684261286705,
          -1.3251455078738645,
          2.1150571315215094,
          -1.0590050290792465,
          0.0330580059237776,
          0.07245944079685479,
          0.05355018781289897,
          0.982192491089674,
          -1.3332446966055207,
          -0.4750101990510632,
          1.8528615241664779,
          -0.2596368102157135,
          2.650494332081166,
          0.03663696348133406,
          1.2753792745190486,
          -0.8168321015478864,
          -0.4951382651790036,
          0.17939790937557573,
          1.7875865230463246,
          1.2733957583232083,
          -0.4731555910802737,
          0.9565057531980289,
          -2.1362394877075355,
          0.002357396312342969,
          1.2905998405621435,
          1.8366093059938804,
          -0.8053056180689845,
          2.6511619627648506,
          2.6340229059367926,
          1.3146938570005815,
          -1.3339930588631368,
          0.840518958040195,
          0.052793553745604536,
          2.0878945580933315,
          1.297510832920677,
          1.3016806505078657,
          -0.49713683397353353,
          0.7764615719598768,
          2.1090178780274127,
          0.594402591585397,
          -1.3461607606261974,
          -1.3850976846620768,
          -1.3652498885147268,
          1.2982852310012025,
          0.5695677394986534,
          -1.3556115766364272,
          -0.4953667085425588,
          1.823911746563089,
          1.0490056074231384,
          -1.347716803159653,
          -1.5803504818685563,
          0.7683827746484019,
          -0.47597077941525673,
          0.06873376644995705,
          0.4860093863521064,
          -1.5874556776393292,
          -0.8204188502661603,
          1.3152546664867597,
          1.827069620547147,
          -1.268267200754264,
          -0.8263581258593561,
          -1.3703811458640733,
          1.7885331682093566,
          0.00251938566624376,
          0.7879009861783861,
          0.7643522822803329,
          0.04773467120821056,
          -0.48520115161290145,
          -0.48085564910476086,
          -0.8061846490796158,
          0.044209241388049984,
          -0.10138407315737681,
          0.8658262658887991,
          0.05423659014682257,
          -0.8965560303190391,
          -1.3724914420718788,
          0.04668796235940559,
          -1.3448251252818415,
          -0.8461747466245431,
          -0.5055074947070097,
          -0.06537481547872927,
          -0.852754589157042,
          -0.9064503268220243,
          -1.3527144409353795,
          -0.49359420179852753,
          -1.3427926518581053,
          -0.03911922320399275,
          -1.3546879357911794,
          -0.48062485961362666,
          -1.3708988231420252,
          -0.018483585607673575,
          4.977219956199726,
          0.4767845143548697,
          -0.4785322339640163
         ],
         "y": [
          0.5668131288115328,
          0.8838986633345612,
          -0.6377870546481824,
          1.4200117571185151,
          0.29612880999602637,
          1.3910284395562107,
          -0.39323432634567584,
          0.5497724113418111,
          0.9135201051481461,
          0.3080061811226067,
          0.05330002962632669,
          1.3977347648354186,
          0.0444973271492947,
          -0.5790675202689375,
          -0.4733876323231822,
          -0.6693703779815149,
          0.6987077724134698,
          -0.5594664847040868,
          0.6999921551258548,
          0.896484138769502,
          0.024082295282454563,
          0.07550931120057526,
          -0.558143420527404,
          -0.5459445308831639,
          -0.5726300021821892,
          0.03879817002757284,
          -1.5660313766378406,
          0.8907685930899433,
          0.25616741307228197,
          -0.5595771534998469,
          0.5553222571270304,
          -0.6700727279132123,
          -0.8358083892176745,
          0.2952707839756365,
          -1.9828488263795199,
          0.8804063539717942,
          0.03476456746096304,
          0.5451681032331993,
          0.09011707685096784,
          0.8764406728093712,
          1.3895279330405357,
          -0.6583581596895153,
          -0.5592354068087381,
          0.8915332225970682,
          -0.06694906256191882,
          0.9065856817226615,
          0.04696338037359458,
          -1.2640219640595034,
          -1.5273999997740437,
          1.415858659423401,
          0.19284696740734714,
          0.180704637936608,
          -0.762053890750688,
          0.043187847281271285,
          0.8927521087359579,
          0.07721244708306008,
          -0.16596015256518895,
          -0.7532348103875092,
          1.4166697128609609,
          0.8004400274929175,
          0.5765128189852042,
          0.8653410341072633,
          -2.121303568214825,
          -1.6114988111580408,
          0.8180728177239962,
          0.9287009014321858,
          -2.937987664344723,
          -1.366182758002077,
          1.4365978571268279,
          0.8026673147850237,
          0.08175145121133529,
          -0.6699334272132932,
          -1.925252700086456,
          -1.9331122233820042,
          -0.4068325497640264,
          0.06093252303150447,
          -0.6312096198617709,
          0.18613439267220963,
          -1.2372834629234457,
          0.7931697453882175,
          -0.399655715390337,
          0.8653229874794423,
          0.2522869828852575,
          -1.255681663083114,
          0.6954728584083443,
          0.05027300563180135,
          0.06259537293406965,
          0.050547870947288326,
          -0.4456159940589344,
          0.675663587919347,
          0.014501662313209224,
          0.8950154192728763,
          0.10382019224733646,
          -1.6706050470928735,
          0.06305904823492411,
          -2.0202955383325922,
          0.2763407041771837,
          0.9096183080887662,
          0.20955142383571276,
          -1.281893345096969,
          -2.0899144490238895,
          0.6170173409390701,
          0.7701821456166194,
          0.0823345836971415,
          -0.5030122444807075,
          0.5493679947998839,
          0.06094012201453817,
          -2.8083805633432672,
          1.397108370634591,
          0.30429977970807787,
          0.31453855597207625,
          0.20313948350928865,
          0.8926700281359236,
          0.8991530119042116,
          -0.649581887731698,
          1.3995630207957448,
          -0.5757740057230729,
          -0.6197954137327254,
          0.1939005213345229,
          -1.945253280613901,
          0.06443118986263485,
          1.3961499676901763,
          0.03876877328881071,
          0.544870353052036,
          0.8884846089404578,
          -0.5581815461784404,
          0.5282192068167416,
          -1.9289558663571422,
          0.008232648870479671,
          0.8836843895784772,
          0.03538757771717446,
          -1.4714518056912487,
          0.02424647774497023,
          0.9092661332529755,
          0.036895514682599086,
          -1.4738750545621109,
          5.980983468353732,
          -1.2929390472740971,
          0.8738184332574981
         ]
        }
       ],
       "layout": {
        "showlegend": false,
        "template": {
         "data": {
          "bar": [
           {
            "error_x": {
             "color": "#2a3f5f"
            },
            "error_y": {
             "color": "#2a3f5f"
            },
            "marker": {
             "line": {
              "color": "#E5ECF6",
              "width": 0.5
             },
             "pattern": {
              "fillmode": "overlay",
              "size": 10,
              "solidity": 0.2
             }
            },
            "type": "bar"
           }
          ],
          "barpolar": [
           {
            "marker": {
             "line": {
              "color": "#E5ECF6",
              "width": 0.5
             },
             "pattern": {
              "fillmode": "overlay",
              "size": 10,
              "solidity": 0.2
             }
            },
            "type": "barpolar"
           }
          ],
          "carpet": [
           {
            "aaxis": {
             "endlinecolor": "#2a3f5f",
             "gridcolor": "white",
             "linecolor": "white",
             "minorgridcolor": "white",
             "startlinecolor": "#2a3f5f"
            },
            "baxis": {
             "endlinecolor": "#2a3f5f",
             "gridcolor": "white",
             "linecolor": "white",
             "minorgridcolor": "white",
             "startlinecolor": "#2a3f5f"
            },
            "type": "carpet"
           }
          ],
          "choropleth": [
           {
            "colorbar": {
             "outlinewidth": 0,
             "ticks": ""
            },
            "type": "choropleth"
           }
          ],
          "contour": [
           {
            "colorbar": {
             "outlinewidth": 0,
             "ticks": ""
            },
            "colorscale": [
             [
              0,
              "#0d0887"
             ],
             [
              0.1111111111111111,
              "#46039f"
             ],
             [
              0.2222222222222222,
              "#7201a8"
             ],
             [
              0.3333333333333333,
              "#9c179e"
             ],
             [
              0.4444444444444444,
              "#bd3786"
             ],
             [
              0.5555555555555556,
              "#d8576b"
             ],
             [
              0.6666666666666666,
              "#ed7953"
             ],
             [
              0.7777777777777778,
              "#fb9f3a"
             ],
             [
              0.8888888888888888,
              "#fdca26"
             ],
             [
              1,
              "#f0f921"
             ]
            ],
            "type": "contour"
           }
          ],
          "contourcarpet": [
           {
            "colorbar": {
             "outlinewidth": 0,
             "ticks": ""
            },
            "type": "contourcarpet"
           }
          ],
          "heatmap": [
           {
            "colorbar": {
             "outlinewidth": 0,
             "ticks": ""
            },
            "colorscale": [
             [
              0,
              "#0d0887"
             ],
             [
              0.1111111111111111,
              "#46039f"
             ],
             [
              0.2222222222222222,
              "#7201a8"
             ],
             [
              0.3333333333333333,
              "#9c179e"
             ],
             [
              0.4444444444444444,
              "#bd3786"
             ],
             [
              0.5555555555555556,
              "#d8576b"
             ],
             [
              0.6666666666666666,
              "#ed7953"
             ],
             [
              0.7777777777777778,
              "#fb9f3a"
             ],
             [
              0.8888888888888888,
              "#fdca26"
             ],
             [
              1,
              "#f0f921"
             ]
            ],
            "type": "heatmap"
           }
          ],
          "heatmapgl": [
           {
            "colorbar": {
             "outlinewidth": 0,
             "ticks": ""
            },
            "colorscale": [
             [
              0,
              "#0d0887"
             ],
             [
              0.1111111111111111,
              "#46039f"
             ],
             [
              0.2222222222222222,
              "#7201a8"
             ],
             [
              0.3333333333333333,
              "#9c179e"
             ],
             [
              0.4444444444444444,
              "#bd3786"
             ],
             [
              0.5555555555555556,
              "#d8576b"
             ],
             [
              0.6666666666666666,
              "#ed7953"
             ],
             [
              0.7777777777777778,
              "#fb9f3a"
             ],
             [
              0.8888888888888888,
              "#fdca26"
             ],
             [
              1,
              "#f0f921"
             ]
            ],
            "type": "heatmapgl"
           }
          ],
          "histogram": [
           {
            "marker": {
             "pattern": {
              "fillmode": "overlay",
              "size": 10,
              "solidity": 0.2
             }
            },
            "type": "histogram"
           }
          ],
          "histogram2d": [
           {
            "colorbar": {
             "outlinewidth": 0,
             "ticks": ""
            },
            "colorscale": [
             [
              0,
              "#0d0887"
             ],
             [
              0.1111111111111111,
              "#46039f"
             ],
             [
              0.2222222222222222,
              "#7201a8"
             ],
             [
              0.3333333333333333,
              "#9c179e"
             ],
             [
              0.4444444444444444,
              "#bd3786"
             ],
             [
              0.5555555555555556,
              "#d8576b"
             ],
             [
              0.6666666666666666,
              "#ed7953"
             ],
             [
              0.7777777777777778,
              "#fb9f3a"
             ],
             [
              0.8888888888888888,
              "#fdca26"
             ],
             [
              1,
              "#f0f921"
             ]
            ],
            "type": "histogram2d"
           }
          ],
          "histogram2dcontour": [
           {
            "colorbar": {
             "outlinewidth": 0,
             "ticks": ""
            },
            "colorscale": [
             [
              0,
              "#0d0887"
             ],
             [
              0.1111111111111111,
              "#46039f"
             ],
             [
              0.2222222222222222,
              "#7201a8"
             ],
             [
              0.3333333333333333,
              "#9c179e"
             ],
             [
              0.4444444444444444,
              "#bd3786"
             ],
             [
              0.5555555555555556,
              "#d8576b"
             ],
             [
              0.6666666666666666,
              "#ed7953"
             ],
             [
              0.7777777777777778,
              "#fb9f3a"
             ],
             [
              0.8888888888888888,
              "#fdca26"
             ],
             [
              1,
              "#f0f921"
             ]
            ],
            "type": "histogram2dcontour"
           }
          ],
          "mesh3d": [
           {
            "colorbar": {
             "outlinewidth": 0,
             "ticks": ""
            },
            "type": "mesh3d"
           }
          ],
          "parcoords": [
           {
            "line": {
             "colorbar": {
              "outlinewidth": 0,
              "ticks": ""
             }
            },
            "type": "parcoords"
           }
          ],
          "pie": [
           {
            "automargin": true,
            "type": "pie"
           }
          ],
          "scatter": [
           {
            "fillpattern": {
             "fillmode": "overlay",
             "size": 10,
             "solidity": 0.2
            },
            "type": "scatter"
           }
          ],
          "scatter3d": [
           {
            "line": {
             "colorbar": {
              "outlinewidth": 0,
              "ticks": ""
             }
            },
            "marker": {
             "colorbar": {
              "outlinewidth": 0,
              "ticks": ""
             }
            },
            "type": "scatter3d"
           }
          ],
          "scattercarpet": [
           {
            "marker": {
             "colorbar": {
              "outlinewidth": 0,
              "ticks": ""
             }
            },
            "type": "scattercarpet"
           }
          ],
          "scattergeo": [
           {
            "marker": {
             "colorbar": {
              "outlinewidth": 0,
              "ticks": ""
             }
            },
            "type": "scattergeo"
           }
          ],
          "scattergl": [
           {
            "marker": {
             "colorbar": {
              "outlinewidth": 0,
              "ticks": ""
             }
            },
            "type": "scattergl"
           }
          ],
          "scattermapbox": [
           {
            "marker": {
             "colorbar": {
              "outlinewidth": 0,
              "ticks": ""
             }
            },
            "type": "scattermapbox"
           }
          ],
          "scatterpolar": [
           {
            "marker": {
             "colorbar": {
              "outlinewidth": 0,
              "ticks": ""
             }
            },
            "type": "scatterpolar"
           }
          ],
          "scatterpolargl": [
           {
            "marker": {
             "colorbar": {
              "outlinewidth": 0,
              "ticks": ""
             }
            },
            "type": "scatterpolargl"
           }
          ],
          "scatterternary": [
           {
            "marker": {
             "colorbar": {
              "outlinewidth": 0,
              "ticks": ""
             }
            },
            "type": "scatterternary"
           }
          ],
          "surface": [
           {
            "colorbar": {
             "outlinewidth": 0,
             "ticks": ""
            },
            "colorscale": [
             [
              0,
              "#0d0887"
             ],
             [
              0.1111111111111111,
              "#46039f"
             ],
             [
              0.2222222222222222,
              "#7201a8"
             ],
             [
              0.3333333333333333,
              "#9c179e"
             ],
             [
              0.4444444444444444,
              "#bd3786"
             ],
             [
              0.5555555555555556,
              "#d8576b"
             ],
             [
              0.6666666666666666,
              "#ed7953"
             ],
             [
              0.7777777777777778,
              "#fb9f3a"
             ],
             [
              0.8888888888888888,
              "#fdca26"
             ],
             [
              1,
              "#f0f921"
             ]
            ],
            "type": "surface"
           }
          ],
          "table": [
           {
            "cells": {
             "fill": {
              "color": "#EBF0F8"
             },
             "line": {
              "color": "white"
             }
            },
            "header": {
             "fill": {
              "color": "#C8D4E3"
             },
             "line": {
              "color": "white"
             }
            },
            "type": "table"
           }
          ]
         },
         "layout": {
          "annotationdefaults": {
           "arrowcolor": "#2a3f5f",
           "arrowhead": 0,
           "arrowwidth": 1
          },
          "autotypenumbers": "strict",
          "coloraxis": {
           "colorbar": {
            "outlinewidth": 0,
            "ticks": ""
           }
          },
          "colorscale": {
           "diverging": [
            [
             0,
             "#8e0152"
            ],
            [
             0.1,
             "#c51b7d"
            ],
            [
             0.2,
             "#de77ae"
            ],
            [
             0.3,
             "#f1b6da"
            ],
            [
             0.4,
             "#fde0ef"
            ],
            [
             0.5,
             "#f7f7f7"
            ],
            [
             0.6,
             "#e6f5d0"
            ],
            [
             0.7,
             "#b8e186"
            ],
            [
             0.8,
             "#7fbc41"
            ],
            [
             0.9,
             "#4d9221"
            ],
            [
             1,
             "#276419"
            ]
           ],
           "sequential": [
            [
             0,
             "#0d0887"
            ],
            [
             0.1111111111111111,
             "#46039f"
            ],
            [
             0.2222222222222222,
             "#7201a8"
            ],
            [
             0.3333333333333333,
             "#9c179e"
            ],
            [
             0.4444444444444444,
             "#bd3786"
            ],
            [
             0.5555555555555556,
             "#d8576b"
            ],
            [
             0.6666666666666666,
             "#ed7953"
            ],
            [
             0.7777777777777778,
             "#fb9f3a"
            ],
            [
             0.8888888888888888,
             "#fdca26"
            ],
            [
             1,
             "#f0f921"
            ]
           ],
           "sequentialminus": [
            [
             0,
             "#0d0887"
            ],
            [
             0.1111111111111111,
             "#46039f"
            ],
            [
             0.2222222222222222,
             "#7201a8"
            ],
            [
             0.3333333333333333,
             "#9c179e"
            ],
            [
             0.4444444444444444,
             "#bd3786"
            ],
            [
             0.5555555555555556,
             "#d8576b"
            ],
            [
             0.6666666666666666,
             "#ed7953"
            ],
            [
             0.7777777777777778,
             "#fb9f3a"
            ],
            [
             0.8888888888888888,
             "#fdca26"
            ],
            [
             1,
             "#f0f921"
            ]
           ]
          },
          "colorway": [
           "#636efa",
           "#EF553B",
           "#00cc96",
           "#ab63fa",
           "#FFA15A",
           "#19d3f3",
           "#FF6692",
           "#B6E880",
           "#FF97FF",
           "#FECB52"
          ],
          "font": {
           "color": "#2a3f5f"
          },
          "geo": {
           "bgcolor": "white",
           "lakecolor": "white",
           "landcolor": "#E5ECF6",
           "showlakes": true,
           "showland": true,
           "subunitcolor": "white"
          },
          "hoverlabel": {
           "align": "left"
          },
          "hovermode": "closest",
          "mapbox": {
           "style": "light"
          },
          "paper_bgcolor": "white",
          "plot_bgcolor": "#E5ECF6",
          "polar": {
           "angularaxis": {
            "gridcolor": "white",
            "linecolor": "white",
            "ticks": ""
           },
           "bgcolor": "#E5ECF6",
           "radialaxis": {
            "gridcolor": "white",
            "linecolor": "white",
            "ticks": ""
           }
          },
          "scene": {
           "xaxis": {
            "backgroundcolor": "#E5ECF6",
            "gridcolor": "white",
            "gridwidth": 2,
            "linecolor": "white",
            "showbackground": true,
            "ticks": "",
            "zerolinecolor": "white"
           },
           "yaxis": {
            "backgroundcolor": "#E5ECF6",
            "gridcolor": "white",
            "gridwidth": 2,
            "linecolor": "white",
            "showbackground": true,
            "ticks": "",
            "zerolinecolor": "white"
           },
           "zaxis": {
            "backgroundcolor": "#E5ECF6",
            "gridcolor": "white",
            "gridwidth": 2,
            "linecolor": "white",
            "showbackground": true,
            "ticks": "",
            "zerolinecolor": "white"
           }
          },
          "shapedefaults": {
           "line": {
            "color": "#2a3f5f"
           }
          },
          "ternary": {
           "aaxis": {
            "gridcolor": "white",
            "linecolor": "white",
            "ticks": ""
           },
           "baxis": {
            "gridcolor": "white",
            "linecolor": "white",
            "ticks": ""
           },
           "bgcolor": "#E5ECF6",
           "caxis": {
            "gridcolor": "white",
            "linecolor": "white",
            "ticks": ""
           }
          },
          "title": {
           "x": 0.05
          },
          "xaxis": {
           "automargin": true,
           "gridcolor": "white",
           "linecolor": "white",
           "ticks": "",
           "title": {
            "standoff": 15
           },
           "zerolinecolor": "white",
           "zerolinewidth": 2
          },
          "yaxis": {
           "automargin": true,
           "gridcolor": "white",
           "linecolor": "white",
           "ticks": "",
           "title": {
            "standoff": 15
           },
           "zerolinecolor": "white",
           "zerolinewidth": 2
          }
         }
        },
        "title": {
         "text": "2D Projection of Data with PCA Components"
        },
        "xaxis": {
         "title": {
          "text": "PCA 1"
         }
        },
        "yaxis": {
         "title": {
          "text": "PCA 2"
         }
        }
       }
      },
      "text/html": [
       "<div>                            <div id=\"0280040f-2b1f-4207-8a6d-9f6dc7528d01\" class=\"plotly-graph-div\" style=\"height:525px; width:100%;\"></div>            <script type=\"text/javascript\">                require([\"plotly\"], function(Plotly) {                    window.PLOTLYENV=window.PLOTLYENV || {};                                    if (document.getElementById(\"0280040f-2b1f-4207-8a6d-9f6dc7528d01\")) {                    Plotly.newPlot(                        \"0280040f-2b1f-4207-8a6d-9f6dc7528d01\",                        [{\"marker\":{\"color\":[0,1,2,3,4,5,6,7,8,9,10,11,12,13,14,15,16,17,18,19,20,21,22,23,24,25,26,27,28,29,30,31,32,33,34,35,36,37,38,39,40,41,42,43,44,45,46,47,48,49,50,51,52,53,54,55,56,57,58,59,60,61,62,63,64,65,66,67,68,69,70,71,72,73,74,75,76,77,78,79,80,81,82,83,84,85,86,87,88,89,90,91,92,93,94,95,96,97,98,99,100,101,102,103,104,105,106,107,108,109,110,111,112,113,114,115,116,117,118,119,120,121,122,123,124,125,126,127,128,129,130,131,132,133,134,135,136,137,138],\"colorscale\":[[0.0,\"#440154\"],[0.1111111111111111,\"#482878\"],[0.2222222222222222,\"#3e4989\"],[0.3333333333333333,\"#31688e\"],[0.4444444444444444,\"#26828e\"],[0.5555555555555556,\"#1f9e89\"],[0.6666666666666666,\"#35b779\"],[0.7777777777777778,\"#6ece58\"],[0.8888888888888888,\"#b5de2b\"],[1.0,\"#fde725\"]],\"opacity\":0.8,\"size\":8},\"mode\":\"markers\",\"text\":[\"Point 0\",\"Point 1\",\"Point 2\",\"Point 3\",\"Point 4\",\"Point 5\",\"Point 6\",\"Point 7\",\"Point 8\",\"Point 9\",\"Point 10\",\"Point 11\",\"Point 12\",\"Point 13\",\"Point 14\",\"Point 15\",\"Point 16\",\"Point 17\",\"Point 18\",\"Point 19\",\"Point 20\",\"Point 21\",\"Point 22\",\"Point 23\",\"Point 24\",\"Point 25\",\"Point 26\",\"Point 27\",\"Point 28\",\"Point 29\",\"Point 30\",\"Point 31\",\"Point 32\",\"Point 33\",\"Point 34\",\"Point 35\",\"Point 36\",\"Point 37\",\"Point 38\",\"Point 39\",\"Point 40\",\"Point 41\",\"Point 42\",\"Point 43\",\"Point 44\",\"Point 45\",\"Point 46\",\"Point 47\",\"Point 48\",\"Point 49\",\"Point 50\",\"Point 51\",\"Point 52\",\"Point 53\",\"Point 54\",\"Point 55\",\"Point 56\",\"Point 57\",\"Point 58\",\"Point 59\",\"Point 60\",\"Point 61\",\"Point 62\",\"Point 63\",\"Point 64\",\"Point 65\",\"Point 66\",\"Point 67\",\"Point 68\",\"Point 69\",\"Point 70\",\"Point 71\",\"Point 72\",\"Point 73\",\"Point 74\",\"Point 75\",\"Point 76\",\"Point 77\",\"Point 78\",\"Point 79\",\"Point 80\",\"Point 81\",\"Point 82\",\"Point 83\",\"Point 84\",\"Point 85\",\"Point 86\",\"Point 87\",\"Point 88\",\"Point 89\",\"Point 90\",\"Point 91\",\"Point 92\",\"Point 93\",\"Point 94\",\"Point 95\",\"Point 96\",\"Point 97\",\"Point 98\",\"Point 99\",\"Point 100\",\"Point 101\",\"Point 102\",\"Point 103\",\"Point 104\",\"Point 105\",\"Point 106\",\"Point 107\",\"Point 108\",\"Point 109\",\"Point 110\",\"Point 111\",\"Point 112\",\"Point 113\",\"Point 114\",\"Point 115\",\"Point 116\",\"Point 117\",\"Point 118\",\"Point 119\",\"Point 120\",\"Point 121\",\"Point 122\",\"Point 123\",\"Point 124\",\"Point 125\",\"Point 126\",\"Point 127\",\"Point 128\",\"Point 129\",\"Point 130\",\"Point 131\",\"Point 132\",\"Point 133\",\"Point 134\",\"Point 135\",\"Point 136\",\"Point 137\",\"Point 138\"],\"x\":[-0.8288227245477083,-0.556865611386836,-0.8077902841175364,0.04502019181523312,0.7675459196479938,0.011659685646958436,1.3044364890694664,-0.8690260402066686,-0.47649637852674764,0.763817415132374,-1.326388946500956,0.026300455741400223,-1.3989235239827207,-0.11241046485084456,-1.2918493744984056,-0.8231325802176811,0.590271627337567,-0.07606779309897908,0.6090547925338857,-0.48912072369055365,-1.3708929915822474,1.8418096250947988,-0.08068934305229283,-0.10136059733946737,-0.10156264925146721,-1.3747495870461022,1.7611685537375197,-0.48205957206420746,0.7634444758003878,-0.09264843534983226,-0.857603328552584,-0.7901575930394755,-1.6133933510412706,0.7174265053012738,2.656729469607729,-0.46931626681949506,-0.7705993651995199,-0.8544423837052197,-1.3708459243775957,-0.48303919614391894,0.03325016455309899,-0.816165519785912,-0.058685338373975736,-0.5330133738047012,0.42913138130049433,-0.4834684261286705,-1.3251455078738645,2.1150571315215094,-1.0590050290792465,0.0330580059237776,0.07245944079685479,0.05355018781289897,0.982192491089674,-1.3332446966055207,-0.4750101990510632,1.8528615241664779,-0.2596368102157135,2.650494332081166,0.03663696348133406,1.2753792745190486,-0.8168321015478864,-0.4951382651790036,0.17939790937557573,1.7875865230463246,1.2733957583232083,-0.4731555910802737,0.9565057531980289,-2.1362394877075355,0.002357396312342969,1.2905998405621435,1.8366093059938804,-0.8053056180689845,2.6511619627648506,2.6340229059367926,1.3146938570005815,-1.3339930588631368,0.840518958040195,0.052793553745604536,2.0878945580933315,1.297510832920677,1.3016806505078657,-0.49713683397353353,0.7764615719598768,2.1090178780274127,0.594402591585397,-1.3461607606261974,-1.3850976846620768,-1.3652498885147268,1.2982852310012025,0.5695677394986534,-1.3556115766364272,-0.4953667085425588,1.823911746563089,1.0490056074231384,-1.347716803159653,-1.5803504818685563,0.7683827746484019,-0.47597077941525673,0.06873376644995705,0.4860093863521064,-1.5874556776393292,-0.8204188502661603,1.3152546664867597,1.827069620547147,-1.268267200754264,-0.8263581258593561,-1.3703811458640733,1.7885331682093566,0.00251938566624376,0.7879009861783861,0.7643522822803329,0.04773467120821056,-0.48520115161290145,-0.48085564910476086,-0.8061846490796158,0.044209241388049984,-0.10138407315737681,0.8658262658887991,0.05423659014682257,-0.8965560303190391,-1.3724914420718788,0.04668796235940559,-1.3448251252818415,-0.8461747466245431,-0.5055074947070097,-0.06537481547872927,-0.852754589157042,-0.9064503268220243,-1.3527144409353795,-0.49359420179852753,-1.3427926518581053,-0.03911922320399275,-1.3546879357911794,-0.48062485961362666,-1.3708988231420252,-0.018483585607673575,4.977219956199726,0.4767845143548697,-0.4785322339640163],\"y\":[0.5668131288115328,0.8838986633345612,-0.6377870546481824,1.4200117571185151,0.29612880999602637,1.3910284395562107,-0.39323432634567584,0.5497724113418111,0.9135201051481461,0.3080061811226067,0.05330002962632669,1.3977347648354186,0.0444973271492947,-0.5790675202689375,-0.4733876323231822,-0.6693703779815149,0.6987077724134698,-0.5594664847040868,0.6999921551258548,0.896484138769502,0.024082295282454563,0.07550931120057526,-0.558143420527404,-0.5459445308831639,-0.5726300021821892,0.03879817002757284,-1.5660313766378406,0.8907685930899433,0.25616741307228197,-0.5595771534998469,0.5553222571270304,-0.6700727279132123,-0.8358083892176745,0.2952707839756365,-1.9828488263795199,0.8804063539717942,0.03476456746096304,0.5451681032331993,0.09011707685096784,0.8764406728093712,1.3895279330405357,-0.6583581596895153,-0.5592354068087381,0.8915332225970682,-0.06694906256191882,0.9065856817226615,0.04696338037359458,-1.2640219640595034,-1.5273999997740437,1.415858659423401,0.19284696740734714,0.180704637936608,-0.762053890750688,0.043187847281271285,0.8927521087359579,0.07721244708306008,-0.16596015256518895,-0.7532348103875092,1.4166697128609609,0.8004400274929175,0.5765128189852042,0.8653410341072633,-2.121303568214825,-1.6114988111580408,0.8180728177239962,0.9287009014321858,-2.937987664344723,-1.366182758002077,1.4365978571268279,0.8026673147850237,0.08175145121133529,-0.6699334272132932,-1.925252700086456,-1.9331122233820042,-0.4068325497640264,0.06093252303150447,-0.6312096198617709,0.18613439267220963,-1.2372834629234457,0.7931697453882175,-0.399655715390337,0.8653229874794423,0.2522869828852575,-1.255681663083114,0.6954728584083443,0.05027300563180135,0.06259537293406965,0.050547870947288326,-0.4456159940589344,0.675663587919347,0.014501662313209224,0.8950154192728763,0.10382019224733646,-1.6706050470928735,0.06305904823492411,-2.0202955383325922,0.2763407041771837,0.9096183080887662,0.20955142383571276,-1.281893345096969,-2.0899144490238895,0.6170173409390701,0.7701821456166194,0.0823345836971415,-0.5030122444807075,0.5493679947998839,0.06094012201453817,-2.8083805633432672,1.397108370634591,0.30429977970807787,0.31453855597207625,0.20313948350928865,0.8926700281359236,0.8991530119042116,-0.649581887731698,1.3995630207957448,-0.5757740057230729,-0.6197954137327254,0.1939005213345229,-1.945253280613901,0.06443118986263485,1.3961499676901763,0.03876877328881071,0.544870353052036,0.8884846089404578,-0.5581815461784404,0.5282192068167416,-1.9289558663571422,0.008232648870479671,0.8836843895784772,0.03538757771717446,-1.4714518056912487,0.02424647774497023,0.9092661332529755,0.036895514682599086,-1.4738750545621109,5.980983468353732,-1.2929390472740971,0.8738184332574981],\"type\":\"scatter\"}],                        {\"showlegend\":false,\"title\":{\"text\":\"2D Projection of Data with PCA Components\"},\"xaxis\":{\"title\":{\"text\":\"PCA 1\"}},\"yaxis\":{\"title\":{\"text\":\"PCA 2\"}},\"template\":{\"data\":{\"histogram2dcontour\":[{\"type\":\"histogram2dcontour\",\"colorbar\":{\"outlinewidth\":0,\"ticks\":\"\"},\"colorscale\":[[0.0,\"#0d0887\"],[0.1111111111111111,\"#46039f\"],[0.2222222222222222,\"#7201a8\"],[0.3333333333333333,\"#9c179e\"],[0.4444444444444444,\"#bd3786\"],[0.5555555555555556,\"#d8576b\"],[0.6666666666666666,\"#ed7953\"],[0.7777777777777778,\"#fb9f3a\"],[0.8888888888888888,\"#fdca26\"],[1.0,\"#f0f921\"]]}],\"choropleth\":[{\"type\":\"choropleth\",\"colorbar\":{\"outlinewidth\":0,\"ticks\":\"\"}}],\"histogram2d\":[{\"type\":\"histogram2d\",\"colorbar\":{\"outlinewidth\":0,\"ticks\":\"\"},\"colorscale\":[[0.0,\"#0d0887\"],[0.1111111111111111,\"#46039f\"],[0.2222222222222222,\"#7201a8\"],[0.3333333333333333,\"#9c179e\"],[0.4444444444444444,\"#bd3786\"],[0.5555555555555556,\"#d8576b\"],[0.6666666666666666,\"#ed7953\"],[0.7777777777777778,\"#fb9f3a\"],[0.8888888888888888,\"#fdca26\"],[1.0,\"#f0f921\"]]}],\"heatmap\":[{\"type\":\"heatmap\",\"colorbar\":{\"outlinewidth\":0,\"ticks\":\"\"},\"colorscale\":[[0.0,\"#0d0887\"],[0.1111111111111111,\"#46039f\"],[0.2222222222222222,\"#7201a8\"],[0.3333333333333333,\"#9c179e\"],[0.4444444444444444,\"#bd3786\"],[0.5555555555555556,\"#d8576b\"],[0.6666666666666666,\"#ed7953\"],[0.7777777777777778,\"#fb9f3a\"],[0.8888888888888888,\"#fdca26\"],[1.0,\"#f0f921\"]]}],\"heatmapgl\":[{\"type\":\"heatmapgl\",\"colorbar\":{\"outlinewidth\":0,\"ticks\":\"\"},\"colorscale\":[[0.0,\"#0d0887\"],[0.1111111111111111,\"#46039f\"],[0.2222222222222222,\"#7201a8\"],[0.3333333333333333,\"#9c179e\"],[0.4444444444444444,\"#bd3786\"],[0.5555555555555556,\"#d8576b\"],[0.6666666666666666,\"#ed7953\"],[0.7777777777777778,\"#fb9f3a\"],[0.8888888888888888,\"#fdca26\"],[1.0,\"#f0f921\"]]}],\"contourcarpet\":[{\"type\":\"contourcarpet\",\"colorbar\":{\"outlinewidth\":0,\"ticks\":\"\"}}],\"contour\":[{\"type\":\"contour\",\"colorbar\":{\"outlinewidth\":0,\"ticks\":\"\"},\"colorscale\":[[0.0,\"#0d0887\"],[0.1111111111111111,\"#46039f\"],[0.2222222222222222,\"#7201a8\"],[0.3333333333333333,\"#9c179e\"],[0.4444444444444444,\"#bd3786\"],[0.5555555555555556,\"#d8576b\"],[0.6666666666666666,\"#ed7953\"],[0.7777777777777778,\"#fb9f3a\"],[0.8888888888888888,\"#fdca26\"],[1.0,\"#f0f921\"]]}],\"surface\":[{\"type\":\"surface\",\"colorbar\":{\"outlinewidth\":0,\"ticks\":\"\"},\"colorscale\":[[0.0,\"#0d0887\"],[0.1111111111111111,\"#46039f\"],[0.2222222222222222,\"#7201a8\"],[0.3333333333333333,\"#9c179e\"],[0.4444444444444444,\"#bd3786\"],[0.5555555555555556,\"#d8576b\"],[0.6666666666666666,\"#ed7953\"],[0.7777777777777778,\"#fb9f3a\"],[0.8888888888888888,\"#fdca26\"],[1.0,\"#f0f921\"]]}],\"mesh3d\":[{\"type\":\"mesh3d\",\"colorbar\":{\"outlinewidth\":0,\"ticks\":\"\"}}],\"scatter\":[{\"fillpattern\":{\"fillmode\":\"overlay\",\"size\":10,\"solidity\":0.2},\"type\":\"scatter\"}],\"parcoords\":[{\"type\":\"parcoords\",\"line\":{\"colorbar\":{\"outlinewidth\":0,\"ticks\":\"\"}}}],\"scatterpolargl\":[{\"type\":\"scatterpolargl\",\"marker\":{\"colorbar\":{\"outlinewidth\":0,\"ticks\":\"\"}}}],\"bar\":[{\"error_x\":{\"color\":\"#2a3f5f\"},\"error_y\":{\"color\":\"#2a3f5f\"},\"marker\":{\"line\":{\"color\":\"#E5ECF6\",\"width\":0.5},\"pattern\":{\"fillmode\":\"overlay\",\"size\":10,\"solidity\":0.2}},\"type\":\"bar\"}],\"scattergeo\":[{\"type\":\"scattergeo\",\"marker\":{\"colorbar\":{\"outlinewidth\":0,\"ticks\":\"\"}}}],\"scatterpolar\":[{\"type\":\"scatterpolar\",\"marker\":{\"colorbar\":{\"outlinewidth\":0,\"ticks\":\"\"}}}],\"histogram\":[{\"marker\":{\"pattern\":{\"fillmode\":\"overlay\",\"size\":10,\"solidity\":0.2}},\"type\":\"histogram\"}],\"scattergl\":[{\"type\":\"scattergl\",\"marker\":{\"colorbar\":{\"outlinewidth\":0,\"ticks\":\"\"}}}],\"scatter3d\":[{\"type\":\"scatter3d\",\"line\":{\"colorbar\":{\"outlinewidth\":0,\"ticks\":\"\"}},\"marker\":{\"colorbar\":{\"outlinewidth\":0,\"ticks\":\"\"}}}],\"scattermapbox\":[{\"type\":\"scattermapbox\",\"marker\":{\"colorbar\":{\"outlinewidth\":0,\"ticks\":\"\"}}}],\"scatterternary\":[{\"type\":\"scatterternary\",\"marker\":{\"colorbar\":{\"outlinewidth\":0,\"ticks\":\"\"}}}],\"scattercarpet\":[{\"type\":\"scattercarpet\",\"marker\":{\"colorbar\":{\"outlinewidth\":0,\"ticks\":\"\"}}}],\"carpet\":[{\"aaxis\":{\"endlinecolor\":\"#2a3f5f\",\"gridcolor\":\"white\",\"linecolor\":\"white\",\"minorgridcolor\":\"white\",\"startlinecolor\":\"#2a3f5f\"},\"baxis\":{\"endlinecolor\":\"#2a3f5f\",\"gridcolor\":\"white\",\"linecolor\":\"white\",\"minorgridcolor\":\"white\",\"startlinecolor\":\"#2a3f5f\"},\"type\":\"carpet\"}],\"table\":[{\"cells\":{\"fill\":{\"color\":\"#EBF0F8\"},\"line\":{\"color\":\"white\"}},\"header\":{\"fill\":{\"color\":\"#C8D4E3\"},\"line\":{\"color\":\"white\"}},\"type\":\"table\"}],\"barpolar\":[{\"marker\":{\"line\":{\"color\":\"#E5ECF6\",\"width\":0.5},\"pattern\":{\"fillmode\":\"overlay\",\"size\":10,\"solidity\":0.2}},\"type\":\"barpolar\"}],\"pie\":[{\"automargin\":true,\"type\":\"pie\"}]},\"layout\":{\"autotypenumbers\":\"strict\",\"colorway\":[\"#636efa\",\"#EF553B\",\"#00cc96\",\"#ab63fa\",\"#FFA15A\",\"#19d3f3\",\"#FF6692\",\"#B6E880\",\"#FF97FF\",\"#FECB52\"],\"font\":{\"color\":\"#2a3f5f\"},\"hovermode\":\"closest\",\"hoverlabel\":{\"align\":\"left\"},\"paper_bgcolor\":\"white\",\"plot_bgcolor\":\"#E5ECF6\",\"polar\":{\"bgcolor\":\"#E5ECF6\",\"angularaxis\":{\"gridcolor\":\"white\",\"linecolor\":\"white\",\"ticks\":\"\"},\"radialaxis\":{\"gridcolor\":\"white\",\"linecolor\":\"white\",\"ticks\":\"\"}},\"ternary\":{\"bgcolor\":\"#E5ECF6\",\"aaxis\":{\"gridcolor\":\"white\",\"linecolor\":\"white\",\"ticks\":\"\"},\"baxis\":{\"gridcolor\":\"white\",\"linecolor\":\"white\",\"ticks\":\"\"},\"caxis\":{\"gridcolor\":\"white\",\"linecolor\":\"white\",\"ticks\":\"\"}},\"coloraxis\":{\"colorbar\":{\"outlinewidth\":0,\"ticks\":\"\"}},\"colorscale\":{\"sequential\":[[0.0,\"#0d0887\"],[0.1111111111111111,\"#46039f\"],[0.2222222222222222,\"#7201a8\"],[0.3333333333333333,\"#9c179e\"],[0.4444444444444444,\"#bd3786\"],[0.5555555555555556,\"#d8576b\"],[0.6666666666666666,\"#ed7953\"],[0.7777777777777778,\"#fb9f3a\"],[0.8888888888888888,\"#fdca26\"],[1.0,\"#f0f921\"]],\"sequentialminus\":[[0.0,\"#0d0887\"],[0.1111111111111111,\"#46039f\"],[0.2222222222222222,\"#7201a8\"],[0.3333333333333333,\"#9c179e\"],[0.4444444444444444,\"#bd3786\"],[0.5555555555555556,\"#d8576b\"],[0.6666666666666666,\"#ed7953\"],[0.7777777777777778,\"#fb9f3a\"],[0.8888888888888888,\"#fdca26\"],[1.0,\"#f0f921\"]],\"diverging\":[[0,\"#8e0152\"],[0.1,\"#c51b7d\"],[0.2,\"#de77ae\"],[0.3,\"#f1b6da\"],[0.4,\"#fde0ef\"],[0.5,\"#f7f7f7\"],[0.6,\"#e6f5d0\"],[0.7,\"#b8e186\"],[0.8,\"#7fbc41\"],[0.9,\"#4d9221\"],[1,\"#276419\"]]},\"xaxis\":{\"gridcolor\":\"white\",\"linecolor\":\"white\",\"ticks\":\"\",\"title\":{\"standoff\":15},\"zerolinecolor\":\"white\",\"automargin\":true,\"zerolinewidth\":2},\"yaxis\":{\"gridcolor\":\"white\",\"linecolor\":\"white\",\"ticks\":\"\",\"title\":{\"standoff\":15},\"zerolinecolor\":\"white\",\"automargin\":true,\"zerolinewidth\":2},\"scene\":{\"xaxis\":{\"backgroundcolor\":\"#E5ECF6\",\"gridcolor\":\"white\",\"linecolor\":\"white\",\"showbackground\":true,\"ticks\":\"\",\"zerolinecolor\":\"white\",\"gridwidth\":2},\"yaxis\":{\"backgroundcolor\":\"#E5ECF6\",\"gridcolor\":\"white\",\"linecolor\":\"white\",\"showbackground\":true,\"ticks\":\"\",\"zerolinecolor\":\"white\",\"gridwidth\":2},\"zaxis\":{\"backgroundcolor\":\"#E5ECF6\",\"gridcolor\":\"white\",\"linecolor\":\"white\",\"showbackground\":true,\"ticks\":\"\",\"zerolinecolor\":\"white\",\"gridwidth\":2}},\"shapedefaults\":{\"line\":{\"color\":\"#2a3f5f\"}},\"annotationdefaults\":{\"arrowcolor\":\"#2a3f5f\",\"arrowhead\":0,\"arrowwidth\":1},\"geo\":{\"bgcolor\":\"white\",\"landcolor\":\"#E5ECF6\",\"subunitcolor\":\"white\",\"showland\":true,\"showlakes\":true,\"lakecolor\":\"white\"},\"title\":{\"x\":0.05},\"mapbox\":{\"style\":\"light\"}}}},                        {\"responsive\": true}                    ).then(function(){\n",
       "                            \n",
       "var gd = document.getElementById('0280040f-2b1f-4207-8a6d-9f6dc7528d01');\n",
       "var x = new MutationObserver(function (mutations, observer) {{\n",
       "        var display = window.getComputedStyle(gd).display;\n",
       "        if (!display || display === 'none') {{\n",
       "            console.log([gd, 'removed!']);\n",
       "            Plotly.purge(gd);\n",
       "            observer.disconnect();\n",
       "        }}\n",
       "}});\n",
       "\n",
       "// Listen for the removal of the full notebook cells\n",
       "var notebookContainer = gd.closest('#notebook-container');\n",
       "if (notebookContainer) {{\n",
       "    x.observe(notebookContainer, {childList: true});\n",
       "}}\n",
       "\n",
       "// Listen for the clearing of the current output cell\n",
       "var outputEl = gd.closest('.output');\n",
       "if (outputEl) {{\n",
       "    x.observe(outputEl, {childList: true});\n",
       "}}\n",
       "\n",
       "                        })                };                });            </script>        </div>"
      ]
     },
     "metadata": {},
     "output_type": "display_data"
    },
    {
     "data": {
      "text/html": [
       "\n",
       "        <iframe\n",
       "            width=\"800\"\n",
       "            height=\"600\"\n",
       "            src=\"PCA_2d_interactive.html\"\n",
       "            frameborder=\"0\"\n",
       "            allowfullscreen\n",
       "            \n",
       "        ></iframe>\n",
       "        "
      ],
      "text/plain": [
       "<IPython.lib.display.IFrame at 0x165f76850>"
      ]
     },
     "execution_count": 119,
     "metadata": {},
     "output_type": "execute_result"
    }
   ],
   "source": [
    "import numpy as np\n",
    "import plotly.graph_objs as go\n",
    "from sklearn.decomposition import PCA\n",
    "import plotly\n",
    "import plotly.io as pio\n",
    "\n",
    "\n",
    "pca = PCA(n_components=5)\n",
    "pca.fit(X)\n",
    "\n",
    "v2 = pca.components_\n",
    "\n",
    "X_2d = np.dot(X, v2[:2, :].T)\n",
    "\n",
    "scatter_2d = go.Scatter(\n",
    "    x=X_2d[:, 0],\n",
    "    y=X_2d[:, 1],\n",
    "    mode='markers',\n",
    "    marker=dict(\n",
    "        size=8,\n",
    "        color=np.arange(len(X)),  \n",
    "        colorscale='Viridis',\n",
    "        opacity=0.8\n",
    "    ),\n",
    "    text=['Point {}'.format(i) for i in range(len(X))],  \n",
    ")\n",
    "\n",
    "layout_2d = go.Layout(\n",
    "    title='2D Projection of Data with PCA Components',\n",
    "    xaxis=dict(title='PCA 1'),\n",
    "    yaxis=dict(title='PCA 2'),\n",
    "    showlegend=False,\n",
    ")\n",
    "\n",
    "fig_2d = go.Figure(data=[scatter_2d], layout=layout_2d)\n",
    "\n",
    "pio.renderers.default = \"plotly_mimetype+notebook_connected\"\n",
    "plotly.offline.plot(fig_2d, filename='PCA_2d_interactive.html')\n",
    "\n",
    "from IPython.display import IFrame\n",
    "IFrame(src='PCA_2d_interactive.html', width=800, height=600)"
   ]
  },
  {
   "cell_type": "code",
   "execution_count": 118,
   "metadata": {},
   "outputs": [
    {
     "data": {
      "text/html": [
       "        <script type=\"text/javascript\">\n",
       "        window.PlotlyConfig = {MathJaxConfig: 'local'};\n",
       "        if (window.MathJax && window.MathJax.Hub && window.MathJax.Hub.Config) {window.MathJax.Hub.Config({SVG: {font: \"STIX-Web\"}});}\n",
       "        if (typeof require !== 'undefined') {\n",
       "        require.undef(\"plotly\");\n",
       "        requirejs.config({\n",
       "            paths: {\n",
       "                'plotly': ['https://cdn.plot.ly/plotly-2.12.1.min']\n",
       "            }\n",
       "        });\n",
       "        require(['plotly'], function(Plotly) {\n",
       "            window._Plotly = Plotly;\n",
       "        });\n",
       "        }\n",
       "        </script>\n",
       "        "
      ]
     },
     "metadata": {},
     "output_type": "display_data"
    },
    {
     "data": {
      "application/vnd.plotly.v1+json": {
       "config": {
        "plotlyServerURL": "https://plot.ly"
       },
       "data": [
        {
         "marker": {
          "color": [
           0,
           1,
           2,
           3,
           4,
           5,
           6,
           7,
           8,
           9,
           10,
           11,
           12,
           13,
           14,
           15,
           16,
           17,
           18,
           19,
           20,
           21,
           22,
           23,
           24,
           25,
           26,
           27,
           28,
           29,
           30,
           31,
           32,
           33,
           34,
           35,
           36,
           37,
           38,
           39,
           40,
           41,
           42,
           43,
           44,
           45,
           46,
           47,
           48,
           49,
           50,
           51,
           52,
           53,
           54,
           55,
           56,
           57,
           58,
           59,
           60,
           61,
           62,
           63,
           64,
           65,
           66,
           67,
           68,
           69,
           70,
           71,
           72,
           73,
           74,
           75,
           76,
           77,
           78,
           79,
           80,
           81,
           82,
           83,
           84,
           85,
           86,
           87,
           88,
           89,
           90,
           91,
           92,
           93,
           94,
           95,
           96,
           97,
           98,
           99,
           100,
           101,
           102,
           103,
           104,
           105,
           106,
           107,
           108,
           109,
           110,
           111,
           112,
           113,
           114,
           115,
           116,
           117,
           118,
           119,
           120,
           121,
           122,
           123,
           124,
           125,
           126,
           127,
           128,
           129,
           130,
           131,
           132,
           133,
           134,
           135,
           136,
           137,
           138
          ],
          "colorscale": [
           [
            0,
            "#440154"
           ],
           [
            0.1111111111111111,
            "#482878"
           ],
           [
            0.2222222222222222,
            "#3e4989"
           ],
           [
            0.3333333333333333,
            "#31688e"
           ],
           [
            0.4444444444444444,
            "#26828e"
           ],
           [
            0.5555555555555556,
            "#1f9e89"
           ],
           [
            0.6666666666666666,
            "#35b779"
           ],
           [
            0.7777777777777778,
            "#6ece58"
           ],
           [
            0.8888888888888888,
            "#b5de2b"
           ],
           [
            1,
            "#fde725"
           ]
          ],
          "opacity": 0.8,
          "size": 6
         },
         "mode": "markers",
         "text": [
          "Point 0",
          "Point 1",
          "Point 2",
          "Point 3",
          "Point 4",
          "Point 5",
          "Point 6",
          "Point 7",
          "Point 8",
          "Point 9",
          "Point 10",
          "Point 11",
          "Point 12",
          "Point 13",
          "Point 14",
          "Point 15",
          "Point 16",
          "Point 17",
          "Point 18",
          "Point 19",
          "Point 20",
          "Point 21",
          "Point 22",
          "Point 23",
          "Point 24",
          "Point 25",
          "Point 26",
          "Point 27",
          "Point 28",
          "Point 29",
          "Point 30",
          "Point 31",
          "Point 32",
          "Point 33",
          "Point 34",
          "Point 35",
          "Point 36",
          "Point 37",
          "Point 38",
          "Point 39",
          "Point 40",
          "Point 41",
          "Point 42",
          "Point 43",
          "Point 44",
          "Point 45",
          "Point 46",
          "Point 47",
          "Point 48",
          "Point 49",
          "Point 50",
          "Point 51",
          "Point 52",
          "Point 53",
          "Point 54",
          "Point 55",
          "Point 56",
          "Point 57",
          "Point 58",
          "Point 59",
          "Point 60",
          "Point 61",
          "Point 62",
          "Point 63",
          "Point 64",
          "Point 65",
          "Point 66",
          "Point 67",
          "Point 68",
          "Point 69",
          "Point 70",
          "Point 71",
          "Point 72",
          "Point 73",
          "Point 74",
          "Point 75",
          "Point 76",
          "Point 77",
          "Point 78",
          "Point 79",
          "Point 80",
          "Point 81",
          "Point 82",
          "Point 83",
          "Point 84",
          "Point 85",
          "Point 86",
          "Point 87",
          "Point 88",
          "Point 89",
          "Point 90",
          "Point 91",
          "Point 92",
          "Point 93",
          "Point 94",
          "Point 95",
          "Point 96",
          "Point 97",
          "Point 98",
          "Point 99",
          "Point 100",
          "Point 101",
          "Point 102",
          "Point 103",
          "Point 104",
          "Point 105",
          "Point 106",
          "Point 107",
          "Point 108",
          "Point 109",
          "Point 110",
          "Point 111",
          "Point 112",
          "Point 113",
          "Point 114",
          "Point 115",
          "Point 116",
          "Point 117",
          "Point 118",
          "Point 119",
          "Point 120",
          "Point 121",
          "Point 122",
          "Point 123",
          "Point 124",
          "Point 125",
          "Point 126",
          "Point 127",
          "Point 128",
          "Point 129",
          "Point 130",
          "Point 131",
          "Point 132",
          "Point 133",
          "Point 134",
          "Point 135",
          "Point 136",
          "Point 137",
          "Point 138"
         ],
         "type": "scatter3d",
         "x": [
          0.28866818049335474,
          0.29537676491593107,
          0.32431953096558036,
          0.32512150718521604,
          0.30655977015898267,
          0.3136760684797966,
          0.3247248732892557,
          0.3004795100702499,
          0.322897741620379,
          0.3202097340555086,
          0.30718451255037044,
          0.2993658789300758,
          0.2702211804668639,
          0.2771804901025726,
          -3.261058701979883,
          0.31678151924939785,
          0.3120885801433754,
          0.342204814960329,
          0.3253518730661823,
          0.29254808189946657,
          0.2849189381358191,
          0.2805880427871134,
          0.3432961706816033,
          0.28240258910774557,
          0.295464837430589,
          0.29074250778378635,
          0.32617224356407803,
          0.3197432355798938,
          0.28308939366154046,
          0.3012621269814672,
          0.2862872083945851,
          0.29567770422620454,
          -3.2599826970509254,
          0.27404869650233443,
          0.29133409775252195,
          0.2677965478300362,
          -3.273786229106149,
          0.27857402516823365,
          0.3189355262567581,
          0.2776154687173466,
          0.3086042585429958,
          0.29288916444793694,
          0.3213491252214163,
          0.2632888494994831,
          0.3000379720513537,
          0.36300402144677313,
          0.3073441136947504,
          0.2799503588319006,
          -3.2431125925475563,
          0.2996479290416434,
          0.3129578095152238,
          0.29935312766808614,
          0.296703459665993,
          0.303422561853953,
          0.34951312165305204,
          0.31140637164855106,
          0.31033149418821415,
          0.3063613481525166,
          0.32640591024999055,
          0.28049809415955324,
          0.31120459828909003,
          0.2928689825328062,
          -3.2342097978662445,
          0.3143435873526649,
          0.3067629296208715,
          0.3159341962464154,
          -3.228524891849712,
          -3.2552649757795846,
          0.2999486337831292,
          0.29972173932185725,
          0.34425276075045014,
          0.28666613346080755,
          0.31633981064650835,
          0.31914931902559046,
          0.3108141490952433,
          0.3221135032746434,
          0.32414334414192203,
          0.2846226421655198,
          0.3141832359704475,
          0.3127874143784058,
          0.3284831510811494,
          0.3028797123048826,
          0.2958167802884381,
          0.285979318304347,
          0.2985561374372745,
          0.29422838273488705,
          0.2823908806137337,
          0.30065625674372176,
          0.27556718944440356,
          0.31562584816220524,
          0.3176613589097006,
          0.3165925011063943,
          0.3098040048028987,
          0.3048918807104084,
          0.31036561142838215,
          -3.221849941061037,
          0.29315064415593284,
          0.3083914499649362,
          0.3208236479642132,
          0.31679227274272403,
          -3.269419966761454,
          0.3688186437211964,
          0.30200504735695405,
          0.2900669769199481,
          -3.2723397799298732,
          0.28762558759617896,
          0.317628634885276,
          0.3178213230946248,
          0.2962394696477088,
          0.31416866726955944,
          0.3153689498567605,
          0.31905336495045916,
          0.312539144197205,
          0.295075870943413,
          0.29210320120021616,
          0.2965474336728397,
          0.2914368277941339,
          0.3149829555985958,
          0.3229462391904363,
          -3.2309867989136474,
          0.30609470923422705,
          0.3205990656227858,
          0.2963026330078592,
          0.3186355310845662,
          0.2946511859486603,
          0.31361489791802943,
          0.2963725515447235,
          -3.2570044737494146,
          0.28104907433386,
          0.31138057882068565,
          0.32335439567132157,
          0.3249077099732641,
          0.31299841926159766,
          0.3103814868917453,
          0.2716329636469403,
          0.31259205032489507,
          0.30533010852128367,
          0.3278170379899447,
          0.2802648037175986
         ],
         "y": [
          -1.0675406858691538,
          0.8810633896011816,
          -1.0808545906197777,
          0.9279427175530678,
          0.9407921535962525,
          0.9075786802779904,
          0.9378596761555763,
          -1.103226221807967,
          0.9345429140156953,
          0.9165957102992288,
          -1.0568355482486258,
          0.9229805893779608,
          -1.0816543636694658,
          -1.088989426005891,
          0.9156872570333685,
          -1.114770229965172,
          0.9339067061324183,
          -1.088577025106161,
          0.9110350261615843,
          0.954564985988185,
          -1.103309573020585,
          0.9136896790643623,
          -1.0846452038829733,
          -1.0895905226126965,
          -1.0967217952570467,
          -1.0992040279262616,
          -1.0807132031254023,
          0.9084538756043823,
          0.9280276087841279,
          -1.0664462652804743,
          -1.0617580661777863,
          -1.0608273026411996,
          -1.0717460965992869,
          0.9120164902278866,
          0.9204447055539215,
          0.9555852018273008,
          0.9401433685576708,
          -1.0771939286089292,
          -1.0525883019820395,
          0.9165619364170382,
          0.9267594316194784,
          -1.0750789300642913,
          -1.0486269112386701,
          0.9061731321240595,
          -1.0750892077471916,
          0.9256813274178292,
          -1.0819176651364908,
          0.9101313154355696,
          -1.0399952044224787,
          0.9533626238577746,
          0.9323502331055201,
          0.9230259690339031,
          -1.073108863595253,
          -1.0716637228874255,
          0.909931313740949,
          0.9319361364217202,
          -1.0693985371761303,
          0.9332415124050832,
          0.9366933247630282,
          0.9354702339763571,
          -1.0621788421828002,
          0.9204578841948037,
          -1.0678342449296336,
          -1.0827107214250762,
          0.9470556064259884,
          0.9659360759454841,
          -1.0706111095934465,
          -1.092467059923141,
          0.9388108506025993,
          0.9671759222683556,
          0.9116142895093042,
          -1.059870045246563,
          0.9144337421799537,
          0.9090363862890986,
          0.9205372819542829,
          -1.0938073316318069,
          0.9238378804311067,
          0.9199367761195533,
          0.9218759871019991,
          0.9411990323052803,
          0.9267696620954169,
          0.8951892623670447,
          0.9306909859638917,
          0.919111857942245,
          0.9334175187634164,
          -1.0588614764810134,
          -1.078067627881706,
          -1.0775966020562775,
          0.912354484488137,
          0.9096333627615643,
          -1.1171286092929504,
          0.8985341024061052,
          0.9287884722983033,
          -1.0748505153307435,
          -1.083535315244751,
          -1.0721051175497616,
          0.9387056184379889,
          0.9550362309470201,
          0.9342230894332894,
          -1.0701425291721995,
          -1.070210010266127,
          -1.053119804174914,
          0.9214803671002311,
          0.917249460012842,
          0.9494382904038345,
          -1.0848907691821326,
          -1.1061589411714108,
          -1.0896956764958672,
          0.9178544448053263,
          0.9483055091361337,
          0.9355525659196522,
          0.9285781917865611,
          0.9129448738397132,
          0.9229066593397385,
          -1.0755687871133148,
          0.9307216929740637,
          -1.094164747042572,
          0.9422503453597887,
          0.9170028074017714,
          -1.0830692355609404,
          -1.0613965810625106,
          0.9219382919131222,
          -1.0658151321765998,
          -1.0883036204417031,
          0.9364856509164122,
          -1.0604694985538194,
          -1.1036281143193063,
          -1.082152212962446,
          -1.0961968820656514,
          0.9295248267838477,
          -1.0843510725748566,
          -1.0995406797115501,
          -1.0820091343986395,
          0.927577177796206,
          -1.0839929432732378,
          -1.0724700392290138,
          0.9627167345421114,
          -1.0906486348514728,
          0.9319801379563669
         ],
         "z": [
          1.4504755507923603,
          -0.7025410093374025,
          -0.7064700282648169,
          1.457418383889344,
          -0.7108952880497355,
          1.4255002293734529,
          -0.7220154554778876,
          1.422344299461505,
          -0.6617789072423531,
          -0.7003117071230683,
          -0.6925519212704477,
          1.4083998472715897,
          -0.7060852515459445,
          -0.7255794255736836,
          -0.6890477633654123,
          -0.7115249610015251,
          1.4318779150087793,
          -0.6960948535099911,
          1.449756146318659,
          -0.7285667008222728,
          -0.6788166701965288,
          1.4302366059646963,
          -0.692456946852941,
          -0.7150321885532193,
          -0.7050216402668195,
          -0.7055818520629314,
          1.409950996919699,
          -0.686393529967085,
          -0.6898515323205624,
          -0.7066837775501336,
          1.4225242192785805,
          -0.7041340053990263,
          1.4113275894961796,
          -0.699364606856409,
          -0.7165329825485571,
          -0.7308042835343442,
          1.4307997618366965,
          1.3866826454105305,
          -0.7368307029089798,
          -0.6801068050202249,
          1.426235785754401,
          -0.7119559903001422,
          -0.7079521528808734,
          -0.7071835141781261,
          1.4050499328644708,
          -0.6982838228749629,
          -0.650538969194234,
          -0.7065682443203897,
          1.4112501252109,
          1.4410985575488546,
          -0.7065399548070845,
          -0.7205054097457065,
          1.4181516282768651,
          -0.7272423398278448,
          -0.6853633713464682,
          1.3978007482946722,
          1.4065410526336175,
          1.4194251417461345,
          1.4349804935643915,
          1.38454951461101,
          1.4310845915776043,
          -0.7064627121557658,
          1.4368585497611825,
          1.3905948273543016,
          1.41721453873169,
          -0.695720193762052,
          1.4033934575907128,
          -0.7178517760495702,
          1.43874160009097,
          1.4066109879474444,
          1.4086758604709066,
          -0.7142521202782575,
          -0.6985741533773516,
          -0.7059141546118496,
          -0.6967157894297908,
          -0.7052426172522752,
          -0.7236832342656929,
          -0.6901247542099468,
          -0.704570458426231,
          1.432970348400519,
          -0.7000054853135907,
          -0.6981315013874545,
          -0.7296517923673324,
          -0.708312324756435,
          1.43950357185384,
          -0.6912772916040345,
          -0.6567091653343412,
          -0.690713096409648,
          -0.6906174112445809,
          1.3740075568403534,
          -0.7040534190640343,
          -0.7044005608554942,
          1.4392185255638363,
          1.4310317408412638,
          -0.6870453258887332,
          -0.6894613244227659,
          -0.71343276339164,
          -0.7192995554461805,
          -0.684976205814304,
          -0.6975003519779798,
          -0.7116454986185736,
          1.4253303893818063,
          1.4305723902441811,
          1.414454331947516,
          -0.712069874765045,
          1.4096432677000634,
          -0.6804116096713368,
          -0.7220659199912413,
          1.4157044008932347,
          -0.7018656031730629,
          -0.7123003921409204,
          -0.699354926584618,
          -0.7085094154732864,
          -0.6954560626667177,
          -0.6882133909475243,
          1.4612869999414553,
          -0.6918580564102254,
          -0.7005508567432248,
          -0.7099512048083406,
          -0.6961036546484153,
          -0.7015043161329904,
          1.403111569589054,
          -0.6978958470512145,
          1.3902397847910273,
          -0.7210726156770032,
          -0.6742532125901461,
          1.4055280383999704,
          -0.7000981833591697,
          -0.7282875683390452,
          -0.7133444354629077,
          -0.7078890455422622,
          -0.70012717173393,
          -0.7288544912932394,
          -0.7225562965972848,
          -0.7078275433889961,
          -0.7169145279978447,
          1.4213000247359742,
          -0.7071891079694173,
          -0.7329607687715997
         ]
        }
       ],
       "layout": {
        "scene": {
         "xaxis": {
          "title": {
           "text": "PCA 1"
          }
         },
         "yaxis": {
          "title": {
           "text": "PCA 2"
          }
         },
         "zaxis": {
          "title": {
           "text": "PCA 3"
          }
         }
        },
        "template": {
         "data": {
          "bar": [
           {
            "error_x": {
             "color": "#2a3f5f"
            },
            "error_y": {
             "color": "#2a3f5f"
            },
            "marker": {
             "line": {
              "color": "#E5ECF6",
              "width": 0.5
             },
             "pattern": {
              "fillmode": "overlay",
              "size": 10,
              "solidity": 0.2
             }
            },
            "type": "bar"
           }
          ],
          "barpolar": [
           {
            "marker": {
             "line": {
              "color": "#E5ECF6",
              "width": 0.5
             },
             "pattern": {
              "fillmode": "overlay",
              "size": 10,
              "solidity": 0.2
             }
            },
            "type": "barpolar"
           }
          ],
          "carpet": [
           {
            "aaxis": {
             "endlinecolor": "#2a3f5f",
             "gridcolor": "white",
             "linecolor": "white",
             "minorgridcolor": "white",
             "startlinecolor": "#2a3f5f"
            },
            "baxis": {
             "endlinecolor": "#2a3f5f",
             "gridcolor": "white",
             "linecolor": "white",
             "minorgridcolor": "white",
             "startlinecolor": "#2a3f5f"
            },
            "type": "carpet"
           }
          ],
          "choropleth": [
           {
            "colorbar": {
             "outlinewidth": 0,
             "ticks": ""
            },
            "type": "choropleth"
           }
          ],
          "contour": [
           {
            "colorbar": {
             "outlinewidth": 0,
             "ticks": ""
            },
            "colorscale": [
             [
              0,
              "#0d0887"
             ],
             [
              0.1111111111111111,
              "#46039f"
             ],
             [
              0.2222222222222222,
              "#7201a8"
             ],
             [
              0.3333333333333333,
              "#9c179e"
             ],
             [
              0.4444444444444444,
              "#bd3786"
             ],
             [
              0.5555555555555556,
              "#d8576b"
             ],
             [
              0.6666666666666666,
              "#ed7953"
             ],
             [
              0.7777777777777778,
              "#fb9f3a"
             ],
             [
              0.8888888888888888,
              "#fdca26"
             ],
             [
              1,
              "#f0f921"
             ]
            ],
            "type": "contour"
           }
          ],
          "contourcarpet": [
           {
            "colorbar": {
             "outlinewidth": 0,
             "ticks": ""
            },
            "type": "contourcarpet"
           }
          ],
          "heatmap": [
           {
            "colorbar": {
             "outlinewidth": 0,
             "ticks": ""
            },
            "colorscale": [
             [
              0,
              "#0d0887"
             ],
             [
              0.1111111111111111,
              "#46039f"
             ],
             [
              0.2222222222222222,
              "#7201a8"
             ],
             [
              0.3333333333333333,
              "#9c179e"
             ],
             [
              0.4444444444444444,
              "#bd3786"
             ],
             [
              0.5555555555555556,
              "#d8576b"
             ],
             [
              0.6666666666666666,
              "#ed7953"
             ],
             [
              0.7777777777777778,
              "#fb9f3a"
             ],
             [
              0.8888888888888888,
              "#fdca26"
             ],
             [
              1,
              "#f0f921"
             ]
            ],
            "type": "heatmap"
           }
          ],
          "heatmapgl": [
           {
            "colorbar": {
             "outlinewidth": 0,
             "ticks": ""
            },
            "colorscale": [
             [
              0,
              "#0d0887"
             ],
             [
              0.1111111111111111,
              "#46039f"
             ],
             [
              0.2222222222222222,
              "#7201a8"
             ],
             [
              0.3333333333333333,
              "#9c179e"
             ],
             [
              0.4444444444444444,
              "#bd3786"
             ],
             [
              0.5555555555555556,
              "#d8576b"
             ],
             [
              0.6666666666666666,
              "#ed7953"
             ],
             [
              0.7777777777777778,
              "#fb9f3a"
             ],
             [
              0.8888888888888888,
              "#fdca26"
             ],
             [
              1,
              "#f0f921"
             ]
            ],
            "type": "heatmapgl"
           }
          ],
          "histogram": [
           {
            "marker": {
             "pattern": {
              "fillmode": "overlay",
              "size": 10,
              "solidity": 0.2
             }
            },
            "type": "histogram"
           }
          ],
          "histogram2d": [
           {
            "colorbar": {
             "outlinewidth": 0,
             "ticks": ""
            },
            "colorscale": [
             [
              0,
              "#0d0887"
             ],
             [
              0.1111111111111111,
              "#46039f"
             ],
             [
              0.2222222222222222,
              "#7201a8"
             ],
             [
              0.3333333333333333,
              "#9c179e"
             ],
             [
              0.4444444444444444,
              "#bd3786"
             ],
             [
              0.5555555555555556,
              "#d8576b"
             ],
             [
              0.6666666666666666,
              "#ed7953"
             ],
             [
              0.7777777777777778,
              "#fb9f3a"
             ],
             [
              0.8888888888888888,
              "#fdca26"
             ],
             [
              1,
              "#f0f921"
             ]
            ],
            "type": "histogram2d"
           }
          ],
          "histogram2dcontour": [
           {
            "colorbar": {
             "outlinewidth": 0,
             "ticks": ""
            },
            "colorscale": [
             [
              0,
              "#0d0887"
             ],
             [
              0.1111111111111111,
              "#46039f"
             ],
             [
              0.2222222222222222,
              "#7201a8"
             ],
             [
              0.3333333333333333,
              "#9c179e"
             ],
             [
              0.4444444444444444,
              "#bd3786"
             ],
             [
              0.5555555555555556,
              "#d8576b"
             ],
             [
              0.6666666666666666,
              "#ed7953"
             ],
             [
              0.7777777777777778,
              "#fb9f3a"
             ],
             [
              0.8888888888888888,
              "#fdca26"
             ],
             [
              1,
              "#f0f921"
             ]
            ],
            "type": "histogram2dcontour"
           }
          ],
          "mesh3d": [
           {
            "colorbar": {
             "outlinewidth": 0,
             "ticks": ""
            },
            "type": "mesh3d"
           }
          ],
          "parcoords": [
           {
            "line": {
             "colorbar": {
              "outlinewidth": 0,
              "ticks": ""
             }
            },
            "type": "parcoords"
           }
          ],
          "pie": [
           {
            "automargin": true,
            "type": "pie"
           }
          ],
          "scatter": [
           {
            "fillpattern": {
             "fillmode": "overlay",
             "size": 10,
             "solidity": 0.2
            },
            "type": "scatter"
           }
          ],
          "scatter3d": [
           {
            "line": {
             "colorbar": {
              "outlinewidth": 0,
              "ticks": ""
             }
            },
            "marker": {
             "colorbar": {
              "outlinewidth": 0,
              "ticks": ""
             }
            },
            "type": "scatter3d"
           }
          ],
          "scattercarpet": [
           {
            "marker": {
             "colorbar": {
              "outlinewidth": 0,
              "ticks": ""
             }
            },
            "type": "scattercarpet"
           }
          ],
          "scattergeo": [
           {
            "marker": {
             "colorbar": {
              "outlinewidth": 0,
              "ticks": ""
             }
            },
            "type": "scattergeo"
           }
          ],
          "scattergl": [
           {
            "marker": {
             "colorbar": {
              "outlinewidth": 0,
              "ticks": ""
             }
            },
            "type": "scattergl"
           }
          ],
          "scattermapbox": [
           {
            "marker": {
             "colorbar": {
              "outlinewidth": 0,
              "ticks": ""
             }
            },
            "type": "scattermapbox"
           }
          ],
          "scatterpolar": [
           {
            "marker": {
             "colorbar": {
              "outlinewidth": 0,
              "ticks": ""
             }
            },
            "type": "scatterpolar"
           }
          ],
          "scatterpolargl": [
           {
            "marker": {
             "colorbar": {
              "outlinewidth": 0,
              "ticks": ""
             }
            },
            "type": "scatterpolargl"
           }
          ],
          "scatterternary": [
           {
            "marker": {
             "colorbar": {
              "outlinewidth": 0,
              "ticks": ""
             }
            },
            "type": "scatterternary"
           }
          ],
          "surface": [
           {
            "colorbar": {
             "outlinewidth": 0,
             "ticks": ""
            },
            "colorscale": [
             [
              0,
              "#0d0887"
             ],
             [
              0.1111111111111111,
              "#46039f"
             ],
             [
              0.2222222222222222,
              "#7201a8"
             ],
             [
              0.3333333333333333,
              "#9c179e"
             ],
             [
              0.4444444444444444,
              "#bd3786"
             ],
             [
              0.5555555555555556,
              "#d8576b"
             ],
             [
              0.6666666666666666,
              "#ed7953"
             ],
             [
              0.7777777777777778,
              "#fb9f3a"
             ],
             [
              0.8888888888888888,
              "#fdca26"
             ],
             [
              1,
              "#f0f921"
             ]
            ],
            "type": "surface"
           }
          ],
          "table": [
           {
            "cells": {
             "fill": {
              "color": "#EBF0F8"
             },
             "line": {
              "color": "white"
             }
            },
            "header": {
             "fill": {
              "color": "#C8D4E3"
             },
             "line": {
              "color": "white"
             }
            },
            "type": "table"
           }
          ]
         },
         "layout": {
          "annotationdefaults": {
           "arrowcolor": "#2a3f5f",
           "arrowhead": 0,
           "arrowwidth": 1
          },
          "autotypenumbers": "strict",
          "coloraxis": {
           "colorbar": {
            "outlinewidth": 0,
            "ticks": ""
           }
          },
          "colorscale": {
           "diverging": [
            [
             0,
             "#8e0152"
            ],
            [
             0.1,
             "#c51b7d"
            ],
            [
             0.2,
             "#de77ae"
            ],
            [
             0.3,
             "#f1b6da"
            ],
            [
             0.4,
             "#fde0ef"
            ],
            [
             0.5,
             "#f7f7f7"
            ],
            [
             0.6,
             "#e6f5d0"
            ],
            [
             0.7,
             "#b8e186"
            ],
            [
             0.8,
             "#7fbc41"
            ],
            [
             0.9,
             "#4d9221"
            ],
            [
             1,
             "#276419"
            ]
           ],
           "sequential": [
            [
             0,
             "#0d0887"
            ],
            [
             0.1111111111111111,
             "#46039f"
            ],
            [
             0.2222222222222222,
             "#7201a8"
            ],
            [
             0.3333333333333333,
             "#9c179e"
            ],
            [
             0.4444444444444444,
             "#bd3786"
            ],
            [
             0.5555555555555556,
             "#d8576b"
            ],
            [
             0.6666666666666666,
             "#ed7953"
            ],
            [
             0.7777777777777778,
             "#fb9f3a"
            ],
            [
             0.8888888888888888,
             "#fdca26"
            ],
            [
             1,
             "#f0f921"
            ]
           ],
           "sequentialminus": [
            [
             0,
             "#0d0887"
            ],
            [
             0.1111111111111111,
             "#46039f"
            ],
            [
             0.2222222222222222,
             "#7201a8"
            ],
            [
             0.3333333333333333,
             "#9c179e"
            ],
            [
             0.4444444444444444,
             "#bd3786"
            ],
            [
             0.5555555555555556,
             "#d8576b"
            ],
            [
             0.6666666666666666,
             "#ed7953"
            ],
            [
             0.7777777777777778,
             "#fb9f3a"
            ],
            [
             0.8888888888888888,
             "#fdca26"
            ],
            [
             1,
             "#f0f921"
            ]
           ]
          },
          "colorway": [
           "#636efa",
           "#EF553B",
           "#00cc96",
           "#ab63fa",
           "#FFA15A",
           "#19d3f3",
           "#FF6692",
           "#B6E880",
           "#FF97FF",
           "#FECB52"
          ],
          "font": {
           "color": "#2a3f5f"
          },
          "geo": {
           "bgcolor": "white",
           "lakecolor": "white",
           "landcolor": "#E5ECF6",
           "showlakes": true,
           "showland": true,
           "subunitcolor": "white"
          },
          "hoverlabel": {
           "align": "left"
          },
          "hovermode": "closest",
          "mapbox": {
           "style": "light"
          },
          "paper_bgcolor": "white",
          "plot_bgcolor": "#E5ECF6",
          "polar": {
           "angularaxis": {
            "gridcolor": "white",
            "linecolor": "white",
            "ticks": ""
           },
           "bgcolor": "#E5ECF6",
           "radialaxis": {
            "gridcolor": "white",
            "linecolor": "white",
            "ticks": ""
           }
          },
          "scene": {
           "xaxis": {
            "backgroundcolor": "#E5ECF6",
            "gridcolor": "white",
            "gridwidth": 2,
            "linecolor": "white",
            "showbackground": true,
            "ticks": "",
            "zerolinecolor": "white"
           },
           "yaxis": {
            "backgroundcolor": "#E5ECF6",
            "gridcolor": "white",
            "gridwidth": 2,
            "linecolor": "white",
            "showbackground": true,
            "ticks": "",
            "zerolinecolor": "white"
           },
           "zaxis": {
            "backgroundcolor": "#E5ECF6",
            "gridcolor": "white",
            "gridwidth": 2,
            "linecolor": "white",
            "showbackground": true,
            "ticks": "",
            "zerolinecolor": "white"
           }
          },
          "shapedefaults": {
           "line": {
            "color": "#2a3f5f"
           }
          },
          "ternary": {
           "aaxis": {
            "gridcolor": "white",
            "linecolor": "white",
            "ticks": ""
           },
           "baxis": {
            "gridcolor": "white",
            "linecolor": "white",
            "ticks": ""
           },
           "bgcolor": "#E5ECF6",
           "caxis": {
            "gridcolor": "white",
            "linecolor": "white",
            "ticks": ""
           }
          },
          "title": {
           "x": 0.05
          },
          "xaxis": {
           "automargin": true,
           "gridcolor": "white",
           "linecolor": "white",
           "ticks": "",
           "title": {
            "standoff": 15
           },
           "zerolinecolor": "white",
           "zerolinewidth": 2
          },
          "yaxis": {
           "automargin": true,
           "gridcolor": "white",
           "linecolor": "white",
           "ticks": "",
           "title": {
            "standoff": 15
           },
           "zerolinecolor": "white",
           "zerolinewidth": 2
          }
         }
        },
        "title": {
         "text": "3D Projection of Data with PCA Components"
        }
       }
      },
      "text/html": [
       "<div>                            <div id=\"beb2c21d-5b5b-4f7d-9a04-a7b5298bf83e\" class=\"plotly-graph-div\" style=\"height:525px; width:100%;\"></div>            <script type=\"text/javascript\">                require([\"plotly\"], function(Plotly) {                    window.PLOTLYENV=window.PLOTLYENV || {};                                    if (document.getElementById(\"beb2c21d-5b5b-4f7d-9a04-a7b5298bf83e\")) {                    Plotly.newPlot(                        \"beb2c21d-5b5b-4f7d-9a04-a7b5298bf83e\",                        [{\"marker\":{\"color\":[0,1,2,3,4,5,6,7,8,9,10,11,12,13,14,15,16,17,18,19,20,21,22,23,24,25,26,27,28,29,30,31,32,33,34,35,36,37,38,39,40,41,42,43,44,45,46,47,48,49,50,51,52,53,54,55,56,57,58,59,60,61,62,63,64,65,66,67,68,69,70,71,72,73,74,75,76,77,78,79,80,81,82,83,84,85,86,87,88,89,90,91,92,93,94,95,96,97,98,99,100,101,102,103,104,105,106,107,108,109,110,111,112,113,114,115,116,117,118,119,120,121,122,123,124,125,126,127,128,129,130,131,132,133,134,135,136,137,138],\"colorscale\":[[0.0,\"#440154\"],[0.1111111111111111,\"#482878\"],[0.2222222222222222,\"#3e4989\"],[0.3333333333333333,\"#31688e\"],[0.4444444444444444,\"#26828e\"],[0.5555555555555556,\"#1f9e89\"],[0.6666666666666666,\"#35b779\"],[0.7777777777777778,\"#6ece58\"],[0.8888888888888888,\"#b5de2b\"],[1.0,\"#fde725\"]],\"opacity\":0.8,\"size\":6},\"mode\":\"markers\",\"text\":[\"Point 0\",\"Point 1\",\"Point 2\",\"Point 3\",\"Point 4\",\"Point 5\",\"Point 6\",\"Point 7\",\"Point 8\",\"Point 9\",\"Point 10\",\"Point 11\",\"Point 12\",\"Point 13\",\"Point 14\",\"Point 15\",\"Point 16\",\"Point 17\",\"Point 18\",\"Point 19\",\"Point 20\",\"Point 21\",\"Point 22\",\"Point 23\",\"Point 24\",\"Point 25\",\"Point 26\",\"Point 27\",\"Point 28\",\"Point 29\",\"Point 30\",\"Point 31\",\"Point 32\",\"Point 33\",\"Point 34\",\"Point 35\",\"Point 36\",\"Point 37\",\"Point 38\",\"Point 39\",\"Point 40\",\"Point 41\",\"Point 42\",\"Point 43\",\"Point 44\",\"Point 45\",\"Point 46\",\"Point 47\",\"Point 48\",\"Point 49\",\"Point 50\",\"Point 51\",\"Point 52\",\"Point 53\",\"Point 54\",\"Point 55\",\"Point 56\",\"Point 57\",\"Point 58\",\"Point 59\",\"Point 60\",\"Point 61\",\"Point 62\",\"Point 63\",\"Point 64\",\"Point 65\",\"Point 66\",\"Point 67\",\"Point 68\",\"Point 69\",\"Point 70\",\"Point 71\",\"Point 72\",\"Point 73\",\"Point 74\",\"Point 75\",\"Point 76\",\"Point 77\",\"Point 78\",\"Point 79\",\"Point 80\",\"Point 81\",\"Point 82\",\"Point 83\",\"Point 84\",\"Point 85\",\"Point 86\",\"Point 87\",\"Point 88\",\"Point 89\",\"Point 90\",\"Point 91\",\"Point 92\",\"Point 93\",\"Point 94\",\"Point 95\",\"Point 96\",\"Point 97\",\"Point 98\",\"Point 99\",\"Point 100\",\"Point 101\",\"Point 102\",\"Point 103\",\"Point 104\",\"Point 105\",\"Point 106\",\"Point 107\",\"Point 108\",\"Point 109\",\"Point 110\",\"Point 111\",\"Point 112\",\"Point 113\",\"Point 114\",\"Point 115\",\"Point 116\",\"Point 117\",\"Point 118\",\"Point 119\",\"Point 120\",\"Point 121\",\"Point 122\",\"Point 123\",\"Point 124\",\"Point 125\",\"Point 126\",\"Point 127\",\"Point 128\",\"Point 129\",\"Point 130\",\"Point 131\",\"Point 132\",\"Point 133\",\"Point 134\",\"Point 135\",\"Point 136\",\"Point 137\",\"Point 138\"],\"x\":[0.28866818049335474,0.29537676491593107,0.32431953096558036,0.32512150718521604,0.30655977015898267,0.3136760684797966,0.3247248732892557,0.3004795100702499,0.322897741620379,0.3202097340555086,0.30718451255037044,0.2993658789300758,0.2702211804668639,0.2771804901025726,-3.261058701979883,0.31678151924939785,0.3120885801433754,0.342204814960329,0.3253518730661823,0.29254808189946657,0.2849189381358191,0.2805880427871134,0.3432961706816033,0.28240258910774557,0.295464837430589,0.29074250778378635,0.32617224356407803,0.3197432355798938,0.28308939366154046,0.3012621269814672,0.2862872083945851,0.29567770422620454,-3.2599826970509254,0.27404869650233443,0.29133409775252195,0.2677965478300362,-3.273786229106149,0.27857402516823365,0.3189355262567581,0.2776154687173466,0.3086042585429958,0.29288916444793694,0.3213491252214163,0.2632888494994831,0.3000379720513537,0.36300402144677313,0.3073441136947504,0.2799503588319006,-3.2431125925475563,0.2996479290416434,0.3129578095152238,0.29935312766808614,0.296703459665993,0.303422561853953,0.34951312165305204,0.31140637164855106,0.31033149418821415,0.3063613481525166,0.32640591024999055,0.28049809415955324,0.31120459828909003,0.2928689825328062,-3.2342097978662445,0.3143435873526649,0.3067629296208715,0.3159341962464154,-3.228524891849712,-3.2552649757795846,0.2999486337831292,0.29972173932185725,0.34425276075045014,0.28666613346080755,0.31633981064650835,0.31914931902559046,0.3108141490952433,0.3221135032746434,0.32414334414192203,0.2846226421655198,0.3141832359704475,0.3127874143784058,0.3284831510811494,0.3028797123048826,0.2958167802884381,0.285979318304347,0.2985561374372745,0.29422838273488705,0.2823908806137337,0.30065625674372176,0.27556718944440356,0.31562584816220524,0.3176613589097006,0.3165925011063943,0.3098040048028987,0.3048918807104084,0.31036561142838215,-3.221849941061037,0.29315064415593284,0.3083914499649362,0.3208236479642132,0.31679227274272403,-3.269419966761454,0.3688186437211964,0.30200504735695405,0.2900669769199481,-3.2723397799298732,0.28762558759617896,0.317628634885276,0.3178213230946248,0.2962394696477088,0.31416866726955944,0.3153689498567605,0.31905336495045916,0.312539144197205,0.295075870943413,0.29210320120021616,0.2965474336728397,0.2914368277941339,0.3149829555985958,0.3229462391904363,-3.2309867989136474,0.30609470923422705,0.3205990656227858,0.2963026330078592,0.3186355310845662,0.2946511859486603,0.31361489791802943,0.2963725515447235,-3.2570044737494146,0.28104907433386,0.31138057882068565,0.32335439567132157,0.3249077099732641,0.31299841926159766,0.3103814868917453,0.2716329636469403,0.31259205032489507,0.30533010852128367,0.3278170379899447,0.2802648037175986],\"y\":[-1.0675406858691538,0.8810633896011816,-1.0808545906197777,0.9279427175530678,0.9407921535962525,0.9075786802779904,0.9378596761555763,-1.103226221807967,0.9345429140156953,0.9165957102992288,-1.0568355482486258,0.9229805893779608,-1.0816543636694658,-1.088989426005891,0.9156872570333685,-1.114770229965172,0.9339067061324183,-1.088577025106161,0.9110350261615843,0.954564985988185,-1.103309573020585,0.9136896790643623,-1.0846452038829733,-1.0895905226126965,-1.0967217952570467,-1.0992040279262616,-1.0807132031254023,0.9084538756043823,0.9280276087841279,-1.0664462652804743,-1.0617580661777863,-1.0608273026411996,-1.0717460965992869,0.9120164902278866,0.9204447055539215,0.9555852018273008,0.9401433685576708,-1.0771939286089292,-1.0525883019820395,0.9165619364170382,0.9267594316194784,-1.0750789300642913,-1.0486269112386701,0.9061731321240595,-1.0750892077471916,0.9256813274178292,-1.0819176651364908,0.9101313154355696,-1.0399952044224787,0.9533626238577746,0.9323502331055201,0.9230259690339031,-1.073108863595253,-1.0716637228874255,0.909931313740949,0.9319361364217202,-1.0693985371761303,0.9332415124050832,0.9366933247630282,0.9354702339763571,-1.0621788421828002,0.9204578841948037,-1.0678342449296336,-1.0827107214250762,0.9470556064259884,0.9659360759454841,-1.0706111095934465,-1.092467059923141,0.9388108506025993,0.9671759222683556,0.9116142895093042,-1.059870045246563,0.9144337421799537,0.9090363862890986,0.9205372819542829,-1.0938073316318069,0.9238378804311067,0.9199367761195533,0.9218759871019991,0.9411990323052803,0.9267696620954169,0.8951892623670447,0.9306909859638917,0.919111857942245,0.9334175187634164,-1.0588614764810134,-1.078067627881706,-1.0775966020562775,0.912354484488137,0.9096333627615643,-1.1171286092929504,0.8985341024061052,0.9287884722983033,-1.0748505153307435,-1.083535315244751,-1.0721051175497616,0.9387056184379889,0.9550362309470201,0.9342230894332894,-1.0701425291721995,-1.070210010266127,-1.053119804174914,0.9214803671002311,0.917249460012842,0.9494382904038345,-1.0848907691821326,-1.1061589411714108,-1.0896956764958672,0.9178544448053263,0.9483055091361337,0.9355525659196522,0.9285781917865611,0.9129448738397132,0.9229066593397385,-1.0755687871133148,0.9307216929740637,-1.094164747042572,0.9422503453597887,0.9170028074017714,-1.0830692355609404,-1.0613965810625106,0.9219382919131222,-1.0658151321765998,-1.0883036204417031,0.9364856509164122,-1.0604694985538194,-1.1036281143193063,-1.082152212962446,-1.0961968820656514,0.9295248267838477,-1.0843510725748566,-1.0995406797115501,-1.0820091343986395,0.927577177796206,-1.0839929432732378,-1.0724700392290138,0.9627167345421114,-1.0906486348514728,0.9319801379563669],\"z\":[1.4504755507923603,-0.7025410093374025,-0.7064700282648169,1.457418383889344,-0.7108952880497355,1.4255002293734529,-0.7220154554778876,1.422344299461505,-0.6617789072423531,-0.7003117071230683,-0.6925519212704477,1.4083998472715897,-0.7060852515459445,-0.7255794255736836,-0.6890477633654123,-0.7115249610015251,1.4318779150087793,-0.6960948535099911,1.449756146318659,-0.7285667008222728,-0.6788166701965288,1.4302366059646963,-0.692456946852941,-0.7150321885532193,-0.7050216402668195,-0.7055818520629314,1.409950996919699,-0.686393529967085,-0.6898515323205624,-0.7066837775501336,1.4225242192785805,-0.7041340053990263,1.4113275894961796,-0.699364606856409,-0.7165329825485571,-0.7308042835343442,1.4307997618366965,1.3866826454105305,-0.7368307029089798,-0.6801068050202249,1.426235785754401,-0.7119559903001422,-0.7079521528808734,-0.7071835141781261,1.4050499328644708,-0.6982838228749629,-0.650538969194234,-0.7065682443203897,1.4112501252109,1.4410985575488546,-0.7065399548070845,-0.7205054097457065,1.4181516282768651,-0.7272423398278448,-0.6853633713464682,1.3978007482946722,1.4065410526336175,1.4194251417461345,1.4349804935643915,1.38454951461101,1.4310845915776043,-0.7064627121557658,1.4368585497611825,1.3905948273543016,1.41721453873169,-0.695720193762052,1.4033934575907128,-0.7178517760495702,1.43874160009097,1.4066109879474444,1.4086758604709066,-0.7142521202782575,-0.6985741533773516,-0.7059141546118496,-0.6967157894297908,-0.7052426172522752,-0.7236832342656929,-0.6901247542099468,-0.704570458426231,1.432970348400519,-0.7000054853135907,-0.6981315013874545,-0.7296517923673324,-0.708312324756435,1.43950357185384,-0.6912772916040345,-0.6567091653343412,-0.690713096409648,-0.6906174112445809,1.3740075568403534,-0.7040534190640343,-0.7044005608554942,1.4392185255638363,1.4310317408412638,-0.6870453258887332,-0.6894613244227659,-0.71343276339164,-0.7192995554461805,-0.684976205814304,-0.6975003519779798,-0.7116454986185736,1.4253303893818063,1.4305723902441811,1.414454331947516,-0.712069874765045,1.4096432677000634,-0.6804116096713368,-0.7220659199912413,1.4157044008932347,-0.7018656031730629,-0.7123003921409204,-0.699354926584618,-0.7085094154732864,-0.6954560626667177,-0.6882133909475243,1.4612869999414553,-0.6918580564102254,-0.7005508567432248,-0.7099512048083406,-0.6961036546484153,-0.7015043161329904,1.403111569589054,-0.6978958470512145,1.3902397847910273,-0.7210726156770032,-0.6742532125901461,1.4055280383999704,-0.7000981833591697,-0.7282875683390452,-0.7133444354629077,-0.7078890455422622,-0.70012717173393,-0.7288544912932394,-0.7225562965972848,-0.7078275433889961,-0.7169145279978447,1.4213000247359742,-0.7071891079694173,-0.7329607687715997],\"type\":\"scatter3d\"}],                        {\"scene\":{\"xaxis\":{\"title\":{\"text\":\"PCA 1\"}},\"yaxis\":{\"title\":{\"text\":\"PCA 2\"}},\"zaxis\":{\"title\":{\"text\":\"PCA 3\"}}},\"title\":{\"text\":\"3D Projection of Data with PCA Components\"},\"template\":{\"data\":{\"histogram2dcontour\":[{\"type\":\"histogram2dcontour\",\"colorbar\":{\"outlinewidth\":0,\"ticks\":\"\"},\"colorscale\":[[0.0,\"#0d0887\"],[0.1111111111111111,\"#46039f\"],[0.2222222222222222,\"#7201a8\"],[0.3333333333333333,\"#9c179e\"],[0.4444444444444444,\"#bd3786\"],[0.5555555555555556,\"#d8576b\"],[0.6666666666666666,\"#ed7953\"],[0.7777777777777778,\"#fb9f3a\"],[0.8888888888888888,\"#fdca26\"],[1.0,\"#f0f921\"]]}],\"choropleth\":[{\"type\":\"choropleth\",\"colorbar\":{\"outlinewidth\":0,\"ticks\":\"\"}}],\"histogram2d\":[{\"type\":\"histogram2d\",\"colorbar\":{\"outlinewidth\":0,\"ticks\":\"\"},\"colorscale\":[[0.0,\"#0d0887\"],[0.1111111111111111,\"#46039f\"],[0.2222222222222222,\"#7201a8\"],[0.3333333333333333,\"#9c179e\"],[0.4444444444444444,\"#bd3786\"],[0.5555555555555556,\"#d8576b\"],[0.6666666666666666,\"#ed7953\"],[0.7777777777777778,\"#fb9f3a\"],[0.8888888888888888,\"#fdca26\"],[1.0,\"#f0f921\"]]}],\"heatmap\":[{\"type\":\"heatmap\",\"colorbar\":{\"outlinewidth\":0,\"ticks\":\"\"},\"colorscale\":[[0.0,\"#0d0887\"],[0.1111111111111111,\"#46039f\"],[0.2222222222222222,\"#7201a8\"],[0.3333333333333333,\"#9c179e\"],[0.4444444444444444,\"#bd3786\"],[0.5555555555555556,\"#d8576b\"],[0.6666666666666666,\"#ed7953\"],[0.7777777777777778,\"#fb9f3a\"],[0.8888888888888888,\"#fdca26\"],[1.0,\"#f0f921\"]]}],\"heatmapgl\":[{\"type\":\"heatmapgl\",\"colorbar\":{\"outlinewidth\":0,\"ticks\":\"\"},\"colorscale\":[[0.0,\"#0d0887\"],[0.1111111111111111,\"#46039f\"],[0.2222222222222222,\"#7201a8\"],[0.3333333333333333,\"#9c179e\"],[0.4444444444444444,\"#bd3786\"],[0.5555555555555556,\"#d8576b\"],[0.6666666666666666,\"#ed7953\"],[0.7777777777777778,\"#fb9f3a\"],[0.8888888888888888,\"#fdca26\"],[1.0,\"#f0f921\"]]}],\"contourcarpet\":[{\"type\":\"contourcarpet\",\"colorbar\":{\"outlinewidth\":0,\"ticks\":\"\"}}],\"contour\":[{\"type\":\"contour\",\"colorbar\":{\"outlinewidth\":0,\"ticks\":\"\"},\"colorscale\":[[0.0,\"#0d0887\"],[0.1111111111111111,\"#46039f\"],[0.2222222222222222,\"#7201a8\"],[0.3333333333333333,\"#9c179e\"],[0.4444444444444444,\"#bd3786\"],[0.5555555555555556,\"#d8576b\"],[0.6666666666666666,\"#ed7953\"],[0.7777777777777778,\"#fb9f3a\"],[0.8888888888888888,\"#fdca26\"],[1.0,\"#f0f921\"]]}],\"surface\":[{\"type\":\"surface\",\"colorbar\":{\"outlinewidth\":0,\"ticks\":\"\"},\"colorscale\":[[0.0,\"#0d0887\"],[0.1111111111111111,\"#46039f\"],[0.2222222222222222,\"#7201a8\"],[0.3333333333333333,\"#9c179e\"],[0.4444444444444444,\"#bd3786\"],[0.5555555555555556,\"#d8576b\"],[0.6666666666666666,\"#ed7953\"],[0.7777777777777778,\"#fb9f3a\"],[0.8888888888888888,\"#fdca26\"],[1.0,\"#f0f921\"]]}],\"mesh3d\":[{\"type\":\"mesh3d\",\"colorbar\":{\"outlinewidth\":0,\"ticks\":\"\"}}],\"scatter\":[{\"fillpattern\":{\"fillmode\":\"overlay\",\"size\":10,\"solidity\":0.2},\"type\":\"scatter\"}],\"parcoords\":[{\"type\":\"parcoords\",\"line\":{\"colorbar\":{\"outlinewidth\":0,\"ticks\":\"\"}}}],\"scatterpolargl\":[{\"type\":\"scatterpolargl\",\"marker\":{\"colorbar\":{\"outlinewidth\":0,\"ticks\":\"\"}}}],\"bar\":[{\"error_x\":{\"color\":\"#2a3f5f\"},\"error_y\":{\"color\":\"#2a3f5f\"},\"marker\":{\"line\":{\"color\":\"#E5ECF6\",\"width\":0.5},\"pattern\":{\"fillmode\":\"overlay\",\"size\":10,\"solidity\":0.2}},\"type\":\"bar\"}],\"scattergeo\":[{\"type\":\"scattergeo\",\"marker\":{\"colorbar\":{\"outlinewidth\":0,\"ticks\":\"\"}}}],\"scatterpolar\":[{\"type\":\"scatterpolar\",\"marker\":{\"colorbar\":{\"outlinewidth\":0,\"ticks\":\"\"}}}],\"histogram\":[{\"marker\":{\"pattern\":{\"fillmode\":\"overlay\",\"size\":10,\"solidity\":0.2}},\"type\":\"histogram\"}],\"scattergl\":[{\"type\":\"scattergl\",\"marker\":{\"colorbar\":{\"outlinewidth\":0,\"ticks\":\"\"}}}],\"scatter3d\":[{\"type\":\"scatter3d\",\"line\":{\"colorbar\":{\"outlinewidth\":0,\"ticks\":\"\"}},\"marker\":{\"colorbar\":{\"outlinewidth\":0,\"ticks\":\"\"}}}],\"scattermapbox\":[{\"type\":\"scattermapbox\",\"marker\":{\"colorbar\":{\"outlinewidth\":0,\"ticks\":\"\"}}}],\"scatterternary\":[{\"type\":\"scatterternary\",\"marker\":{\"colorbar\":{\"outlinewidth\":0,\"ticks\":\"\"}}}],\"scattercarpet\":[{\"type\":\"scattercarpet\",\"marker\":{\"colorbar\":{\"outlinewidth\":0,\"ticks\":\"\"}}}],\"carpet\":[{\"aaxis\":{\"endlinecolor\":\"#2a3f5f\",\"gridcolor\":\"white\",\"linecolor\":\"white\",\"minorgridcolor\":\"white\",\"startlinecolor\":\"#2a3f5f\"},\"baxis\":{\"endlinecolor\":\"#2a3f5f\",\"gridcolor\":\"white\",\"linecolor\":\"white\",\"minorgridcolor\":\"white\",\"startlinecolor\":\"#2a3f5f\"},\"type\":\"carpet\"}],\"table\":[{\"cells\":{\"fill\":{\"color\":\"#EBF0F8\"},\"line\":{\"color\":\"white\"}},\"header\":{\"fill\":{\"color\":\"#C8D4E3\"},\"line\":{\"color\":\"white\"}},\"type\":\"table\"}],\"barpolar\":[{\"marker\":{\"line\":{\"color\":\"#E5ECF6\",\"width\":0.5},\"pattern\":{\"fillmode\":\"overlay\",\"size\":10,\"solidity\":0.2}},\"type\":\"barpolar\"}],\"pie\":[{\"automargin\":true,\"type\":\"pie\"}]},\"layout\":{\"autotypenumbers\":\"strict\",\"colorway\":[\"#636efa\",\"#EF553B\",\"#00cc96\",\"#ab63fa\",\"#FFA15A\",\"#19d3f3\",\"#FF6692\",\"#B6E880\",\"#FF97FF\",\"#FECB52\"],\"font\":{\"color\":\"#2a3f5f\"},\"hovermode\":\"closest\",\"hoverlabel\":{\"align\":\"left\"},\"paper_bgcolor\":\"white\",\"plot_bgcolor\":\"#E5ECF6\",\"polar\":{\"bgcolor\":\"#E5ECF6\",\"angularaxis\":{\"gridcolor\":\"white\",\"linecolor\":\"white\",\"ticks\":\"\"},\"radialaxis\":{\"gridcolor\":\"white\",\"linecolor\":\"white\",\"ticks\":\"\"}},\"ternary\":{\"bgcolor\":\"#E5ECF6\",\"aaxis\":{\"gridcolor\":\"white\",\"linecolor\":\"white\",\"ticks\":\"\"},\"baxis\":{\"gridcolor\":\"white\",\"linecolor\":\"white\",\"ticks\":\"\"},\"caxis\":{\"gridcolor\":\"white\",\"linecolor\":\"white\",\"ticks\":\"\"}},\"coloraxis\":{\"colorbar\":{\"outlinewidth\":0,\"ticks\":\"\"}},\"colorscale\":{\"sequential\":[[0.0,\"#0d0887\"],[0.1111111111111111,\"#46039f\"],[0.2222222222222222,\"#7201a8\"],[0.3333333333333333,\"#9c179e\"],[0.4444444444444444,\"#bd3786\"],[0.5555555555555556,\"#d8576b\"],[0.6666666666666666,\"#ed7953\"],[0.7777777777777778,\"#fb9f3a\"],[0.8888888888888888,\"#fdca26\"],[1.0,\"#f0f921\"]],\"sequentialminus\":[[0.0,\"#0d0887\"],[0.1111111111111111,\"#46039f\"],[0.2222222222222222,\"#7201a8\"],[0.3333333333333333,\"#9c179e\"],[0.4444444444444444,\"#bd3786\"],[0.5555555555555556,\"#d8576b\"],[0.6666666666666666,\"#ed7953\"],[0.7777777777777778,\"#fb9f3a\"],[0.8888888888888888,\"#fdca26\"],[1.0,\"#f0f921\"]],\"diverging\":[[0,\"#8e0152\"],[0.1,\"#c51b7d\"],[0.2,\"#de77ae\"],[0.3,\"#f1b6da\"],[0.4,\"#fde0ef\"],[0.5,\"#f7f7f7\"],[0.6,\"#e6f5d0\"],[0.7,\"#b8e186\"],[0.8,\"#7fbc41\"],[0.9,\"#4d9221\"],[1,\"#276419\"]]},\"xaxis\":{\"gridcolor\":\"white\",\"linecolor\":\"white\",\"ticks\":\"\",\"title\":{\"standoff\":15},\"zerolinecolor\":\"white\",\"automargin\":true,\"zerolinewidth\":2},\"yaxis\":{\"gridcolor\":\"white\",\"linecolor\":\"white\",\"ticks\":\"\",\"title\":{\"standoff\":15},\"zerolinecolor\":\"white\",\"automargin\":true,\"zerolinewidth\":2},\"scene\":{\"xaxis\":{\"backgroundcolor\":\"#E5ECF6\",\"gridcolor\":\"white\",\"linecolor\":\"white\",\"showbackground\":true,\"ticks\":\"\",\"zerolinecolor\":\"white\",\"gridwidth\":2},\"yaxis\":{\"backgroundcolor\":\"#E5ECF6\",\"gridcolor\":\"white\",\"linecolor\":\"white\",\"showbackground\":true,\"ticks\":\"\",\"zerolinecolor\":\"white\",\"gridwidth\":2},\"zaxis\":{\"backgroundcolor\":\"#E5ECF6\",\"gridcolor\":\"white\",\"linecolor\":\"white\",\"showbackground\":true,\"ticks\":\"\",\"zerolinecolor\":\"white\",\"gridwidth\":2}},\"shapedefaults\":{\"line\":{\"color\":\"#2a3f5f\"}},\"annotationdefaults\":{\"arrowcolor\":\"#2a3f5f\",\"arrowhead\":0,\"arrowwidth\":1},\"geo\":{\"bgcolor\":\"white\",\"landcolor\":\"#E5ECF6\",\"subunitcolor\":\"white\",\"showland\":true,\"showlakes\":true,\"lakecolor\":\"white\"},\"title\":{\"x\":0.05},\"mapbox\":{\"style\":\"light\"}}}},                        {\"responsive\": true}                    ).then(function(){\n",
       "                            \n",
       "var gd = document.getElementById('beb2c21d-5b5b-4f7d-9a04-a7b5298bf83e');\n",
       "var x = new MutationObserver(function (mutations, observer) {{\n",
       "        var display = window.getComputedStyle(gd).display;\n",
       "        if (!display || display === 'none') {{\n",
       "            console.log([gd, 'removed!']);\n",
       "            Plotly.purge(gd);\n",
       "            observer.disconnect();\n",
       "        }}\n",
       "}});\n",
       "\n",
       "// Listen for the removal of the full notebook cells\n",
       "var notebookContainer = gd.closest('#notebook-container');\n",
       "if (notebookContainer) {{\n",
       "    x.observe(notebookContainer, {childList: true});\n",
       "}}\n",
       "\n",
       "// Listen for the clearing of the current output cell\n",
       "var outputEl = gd.closest('.output');\n",
       "if (outputEl) {{\n",
       "    x.observe(outputEl, {childList: true});\n",
       "}}\n",
       "\n",
       "                        })                };                });            </script>        </div>"
      ]
     },
     "metadata": {},
     "output_type": "display_data"
    },
    {
     "data": {
      "text/html": [
       "\n",
       "        <iframe\n",
       "            width=\"800\"\n",
       "            height=\"600\"\n",
       "            src=\"PCA_3d_interactive.html\"\n",
       "            frameborder=\"0\"\n",
       "            allowfullscreen\n",
       "            \n",
       "        ></iframe>\n",
       "        "
      ],
      "text/plain": [
       "<IPython.lib.display.IFrame at 0x169872010>"
      ]
     },
     "execution_count": 118,
     "metadata": {},
     "output_type": "execute_result"
    }
   ],
   "source": [
    "jitter = 0.01 * np.random.randn(*X.shape)\n",
    "X += jitter\n",
    "\n",
    "scatter_3d = go.Scatter3d(\n",
    "    x=X[:, 0],\n",
    "    y=X[:, 1],\n",
    "    z=X[:, 2],\n",
    "    mode='markers',\n",
    "    marker=dict(\n",
    "        size=6,\n",
    "        color=np.arange(len(X)),  \n",
    "        colorscale='Viridis',\n",
    "        opacity=0.8\n",
    "    ),\n",
    "    text=['Point {}'.format(i) for i in range(len(X))],  \n",
    ")\n",
    "\n",
    "layout_3d = go.Layout(\n",
    "    title='3D Projection of Data with PCA Components',\n",
    "    scene=dict(\n",
    "        xaxis=dict(title='PCA 1'),\n",
    "        yaxis=dict(title='PCA 2'),\n",
    "        zaxis=dict(title='PCA 3'),\n",
    "    ),\n",
    ")\n",
    "\n",
    "fig_3d = go.Figure(data=[scatter_3d], layout=layout_3d)\n",
    "\n",
    "pio.renderers.default = \"plotly_mimetype+notebook_connected\"\n",
    "plotly.offline.plot(fig_3d, filename='PCA_3d_interactive.html')\n",
    "\n",
    "IFrame(src='PCA_3d_interactive.html', width=800, height=600)\n"
   ]
  },
  {
   "cell_type": "markdown",
   "metadata": {},
   "source": [
    "#### Most Frequently Used Prevention Measures"
   ]
  },
  {
   "cell_type": "code",
   "execution_count": 82,
   "metadata": {},
   "outputs": [
    {
     "name": "stderr",
     "output_type": "stream",
     "text": [
      "/Users/reneedemaio/anaconda3/lib/python3.11/site-packages/seaborn/_oldcore.py:1498: FutureWarning: is_categorical_dtype is deprecated and will be removed in a future version. Use isinstance(dtype, CategoricalDtype) instead\n",
      "  if pd.api.types.is_categorical_dtype(vector):\n",
      "/Users/reneedemaio/anaconda3/lib/python3.11/site-packages/seaborn/_oldcore.py:1498: FutureWarning: is_categorical_dtype is deprecated and will be removed in a future version. Use isinstance(dtype, CategoricalDtype) instead\n",
      "  if pd.api.types.is_categorical_dtype(vector):\n",
      "/Users/reneedemaio/anaconda3/lib/python3.11/site-packages/seaborn/_oldcore.py:1498: FutureWarning: is_categorical_dtype is deprecated and will be removed in a future version. Use isinstance(dtype, CategoricalDtype) instead\n",
      "  if pd.api.types.is_categorical_dtype(vector):\n"
     ]
    },
    {
     "data": {
      "image/png": "[encoded data removed]",
      "text/plain": [
       "<Figure size 640x480 with 1 Axes>"
      ]
     },
     "metadata": {},
     "output_type": "display_data"
    }
   ],
   "source": [
    "import seaborn as sns\n",
    "import matplotlib.pyplot as plt\n",
    "\n",
    "pm_counts = si_subset.sum()\n",
    "pm_counts = pm_counts.sort_values(ascending=False)\n",
    "\n",
    "sns.barplot(x=pm_counts.index, y=pm_counts.values, color='skyblue')\n",
    "plt.title('Prevention Measures Counts')\n",
    "plt.xlabel('Prevention Measures')\n",
    "plt.ylabel('Count')\n",
    "plt.xticks(rotation=45, ha='right')  \n",
    "plt.tight_layout()"
   ]
  },
  {
   "cell_type": "markdown",
   "metadata": {},
   "source": [
    "## Dimensionality Reduction with t-SNE \n",
    "\n",
    "In order to find the optimal parameter for t-SNE, we can test out multiple values of perplexity. In the following code, I test the following values of perplexity: 5, 10, 30, 50, and 100. In order to explore what effect different values of perplexity have, I, again, utilize interactive graphs. "
   ]
  },
  {
   "cell_type": "markdown",
   "metadata": {},
   "source": [
    "#### Perplexity = 5"
   ]
  },
  {
   "cell_type": "code",
   "execution_count": 113,
   "metadata": {},
   "outputs": [
    {
     "name": "stdout",
     "output_type": "stream",
     "text": [
      "RESULTS\n",
      "shape :  (139, 2)\n",
      "First few points : \n",
      " [[-41.897953  27.206026]\n",
      " [ 29.91853   25.520626]]\n"
     ]
    },
    {
     "data": {
      "text/html": [
       "        <script type=\"text/javascript\">\n",
       "        window.PlotlyConfig = {MathJaxConfig: 'local'};\n",
       "        if (window.MathJax && window.MathJax.Hub && window.MathJax.Hub.Config) {window.MathJax.Hub.Config({SVG: {font: \"STIX-Web\"}});}\n",
       "        if (typeof require !== 'undefined') {\n",
       "        require.undef(\"plotly\");\n",
       "        requirejs.config({\n",
       "            paths: {\n",
       "                'plotly': ['https://cdn.plot.ly/plotly-2.12.1.min']\n",
       "            }\n",
       "        });\n",
       "        require(['plotly'], function(Plotly) {\n",
       "            window._Plotly = Plotly;\n",
       "        });\n",
       "        }\n",
       "        </script>\n",
       "        "
      ]
     },
     "metadata": {},
     "output_type": "display_data"
    },
    {
     "data": {
      "application/vnd.plotly.v1+json": {
       "config": {
        "plotlyServerURL": "https://plot.ly"
       },
       "data": [
        {
         "customdata": [
          [
           1,
           0,
           1,
           0,
           0,
           0,
           0,
           0
          ],
          [
           1,
           1,
           0,
           0,
           0,
           0,
           0,
           0
          ],
          [
           1,
           0,
           0,
           0,
           0,
           1,
           0,
           0
          ],
          [
           1,
           1,
           1,
           0,
           0,
           0,
           0,
           0
          ],
          [
           1,
           1,
           0,
           0,
           1,
           0,
           0,
           0
          ],
          [
           1,
           1,
           1,
           0,
           0,
           0,
           0,
           0
          ],
          [
           1,
           1,
           0,
           0,
           1,
           1,
           0,
           0
          ],
          [
           1,
           0,
           1,
           0,
           0,
           0,
           0,
           0
          ],
          [
           1,
           1,
           0,
           0,
           0,
           0,
           0,
           0
          ],
          [
           1,
           1,
           0,
           0,
           1,
           0,
           0,
           0
          ],
          [
           1,
           0,
           0,
           0,
           0,
           0,
           0,
           0
          ],
          [
           1,
           1,
           1,
           0,
           0,
           0,
           0,
           0
          ],
          [
           1,
           0,
           0,
           0,
           0,
           0,
           0,
           0
          ],
          [
           1,
           0,
           0,
           0,
           1,
           0,
           0,
           0
          ],
          [
           0,
           1,
           0,
           0,
           0,
           0,
           0,
           0
          ],
          [
           1,
           0,
           0,
           0,
           0,
           1,
           0,
           0
          ],
          [
           1,
           1,
           1,
           0,
           0,
           1,
           0,
           0
          ],
          [
           1,
           0,
           0,
           0,
           1,
           0,
           0,
           0
          ],
          [
           1,
           1,
           1,
           0,
           0,
           1,
           0,
           0
          ],
          [
           1,
           1,
           0,
           0,
           0,
           0,
           0,
           0
          ],
          [
           1,
           0,
           0,
           0,
           0,
           0,
           0,
           0
          ],
          [
           1,
           1,
           1,
           0,
           1,
           1,
           0,
           0
          ],
          [
           1,
           0,
           0,
           0,
           1,
           0,
           0,
           0
          ],
          [
           1,
           0,
           0,
           0,
           1,
           0,
           0,
           0
          ],
          [
           1,
           0,
           0,
           0,
           1,
           0,
           0,
           0
          ],
          [
           1,
           0,
           0,
           0,
           0,
           0,
           0,
           0
          ],
          [
           1,
           0,
           1,
           1,
           1,
           0,
           0,
           0
          ],
          [
           1,
           1,
           0,
           0,
           0,
           0,
           0,
           0
          ],
          [
           1,
           1,
           0,
           0,
           1,
           0,
           0,
           0
          ],
          [
           1,
           0,
           0,
           0,
           1,
           0,
           0,
           0
          ],
          [
           1,
           0,
           1,
           0,
           0,
           0,
           0,
           0
          ],
          [
           1,
           0,
           0,
           0,
           0,
           1,
           0,
           0
          ],
          [
           0,
           0,
           1,
           0,
           0,
           0,
           0,
           0
          ],
          [
           1,
           1,
           0,
           0,
           1,
           0,
           0,
           0
          ],
          [
           1,
           1,
           0,
           1,
           1,
           1,
           0,
           0
          ],
          [
           1,
           1,
           0,
           0,
           0,
           0,
           0,
           0
          ],
          [
           0,
           1,
           1,
           0,
           0,
           0,
           0,
           0
          ],
          [
           1,
           0,
           1,
           0,
           0,
           0,
           0,
           0
          ],
          [
           1,
           0,
           0,
           0,
           0,
           0,
           0,
           0
          ],
          [
           1,
           1,
           0,
           0,
           0,
           0,
           0,
           0
          ],
          [
           1,
           1,
           1,
           0,
           0,
           0,
           0,
           0
          ],
          [
           1,
           0,
           0,
           0,
           0,
           1,
           0,
           0
          ],
          [
           1,
           0,
           0,
           0,
           1,
           0,
           0,
           0
          ],
          [
           1,
           1,
           0,
           0,
           0,
           0,
           0,
           0
          ],
          [
           1,
           0,
           1,
           0,
           1,
           0,
           0,
           0
          ],
          [
           1,
           1,
           0,
           0,
           0,
           0,
           0,
           0
          ],
          [
           1,
           0,
           0,
           0,
           0,
           0,
           0,
           0
          ],
          [
           1,
           1,
           0,
           1,
           1,
           0,
           0,
           0
          ],
          [
           0,
           0,
           1,
           0,
           0,
           1,
           0,
           0
          ],
          [
           1,
           1,
           1,
           0,
           0,
           0,
           0,
           0
          ],
          [
           1,
           1,
           0,
           0,
           0,
           1,
           0,
           0
          ],
          [
           1,
           1,
           0,
           0,
           0,
           1,
           0,
           0
          ],
          [
           1,
           0,
           1,
           0,
           1,
           1,
           0,
           0
          ],
          [
           1,
           0,
           0,
           0,
           0,
           0,
           0,
           0
          ],
          [
           1,
           1,
           0,
           0,
           0,
           0,
           0,
           0
          ],
          [
           1,
           1,
           1,
           0,
           1,
           1,
           0,
           0
          ],
          [
           1,
           0,
           1,
           0,
           0,
           1,
           0,
           0
          ],
          [
           1,
           1,
           1,
           1,
           1,
           0,
           0,
           0
          ],
          [
           1,
           1,
           1,
           0,
           0,
           0,
           0,
           0
          ],
          [
           1,
           1,
           1,
           0,
           1,
           0,
           0,
           0
          ],
          [
           1,
           0,
           1,
           0,
           0,
           0,
           0,
           0
          ],
          [
           1,
           1,
           0,
           0,
           0,
           0,
           0,
           0
          ],
          [
           0,
           0,
           1,
           0,
           1,
           1,
           0,
           0
          ],
          [
           1,
           0,
           1,
           1,
           1,
           0,
           0,
           0
          ],
          [
           1,
           1,
           1,
           0,
           1,
           0,
           0,
           0
          ],
          [
           1,
           1,
           0,
           0,
           0,
           0,
           0,
           0
          ],
          [
           0,
           0,
           1,
           1,
           1,
           0,
           0,
           0
          ],
          [
           0,
           0,
           0,
           0,
           0,
           0,
           0,
           0
          ],
          [
           1,
           1,
           1,
           0,
           0,
           0,
           0,
           0
          ],
          [
           1,
           1,
           1,
           0,
           1,
           0,
           0,
           0
          ],
          [
           1,
           1,
           1,
           0,
           1,
           1,
           0,
           0
          ],
          [
           1,
           0,
           0,
           0,
           0,
           1,
           0,
           0
          ],
          [
           1,
           1,
           0,
           1,
           1,
           1,
           0,
           0
          ],
          [
           1,
           1,
           0,
           1,
           1,
           1,
           0,
           0
          ],
          [
           1,
           1,
           0,
           0,
           1,
           1,
           0,
           0
          ],
          [
           1,
           0,
           0,
           0,
           0,
           0,
           0,
           0
          ],
          [
           1,
           1,
           0,
           1,
           0,
           0,
           0,
           0
          ],
          [
           1,
           1,
           0,
           0,
           0,
           1,
           0,
           0
          ],
          [
           1,
           1,
           0,
           1,
           1,
           0,
           0,
           0
          ],
          [
           1,
           1,
           1,
           0,
           1,
           0,
           0,
           0
          ],
          [
           1,
           1,
           0,
           0,
           1,
           1,
           0,
           0
          ],
          [
           1,
           1,
           0,
           0,
           0,
           0,
           0,
           0
          ],
          [
           1,
           1,
           0,
           0,
           1,
           0,
           0,
           0
          ],
          [
           1,
           1,
           0,
           1,
           1,
           0,
           0,
           0
          ],
          [
           1,
           1,
           1,
           0,
           0,
           1,
           0,
           0
          ],
          [
           1,
           0,
           0,
           0,
           0,
           0,
           0,
           0
          ],
          [
           1,
           0,
           0,
           0,
           0,
           0,
           0,
           0
          ],
          [
           1,
           0,
           0,
           0,
           0,
           0,
           0,
           0
          ],
          [
           1,
           1,
           0,
           0,
           1,
           1,
           0,
           0
          ],
          [
           1,
           1,
           1,
           0,
           0,
           1,
           0,
           0
          ],
          [
           1,
           0,
           0,
           0,
           0,
           0,
           0,
           0
          ],
          [
           1,
           1,
           0,
           0,
           0,
           0,
           0,
           0
          ],
          [
           1,
           1,
           1,
           0,
           1,
           1,
           0,
           0
          ],
          [
           1,
           0,
           1,
           1,
           0,
           1,
           0,
           0
          ],
          [
           1,
           0,
           0,
           0,
           0,
           0,
           0,
           0
          ],
          [
           0,
           0,
           0,
           0,
           0,
           1,
           0,
           0
          ],
          [
           1,
           1,
           0,
           0,
           1,
           0,
           0,
           0
          ],
          [
           1,
           1,
           0,
           0,
           0,
           0,
           0,
           0
          ],
          [
           1,
           1,
           0,
           0,
           0,
           1,
           0,
           0
          ],
          [
           1,
           0,
           0,
           0,
           1,
           1,
           0,
           0
          ],
          [
           0,
           0,
           0,
           0,
           0,
           1,
           0,
           0
          ],
          [
           1,
           0,
           1,
           0,
           0,
           0,
           0,
           0
          ],
          [
           1,
           1,
           1,
           0,
           1,
           0,
           0,
           0
          ],
          [
           1,
           1,
           1,
           0,
           1,
           1,
           0,
           0
          ],
          [
           0,
           1,
           0,
           0,
           0,
           0,
           0,
           0
          ],
          [
           1,
           0,
           1,
           0,
           0,
           0,
           0,
           0
          ],
          [
           1,
           0,
           0,
           0,
           0,
           0,
           0,
           0
          ],
          [
           1,
           0,
           0,
           1,
           1,
           1,
           0,
           0
          ],
          [
           1,
           1,
           1,
           0,
           0,
           0,
           0,
           0
          ],
          [
           1,
           1,
           0,
           0,
           1,
           0,
           0,
           0
          ],
          [
           1,
           1,
           0,
           0,
           1,
           0,
           0,
           0
          ],
          [
           1,
           1,
           0,
           0,
           0,
           1,
           0,
           0
          ],
          [
           1,
           1,
           0,
           0,
           0,
           0,
           0,
           0
          ],
          [
           1,
           1,
           0,
           0,
           0,
           0,
           0,
           0
          ],
          [
           1,
           0,
           0,
           0,
           0,
           1,
           0,
           0
          ],
          [
           1,
           1,
           1,
           0,
           0,
           0,
           0,
           0
          ],
          [
           1,
           0,
           0,
           0,
           1,
           0,
           0,
           0
          ],
          [
           1,
           1,
           0,
           1,
           0,
           0,
           0,
           0
          ],
          [
           1,
           1,
           0,
           0,
           0,
           1,
           0,
           0
          ],
          [
           0,
           0,
           0,
           0,
           1,
           0,
           0,
           0
          ],
          [
           1,
           0,
           0,
           0,
           0,
           0,
           0,
           0
          ],
          [
           1,
           1,
           1,
           0,
           0,
           0,
           0,
           0
          ],
          [
           1,
           0,
           0,
           0,
           0,
           0,
           0,
           0
          ],
          [
           1,
           0,
           1,
           0,
           0,
           0,
           0,
           0
          ],
          [
           1,
           1,
           0,
           0,
           0,
           0,
           0,
           0
          ],
          [
           1,
           0,
           0,
           0,
           1,
           0,
           0,
           0
          ],
          [
           1,
           0,
           1,
           0,
           0,
           0,
           0,
           0
          ],
          [
           0,
           0,
           0,
           0,
           1,
           0,
           0,
           0
          ],
          [
           1,
           0,
           0,
           0,
           0,
           0,
           0,
           0
          ],
          [
           1,
           1,
           0,
           0,
           0,
           0,
           0,
           0
          ],
          [
           1,
           0,
           0,
           0,
           0,
           0,
           0,
           0
          ],
          [
           1,
           0,
           0,
           1,
           0,
           0,
           0,
           0
          ],
          [
           1,
           0,
           0,
           0,
           0,
           0,
           0,
           0
          ],
          [
           1,
           1,
           0,
           0,
           0,
           0,
           0,
           0
          ],
          [
           1,
           0,
           0,
           0,
           0,
           0,
           0,
           0
          ],
          [
           1,
           0,
           0,
           1,
           0,
           0,
           0,
           0
          ],
          [
           1,
           1,
           1,
           0,
           1,
           0,
           0,
           1
          ],
          [
           1,
           0,
           0,
           0,
           1,
           1,
           0,
           0
          ],
          [
           1,
           1,
           0,
           0,
           0,
           0,
           0,
           0
          ]
         ],
         "hovertemplate": "x=%{x}<br>y=%{y}<br>Stretching=%{customdata[0]}<br>Warm Up=%{customdata[1]}<br>Strength Exercises=%{customdata[2]}<br>Bracing=%{customdata[3]}<br>Taping=%{customdata[4]}<br>Shoe Insoles=%{customdata[5]}<br>Face Masks=%{customdata[6]}<br>Medical Corset=%{customdata[7]}<extra></extra>",
         "legendgroup": "",
         "marker": {
          "color": "#1F77B4",
          "symbol": "circle"
         },
         "mode": "markers",
         "name": "",
         "orientation": "v",
         "showlegend": false,
         "type": "scatter",
         "x": [
          -41.897953033447266,
          29.918529510498047,
          -12.291208267211914,
          -37.208412170410156,
          32.23845672607422,
          -35.037200927734375,
          0.9413300156593323,
          -44.27561569213867,
          26.265335083007812,
          31.38775062561035,
          -3.444530725479126,
          -34.7938346862793,
          -3.9809699058532715,
          47.049102783203125,
          -16.944421768188477,
          -12.825176239013672,
          9.790003776550293,
          43.13205337524414,
          9.699474334716797,
          29.16841697692871,
          -7.902135848999023,
          -0.3490862250328064,
          43.99640655517578,
          47.71552658081055,
          43.3507080078125,
          -5.630072593688965,
          -6.04558801651001,
          24.829195022583008,
          33.3185920715332,
          45.680606842041016,
          -44.339820861816406,
          -13.314708709716797,
          -16.4874267578125,
          33.531917572021484,
          0.35220372676849365,
          32.188697814941406,
          -17.251251220703125,
          -43.17390441894531,
          1.6249138116836548,
          29.487030029296875,
          -33.58919906616211,
          -11.801286697387695,
          43.281463623046875,
          30.611976623535156,
          -44.9810905456543,
          24.338909149169922,
          -8.129629135131836,
          -3.5815250873565674,
          -13.320512771606445,
          -37.08285903930664,
          14.502190589904785,
          14.013753890991211,
          -2.228435754776001,
          1.3091484308242798,
          24.416141510009766,
          0.2916949391365051,
          8.139057159423828,
          -5.469019889831543,
          -35.44533157348633,
          -44.272823333740234,
          -41.87377166748047,
          28.752870559692383,
          -12.726505279541016,
          -6.025857925415039,
          -44.95021438598633,
          30.117023468017578,
          -7.289632797241211,
          -15.542815208435059,
          -37.057464599609375,
          -45.48377227783203,
          -0.6155413389205933,
          -13.0499267578125,
          -0.10505685210227966,
          0.27298998832702637,
          0.8158228397369385,
          -2.7700679302215576,
          -3.3426151275634766,
          13.490713119506836,
          -3.62866473197937,
          -45.137908935546875,
          0.28564491868019104,
          28.162338256835938,
          32.47125244140625,
          -3.1663520336151123,
          9.155585289001465,
          -2.6718268394470215,
          -4.788210868835449,
          -6.44564962387085,
          0.1581422984600067,
          9.002918243408203,
          -0.3474218547344208,
          30.46112823486328,
          0.1371896117925644,
          -2.437775135040283,
          -6.189668655395508,
          -14.62289810180664,
          31.28026008605957,
          31.229312896728516,
          13.003538131713867,
          -4.77229118347168,
          -14.615265846252441,
          -41.88882827758789,
          -44.45188522338867,
          -0.8679561018943787,
          -17.04721450805664,
          -42.00212478637695,
          -7.260138511657715,
          -0.8878148794174194,
          -33.72441482543945,
          31.209333419799805,
          32.30366516113281,
          14.250821113586426,
          27.99161720275879,
          28.548646926879883,
          -12.068892478942871,
          -36.26878356933594,
          45.55010223388672,
          -3.3448684215545654,
          13.256168365478516,
          -13.821174621582031,
          -6.211621284484863,
          -33.04658126831055,
          -2.9665403366088867,
          -43.96913528442383,
          33.19121170043945,
          44.803466796875,
          -44.39520263671875,
          -13.825156211853027,
          -0.25900164246559143,
          27.529144287109375,
          -0.7577232122421265,
          -2.004986047744751,
          -0.44609808921813965,
          31.53943634033203,
          -2.4788260459899902,
          -2.0097177028656006,
          -43.30320739746094,
          -4.775213718414307,
          28.731853485107422
         ],
         "xaxis": "x",
         "y": [
          27.206026077270508,
          25.520626068115234,
          2.451580762863159,
          -16.280311584472656,
          -27.283384323120117,
          -17.218782424926758,
          0.39923161268234253,
          26.77589988708496,
          27.992168426513672,
          -29.196521759033203,
          -37.71619415283203,
          -15.700634956359863,
          -42.54018783569336,
          -1.0061274766921997,
          22.598960876464844,
          1.0099619626998901,
          -13.075422286987305,
          -0.4414847493171692,
          -12.448518753051758,
          30.379150390625,
          -44.527652740478516,
          -11.242133140563965,
          -2.383347749710083,
          -0.8247968554496765,
          -1.9681651592254639,
          -42.78248977661133,
          32.26411437988281,
          22.878820419311523,
          -26.476591110229492,
          -1.3366944789886475,
          27.221050262451172,
          1.6016453504562378,
          24.431961059570312,
          -28.70847511291504,
          33.037139892578125,
          28.209203720092773,
          24.08346939086914,
          25.76402473449707,
          -38.19374084472656,
          23.715024948120117,
          -17.798778533935547,
          1.8638170957565308,
          -1.2874895334243774,
          22.520105361938477,
          0.3878069221973419,
          24.14044189453125,
          -44.80504608154297,
          35.236412048339844,
          19.809345245361328,
          -18.56119155883789,
          -0.6309183239936829,
          -0.0422944612801075,
          -11.473030090332031,
          -38.24577713012695,
          23.744182586669922,
          -11.626315116882324,
          -11.65246295928955,
          33.477901458740234,
          -16.6295166015625,
          -1.9348682165145874,
          26.655778884887695,
          26.176530838012695,
          19.986616134643555,
          32.257972717285156,
          -2.294999122619629,
          27.698200225830078,
          31.14254379272461,
          22.958959579467773,
          -18.003854751586914,
          -1.8197691440582275,
          -12.416919708251953,
          2.3246190547943115,
          33.00800704956055,
          32.58442687988281,
          -0.25809189677238464,
          -36.5949592590332,
          38.43961715698242,
          -1.4909093379974365,
          35.69951629638672,
          -1.0447717905044556,
          0.525366485118866,
          24.048717498779297,
          -26.419208526611328,
          35.4814338684082,
          -13.248977661132812,
          -38.031105041503906,
          -44.04738235473633,
          -41.80340576171875,
          -0.13260506093502045,
          -12.560558319091797,
          -42.148033142089844,
          23.721254348754883,
          -12.354334831237793,
          31.009157180786133,
          -42.57757568359375,
          19.407115936279297,
          -27.154855728149414,
          28.406457901000977,
          -0.8952884078025818,
          0.9192944169044495,
          19.401607513427734,
          28.551959991455078,
          -1.2506555318832397,
          -11.743731498718262,
          22.57585906982422,
          25.794235229492188,
          -41.978904724121094,
          31.850719451904297,
          -18.241165161132812,
          -28.348325729370117,
          -28.118404388427734,
          -1.3528696298599243,
          27.744728088378906,
          26.512432098388672,
          1.1446431875228882,
          -16.83296775817871,
          -0.7541245222091675,
          38.43850326538086,
          -0.17151761054992676,
          23.405656814575195,
          -40.06052780151367,
          -16.24726104736328,
          -38.28972244262695,
          28.484344482421875,
          27.935422897338867,
          -1.912688136100769,
          28.306737899780273,
          23.407123565673828,
          -39.3455810546875,
          25.871122360229492,
          -41.258304595947266,
          39.88538360595703,
          -40.125938415527344,
          29.246232986450195,
          -41.742252349853516,
          39.884342193603516,
          -2.9757001399993896,
          0.9199531674385071,
          29.874601364135742
         ],
         "yaxis": "y"
        }
       ],
       "layout": {
        "legend": {
         "tracegroupgap": 0
        },
        "template": {
         "data": {
          "bar": [
           {
            "error_x": {
             "color": "rgb(36,36,36)"
            },
            "error_y": {
             "color": "rgb(36,36,36)"
            },
            "marker": {
             "line": {
              "color": "white",
              "width": 0.5
             },
             "pattern": {
              "fillmode": "overlay",
              "size": 10,
              "solidity": 0.2
             }
            },
            "type": "bar"
           }
          ],
          "barpolar": [
           {
            "marker": {
             "line": {
              "color": "white",
              "width": 0.5
             },
             "pattern": {
              "fillmode": "overlay",
              "size": 10,
              "solidity": 0.2
             }
            },
            "type": "barpolar"
           }
          ],
          "carpet": [
           {
            "aaxis": {
             "endlinecolor": "rgb(36,36,36)",
             "gridcolor": "white",
             "linecolor": "white",
             "minorgridcolor": "white",
             "startlinecolor": "rgb(36,36,36)"
            },
            "baxis": {
             "endlinecolor": "rgb(36,36,36)",
             "gridcolor": "white",
             "linecolor": "white",
             "minorgridcolor": "white",
             "startlinecolor": "rgb(36,36,36)"
            },
            "type": "carpet"
           }
          ],
          "choropleth": [
           {
            "colorbar": {
             "outlinewidth": 1,
             "tickcolor": "rgb(36,36,36)",
             "ticks": "outside"
            },
            "type": "choropleth"
           }
          ],
          "contour": [
           {
            "colorbar": {
             "outlinewidth": 1,
             "tickcolor": "rgb(36,36,36)",
             "ticks": "outside"
            },
            "colorscale": [
             [
              0,
              "#440154"
             ],
             [
              0.1111111111111111,
              "#482878"
             ],
             [
              0.2222222222222222,
              "#3e4989"
             ],
             [
              0.3333333333333333,
              "#31688e"
             ],
             [
              0.4444444444444444,
              "#26828e"
             ],
             [
              0.5555555555555556,
              "#1f9e89"
             ],
             [
              0.6666666666666666,
              "#35b779"
             ],
             [
              0.7777777777777778,
              "#6ece58"
             ],
             [
              0.8888888888888888,
              "#b5de2b"
             ],
             [
              1,
              "#fde725"
             ]
            ],
            "type": "contour"
           }
          ],
          "contourcarpet": [
           {
            "colorbar": {
             "outlinewidth": 1,
             "tickcolor": "rgb(36,36,36)",
             "ticks": "outside"
            },
            "type": "contourcarpet"
           }
          ],
          "heatmap": [
           {
            "colorbar": {
             "outlinewidth": 1,
             "tickcolor": "rgb(36,36,36)",
             "ticks": "outside"
            },
            "colorscale": [
             [
              0,
              "#440154"
             ],
             [
              0.1111111111111111,
              "#482878"
             ],
             [
              0.2222222222222222,
              "#3e4989"
             ],
             [
              0.3333333333333333,
              "#31688e"
             ],
             [
              0.4444444444444444,
              "#26828e"
             ],
             [
              0.5555555555555556,
              "#1f9e89"
             ],
             [
              0.6666666666666666,
              "#35b779"
             ],
             [
              0.7777777777777778,
              "#6ece58"
             ],
             [
              0.8888888888888888,
              "#b5de2b"
             ],
             [
              1,
              "#fde725"
             ]
            ],
            "type": "heatmap"
           }
          ],
          "heatmapgl": [
           {
            "colorbar": {
             "outlinewidth": 1,
             "tickcolor": "rgb(36,36,36)",
             "ticks": "outside"
            },
            "colorscale": [
             [
              0,
              "#440154"
             ],
             [
              0.1111111111111111,
              "#482878"
             ],
             [
              0.2222222222222222,
              "#3e4989"
             ],
             [
              0.3333333333333333,
              "#31688e"
             ],
             [
              0.4444444444444444,
              "#26828e"
             ],
             [
              0.5555555555555556,
              "#1f9e89"
             ],
             [
              0.6666666666666666,
              "#35b779"
             ],
             [
              0.7777777777777778,
              "#6ece58"
             ],
             [
              0.8888888888888888,
              "#b5de2b"
             ],
             [
              1,
              "#fde725"
             ]
            ],
            "type": "heatmapgl"
           }
          ],
          "histogram": [
           {
            "marker": {
             "line": {
              "color": "white",
              "width": 0.6
             }
            },
            "type": "histogram"
           }
          ],
          "histogram2d": [
           {
            "colorbar": {
             "outlinewidth": 1,
             "tickcolor": "rgb(36,36,36)",
             "ticks": "outside"
            },
            "colorscale": [
             [
              0,
              "#440154"
             ],
             [
              0.1111111111111111,
              "#482878"
             ],
             [
              0.2222222222222222,
              "#3e4989"
             ],
             [
              0.3333333333333333,
              "#31688e"
             ],
             [
              0.4444444444444444,
              "#26828e"
             ],
             [
              0.5555555555555556,
              "#1f9e89"
             ],
             [
              0.6666666666666666,
              "#35b779"
             ],
             [
              0.7777777777777778,
              "#6ece58"
             ],
             [
              0.8888888888888888,
              "#b5de2b"
             ],
             [
              1,
              "#fde725"
             ]
            ],
            "type": "histogram2d"
           }
          ],
          "histogram2dcontour": [
           {
            "colorbar": {
             "outlinewidth": 1,
             "tickcolor": "rgb(36,36,36)",
             "ticks": "outside"
            },
            "colorscale": [
             [
              0,
              "#440154"
             ],
             [
              0.1111111111111111,
              "#482878"
             ],
             [
              0.2222222222222222,
              "#3e4989"
             ],
             [
              0.3333333333333333,
              "#31688e"
             ],
             [
              0.4444444444444444,
              "#26828e"
             ],
             [
              0.5555555555555556,
              "#1f9e89"
             ],
             [
              0.6666666666666666,
              "#35b779"
             ],
             [
              0.7777777777777778,
              "#6ece58"
             ],
             [
              0.8888888888888888,
              "#b5de2b"
             ],
             [
              1,
              "#fde725"
             ]
            ],
            "type": "histogram2dcontour"
           }
          ],
          "mesh3d": [
           {
            "colorbar": {
             "outlinewidth": 1,
             "tickcolor": "rgb(36,36,36)",
             "ticks": "outside"
            },
            "type": "mesh3d"
           }
          ],
          "parcoords": [
           {
            "line": {
             "colorbar": {
              "outlinewidth": 1,
              "tickcolor": "rgb(36,36,36)",
              "ticks": "outside"
             }
            },
            "type": "parcoords"
           }
          ],
          "pie": [
           {
            "automargin": true,
            "type": "pie"
           }
          ],
          "scatter": [
           {
            "fillpattern": {
             "fillmode": "overlay",
             "size": 10,
             "solidity": 0.2
            },
            "type": "scatter"
           }
          ],
          "scatter3d": [
           {
            "line": {
             "colorbar": {
              "outlinewidth": 1,
              "tickcolor": "rgb(36,36,36)",
              "ticks": "outside"
             }
            },
            "marker": {
             "colorbar": {
              "outlinewidth": 1,
              "tickcolor": "rgb(36,36,36)",
              "ticks": "outside"
             }
            },
            "type": "scatter3d"
           }
          ],
          "scattercarpet": [
           {
            "marker": {
             "colorbar": {
              "outlinewidth": 1,
              "tickcolor": "rgb(36,36,36)",
              "ticks": "outside"
             }
            },
            "type": "scattercarpet"
           }
          ],
          "scattergeo": [
           {
            "marker": {
             "colorbar": {
              "outlinewidth": 1,
              "tickcolor": "rgb(36,36,36)",
              "ticks": "outside"
             }
            },
            "type": "scattergeo"
           }
          ],
          "scattergl": [
           {
            "marker": {
             "colorbar": {
              "outlinewidth": 1,
              "tickcolor": "rgb(36,36,36)",
              "ticks": "outside"
             }
            },
            "type": "scattergl"
           }
          ],
          "scattermapbox": [
           {
            "marker": {
             "colorbar": {
              "outlinewidth": 1,
              "tickcolor": "rgb(36,36,36)",
              "ticks": "outside"
             }
            },
            "type": "scattermapbox"
           }
          ],
          "scatterpolar": [
           {
            "marker": {
             "colorbar": {
              "outlinewidth": 1,
              "tickcolor": "rgb(36,36,36)",
              "ticks": "outside"
             }
            },
            "type": "scatterpolar"
           }
          ],
          "scatterpolargl": [
           {
            "marker": {
             "colorbar": {
              "outlinewidth": 1,
              "tickcolor": "rgb(36,36,36)",
              "ticks": "outside"
             }
            },
            "type": "scatterpolargl"
           }
          ],
          "scatterternary": [
           {
            "marker": {
             "colorbar": {
              "outlinewidth": 1,
              "tickcolor": "rgb(36,36,36)",
              "ticks": "outside"
             }
            },
            "type": "scatterternary"
           }
          ],
          "surface": [
           {
            "colorbar": {
             "outlinewidth": 1,
             "tickcolor": "rgb(36,36,36)",
             "ticks": "outside"
            },
            "colorscale": [
             [
              0,
              "#440154"
             ],
             [
              0.1111111111111111,
              "#482878"
             ],
             [
              0.2222222222222222,
              "#3e4989"
             ],
             [
              0.3333333333333333,
              "#31688e"
             ],
             [
              0.4444444444444444,
              "#26828e"
             ],
             [
              0.5555555555555556,
              "#1f9e89"
             ],
             [
              0.6666666666666666,
              "#35b779"
             ],
             [
              0.7777777777777778,
              "#6ece58"
             ],
             [
              0.8888888888888888,
              "#b5de2b"
             ],
             [
              1,
              "#fde725"
             ]
            ],
            "type": "surface"
           }
          ],
          "table": [
           {
            "cells": {
             "fill": {
              "color": "rgb(237,237,237)"
             },
             "line": {
              "color": "white"
             }
            },
            "header": {
             "fill": {
              "color": "rgb(217,217,217)"
             },
             "line": {
              "color": "white"
             }
            },
            "type": "table"
           }
          ]
         },
         "layout": {
          "annotationdefaults": {
           "arrowhead": 0,
           "arrowwidth": 1
          },
          "autotypenumbers": "strict",
          "coloraxis": {
           "colorbar": {
            "outlinewidth": 1,
            "tickcolor": "rgb(36,36,36)",
            "ticks": "outside"
           }
          },
          "colorscale": {
           "diverging": [
            [
             0,
             "rgb(103,0,31)"
            ],
            [
             0.1,
             "rgb(178,24,43)"
            ],
            [
             0.2,
             "rgb(214,96,77)"
            ],
            [
             0.3,
             "rgb(244,165,130)"
            ],
            [
             0.4,
             "rgb(253,219,199)"
            ],
            [
             0.5,
             "rgb(247,247,247)"
            ],
            [
             0.6,
             "rgb(209,229,240)"
            ],
            [
             0.7,
             "rgb(146,197,222)"
            ],
            [
             0.8,
             "rgb(67,147,195)"
            ],
            [
             0.9,
             "rgb(33,102,172)"
            ],
            [
             1,
             "rgb(5,48,97)"
            ]
           ],
           "sequential": [
            [
             0,
             "#440154"
            ],
            [
             0.1111111111111111,
             "#482878"
            ],
            [
             0.2222222222222222,
             "#3e4989"
            ],
            [
             0.3333333333333333,
             "#31688e"
            ],
            [
             0.4444444444444444,
             "#26828e"
            ],
            [
             0.5555555555555556,
             "#1f9e89"
            ],
            [
             0.6666666666666666,
             "#35b779"
            ],
            [
             0.7777777777777778,
             "#6ece58"
            ],
            [
             0.8888888888888888,
             "#b5de2b"
            ],
            [
             1,
             "#fde725"
            ]
           ],
           "sequentialminus": [
            [
             0,
             "#440154"
            ],
            [
             0.1111111111111111,
             "#482878"
            ],
            [
             0.2222222222222222,
             "#3e4989"
            ],
            [
             0.3333333333333333,
             "#31688e"
            ],
            [
             0.4444444444444444,
             "#26828e"
            ],
            [
             0.5555555555555556,
             "#1f9e89"
            ],
            [
             0.6666666666666666,
             "#35b779"
            ],
            [
             0.7777777777777778,
             "#6ece58"
            ],
            [
             0.8888888888888888,
             "#b5de2b"
            ],
            [
             1,
             "#fde725"
            ]
           ]
          },
          "colorway": [
           "#1F77B4",
           "#FF7F0E",
           "#2CA02C",
           "#D62728",
           "#9467BD",
           "#8C564B",
           "#E377C2",
           "#7F7F7F",
           "#BCBD22",
           "#17BECF"
          ],
          "font": {
           "color": "rgb(36,36,36)"
          },
          "geo": {
           "bgcolor": "white",
           "lakecolor": "white",
           "landcolor": "white",
           "showlakes": true,
           "showland": true,
           "subunitcolor": "white"
          },
          "hoverlabel": {
           "align": "left"
          },
          "hovermode": "closest",
          "mapbox": {
           "style": "light"
          },
          "paper_bgcolor": "white",
          "plot_bgcolor": "white",
          "polar": {
           "angularaxis": {
            "gridcolor": "rgb(232,232,232)",
            "linecolor": "rgb(36,36,36)",
            "showgrid": false,
            "showline": true,
            "ticks": "outside"
           },
           "bgcolor": "white",
           "radialaxis": {
            "gridcolor": "rgb(232,232,232)",
            "linecolor": "rgb(36,36,36)",
            "showgrid": false,
            "showline": true,
            "ticks": "outside"
           }
          },
          "scene": {
           "xaxis": {
            "backgroundcolor": "white",
            "gridcolor": "rgb(232,232,232)",
            "gridwidth": 2,
            "linecolor": "rgb(36,36,36)",
            "showbackground": true,
            "showgrid": false,
            "showline": true,
            "ticks": "outside",
            "zeroline": false,
            "zerolinecolor": "rgb(36,36,36)"
           },
           "yaxis": {
            "backgroundcolor": "white",
            "gridcolor": "rgb(232,232,232)",
            "gridwidth": 2,
            "linecolor": "rgb(36,36,36)",
            "showbackground": true,
            "showgrid": false,
            "showline": true,
            "ticks": "outside",
            "zeroline": false,
            "zerolinecolor": "rgb(36,36,36)"
           },
           "zaxis": {
            "backgroundcolor": "white",
            "gridcolor": "rgb(232,232,232)",
            "gridwidth": 2,
            "linecolor": "rgb(36,36,36)",
            "showbackground": true,
            "showgrid": false,
            "showline": true,
            "ticks": "outside",
            "zeroline": false,
            "zerolinecolor": "rgb(36,36,36)"
           }
          },
          "shapedefaults": {
           "fillcolor": "black",
           "line": {
            "width": 0
           },
           "opacity": 0.3
          },
          "ternary": {
           "aaxis": {
            "gridcolor": "rgb(232,232,232)",
            "linecolor": "rgb(36,36,36)",
            "showgrid": false,
            "showline": true,
            "ticks": "outside"
           },
           "baxis": {
            "gridcolor": "rgb(232,232,232)",
            "linecolor": "rgb(36,36,36)",
            "showgrid": false,
            "showline": true,
            "ticks": "outside"
           },
           "bgcolor": "white",
           "caxis": {
            "gridcolor": "rgb(232,232,232)",
            "linecolor": "rgb(36,36,36)",
            "showgrid": false,
            "showline": true,
            "ticks": "outside"
           }
          },
          "title": {
           "x": 0.05
          },
          "xaxis": {
           "automargin": true,
           "gridcolor": "rgb(232,232,232)",
           "linecolor": "rgb(36,36,36)",
           "showgrid": false,
           "showline": true,
           "ticks": "outside",
           "title": {
            "standoff": 15
           },
           "zeroline": false,
           "zerolinecolor": "rgb(36,36,36)"
          },
          "yaxis": {
           "automargin": true,
           "gridcolor": "rgb(232,232,232)",
           "linecolor": "rgb(36,36,36)",
           "showgrid": false,
           "showline": true,
           "ticks": "outside",
           "title": {
            "standoff": 15
           },
           "zeroline": false,
           "zerolinecolor": "rgb(36,36,36)"
          }
         }
        },
        "title": {
         "text": "Perplexity = 5"
        },
        "xaxis": {
         "anchor": "y",
         "domain": [
          0,
          1
         ],
         "title": {
          "text": "x"
         }
        },
        "yaxis": {
         "anchor": "x",
         "domain": [
          0,
          1
         ],
         "title": {
          "text": "y"
         }
        }
       }
      },
      "text/html": [
       "<div>                            <div id=\"28887abd-c45e-4693-8e33-3af2e2fc8e78\" class=\"plotly-graph-div\" style=\"height:525px; width:100%;\"></div>            <script type=\"text/javascript\">                require([\"plotly\"], function(Plotly) {                    window.PLOTLYENV=window.PLOTLYENV || {};                                    if (document.getElementById(\"28887abd-c45e-4693-8e33-3af2e2fc8e78\")) {                    Plotly.newPlot(                        \"28887abd-c45e-4693-8e33-3af2e2fc8e78\",                        [{\"customdata\":[[1,0,1,0,0,0,0,0],[1,1,0,0,0,0,0,0],[1,0,0,0,0,1,0,0],[1,1,1,0,0,0,0,0],[1,1,0,0,1,0,0,0],[1,1,1,0,0,0,0,0],[1,1,0,0,1,1,0,0],[1,0,1,0,0,0,0,0],[1,1,0,0,0,0,0,0],[1,1,0,0,1,0,0,0],[1,0,0,0,0,0,0,0],[1,1,1,0,0,0,0,0],[1,0,0,0,0,0,0,0],[1,0,0,0,1,0,0,0],[0,1,0,0,0,0,0,0],[1,0,0,0,0,1,0,0],[1,1,1,0,0,1,0,0],[1,0,0,0,1,0,0,0],[1,1,1,0,0,1,0,0],[1,1,0,0,0,0,0,0],[1,0,0,0,0,0,0,0],[1,1,1,0,1,1,0,0],[1,0,0,0,1,0,0,0],[1,0,0,0,1,0,0,0],[1,0,0,0,1,0,0,0],[1,0,0,0,0,0,0,0],[1,0,1,1,1,0,0,0],[1,1,0,0,0,0,0,0],[1,1,0,0,1,0,0,0],[1,0,0,0,1,0,0,0],[1,0,1,0,0,0,0,0],[1,0,0,0,0,1,0,0],[0,0,1,0,0,0,0,0],[1,1,0,0,1,0,0,0],[1,1,0,1,1,1,0,0],[1,1,0,0,0,0,0,0],[0,1,1,0,0,0,0,0],[1,0,1,0,0,0,0,0],[1,0,0,0,0,0,0,0],[1,1,0,0,0,0,0,0],[1,1,1,0,0,0,0,0],[1,0,0,0,0,1,0,0],[1,0,0,0,1,0,0,0],[1,1,0,0,0,0,0,0],[1,0,1,0,1,0,0,0],[1,1,0,0,0,0,0,0],[1,0,0,0,0,0,0,0],[1,1,0,1,1,0,0,0],[0,0,1,0,0,1,0,0],[1,1,1,0,0,0,0,0],[1,1,0,0,0,1,0,0],[1,1,0,0,0,1,0,0],[1,0,1,0,1,1,0,0],[1,0,0,0,0,0,0,0],[1,1,0,0,0,0,0,0],[1,1,1,0,1,1,0,0],[1,0,1,0,0,1,0,0],[1,1,1,1,1,0,0,0],[1,1,1,0,0,0,0,0],[1,1,1,0,1,0,0,0],[1,0,1,0,0,0,0,0],[1,1,0,0,0,0,0,0],[0,0,1,0,1,1,0,0],[1,0,1,1,1,0,0,0],[1,1,1,0,1,0,0,0],[1,1,0,0,0,0,0,0],[0,0,1,1,1,0,0,0],[0,0,0,0,0,0,0,0],[1,1,1,0,0,0,0,0],[1,1,1,0,1,0,0,0],[1,1,1,0,1,1,0,0],[1,0,0,0,0,1,0,0],[1,1,0,1,1,1,0,0],[1,1,0,1,1,1,0,0],[1,1,0,0,1,1,0,0],[1,0,0,0,0,0,0,0],[1,1,0,1,0,0,0,0],[1,1,0,0,0,1,0,0],[1,1,0,1,1,0,0,0],[1,1,1,0,1,0,0,0],[1,1,0,0,1,1,0,0],[1,1,0,0,0,0,0,0],[1,1,0,0,1,0,0,0],[1,1,0,1,1,0,0,0],[1,1,1,0,0,1,0,0],[1,0,0,0,0,0,0,0],[1,0,0,0,0,0,0,0],[1,0,0,0,0,0,0,0],[1,1,0,0,1,1,0,0],[1,1,1,0,0,1,0,0],[1,0,0,0,0,0,0,0],[1,1,0,0,0,0,0,0],[1,1,1,0,1,1,0,0],[1,0,1,1,0,1,0,0],[1,0,0,0,0,0,0,0],[0,0,0,0,0,1,0,0],[1,1,0,0,1,0,0,0],[1,1,0,0,0,0,0,0],[1,1,0,0,0,1,0,0],[1,0,0,0,1,1,0,0],[0,0,0,0,0,1,0,0],[1,0,1,0,0,0,0,0],[1,1,1,0,1,0,0,0],[1,1,1,0,1,1,0,0],[0,1,0,0,0,0,0,0],[1,0,1,0,0,0,0,0],[1,0,0,0,0,0,0,0],[1,0,0,1,1,1,0,0],[1,1,1,0,0,0,0,0],[1,1,0,0,1,0,0,0],[1,1,0,0,1,0,0,0],[1,1,0,0,0,1,0,0],[1,1,0,0,0,0,0,0],[1,1,0,0,0,0,0,0],[1,0,0,0,0,1,0,0],[1,1,1,0,0,0,0,0],[1,0,0,0,1,0,0,0],[1,1,0,1,0,0,0,0],[1,1,0,0,0,1,0,0],[0,0,0,0,1,0,0,0],[1,0,0,0,0,0,0,0],[1,1,1,0,0,0,0,0],[1,0,0,0,0,0,0,0],[1,0,1,0,0,0,0,0],[1,1,0,0,0,0,0,0],[1,0,0,0,1,0,0,0],[1,0,1,0,0,0,0,0],[0,0,0,0,1,0,0,0],[1,0,0,0,0,0,0,0],[1,1,0,0,0,0,0,0],[1,0,0,0,0,0,0,0],[1,0,0,1,0,0,0,0],[1,0,0,0,0,0,0,0],[1,1,0,0,0,0,0,0],[1,0,0,0,0,0,0,0],[1,0,0,1,0,0,0,0],[1,1,1,0,1,0,0,1],[1,0,0,0,1,1,0,0],[1,1,0,0,0,0,0,0]],\"hovertemplate\":\"x=%{x}<br>y=%{y}<br>Stretching=%{customdata[0]}<br>Warm Up=%{customdata[1]}<br>Strength Exercises=%{customdata[2]}<br>Bracing=%{customdata[3]}<br>Taping=%{customdata[4]}<br>Shoe Insoles=%{customdata[5]}<br>Face Masks=%{customdata[6]}<br>Medical Corset=%{customdata[7]}<extra></extra>\",\"legendgroup\":\"\",\"marker\":{\"color\":\"#1F77B4\",\"symbol\":\"circle\"},\"mode\":\"markers\",\"name\":\"\",\"orientation\":\"v\",\"showlegend\":false,\"x\":[-41.897953033447266,29.918529510498047,-12.291208267211914,-37.208412170410156,32.23845672607422,-35.037200927734375,0.9413300156593323,-44.27561569213867,26.265335083007812,31.38775062561035,-3.444530725479126,-34.7938346862793,-3.9809699058532715,47.049102783203125,-16.944421768188477,-12.825176239013672,9.790003776550293,43.13205337524414,9.699474334716797,29.16841697692871,-7.902135848999023,-0.3490862250328064,43.99640655517578,47.71552658081055,43.3507080078125,-5.630072593688965,-6.04558801651001,24.829195022583008,33.3185920715332,45.680606842041016,-44.339820861816406,-13.314708709716797,-16.4874267578125,33.531917572021484,0.35220372676849365,32.188697814941406,-17.251251220703125,-43.17390441894531,1.6249138116836548,29.487030029296875,-33.58919906616211,-11.801286697387695,43.281463623046875,30.611976623535156,-44.9810905456543,24.338909149169922,-8.129629135131836,-3.5815250873565674,-13.320512771606445,-37.08285903930664,14.502190589904785,14.013753890991211,-2.228435754776001,1.3091484308242798,24.416141510009766,0.2916949391365051,8.139057159423828,-5.469019889831543,-35.44533157348633,-44.272823333740234,-41.87377166748047,28.752870559692383,-12.726505279541016,-6.025857925415039,-44.95021438598633,30.117023468017578,-7.289632797241211,-15.542815208435059,-37.057464599609375,-45.48377227783203,-0.6155413389205933,-13.0499267578125,-0.10505685210227966,0.27298998832702637,0.8158228397369385,-2.7700679302215576,-3.3426151275634766,13.490713119506836,-3.62866473197937,-45.137908935546875,0.28564491868019104,28.162338256835938,32.47125244140625,-3.1663520336151123,9.155585289001465,-2.6718268394470215,-4.788210868835449,-6.44564962387085,0.1581422984600067,9.002918243408203,-0.3474218547344208,30.46112823486328,0.1371896117925644,-2.437775135040283,-6.189668655395508,-14.62289810180664,31.28026008605957,31.229312896728516,13.003538131713867,-4.77229118347168,-14.615265846252441,-41.88882827758789,-44.45188522338867,-0.8679561018943787,-17.04721450805664,-42.00212478637695,-7.260138511657715,-0.8878148794174194,-33.72441482543945,31.209333419799805,32.30366516113281,14.250821113586426,27.99161720275879,28.548646926879883,-12.068892478942871,-36.26878356933594,45.55010223388672,-3.3448684215545654,13.256168365478516,-13.821174621582031,-6.211621284484863,-33.04658126831055,-2.9665403366088867,-43.96913528442383,33.19121170043945,44.803466796875,-44.39520263671875,-13.825156211853027,-0.25900164246559143,27.529144287109375,-0.7577232122421265,-2.004986047744751,-0.44609808921813965,31.53943634033203,-2.4788260459899902,-2.0097177028656006,-43.30320739746094,-4.775213718414307,28.731853485107422],\"xaxis\":\"x\",\"y\":[27.206026077270508,25.520626068115234,2.451580762863159,-16.280311584472656,-27.283384323120117,-17.218782424926758,0.39923161268234253,26.77589988708496,27.992168426513672,-29.196521759033203,-37.71619415283203,-15.700634956359863,-42.54018783569336,-1.0061274766921997,22.598960876464844,1.0099619626998901,-13.075422286987305,-0.4414847493171692,-12.448518753051758,30.379150390625,-44.527652740478516,-11.242133140563965,-2.383347749710083,-0.8247968554496765,-1.9681651592254639,-42.78248977661133,32.26411437988281,22.878820419311523,-26.476591110229492,-1.3366944789886475,27.221050262451172,1.6016453504562378,24.431961059570312,-28.70847511291504,33.037139892578125,28.209203720092773,24.08346939086914,25.76402473449707,-38.19374084472656,23.715024948120117,-17.798778533935547,1.8638170957565308,-1.2874895334243774,22.520105361938477,0.3878069221973419,24.14044189453125,-44.80504608154297,35.236412048339844,19.809345245361328,-18.56119155883789,-0.6309183239936829,-0.0422944612801075,-11.473030090332031,-38.24577713012695,23.744182586669922,-11.626315116882324,-11.65246295928955,33.477901458740234,-16.6295166015625,-1.9348682165145874,26.655778884887695,26.176530838012695,19.986616134643555,32.257972717285156,-2.294999122619629,27.698200225830078,31.14254379272461,22.958959579467773,-18.003854751586914,-1.8197691440582275,-12.416919708251953,2.3246190547943115,33.00800704956055,32.58442687988281,-0.25809189677238464,-36.5949592590332,38.43961715698242,-1.4909093379974365,35.69951629638672,-1.0447717905044556,0.525366485118866,24.048717498779297,-26.419208526611328,35.4814338684082,-13.248977661132812,-38.031105041503906,-44.04738235473633,-41.80340576171875,-0.13260506093502045,-12.560558319091797,-42.148033142089844,23.721254348754883,-12.354334831237793,31.009157180786133,-42.57757568359375,19.407115936279297,-27.154855728149414,28.406457901000977,-0.8952884078025818,0.9192944169044495,19.401607513427734,28.551959991455078,-1.2506555318832397,-11.743731498718262,22.57585906982422,25.794235229492188,-41.978904724121094,31.850719451904297,-18.241165161132812,-28.348325729370117,-28.118404388427734,-1.3528696298599243,27.744728088378906,26.512432098388672,1.1446431875228882,-16.83296775817871,-0.7541245222091675,38.43850326538086,-0.17151761054992676,23.405656814575195,-40.06052780151367,-16.24726104736328,-38.28972244262695,28.484344482421875,27.935422897338867,-1.912688136100769,28.306737899780273,23.407123565673828,-39.3455810546875,25.871122360229492,-41.258304595947266,39.88538360595703,-40.125938415527344,29.246232986450195,-41.742252349853516,39.884342193603516,-2.9757001399993896,0.9199531674385071,29.874601364135742],\"yaxis\":\"y\",\"type\":\"scatter\"}],                        {\"template\":{\"data\":{\"barpolar\":[{\"marker\":{\"line\":{\"color\":\"white\",\"width\":0.5},\"pattern\":{\"fillmode\":\"overlay\",\"size\":10,\"solidity\":0.2}},\"type\":\"barpolar\"}],\"bar\":[{\"error_x\":{\"color\":\"rgb(36,36,36)\"},\"error_y\":{\"color\":\"rgb(36,36,36)\"},\"marker\":{\"line\":{\"color\":\"white\",\"width\":0.5},\"pattern\":{\"fillmode\":\"overlay\",\"size\":10,\"solidity\":0.2}},\"type\":\"bar\"}],\"carpet\":[{\"aaxis\":{\"endlinecolor\":\"rgb(36,36,36)\",\"gridcolor\":\"white\",\"linecolor\":\"white\",\"minorgridcolor\":\"white\",\"startlinecolor\":\"rgb(36,36,36)\"},\"baxis\":{\"endlinecolor\":\"rgb(36,36,36)\",\"gridcolor\":\"white\",\"linecolor\":\"white\",\"minorgridcolor\":\"white\",\"startlinecolor\":\"rgb(36,36,36)\"},\"type\":\"carpet\"}],\"choropleth\":[{\"colorbar\":{\"outlinewidth\":1,\"tickcolor\":\"rgb(36,36,36)\",\"ticks\":\"outside\"},\"type\":\"choropleth\"}],\"contourcarpet\":[{\"colorbar\":{\"outlinewidth\":1,\"tickcolor\":\"rgb(36,36,36)\",\"ticks\":\"outside\"},\"type\":\"contourcarpet\"}],\"contour\":[{\"colorbar\":{\"outlinewidth\":1,\"tickcolor\":\"rgb(36,36,36)\",\"ticks\":\"outside\"},\"colorscale\":[[0.0,\"#440154\"],[0.1111111111111111,\"#482878\"],[0.2222222222222222,\"#3e4989\"],[0.3333333333333333,\"#31688e\"],[0.4444444444444444,\"#26828e\"],[0.5555555555555556,\"#1f9e89\"],[0.6666666666666666,\"#35b779\"],[0.7777777777777778,\"#6ece58\"],[0.8888888888888888,\"#b5de2b\"],[1.0,\"#fde725\"]],\"type\":\"contour\"}],\"heatmapgl\":[{\"colorbar\":{\"outlinewidth\":1,\"tickcolor\":\"rgb(36,36,36)\",\"ticks\":\"outside\"},\"colorscale\":[[0.0,\"#440154\"],[0.1111111111111111,\"#482878\"],[0.2222222222222222,\"#3e4989\"],[0.3333333333333333,\"#31688e\"],[0.4444444444444444,\"#26828e\"],[0.5555555555555556,\"#1f9e89\"],[0.6666666666666666,\"#35b779\"],[0.7777777777777778,\"#6ece58\"],[0.8888888888888888,\"#b5de2b\"],[1.0,\"#fde725\"]],\"type\":\"heatmapgl\"}],\"heatmap\":[{\"colorbar\":{\"outlinewidth\":1,\"tickcolor\":\"rgb(36,36,36)\",\"ticks\":\"outside\"},\"colorscale\":[[0.0,\"#440154\"],[0.1111111111111111,\"#482878\"],[0.2222222222222222,\"#3e4989\"],[0.3333333333333333,\"#31688e\"],[0.4444444444444444,\"#26828e\"],[0.5555555555555556,\"#1f9e89\"],[0.6666666666666666,\"#35b779\"],[0.7777777777777778,\"#6ece58\"],[0.8888888888888888,\"#b5de2b\"],[1.0,\"#fde725\"]],\"type\":\"heatmap\"}],\"histogram2dcontour\":[{\"colorbar\":{\"outlinewidth\":1,\"tickcolor\":\"rgb(36,36,36)\",\"ticks\":\"outside\"},\"colorscale\":[[0.0,\"#440154\"],[0.1111111111111111,\"#482878\"],[0.2222222222222222,\"#3e4989\"],[0.3333333333333333,\"#31688e\"],[0.4444444444444444,\"#26828e\"],[0.5555555555555556,\"#1f9e89\"],[0.6666666666666666,\"#35b779\"],[0.7777777777777778,\"#6ece58\"],[0.8888888888888888,\"#b5de2b\"],[1.0,\"#fde725\"]],\"type\":\"histogram2dcontour\"}],\"histogram2d\":[{\"colorbar\":{\"outlinewidth\":1,\"tickcolor\":\"rgb(36,36,36)\",\"ticks\":\"outside\"},\"colorscale\":[[0.0,\"#440154\"],[0.1111111111111111,\"#482878\"],[0.2222222222222222,\"#3e4989\"],[0.3333333333333333,\"#31688e\"],[0.4444444444444444,\"#26828e\"],[0.5555555555555556,\"#1f9e89\"],[0.6666666666666666,\"#35b779\"],[0.7777777777777778,\"#6ece58\"],[0.8888888888888888,\"#b5de2b\"],[1.0,\"#fde725\"]],\"type\":\"histogram2d\"}],\"histogram\":[{\"marker\":{\"line\":{\"color\":\"white\",\"width\":0.6}},\"type\":\"histogram\"}],\"mesh3d\":[{\"colorbar\":{\"outlinewidth\":1,\"tickcolor\":\"rgb(36,36,36)\",\"ticks\":\"outside\"},\"type\":\"mesh3d\"}],\"parcoords\":[{\"line\":{\"colorbar\":{\"outlinewidth\":1,\"tickcolor\":\"rgb(36,36,36)\",\"ticks\":\"outside\"}},\"type\":\"parcoords\"}],\"pie\":[{\"automargin\":true,\"type\":\"pie\"}],\"scatter3d\":[{\"line\":{\"colorbar\":{\"outlinewidth\":1,\"tickcolor\":\"rgb(36,36,36)\",\"ticks\":\"outside\"}},\"marker\":{\"colorbar\":{\"outlinewidth\":1,\"tickcolor\":\"rgb(36,36,36)\",\"ticks\":\"outside\"}},\"type\":\"scatter3d\"}],\"scattercarpet\":[{\"marker\":{\"colorbar\":{\"outlinewidth\":1,\"tickcolor\":\"rgb(36,36,36)\",\"ticks\":\"outside\"}},\"type\":\"scattercarpet\"}],\"scattergeo\":[{\"marker\":{\"colorbar\":{\"outlinewidth\":1,\"tickcolor\":\"rgb(36,36,36)\",\"ticks\":\"outside\"}},\"type\":\"scattergeo\"}],\"scattergl\":[{\"marker\":{\"colorbar\":{\"outlinewidth\":1,\"tickcolor\":\"rgb(36,36,36)\",\"ticks\":\"outside\"}},\"type\":\"scattergl\"}],\"scattermapbox\":[{\"marker\":{\"colorbar\":{\"outlinewidth\":1,\"tickcolor\":\"rgb(36,36,36)\",\"ticks\":\"outside\"}},\"type\":\"scattermapbox\"}],\"scatterpolargl\":[{\"marker\":{\"colorbar\":{\"outlinewidth\":1,\"tickcolor\":\"rgb(36,36,36)\",\"ticks\":\"outside\"}},\"type\":\"scatterpolargl\"}],\"scatterpolar\":[{\"marker\":{\"colorbar\":{\"outlinewidth\":1,\"tickcolor\":\"rgb(36,36,36)\",\"ticks\":\"outside\"}},\"type\":\"scatterpolar\"}],\"scatter\":[{\"fillpattern\":{\"fillmode\":\"overlay\",\"size\":10,\"solidity\":0.2},\"type\":\"scatter\"}],\"scatterternary\":[{\"marker\":{\"colorbar\":{\"outlinewidth\":1,\"tickcolor\":\"rgb(36,36,36)\",\"ticks\":\"outside\"}},\"type\":\"scatterternary\"}],\"surface\":[{\"colorbar\":{\"outlinewidth\":1,\"tickcolor\":\"rgb(36,36,36)\",\"ticks\":\"outside\"},\"colorscale\":[[0.0,\"#440154\"],[0.1111111111111111,\"#482878\"],[0.2222222222222222,\"#3e4989\"],[0.3333333333333333,\"#31688e\"],[0.4444444444444444,\"#26828e\"],[0.5555555555555556,\"#1f9e89\"],[0.6666666666666666,\"#35b779\"],[0.7777777777777778,\"#6ece58\"],[0.8888888888888888,\"#b5de2b\"],[1.0,\"#fde725\"]],\"type\":\"surface\"}],\"table\":[{\"cells\":{\"fill\":{\"color\":\"rgb(237,237,237)\"},\"line\":{\"color\":\"white\"}},\"header\":{\"fill\":{\"color\":\"rgb(217,217,217)\"},\"line\":{\"color\":\"white\"}},\"type\":\"table\"}]},\"layout\":{\"annotationdefaults\":{\"arrowhead\":0,\"arrowwidth\":1},\"autotypenumbers\":\"strict\",\"coloraxis\":{\"colorbar\":{\"outlinewidth\":1,\"tickcolor\":\"rgb(36,36,36)\",\"ticks\":\"outside\"}},\"colorscale\":{\"diverging\":[[0.0,\"rgb(103,0,31)\"],[0.1,\"rgb(178,24,43)\"],[0.2,\"rgb(214,96,77)\"],[0.3,\"rgb(244,165,130)\"],[0.4,\"rgb(253,219,199)\"],[0.5,\"rgb(247,247,247)\"],[0.6,\"rgb(209,229,240)\"],[0.7,\"rgb(146,197,222)\"],[0.8,\"rgb(67,147,195)\"],[0.9,\"rgb(33,102,172)\"],[1.0,\"rgb(5,48,97)\"]],\"sequential\":[[0.0,\"#440154\"],[0.1111111111111111,\"#482878\"],[0.2222222222222222,\"#3e4989\"],[0.3333333333333333,\"#31688e\"],[0.4444444444444444,\"#26828e\"],[0.5555555555555556,\"#1f9e89\"],[0.6666666666666666,\"#35b779\"],[0.7777777777777778,\"#6ece58\"],[0.8888888888888888,\"#b5de2b\"],[1.0,\"#fde725\"]],\"sequentialminus\":[[0.0,\"#440154\"],[0.1111111111111111,\"#482878\"],[0.2222222222222222,\"#3e4989\"],[0.3333333333333333,\"#31688e\"],[0.4444444444444444,\"#26828e\"],[0.5555555555555556,\"#1f9e89\"],[0.6666666666666666,\"#35b779\"],[0.7777777777777778,\"#6ece58\"],[0.8888888888888888,\"#b5de2b\"],[1.0,\"#fde725\"]]},\"colorway\":[\"#1F77B4\",\"#FF7F0E\",\"#2CA02C\",\"#D62728\",\"#9467BD\",\"#8C564B\",\"#E377C2\",\"#7F7F7F\",\"#BCBD22\",\"#17BECF\"],\"font\":{\"color\":\"rgb(36,36,36)\"},\"geo\":{\"bgcolor\":\"white\",\"lakecolor\":\"white\",\"landcolor\":\"white\",\"showlakes\":true,\"showland\":true,\"subunitcolor\":\"white\"},\"hoverlabel\":{\"align\":\"left\"},\"hovermode\":\"closest\",\"mapbox\":{\"style\":\"light\"},\"paper_bgcolor\":\"white\",\"plot_bgcolor\":\"white\",\"polar\":{\"angularaxis\":{\"gridcolor\":\"rgb(232,232,232)\",\"linecolor\":\"rgb(36,36,36)\",\"showgrid\":false,\"showline\":true,\"ticks\":\"outside\"},\"bgcolor\":\"white\",\"radialaxis\":{\"gridcolor\":\"rgb(232,232,232)\",\"linecolor\":\"rgb(36,36,36)\",\"showgrid\":false,\"showline\":true,\"ticks\":\"outside\"}},\"scene\":{\"xaxis\":{\"backgroundcolor\":\"white\",\"gridcolor\":\"rgb(232,232,232)\",\"gridwidth\":2,\"linecolor\":\"rgb(36,36,36)\",\"showbackground\":true,\"showgrid\":false,\"showline\":true,\"ticks\":\"outside\",\"zeroline\":false,\"zerolinecolor\":\"rgb(36,36,36)\"},\"yaxis\":{\"backgroundcolor\":\"white\",\"gridcolor\":\"rgb(232,232,232)\",\"gridwidth\":2,\"linecolor\":\"rgb(36,36,36)\",\"showbackground\":true,\"showgrid\":false,\"showline\":true,\"ticks\":\"outside\",\"zeroline\":false,\"zerolinecolor\":\"rgb(36,36,36)\"},\"zaxis\":{\"backgroundcolor\":\"white\",\"gridcolor\":\"rgb(232,232,232)\",\"gridwidth\":2,\"linecolor\":\"rgb(36,36,36)\",\"showbackground\":true,\"showgrid\":false,\"showline\":true,\"ticks\":\"outside\",\"zeroline\":false,\"zerolinecolor\":\"rgb(36,36,36)\"}},\"shapedefaults\":{\"fillcolor\":\"black\",\"line\":{\"width\":0},\"opacity\":0.3},\"ternary\":{\"aaxis\":{\"gridcolor\":\"rgb(232,232,232)\",\"linecolor\":\"rgb(36,36,36)\",\"showgrid\":false,\"showline\":true,\"ticks\":\"outside\"},\"baxis\":{\"gridcolor\":\"rgb(232,232,232)\",\"linecolor\":\"rgb(36,36,36)\",\"showgrid\":false,\"showline\":true,\"ticks\":\"outside\"},\"bgcolor\":\"white\",\"caxis\":{\"gridcolor\":\"rgb(232,232,232)\",\"linecolor\":\"rgb(36,36,36)\",\"showgrid\":false,\"showline\":true,\"ticks\":\"outside\"}},\"title\":{\"x\":0.05},\"xaxis\":{\"automargin\":true,\"gridcolor\":\"rgb(232,232,232)\",\"linecolor\":\"rgb(36,36,36)\",\"showgrid\":false,\"showline\":true,\"ticks\":\"outside\",\"title\":{\"standoff\":15},\"zeroline\":false,\"zerolinecolor\":\"rgb(36,36,36)\"},\"yaxis\":{\"automargin\":true,\"gridcolor\":\"rgb(232,232,232)\",\"linecolor\":\"rgb(36,36,36)\",\"showgrid\":false,\"showline\":true,\"ticks\":\"outside\",\"title\":{\"standoff\":15},\"zeroline\":false,\"zerolinecolor\":\"rgb(36,36,36)\"}}},\"xaxis\":{\"anchor\":\"y\",\"domain\":[0.0,1.0],\"title\":{\"text\":\"x\"}},\"yaxis\":{\"anchor\":\"x\",\"domain\":[0.0,1.0],\"title\":{\"text\":\"y\"}},\"legend\":{\"tracegroupgap\":0},\"title\":{\"text\":\"Perplexity = 5\"}},                        {\"responsive\": true}                    ).then(function(){\n",
       "                            \n",
       "var gd = document.getElementById('28887abd-c45e-4693-8e33-3af2e2fc8e78');\n",
       "var x = new MutationObserver(function (mutations, observer) {{\n",
       "        var display = window.getComputedStyle(gd).display;\n",
       "        if (!display || display === 'none') {{\n",
       "            console.log([gd, 'removed!']);\n",
       "            Plotly.purge(gd);\n",
       "            observer.disconnect();\n",
       "        }}\n",
       "}});\n",
       "\n",
       "// Listen for the removal of the full notebook cells\n",
       "var notebookContainer = gd.closest('#notebook-container');\n",
       "if (notebookContainer) {{\n",
       "    x.observe(notebookContainer, {childList: true});\n",
       "}}\n",
       "\n",
       "// Listen for the clearing of the current output cell\n",
       "var outputEl = gd.closest('.output');\n",
       "if (outputEl) {{\n",
       "    x.observe(outputEl, {childList: true});\n",
       "}}\n",
       "\n",
       "                        })                };                });            </script>        </div>"
      ]
     },
     "metadata": {},
     "output_type": "display_data"
    },
    {
     "data": {
      "text/html": [
       "\n",
       "        <iframe\n",
       "            width=\"800\"\n",
       "            height=\"600\"\n",
       "            src=\"per5_interactive.html\"\n",
       "            frameborder=\"0\"\n",
       "            allowfullscreen\n",
       "            \n",
       "        ></iframe>\n",
       "        "
      ],
      "text/plain": [
       "<IPython.lib.display.IFrame at 0x166364690>"
      ]
     },
     "execution_count": 113,
     "metadata": {},
     "output_type": "execute_result"
    }
   ],
   "source": [
    "from sklearn.manifold import TSNE\n",
    "import plotly.express as px\n",
    "\n",
    "X_embedded = TSNE(n_components=2, learning_rate='auto',init='random', perplexity=5).fit_transform(X)\n",
    "\n",
    "data = {\n",
    "    'x': X_embedded[:, 0],\n",
    "    'y': X_embedded[:, 1],\n",
    "    'Stretching': si_subset[\"Prevention Measure Stretching\"],\n",
    "    'Warm Up': si_subset[\"Prevention Measure Warm Up\"],\n",
    "    'Strength Exercises': si_subset[\"Prevention Measure Specific Strength Exercises\"],\n",
    "    'Bracing': si_subset[\"Prevention Measure Bracing\"],\n",
    "    'Taping': si_subset[\"Prevention Measure Taping\"],\n",
    "    'Shoe Insoles': si_subset[\"Prevention Measure Shoe Insoles\"],\n",
    "    'Face Masks': si_subset[\"Prevention Measure Face Masks\"],\n",
    "    'Medical Corset': si_subset[\"Prevention Measure Medical Corset\"]\n",
    "}\n",
    "\n",
    "df = pd.DataFrame(data)\n",
    "\n",
    "print(\"RESULTS\") \n",
    "print(\"shape : \",X_embedded.shape)\n",
    "print(\"First few points : \\n\",X_embedded[0:2,:])\n",
    "\n",
    "scatter_fig_5 = px.scatter(df, x='x', y='y', \n",
    "                         hover_data=['Stretching', 'Warm Up', \"Strength Exercises\", \"Bracing\", \"Taping\", \"Shoe Insoles\", \"Face Masks\", \"Medical Corset\"], \n",
    "                         template='simple_white',\n",
    "                         title='Perplexity = 5')\n",
    "\n",
    "scatter_fig_5.show()\n",
    "\n",
    "pio.renderers.default = \"plotly_mimetype+notebook_connected\"\n",
    "plotly.offline.plot(scatter_fig_5, filename='per5_interactive.html')\n",
    "\n",
    "IFrame(src='per5_interactive.html', width=800, height=600)"
   ]
  },
  {
   "cell_type": "markdown",
   "metadata": {},
   "source": [
    "#### Perplexity = 10"
   ]
  },
  {
   "cell_type": "code",
   "execution_count": 114,
   "metadata": {},
   "outputs": [
    {
     "name": "stdout",
     "output_type": "stream",
     "text": [
      "RESULTS\n",
      "shape :  (139, 2)\n",
      "First few points : \n",
      " [[  1.0702138  32.93463  ]\n",
      " [-21.92765   -10.702206 ]]\n"
     ]
    },
    {
     "data": {
      "text/html": [
       "        <script type=\"text/javascript\">\n",
       "        window.PlotlyConfig = {MathJaxConfig: 'local'};\n",
       "        if (window.MathJax && window.MathJax.Hub && window.MathJax.Hub.Config) {window.MathJax.Hub.Config({SVG: {font: \"STIX-Web\"}});}\n",
       "        if (typeof require !== 'undefined') {\n",
       "        require.undef(\"plotly\");\n",
       "        requirejs.config({\n",
       "            paths: {\n",
       "                'plotly': ['https://cdn.plot.ly/plotly-2.12.1.min']\n",
       "            }\n",
       "        });\n",
       "        require(['plotly'], function(Plotly) {\n",
       "            window._Plotly = Plotly;\n",
       "        });\n",
       "        }\n",
       "        </script>\n",
       "        "
      ]
     },
     "metadata": {},
     "output_type": "display_data"
    },
    {
     "data": {
      "application/vnd.plotly.v1+json": {
       "config": {
        "plotlyServerURL": "https://plot.ly"
       },
       "data": [
        {
         "customdata": [
          [
           1,
           0,
           1,
           0,
           0,
           0,
           0,
           0
          ],
          [
           1,
           1,
           0,
           0,
           0,
           0,
           0,
           0
          ],
          [
           1,
           0,
           0,
           0,
           0,
           1,
           0,
           0
          ],
          [
           1,
           1,
           1,
           0,
           0,
           0,
           0,
           0
          ],
          [
           1,
           1,
           0,
           0,
           1,
           0,
           0,
           0
          ],
          [
           1,
           1,
           1,
           0,
           0,
           0,
           0,
           0
          ],
          [
           1,
           1,
           0,
           0,
           1,
           1,
           0,
           0
          ],
          [
           1,
           0,
           1,
           0,
           0,
           0,
           0,
           0
          ],
          [
           1,
           1,
           0,
           0,
           0,
           0,
           0,
           0
          ],
          [
           1,
           1,
           0,
           0,
           1,
           0,
           0,
           0
          ],
          [
           1,
           0,
           0,
           0,
           0,
           0,
           0,
           0
          ],
          [
           1,
           1,
           1,
           0,
           0,
           0,
           0,
           0
          ],
          [
           1,
           0,
           0,
           0,
           0,
           0,
           0,
           0
          ],
          [
           1,
           0,
           0,
           0,
           1,
           0,
           0,
           0
          ],
          [
           0,
           1,
           0,
           0,
           0,
           0,
           0,
           0
          ],
          [
           1,
           0,
           0,
           0,
           0,
           1,
           0,
           0
          ],
          [
           1,
           1,
           1,
           0,
           0,
           1,
           0,
           0
          ],
          [
           1,
           0,
           0,
           0,
           1,
           0,
           0,
           0
          ],
          [
           1,
           1,
           1,
           0,
           0,
           1,
           0,
           0
          ],
          [
           1,
           1,
           0,
           0,
           0,
           0,
           0,
           0
          ],
          [
           1,
           0,
           0,
           0,
           0,
           0,
           0,
           0
          ],
          [
           1,
           1,
           1,
           0,
           1,
           1,
           0,
           0
          ],
          [
           1,
           0,
           0,
           0,
           1,
           0,
           0,
           0
          ],
          [
           1,
           0,
           0,
           0,
           1,
           0,
           0,
           0
          ],
          [
           1,
           0,
           0,
           0,
           1,
           0,
           0,
           0
          ],
          [
           1,
           0,
           0,
           0,
           0,
           0,
           0,
           0
          ],
          [
           1,
           0,
           1,
           1,
           1,
           0,
           0,
           0
          ],
          [
           1,
           1,
           0,
           0,
           0,
           0,
           0,
           0
          ],
          [
           1,
           1,
           0,
           0,
           1,
           0,
           0,
           0
          ],
          [
           1,
           0,
           0,
           0,
           1,
           0,
           0,
           0
          ],
          [
           1,
           0,
           1,
           0,
           0,
           0,
           0,
           0
          ],
          [
           1,
           0,
           0,
           0,
           0,
           1,
           0,
           0
          ],
          [
           0,
           0,
           1,
           0,
           0,
           0,
           0,
           0
          ],
          [
           1,
           1,
           0,
           0,
           1,
           0,
           0,
           0
          ],
          [
           1,
           1,
           0,
           1,
           1,
           1,
           0,
           0
          ],
          [
           1,
           1,
           0,
           0,
           0,
           0,
           0,
           0
          ],
          [
           0,
           1,
           1,
           0,
           0,
           0,
           0,
           0
          ],
          [
           1,
           0,
           1,
           0,
           0,
           0,
           0,
           0
          ],
          [
           1,
           0,
           0,
           0,
           0,
           0,
           0,
           0
          ],
          [
           1,
           1,
           0,
           0,
           0,
           0,
           0,
           0
          ],
          [
           1,
           1,
           1,
           0,
           0,
           0,
           0,
           0
          ],
          [
           1,
           0,
           0,
           0,
           0,
           1,
           0,
           0
          ],
          [
           1,
           0,
           0,
           0,
           1,
           0,
           0,
           0
          ],
          [
           1,
           1,
           0,
           0,
           0,
           0,
           0,
           0
          ],
          [
           1,
           0,
           1,
           0,
           1,
           0,
           0,
           0
          ],
          [
           1,
           1,
           0,
           0,
           0,
           0,
           0,
           0
          ],
          [
           1,
           0,
           0,
           0,
           0,
           0,
           0,
           0
          ],
          [
           1,
           1,
           0,
           1,
           1,
           0,
           0,
           0
          ],
          [
           0,
           0,
           1,
           0,
           0,
           1,
           0,
           0
          ],
          [
           1,
           1,
           1,
           0,
           0,
           0,
           0,
           0
          ],
          [
           1,
           1,
           0,
           0,
           0,
           1,
           0,
           0
          ],
          [
           1,
           1,
           0,
           0,
           0,
           1,
           0,
           0
          ],
          [
           1,
           0,
           1,
           0,
           1,
           1,
           0,
           0
          ],
          [
           1,
           0,
           0,
           0,
           0,
           0,
           0,
           0
          ],
          [
           1,
           1,
           0,
           0,
           0,
           0,
           0,
           0
          ],
          [
           1,
           1,
           1,
           0,
           1,
           1,
           0,
           0
          ],
          [
           1,
           0,
           1,
           0,
           0,
           1,
           0,
           0
          ],
          [
           1,
           1,
           1,
           1,
           1,
           0,
           0,
           0
          ],
          [
           1,
           1,
           1,
           0,
           0,
           0,
           0,
           0
          ],
          [
           1,
           1,
           1,
           0,
           1,
           0,
           0,
           0
          ],
          [
           1,
           0,
           1,
           0,
           0,
           0,
           0,
           0
          ],
          [
           1,
           1,
           0,
           0,
           0,
           0,
           0,
           0
          ],
          [
           0,
           0,
           1,
           0,
           1,
           1,
           0,
           0
          ],
          [
           1,
           0,
           1,
           1,
           1,
           0,
           0,
           0
          ],
          [
           1,
           1,
           1,
           0,
           1,
           0,
           0,
           0
          ],
          [
           1,
           1,
           0,
           0,
           0,
           0,
           0,
           0
          ],
          [
           0,
           0,
           1,
           1,
           1,
           0,
           0,
           0
          ],
          [
           0,
           0,
           0,
           0,
           0,
           0,
           0,
           0
          ],
          [
           1,
           1,
           1,
           0,
           0,
           0,
           0,
           0
          ],
          [
           1,
           1,
           1,
           0,
           1,
           0,
           0,
           0
          ],
          [
           1,
           1,
           1,
           0,
           1,
           1,
           0,
           0
          ],
          [
           1,
           0,
           0,
           0,
           0,
           1,
           0,
           0
          ],
          [
           1,
           1,
           0,
           1,
           1,
           1,
           0,
           0
          ],
          [
           1,
           1,
           0,
           1,
           1,
           1,
           0,
           0
          ],
          [
           1,
           1,
           0,
           0,
           1,
           1,
           0,
           0
          ],
          [
           1,
           0,
           0,
           0,
           0,
           0,
           0,
           0
          ],
          [
           1,
           1,
           0,
           1,
           0,
           0,
           0,
           0
          ],
          [
           1,
           1,
           0,
           0,
           0,
           1,
           0,
           0
          ],
          [
           1,
           1,
           0,
           1,
           1,
           0,
           0,
           0
          ],
          [
           1,
           1,
           1,
           0,
           1,
           0,
           0,
           0
          ],
          [
           1,
           1,
           0,
           0,
           1,
           1,
           0,
           0
          ],
          [
           1,
           1,
           0,
           0,
           0,
           0,
           0,
           0
          ],
          [
           1,
           1,
           0,
           0,
           1,
           0,
           0,
           0
          ],
          [
           1,
           1,
           0,
           1,
           1,
           0,
           0,
           0
          ],
          [
           1,
           1,
           1,
           0,
           0,
           1,
           0,
           0
          ],
          [
           1,
           0,
           0,
           0,
           0,
           0,
           0,
           0
          ],
          [
           1,
           0,
           0,
           0,
           0,
           0,
           0,
           0
          ],
          [
           1,
           0,
           0,
           0,
           0,
           0,
           0,
           0
          ],
          [
           1,
           1,
           0,
           0,
           1,
           1,
           0,
           0
          ],
          [
           1,
           1,
           1,
           0,
           0,
           1,
           0,
           0
          ],
          [
           1,
           0,
           0,
           0,
           0,
           0,
           0,
           0
          ],
          [
           1,
           1,
           0,
           0,
           0,
           0,
           0,
           0
          ],
          [
           1,
           1,
           1,
           0,
           1,
           1,
           0,
           0
          ],
          [
           1,
           0,
           1,
           1,
           0,
           1,
           0,
           0
          ],
          [
           1,
           0,
           0,
           0,
           0,
           0,
           0,
           0
          ],
          [
           0,
           0,
           0,
           0,
           0,
           1,
           0,
           0
          ],
          [
           1,
           1,
           0,
           0,
           1,
           0,
           0,
           0
          ],
          [
           1,
           1,
           0,
           0,
           0,
           0,
           0,
           0
          ],
          [
           1,
           1,
           0,
           0,
           0,
           1,
           0,
           0
          ],
          [
           1,
           0,
           0,
           0,
           1,
           1,
           0,
           0
          ],
          [
           0,
           0,
           0,
           0,
           0,
           1,
           0,
           0
          ],
          [
           1,
           0,
           1,
           0,
           0,
           0,
           0,
           0
          ],
          [
           1,
           1,
           1,
           0,
           1,
           0,
           0,
           0
          ],
          [
           1,
           1,
           1,
           0,
           1,
           1,
           0,
           0
          ],
          [
           0,
           1,
           0,
           0,
           0,
           0,
           0,
           0
          ],
          [
           1,
           0,
           1,
           0,
           0,
           0,
           0,
           0
          ],
          [
           1,
           0,
           0,
           0,
           0,
           0,
           0,
           0
          ],
          [
           1,
           0,
           0,
           1,
           1,
           1,
           0,
           0
          ],
          [
           1,
           1,
           1,
           0,
           0,
           0,
           0,
           0
          ],
          [
           1,
           1,
           0,
           0,
           1,
           0,
           0,
           0
          ],
          [
           1,
           1,
           0,
           0,
           1,
           0,
           0,
           0
          ],
          [
           1,
           1,
           0,
           0,
           0,
           1,
           0,
           0
          ],
          [
           1,
           1,
           0,
           0,
           0,
           0,
           0,
           0
          ],
          [
           1,
           1,
           0,
           0,
           0,
           0,
           0,
           0
          ],
          [
           1,
           0,
           0,
           0,
           0,
           1,
           0,
           0
          ],
          [
           1,
           1,
           1,
           0,
           0,
           0,
           0,
           0
          ],
          [
           1,
           0,
           0,
           0,
           1,
           0,
           0,
           0
          ],
          [
           1,
           1,
           0,
           1,
           0,
           0,
           0,
           0
          ],
          [
           1,
           1,
           0,
           0,
           0,
           1,
           0,
           0
          ],
          [
           0,
           0,
           0,
           0,
           1,
           0,
           0,
           0
          ],
          [
           1,
           0,
           0,
           0,
           0,
           0,
           0,
           0
          ],
          [
           1,
           1,
           1,
           0,
           0,
           0,
           0,
           0
          ],
          [
           1,
           0,
           0,
           0,
           0,
           0,
           0,
           0
          ],
          [
           1,
           0,
           1,
           0,
           0,
           0,
           0,
           0
          ],
          [
           1,
           1,
           0,
           0,
           0,
           0,
           0,
           0
          ],
          [
           1,
           0,
           0,
           0,
           1,
           0,
           0,
           0
          ],
          [
           1,
           0,
           1,
           0,
           0,
           0,
           0,
           0
          ],
          [
           0,
           0,
           0,
           0,
           1,
           0,
           0,
           0
          ],
          [
           1,
           0,
           0,
           0,
           0,
           0,
           0,
           0
          ],
          [
           1,
           1,
           0,
           0,
           0,
           0,
           0,
           0
          ],
          [
           1,
           0,
           0,
           0,
           0,
           0,
           0,
           0
          ],
          [
           1,
           0,
           0,
           1,
           0,
           0,
           0,
           0
          ],
          [
           1,
           0,
           0,
           0,
           0,
           0,
           0,
           0
          ],
          [
           1,
           1,
           0,
           0,
           0,
           0,
           0,
           0
          ],
          [
           1,
           0,
           0,
           0,
           0,
           0,
           0,
           0
          ],
          [
           1,
           0,
           0,
           1,
           0,
           0,
           0,
           0
          ],
          [
           1,
           1,
           1,
           0,
           1,
           0,
           0,
           1
          ],
          [
           1,
           0,
           0,
           0,
           1,
           1,
           0,
           0
          ],
          [
           1,
           1,
           0,
           0,
           0,
           0,
           0,
           0
          ]
         ],
         "hovertemplate": "x=%{x}<br>y=%{y}<br>Stretching=%{customdata[0]}<br>Warm Up=%{customdata[1]}<br>Strength Exercises=%{customdata[2]}<br>Bracing=%{customdata[3]}<br>Taping=%{customdata[4]}<br>Shoe Insoles=%{customdata[5]}<br>Face Masks=%{customdata[6]}<br>Medical Corset=%{customdata[7]}<extra></extra>",
         "legendgroup": "",
         "marker": {
          "color": "#1F77B4",
          "symbol": "circle"
         },
         "mode": "markers",
         "name": "",
         "orientation": "v",
         "showlegend": false,
         "type": "scatter",
         "x": [
          1.070213794708252,
          -21.927650451660156,
          13.694175720214844,
          -1.870776891708374,
          -5.268289089202881,
          -1.86904776096344,
          5.983511447906494,
          0.9572268724441528,
          -21.554170608520508,
          -4.4072747230529785,
          22.505191802978516,
          -2.8128597736358643,
          25.050146102905273,
          4.9326605796813965,
          -13.472149848937988,
          13.921871185302734,
          8.372968673706055,
          5.03702974319458,
          8.398212432861328,
          -23.916690826416016,
          25.974191665649414,
          4.916413307189941,
          4.587835788726807,
          4.435245513916016,
          5.179297924041748,
          24.91359519958496,
          -5.367011547088623,
          -19.70083236694336,
          -4.784262657165527,
          4.097439765930176,
          0.5686483383178711,
          13.314106941223145,
          -12.883505821228027,
          -5.388136386871338,
          -1.67673921585083,
          -23.50038719177246,
          -13.52861213684082,
          0.8139803409576416,
          21.040630340576172,
          -20.50436782836914,
          -2.3702502250671387,
          13.181601524353027,
          3.9831154346466064,
          -20.131961822509766,
          -0.9421797394752502,
          -20.28125762939453,
          25.968236923217773,
          -3.5929815769195557,
          -11.861457824707031,
          -2.993253469467163,
          9.6961669921875,
          9.481973648071289,
          6.407689571380615,
          21.1823787689209,
          -20.07215118408203,
          4.784212589263916,
          9.053522109985352,
          -4.878962993621826,
          -2.808124542236328,
          -1.5102754831314087,
          0.2847098708152771,
          -21.60048484802246,
          -11.811936378479004,
          -5.3582611083984375,
          -1.2199372053146362,
          -22.396873474121094,
          -7.211122989654541,
          -12.273392677307129,
          -1.5393234491348267,
          -0.9599536657333374,
          5.276549816131592,
          13.773316383361816,
          -1.68693208694458,
          -1.6838644742965698,
          6.008078098297119,
          21.7200984954834,
          -3.6506552696228027,
          9.405298233032227,
          -3.5938596725463867,
          -1.0762708187103271,
          6.056061267852783,
          -20.566377639770508,
          -5.18254280090332,
          -3.5864057540893555,
          8.348621368408203,
          22.649869918823242,
          26.05912971496582,
          24.65462303161621,
          6.035683631896973,
          8.48165225982666,
          23.377426147460938,
          -20.520832061767578,
          5.041934490203857,
          -3.565646171569824,
          24.72174072265625,
          -11.199644088745117,
          -4.495600700378418,
          -23.05280113220215,
          9.832184791564941,
          8.835349082946777,
          -11.199051856994629,
          0.3900497257709503,
          -1.2503583431243896,
          5.179435729980469,
          -13.480794906616211,
          1.3177765607833862,
          24.548023223876953,
          -2.0212812423706055,
          -2.251957893371582,
          -4.90032434463501,
          -4.304645538330078,
          10.052453994750977,
          -22.278654098510742,
          -21.901351928710938,
          13.403631210327148,
          -1.547561526298523,
          4.51156759262085,
          -3.652129888534546,
          10.117218017578125,
          -11.421577453613281,
          23.638715744018555,
          -2.3753457069396973,
          22.70489501953125,
          1.608231544494629,
          -24.20343017578125,
          3.8447296619415283,
          1.5080279111862183,
          -11.422351837158203,
          22.243408203125,
          -21.684492111206055,
          23.175180435180664,
          -2.57170033454895,
          22.584285736083984,
          -23.477401733398438,
          24.00971221923828,
          -2.5725903511047363,
          -2.4466030597686768,
          8.839009284973145,
          -23.596548080444336
         ],
         "xaxis": "x",
         "y": [
          32.93463134765625,
          -10.702205657958984,
          4.502562999725342,
          21.04391860961914,
          -13.79439926147461,
          22.330326080322266,
          4.645512104034424,
          32.280941009521484,
          -6.81946325302124,
          -13.110016822814941,
          -6.948596954345703,
          22.16596031188965,
          -8.709317207336426,
          -15.570568084716797,
          2.843050241470337,
          4.793923854827881,
          12.288939476013184,
          -14.621914863586426,
          12.274003982543945,
          -8.08268928527832,
          -6.60469913482666,
          9.693034172058105,
          -14.371384620666504,
          -15.71551513671875,
          -15.116900444030762,
          -7.717589378356934,
          0.44498148560523987,
          -10.920391082763672,
          -12.904671669006348,
          -14.516599655151367,
          32.832332611083984,
          4.559751510620117,
          4.14289665222168,
          -13.390362739562988,
          -0.2390674203634262,
          -9.410953521728516,
          3.805633544921875,
          31.616727828979492,
          -8.899091720581055,
          -8.86716365814209,
          22.415864944458008,
          4.903456687927246,
          -15.45787525177002,
          -7.852837562561035,
          12.999614715576172,
          -11.542637825012207,
          -6.4006781578063965,
          -1.5162907838821411,
          5.152232646942139,
          21.68474578857422,
          1.1081690788269043,
          1.7135659456253052,
          9.294535636901855,
          -8.653523445129395,
          -11.472257614135742,
          9.991747856140137,
          11.102933883666992,
          -0.4090687334537506,
          21.214122772216797,
          14.357549667358398,
          32.39737319946289,
          -8.88321304321289,
          5.509599208831787,
          0.4448010325431824,
          14.620519638061523,
          -8.517143249511719,
          1.2416867017745972,
          3.147794008255005,
          21.933717727661133,
          14.537015914916992,
          10.076994895935059,
          5.148735046386719,
          -0.24093401432037354,
          -0.23510511219501495,
          4.6777663230896,
          -6.949935436248779,
          -3.3511133193969727,
          1.3496301174163818,
          -1.5384389162063599,
          14.059807777404785,
          4.6468095779418945,
          -9.579306602478027,
          -13.02712345123291,
          -1.5204176902770996,
          12.285042762756348,
          -7.402076721191406,
          -8.221640586853027,
          -7.006463527679443,
          4.736282825469971,
          12.128861427307129,
          -10.141645431518555,
          -8.456783294677734,
          10.224798202514648,
          1.4351418018341064,
          -7.441184997558594,
          4.492465972900391,
          -13.879977226257324,
          -9.098058700561523,
          1.8358380794525146,
          6.065138816833496,
          4.493861675262451,
          31.903772354125977,
          14.17611312866211,
          9.723243713378906,
          2.8367767333984375,
          31.708654403686523,
          -6.887484550476074,
          0.5472560524940491,
          21.691940307617188,
          -13.997478485107422,
          -13.509340286254883,
          1.2288663387298584,
          -7.409849166870117,
          -9.018385887145996,
          5.200874328613281,
          21.43244743347168,
          -15.046844482421875,
          -3.3495516777038574,
          1.5958364009857178,
          2.4367082118988037,
          -5.648277282714844,
          20.950077056884766,
          -7.415236949920654,
          32.144100189208984,
          -9.878899574279785,
          -14.960782051086426,
          32.65275955200195,
          2.4340720176696777,
          -8.567228317260742,
          -9.810952186584473,
          -9.55844783782959,
          -4.094658374786377,
          -8.946533203125,
          -8.910300254821777,
          -9.058403968811035,
          -4.094182014465332,
          15.007418632507324,
          6.065739631652832,
          -7.7603960037231445
         ],
         "yaxis": "y"
        }
       ],
       "layout": {
        "legend": {
         "tracegroupgap": 0
        },
        "template": {
         "data": {
          "bar": [
           {
            "error_x": {
             "color": "rgb(36,36,36)"
            },
            "error_y": {
             "color": "rgb(36,36,36)"
            },
            "marker": {
             "line": {
              "color": "white",
              "width": 0.5
             },
             "pattern": {
              "fillmode": "overlay",
              "size": 10,
              "solidity": 0.2
             }
            },
            "type": "bar"
           }
          ],
          "barpolar": [
           {
            "marker": {
             "line": {
              "color": "white",
              "width": 0.5
             },
             "pattern": {
              "fillmode": "overlay",
              "size": 10,
              "solidity": 0.2
             }
            },
            "type": "barpolar"
           }
          ],
          "carpet": [
           {
            "aaxis": {
             "endlinecolor": "rgb(36,36,36)",
             "gridcolor": "white",
             "linecolor": "white",
             "minorgridcolor": "white",
             "startlinecolor": "rgb(36,36,36)"
            },
            "baxis": {
             "endlinecolor": "rgb(36,36,36)",
             "gridcolor": "white",
             "linecolor": "white",
             "minorgridcolor": "white",
             "startlinecolor": "rgb(36,36,36)"
            },
            "type": "carpet"
           }
          ],
          "choropleth": [
           {
            "colorbar": {
             "outlinewidth": 1,
             "tickcolor": "rgb(36,36,36)",
             "ticks": "outside"
            },
            "type": "choropleth"
           }
          ],
          "contour": [
           {
            "colorbar": {
             "outlinewidth": 1,
             "tickcolor": "rgb(36,36,36)",
             "ticks": "outside"
            },
            "colorscale": [
             [
              0,
              "#440154"
             ],
             [
              0.1111111111111111,
              "#482878"
             ],
             [
              0.2222222222222222,
              "#3e4989"
             ],
             [
              0.3333333333333333,
              "#31688e"
             ],
             [
              0.4444444444444444,
              "#26828e"
             ],
             [
              0.5555555555555556,
              "#1f9e89"
             ],
             [
              0.6666666666666666,
              "#35b779"
             ],
             [
              0.7777777777777778,
              "#6ece58"
             ],
             [
              0.8888888888888888,
              "#b5de2b"
             ],
             [
              1,
              "#fde725"
             ]
            ],
            "type": "contour"
           }
          ],
          "contourcarpet": [
           {
            "colorbar": {
             "outlinewidth": 1,
             "tickcolor": "rgb(36,36,36)",
             "ticks": "outside"
            },
            "type": "contourcarpet"
           }
          ],
          "heatmap": [
           {
            "colorbar": {
             "outlinewidth": 1,
             "tickcolor": "rgb(36,36,36)",
             "ticks": "outside"
            },
            "colorscale": [
             [
              0,
              "#440154"
             ],
             [
              0.1111111111111111,
              "#482878"
             ],
             [
              0.2222222222222222,
              "#3e4989"
             ],
             [
              0.3333333333333333,
              "#31688e"
             ],
             [
              0.4444444444444444,
              "#26828e"
             ],
             [
              0.5555555555555556,
              "#1f9e89"
             ],
             [
              0.6666666666666666,
              "#35b779"
             ],
             [
              0.7777777777777778,
              "#6ece58"
             ],
             [
              0.8888888888888888,
              "#b5de2b"
             ],
             [
              1,
              "#fde725"
             ]
            ],
            "type": "heatmap"
           }
          ],
          "heatmapgl": [
           {
            "colorbar": {
             "outlinewidth": 1,
             "tickcolor": "rgb(36,36,36)",
             "ticks": "outside"
            },
            "colorscale": [
             [
              0,
              "#440154"
             ],
             [
              0.1111111111111111,
              "#482878"
             ],
             [
              0.2222222222222222,
              "#3e4989"
             ],
             [
              0.3333333333333333,
              "#31688e"
             ],
             [
              0.4444444444444444,
              "#26828e"
             ],
             [
              0.5555555555555556,
              "#1f9e89"
             ],
             [
              0.6666666666666666,
              "#35b779"
             ],
             [
              0.7777777777777778,
              "#6ece58"
             ],
             [
              0.8888888888888888,
              "#b5de2b"
             ],
             [
              1,
              "#fde725"
             ]
            ],
            "type": "heatmapgl"
           }
          ],
          "histogram": [
           {
            "marker": {
             "line": {
              "color": "white",
              "width": 0.6
             }
            },
            "type": "histogram"
           }
          ],
          "histogram2d": [
           {
            "colorbar": {
             "outlinewidth": 1,
             "tickcolor": "rgb(36,36,36)",
             "ticks": "outside"
            },
            "colorscale": [
             [
              0,
              "#440154"
             ],
             [
              0.1111111111111111,
              "#482878"
             ],
             [
              0.2222222222222222,
              "#3e4989"
             ],
             [
              0.3333333333333333,
              "#31688e"
             ],
             [
              0.4444444444444444,
              "#26828e"
             ],
             [
              0.5555555555555556,
              "#1f9e89"
             ],
             [
              0.6666666666666666,
              "#35b779"
             ],
             [
              0.7777777777777778,
              "#6ece58"
             ],
             [
              0.8888888888888888,
              "#b5de2b"
             ],
             [
              1,
              "#fde725"
             ]
            ],
            "type": "histogram2d"
           }
          ],
          "histogram2dcontour": [
           {
            "colorbar": {
             "outlinewidth": 1,
             "tickcolor": "rgb(36,36,36)",
             "ticks": "outside"
            },
            "colorscale": [
             [
              0,
              "#440154"
             ],
             [
              0.1111111111111111,
              "#482878"
             ],
             [
              0.2222222222222222,
              "#3e4989"
             ],
             [
              0.3333333333333333,
              "#31688e"
             ],
             [
              0.4444444444444444,
              "#26828e"
             ],
             [
              0.5555555555555556,
              "#1f9e89"
             ],
             [
              0.6666666666666666,
              "#35b779"
             ],
             [
              0.7777777777777778,
              "#6ece58"
             ],
             [
              0.8888888888888888,
              "#b5de2b"
             ],
             [
              1,
              "#fde725"
             ]
            ],
            "type": "histogram2dcontour"
           }
          ],
          "mesh3d": [
           {
            "colorbar": {
             "outlinewidth": 1,
             "tickcolor": "rgb(36,36,36)",
             "ticks": "outside"
            },
            "type": "mesh3d"
           }
          ],
          "parcoords": [
           {
            "line": {
             "colorbar": {
              "outlinewidth": 1,
              "tickcolor": "rgb(36,36,36)",
              "ticks": "outside"
             }
            },
            "type": "parcoords"
           }
          ],
          "pie": [
           {
            "automargin": true,
            "type": "pie"
           }
          ],
          "scatter": [
           {
            "fillpattern": {
             "fillmode": "overlay",
             "size": 10,
             "solidity": 0.2
            },
            "type": "scatter"
           }
          ],
          "scatter3d": [
           {
            "line": {
             "colorbar": {
              "outlinewidth": 1,
              "tickcolor": "rgb(36,36,36)",
              "ticks": "outside"
             }
            },
            "marker": {
             "colorbar": {
              "outlinewidth": 1,
              "tickcolor": "rgb(36,36,36)",
              "ticks": "outside"
             }
            },
            "type": "scatter3d"
           }
          ],
          "scattercarpet": [
           {
            "marker": {
             "colorbar": {
              "outlinewidth": 1,
              "tickcolor": "rgb(36,36,36)",
              "ticks": "outside"
             }
            },
            "type": "scattercarpet"
           }
          ],
          "scattergeo": [
           {
            "marker": {
             "colorbar": {
              "outlinewidth": 1,
              "tickcolor": "rgb(36,36,36)",
              "ticks": "outside"
             }
            },
            "type": "scattergeo"
           }
          ],
          "scattergl": [
           {
            "marker": {
             "colorbar": {
              "outlinewidth": 1,
              "tickcolor": "rgb(36,36,36)",
              "ticks": "outside"
             }
            },
            "type": "scattergl"
           }
          ],
          "scattermapbox": [
           {
            "marker": {
             "colorbar": {
              "outlinewidth": 1,
              "tickcolor": "rgb(36,36,36)",
              "ticks": "outside"
             }
            },
            "type": "scattermapbox"
           }
          ],
          "scatterpolar": [
           {
            "marker": {
             "colorbar": {
              "outlinewidth": 1,
              "tickcolor": "rgb(36,36,36)",
              "ticks": "outside"
             }
            },
            "type": "scatterpolar"
           }
          ],
          "scatterpolargl": [
           {
            "marker": {
             "colorbar": {
              "outlinewidth": 1,
              "tickcolor": "rgb(36,36,36)",
              "ticks": "outside"
             }
            },
            "type": "scatterpolargl"
           }
          ],
          "scatterternary": [
           {
            "marker": {
             "colorbar": {
              "outlinewidth": 1,
              "tickcolor": "rgb(36,36,36)",
              "ticks": "outside"
             }
            },
            "type": "scatterternary"
           }
          ],
          "surface": [
           {
            "colorbar": {
             "outlinewidth": 1,
             "tickcolor": "rgb(36,36,36)",
             "ticks": "outside"
            },
            "colorscale": [
             [
              0,
              "#440154"
             ],
             [
              0.1111111111111111,
              "#482878"
             ],
             [
              0.2222222222222222,
              "#3e4989"
             ],
             [
              0.3333333333333333,
              "#31688e"
             ],
             [
              0.4444444444444444,
              "#26828e"
             ],
             [
              0.5555555555555556,
              "#1f9e89"
             ],
             [
              0.6666666666666666,
              "#35b779"
             ],
             [
              0.7777777777777778,
              "#6ece58"
             ],
             [
              0.8888888888888888,
              "#b5de2b"
             ],
             [
              1,
              "#fde725"
             ]
            ],
            "type": "surface"
           }
          ],
          "table": [
           {
            "cells": {
             "fill": {
              "color": "rgb(237,237,237)"
             },
             "line": {
              "color": "white"
             }
            },
            "header": {
             "fill": {
              "color": "rgb(217,217,217)"
             },
             "line": {
              "color": "white"
             }
            },
            "type": "table"
           }
          ]
         },
         "layout": {
          "annotationdefaults": {
           "arrowhead": 0,
           "arrowwidth": 1
          },
          "autotypenumbers": "strict",
          "coloraxis": {
           "colorbar": {
            "outlinewidth": 1,
            "tickcolor": "rgb(36,36,36)",
            "ticks": "outside"
           }
          },
          "colorscale": {
           "diverging": [
            [
             0,
             "rgb(103,0,31)"
            ],
            [
             0.1,
             "rgb(178,24,43)"
            ],
            [
             0.2,
             "rgb(214,96,77)"
            ],
            [
             0.3,
             "rgb(244,165,130)"
            ],
            [
             0.4,
             "rgb(253,219,199)"
            ],
            [
             0.5,
             "rgb(247,247,247)"
            ],
            [
             0.6,
             "rgb(209,229,240)"
            ],
            [
             0.7,
             "rgb(146,197,222)"
            ],
            [
             0.8,
             "rgb(67,147,195)"
            ],
            [
             0.9,
             "rgb(33,102,172)"
            ],
            [
             1,
             "rgb(5,48,97)"
            ]
           ],
           "sequential": [
            [
             0,
             "#440154"
            ],
            [
             0.1111111111111111,
             "#482878"
            ],
            [
             0.2222222222222222,
             "#3e4989"
            ],
            [
             0.3333333333333333,
             "#31688e"
            ],
            [
             0.4444444444444444,
             "#26828e"
            ],
            [
             0.5555555555555556,
             "#1f9e89"
            ],
            [
             0.6666666666666666,
             "#35b779"
            ],
            [
             0.7777777777777778,
             "#6ece58"
            ],
            [
             0.8888888888888888,
             "#b5de2b"
            ],
            [
             1,
             "#fde725"
            ]
           ],
           "sequentialminus": [
            [
             0,
             "#440154"
            ],
            [
             0.1111111111111111,
             "#482878"
            ],
            [
             0.2222222222222222,
             "#3e4989"
            ],
            [
             0.3333333333333333,
             "#31688e"
            ],
            [
             0.4444444444444444,
             "#26828e"
            ],
            [
             0.5555555555555556,
             "#1f9e89"
            ],
            [
             0.6666666666666666,
             "#35b779"
            ],
            [
             0.7777777777777778,
             "#6ece58"
            ],
            [
             0.8888888888888888,
             "#b5de2b"
            ],
            [
             1,
             "#fde725"
            ]
           ]
          },
          "colorway": [
           "#1F77B4",
           "#FF7F0E",
           "#2CA02C",
           "#D62728",
           "#9467BD",
           "#8C564B",
           "#E377C2",
           "#7F7F7F",
           "#BCBD22",
           "#17BECF"
          ],
          "font": {
           "color": "rgb(36,36,36)"
          },
          "geo": {
           "bgcolor": "white",
           "lakecolor": "white",
           "landcolor": "white",
           "showlakes": true,
           "showland": true,
           "subunitcolor": "white"
          },
          "hoverlabel": {
           "align": "left"
          },
          "hovermode": "closest",
          "mapbox": {
           "style": "light"
          },
          "paper_bgcolor": "white",
          "plot_bgcolor": "white",
          "polar": {
           "angularaxis": {
            "gridcolor": "rgb(232,232,232)",
            "linecolor": "rgb(36,36,36)",
            "showgrid": false,
            "showline": true,
            "ticks": "outside"
           },
           "bgcolor": "white",
           "radialaxis": {
            "gridcolor": "rgb(232,232,232)",
            "linecolor": "rgb(36,36,36)",
            "showgrid": false,
            "showline": true,
            "ticks": "outside"
           }
          },
          "scene": {
           "xaxis": {
            "backgroundcolor": "white",
            "gridcolor": "rgb(232,232,232)",
            "gridwidth": 2,
            "linecolor": "rgb(36,36,36)",
            "showbackground": true,
            "showgrid": false,
            "showline": true,
            "ticks": "outside",
            "zeroline": false,
            "zerolinecolor": "rgb(36,36,36)"
           },
           "yaxis": {
            "backgroundcolor": "white",
            "gridcolor": "rgb(232,232,232)",
            "gridwidth": 2,
            "linecolor": "rgb(36,36,36)",
            "showbackground": true,
            "showgrid": false,
            "showline": true,
            "ticks": "outside",
            "zeroline": false,
            "zerolinecolor": "rgb(36,36,36)"
           },
           "zaxis": {
            "backgroundcolor": "white",
            "gridcolor": "rgb(232,232,232)",
            "gridwidth": 2,
            "linecolor": "rgb(36,36,36)",
            "showbackground": true,
            "showgrid": false,
            "showline": true,
            "ticks": "outside",
            "zeroline": false,
            "zerolinecolor": "rgb(36,36,36)"
           }
          },
          "shapedefaults": {
           "fillcolor": "black",
           "line": {
            "width": 0
           },
           "opacity": 0.3
          },
          "ternary": {
           "aaxis": {
            "gridcolor": "rgb(232,232,232)",
            "linecolor": "rgb(36,36,36)",
            "showgrid": false,
            "showline": true,
            "ticks": "outside"
           },
           "baxis": {
            "gridcolor": "rgb(232,232,232)",
            "linecolor": "rgb(36,36,36)",
            "showgrid": false,
            "showline": true,
            "ticks": "outside"
           },
           "bgcolor": "white",
           "caxis": {
            "gridcolor": "rgb(232,232,232)",
            "linecolor": "rgb(36,36,36)",
            "showgrid": false,
            "showline": true,
            "ticks": "outside"
           }
          },
          "title": {
           "x": 0.05
          },
          "xaxis": {
           "automargin": true,
           "gridcolor": "rgb(232,232,232)",
           "linecolor": "rgb(36,36,36)",
           "showgrid": false,
           "showline": true,
           "ticks": "outside",
           "title": {
            "standoff": 15
           },
           "zeroline": false,
           "zerolinecolor": "rgb(36,36,36)"
          },
          "yaxis": {
           "automargin": true,
           "gridcolor": "rgb(232,232,232)",
           "linecolor": "rgb(36,36,36)",
           "showgrid": false,
           "showline": true,
           "ticks": "outside",
           "title": {
            "standoff": 15
           },
           "zeroline": false,
           "zerolinecolor": "rgb(36,36,36)"
          }
         }
        },
        "title": {
         "text": "Perplexity = 10"
        },
        "xaxis": {
         "anchor": "y",
         "domain": [
          0,
          1
         ],
         "title": {
          "text": "x"
         }
        },
        "yaxis": {
         "anchor": "x",
         "domain": [
          0,
          1
         ],
         "title": {
          "text": "y"
         }
        }
       }
      },
      "text/html": [
       "<div>                            <div id=\"cf7c79b6-0d45-4124-80ca-3570a472dc4c\" class=\"plotly-graph-div\" style=\"height:525px; width:100%;\"></div>            <script type=\"text/javascript\">                require([\"plotly\"], function(Plotly) {                    window.PLOTLYENV=window.PLOTLYENV || {};                                    if (document.getElementById(\"cf7c79b6-0d45-4124-80ca-3570a472dc4c\")) {                    Plotly.newPlot(                        \"cf7c79b6-0d45-4124-80ca-3570a472dc4c\",                        [{\"customdata\":[[1,0,1,0,0,0,0,0],[1,1,0,0,0,0,0,0],[1,0,0,0,0,1,0,0],[1,1,1,0,0,0,0,0],[1,1,0,0,1,0,0,0],[1,1,1,0,0,0,0,0],[1,1,0,0,1,1,0,0],[1,0,1,0,0,0,0,0],[1,1,0,0,0,0,0,0],[1,1,0,0,1,0,0,0],[1,0,0,0,0,0,0,0],[1,1,1,0,0,0,0,0],[1,0,0,0,0,0,0,0],[1,0,0,0,1,0,0,0],[0,1,0,0,0,0,0,0],[1,0,0,0,0,1,0,0],[1,1,1,0,0,1,0,0],[1,0,0,0,1,0,0,0],[1,1,1,0,0,1,0,0],[1,1,0,0,0,0,0,0],[1,0,0,0,0,0,0,0],[1,1,1,0,1,1,0,0],[1,0,0,0,1,0,0,0],[1,0,0,0,1,0,0,0],[1,0,0,0,1,0,0,0],[1,0,0,0,0,0,0,0],[1,0,1,1,1,0,0,0],[1,1,0,0,0,0,0,0],[1,1,0,0,1,0,0,0],[1,0,0,0,1,0,0,0],[1,0,1,0,0,0,0,0],[1,0,0,0,0,1,0,0],[0,0,1,0,0,0,0,0],[1,1,0,0,1,0,0,0],[1,1,0,1,1,1,0,0],[1,1,0,0,0,0,0,0],[0,1,1,0,0,0,0,0],[1,0,1,0,0,0,0,0],[1,0,0,0,0,0,0,0],[1,1,0,0,0,0,0,0],[1,1,1,0,0,0,0,0],[1,0,0,0,0,1,0,0],[1,0,0,0,1,0,0,0],[1,1,0,0,0,0,0,0],[1,0,1,0,1,0,0,0],[1,1,0,0,0,0,0,0],[1,0,0,0,0,0,0,0],[1,1,0,1,1,0,0,0],[0,0,1,0,0,1,0,0],[1,1,1,0,0,0,0,0],[1,1,0,0,0,1,0,0],[1,1,0,0,0,1,0,0],[1,0,1,0,1,1,0,0],[1,0,0,0,0,0,0,0],[1,1,0,0,0,0,0,0],[1,1,1,0,1,1,0,0],[1,0,1,0,0,1,0,0],[1,1,1,1,1,0,0,0],[1,1,1,0,0,0,0,0],[1,1,1,0,1,0,0,0],[1,0,1,0,0,0,0,0],[1,1,0,0,0,0,0,0],[0,0,1,0,1,1,0,0],[1,0,1,1,1,0,0,0],[1,1,1,0,1,0,0,0],[1,1,0,0,0,0,0,0],[0,0,1,1,1,0,0,0],[0,0,0,0,0,0,0,0],[1,1,1,0,0,0,0,0],[1,1,1,0,1,0,0,0],[1,1,1,0,1,1,0,0],[1,0,0,0,0,1,0,0],[1,1,0,1,1,1,0,0],[1,1,0,1,1,1,0,0],[1,1,0,0,1,1,0,0],[1,0,0,0,0,0,0,0],[1,1,0,1,0,0,0,0],[1,1,0,0,0,1,0,0],[1,1,0,1,1,0,0,0],[1,1,1,0,1,0,0,0],[1,1,0,0,1,1,0,0],[1,1,0,0,0,0,0,0],[1,1,0,0,1,0,0,0],[1,1,0,1,1,0,0,0],[1,1,1,0,0,1,0,0],[1,0,0,0,0,0,0,0],[1,0,0,0,0,0,0,0],[1,0,0,0,0,0,0,0],[1,1,0,0,1,1,0,0],[1,1,1,0,0,1,0,0],[1,0,0,0,0,0,0,0],[1,1,0,0,0,0,0,0],[1,1,1,0,1,1,0,0],[1,0,1,1,0,1,0,0],[1,0,0,0,0,0,0,0],[0,0,0,0,0,1,0,0],[1,1,0,0,1,0,0,0],[1,1,0,0,0,0,0,0],[1,1,0,0,0,1,0,0],[1,0,0,0,1,1,0,0],[0,0,0,0,0,1,0,0],[1,0,1,0,0,0,0,0],[1,1,1,0,1,0,0,0],[1,1,1,0,1,1,0,0],[0,1,0,0,0,0,0,0],[1,0,1,0,0,0,0,0],[1,0,0,0,0,0,0,0],[1,0,0,1,1,1,0,0],[1,1,1,0,0,0,0,0],[1,1,0,0,1,0,0,0],[1,1,0,0,1,0,0,0],[1,1,0,0,0,1,0,0],[1,1,0,0,0,0,0,0],[1,1,0,0,0,0,0,0],[1,0,0,0,0,1,0,0],[1,1,1,0,0,0,0,0],[1,0,0,0,1,0,0,0],[1,1,0,1,0,0,0,0],[1,1,0,0,0,1,0,0],[0,0,0,0,1,0,0,0],[1,0,0,0,0,0,0,0],[1,1,1,0,0,0,0,0],[1,0,0,0,0,0,0,0],[1,0,1,0,0,0,0,0],[1,1,0,0,0,0,0,0],[1,0,0,0,1,0,0,0],[1,0,1,0,0,0,0,0],[0,0,0,0,1,0,0,0],[1,0,0,0,0,0,0,0],[1,1,0,0,0,0,0,0],[1,0,0,0,0,0,0,0],[1,0,0,1,0,0,0,0],[1,0,0,0,0,0,0,0],[1,1,0,0,0,0,0,0],[1,0,0,0,0,0,0,0],[1,0,0,1,0,0,0,0],[1,1,1,0,1,0,0,1],[1,0,0,0,1,1,0,0],[1,1,0,0,0,0,0,0]],\"hovertemplate\":\"x=%{x}<br>y=%{y}<br>Stretching=%{customdata[0]}<br>Warm Up=%{customdata[1]}<br>Strength Exercises=%{customdata[2]}<br>Bracing=%{customdata[3]}<br>Taping=%{customdata[4]}<br>Shoe Insoles=%{customdata[5]}<br>Face Masks=%{customdata[6]}<br>Medical Corset=%{customdata[7]}<extra></extra>\",\"legendgroup\":\"\",\"marker\":{\"color\":\"#1F77B4\",\"symbol\":\"circle\"},\"mode\":\"markers\",\"name\":\"\",\"orientation\":\"v\",\"showlegend\":false,\"x\":[1.070213794708252,-21.927650451660156,13.694175720214844,-1.870776891708374,-5.268289089202881,-1.86904776096344,5.983511447906494,0.9572268724441528,-21.554170608520508,-4.4072747230529785,22.505191802978516,-2.8128597736358643,25.050146102905273,4.9326605796813965,-13.472149848937988,13.921871185302734,8.372968673706055,5.03702974319458,8.398212432861328,-23.916690826416016,25.974191665649414,4.916413307189941,4.587835788726807,4.435245513916016,5.179297924041748,24.91359519958496,-5.367011547088623,-19.70083236694336,-4.784262657165527,4.097439765930176,0.5686483383178711,13.314106941223145,-12.883505821228027,-5.388136386871338,-1.67673921585083,-23.50038719177246,-13.52861213684082,0.8139803409576416,21.040630340576172,-20.50436782836914,-2.3702502250671387,13.181601524353027,3.9831154346466064,-20.131961822509766,-0.9421797394752502,-20.28125762939453,25.968236923217773,-3.5929815769195557,-11.861457824707031,-2.993253469467163,9.6961669921875,9.481973648071289,6.407689571380615,21.1823787689209,-20.07215118408203,4.784212589263916,9.053522109985352,-4.878962993621826,-2.808124542236328,-1.5102754831314087,0.2847098708152771,-21.60048484802246,-11.811936378479004,-5.3582611083984375,-1.2199372053146362,-22.396873474121094,-7.211122989654541,-12.273392677307129,-1.5393234491348267,-0.9599536657333374,5.276549816131592,13.773316383361816,-1.68693208694458,-1.6838644742965698,6.008078098297119,21.7200984954834,-3.6506552696228027,9.405298233032227,-3.5938596725463867,-1.0762708187103271,6.056061267852783,-20.566377639770508,-5.18254280090332,-3.5864057540893555,8.348621368408203,22.649869918823242,26.05912971496582,24.65462303161621,6.035683631896973,8.48165225982666,23.377426147460938,-20.520832061767578,5.041934490203857,-3.565646171569824,24.72174072265625,-11.199644088745117,-4.495600700378418,-23.05280113220215,9.832184791564941,8.835349082946777,-11.199051856994629,0.3900497257709503,-1.2503583431243896,5.179435729980469,-13.480794906616211,1.3177765607833862,24.548023223876953,-2.0212812423706055,-2.251957893371582,-4.90032434463501,-4.304645538330078,10.052453994750977,-22.278654098510742,-21.901351928710938,13.403631210327148,-1.547561526298523,4.51156759262085,-3.652129888534546,10.117218017578125,-11.421577453613281,23.638715744018555,-2.3753457069396973,22.70489501953125,1.608231544494629,-24.20343017578125,3.8447296619415283,1.5080279111862183,-11.422351837158203,22.243408203125,-21.684492111206055,23.175180435180664,-2.57170033454895,22.584285736083984,-23.477401733398438,24.00971221923828,-2.5725903511047363,-2.4466030597686768,8.839009284973145,-23.596548080444336],\"xaxis\":\"x\",\"y\":[32.93463134765625,-10.702205657958984,4.502562999725342,21.04391860961914,-13.79439926147461,22.330326080322266,4.645512104034424,32.280941009521484,-6.81946325302124,-13.110016822814941,-6.948596954345703,22.16596031188965,-8.709317207336426,-15.570568084716797,2.843050241470337,4.793923854827881,12.288939476013184,-14.621914863586426,12.274003982543945,-8.08268928527832,-6.60469913482666,9.693034172058105,-14.371384620666504,-15.71551513671875,-15.116900444030762,-7.717589378356934,0.44498148560523987,-10.920391082763672,-12.904671669006348,-14.516599655151367,32.832332611083984,4.559751510620117,4.14289665222168,-13.390362739562988,-0.2390674203634262,-9.410953521728516,3.805633544921875,31.616727828979492,-8.899091720581055,-8.86716365814209,22.415864944458008,4.903456687927246,-15.45787525177002,-7.852837562561035,12.999614715576172,-11.542637825012207,-6.4006781578063965,-1.5162907838821411,5.152232646942139,21.68474578857422,1.1081690788269043,1.7135659456253052,9.294535636901855,-8.653523445129395,-11.472257614135742,9.991747856140137,11.102933883666992,-0.4090687334537506,21.214122772216797,14.357549667358398,32.39737319946289,-8.88321304321289,5.509599208831787,0.4448010325431824,14.620519638061523,-8.517143249511719,1.2416867017745972,3.147794008255005,21.933717727661133,14.537015914916992,10.076994895935059,5.148735046386719,-0.24093401432037354,-0.23510511219501495,4.6777663230896,-6.949935436248779,-3.3511133193969727,1.3496301174163818,-1.5384389162063599,14.059807777404785,4.6468095779418945,-9.579306602478027,-13.02712345123291,-1.5204176902770996,12.285042762756348,-7.402076721191406,-8.221640586853027,-7.006463527679443,4.736282825469971,12.128861427307129,-10.141645431518555,-8.456783294677734,10.224798202514648,1.4351418018341064,-7.441184997558594,4.492465972900391,-13.879977226257324,-9.098058700561523,1.8358380794525146,6.065138816833496,4.493861675262451,31.903772354125977,14.17611312866211,9.723243713378906,2.8367767333984375,31.708654403686523,-6.887484550476074,0.5472560524940491,21.691940307617188,-13.997478485107422,-13.509340286254883,1.2288663387298584,-7.409849166870117,-9.018385887145996,5.200874328613281,21.43244743347168,-15.046844482421875,-3.3495516777038574,1.5958364009857178,2.4367082118988037,-5.648277282714844,20.950077056884766,-7.415236949920654,32.144100189208984,-9.878899574279785,-14.960782051086426,32.65275955200195,2.4340720176696777,-8.567228317260742,-9.810952186584473,-9.55844783782959,-4.094658374786377,-8.946533203125,-8.910300254821777,-9.058403968811035,-4.094182014465332,15.007418632507324,6.065739631652832,-7.7603960037231445],\"yaxis\":\"y\",\"type\":\"scatter\"}],                        {\"template\":{\"data\":{\"barpolar\":[{\"marker\":{\"line\":{\"color\":\"white\",\"width\":0.5},\"pattern\":{\"fillmode\":\"overlay\",\"size\":10,\"solidity\":0.2}},\"type\":\"barpolar\"}],\"bar\":[{\"error_x\":{\"color\":\"rgb(36,36,36)\"},\"error_y\":{\"color\":\"rgb(36,36,36)\"},\"marker\":{\"line\":{\"color\":\"white\",\"width\":0.5},\"pattern\":{\"fillmode\":\"overlay\",\"size\":10,\"solidity\":0.2}},\"type\":\"bar\"}],\"carpet\":[{\"aaxis\":{\"endlinecolor\":\"rgb(36,36,36)\",\"gridcolor\":\"white\",\"linecolor\":\"white\",\"minorgridcolor\":\"white\",\"startlinecolor\":\"rgb(36,36,36)\"},\"baxis\":{\"endlinecolor\":\"rgb(36,36,36)\",\"gridcolor\":\"white\",\"linecolor\":\"white\",\"minorgridcolor\":\"white\",\"startlinecolor\":\"rgb(36,36,36)\"},\"type\":\"carpet\"}],\"choropleth\":[{\"colorbar\":{\"outlinewidth\":1,\"tickcolor\":\"rgb(36,36,36)\",\"ticks\":\"outside\"},\"type\":\"choropleth\"}],\"contourcarpet\":[{\"colorbar\":{\"outlinewidth\":1,\"tickcolor\":\"rgb(36,36,36)\",\"ticks\":\"outside\"},\"type\":\"contourcarpet\"}],\"contour\":[{\"colorbar\":{\"outlinewidth\":1,\"tickcolor\":\"rgb(36,36,36)\",\"ticks\":\"outside\"},\"colorscale\":[[0.0,\"#440154\"],[0.1111111111111111,\"#482878\"],[0.2222222222222222,\"#3e4989\"],[0.3333333333333333,\"#31688e\"],[0.4444444444444444,\"#26828e\"],[0.5555555555555556,\"#1f9e89\"],[0.6666666666666666,\"#35b779\"],[0.7777777777777778,\"#6ece58\"],[0.8888888888888888,\"#b5de2b\"],[1.0,\"#fde725\"]],\"type\":\"contour\"}],\"heatmapgl\":[{\"colorbar\":{\"outlinewidth\":1,\"tickcolor\":\"rgb(36,36,36)\",\"ticks\":\"outside\"},\"colorscale\":[[0.0,\"#440154\"],[0.1111111111111111,\"#482878\"],[0.2222222222222222,\"#3e4989\"],[0.3333333333333333,\"#31688e\"],[0.4444444444444444,\"#26828e\"],[0.5555555555555556,\"#1f9e89\"],[0.6666666666666666,\"#35b779\"],[0.7777777777777778,\"#6ece58\"],[0.8888888888888888,\"#b5de2b\"],[1.0,\"#fde725\"]],\"type\":\"heatmapgl\"}],\"heatmap\":[{\"colorbar\":{\"outlinewidth\":1,\"tickcolor\":\"rgb(36,36,36)\",\"ticks\":\"outside\"},\"colorscale\":[[0.0,\"#440154\"],[0.1111111111111111,\"#482878\"],[0.2222222222222222,\"#3e4989\"],[0.3333333333333333,\"#31688e\"],[0.4444444444444444,\"#26828e\"],[0.5555555555555556,\"#1f9e89\"],[0.6666666666666666,\"#35b779\"],[0.7777777777777778,\"#6ece58\"],[0.8888888888888888,\"#b5de2b\"],[1.0,\"#fde725\"]],\"type\":\"heatmap\"}],\"histogram2dcontour\":[{\"colorbar\":{\"outlinewidth\":1,\"tickcolor\":\"rgb(36,36,36)\",\"ticks\":\"outside\"},\"colorscale\":[[0.0,\"#440154\"],[0.1111111111111111,\"#482878\"],[0.2222222222222222,\"#3e4989\"],[0.3333333333333333,\"#31688e\"],[0.4444444444444444,\"#26828e\"],[0.5555555555555556,\"#1f9e89\"],[0.6666666666666666,\"#35b779\"],[0.7777777777777778,\"#6ece58\"],[0.8888888888888888,\"#b5de2b\"],[1.0,\"#fde725\"]],\"type\":\"histogram2dcontour\"}],\"histogram2d\":[{\"colorbar\":{\"outlinewidth\":1,\"tickcolor\":\"rgb(36,36,36)\",\"ticks\":\"outside\"},\"colorscale\":[[0.0,\"#440154\"],[0.1111111111111111,\"#482878\"],[0.2222222222222222,\"#3e4989\"],[0.3333333333333333,\"#31688e\"],[0.4444444444444444,\"#26828e\"],[0.5555555555555556,\"#1f9e89\"],[0.6666666666666666,\"#35b779\"],[0.7777777777777778,\"#6ece58\"],[0.8888888888888888,\"#b5de2b\"],[1.0,\"#fde725\"]],\"type\":\"histogram2d\"}],\"histogram\":[{\"marker\":{\"line\":{\"color\":\"white\",\"width\":0.6}},\"type\":\"histogram\"}],\"mesh3d\":[{\"colorbar\":{\"outlinewidth\":1,\"tickcolor\":\"rgb(36,36,36)\",\"ticks\":\"outside\"},\"type\":\"mesh3d\"}],\"parcoords\":[{\"line\":{\"colorbar\":{\"outlinewidth\":1,\"tickcolor\":\"rgb(36,36,36)\",\"ticks\":\"outside\"}},\"type\":\"parcoords\"}],\"pie\":[{\"automargin\":true,\"type\":\"pie\"}],\"scatter3d\":[{\"line\":{\"colorbar\":{\"outlinewidth\":1,\"tickcolor\":\"rgb(36,36,36)\",\"ticks\":\"outside\"}},\"marker\":{\"colorbar\":{\"outlinewidth\":1,\"tickcolor\":\"rgb(36,36,36)\",\"ticks\":\"outside\"}},\"type\":\"scatter3d\"}],\"scattercarpet\":[{\"marker\":{\"colorbar\":{\"outlinewidth\":1,\"tickcolor\":\"rgb(36,36,36)\",\"ticks\":\"outside\"}},\"type\":\"scattercarpet\"}],\"scattergeo\":[{\"marker\":{\"colorbar\":{\"outlinewidth\":1,\"tickcolor\":\"rgb(36,36,36)\",\"ticks\":\"outside\"}},\"type\":\"scattergeo\"}],\"scattergl\":[{\"marker\":{\"colorbar\":{\"outlinewidth\":1,\"tickcolor\":\"rgb(36,36,36)\",\"ticks\":\"outside\"}},\"type\":\"scattergl\"}],\"scattermapbox\":[{\"marker\":{\"colorbar\":{\"outlinewidth\":1,\"tickcolor\":\"rgb(36,36,36)\",\"ticks\":\"outside\"}},\"type\":\"scattermapbox\"}],\"scatterpolargl\":[{\"marker\":{\"colorbar\":{\"outlinewidth\":1,\"tickcolor\":\"rgb(36,36,36)\",\"ticks\":\"outside\"}},\"type\":\"scatterpolargl\"}],\"scatterpolar\":[{\"marker\":{\"colorbar\":{\"outlinewidth\":1,\"tickcolor\":\"rgb(36,36,36)\",\"ticks\":\"outside\"}},\"type\":\"scatterpolar\"}],\"scatter\":[{\"fillpattern\":{\"fillmode\":\"overlay\",\"size\":10,\"solidity\":0.2},\"type\":\"scatter\"}],\"scatterternary\":[{\"marker\":{\"colorbar\":{\"outlinewidth\":1,\"tickcolor\":\"rgb(36,36,36)\",\"ticks\":\"outside\"}},\"type\":\"scatterternary\"}],\"surface\":[{\"colorbar\":{\"outlinewidth\":1,\"tickcolor\":\"rgb(36,36,36)\",\"ticks\":\"outside\"},\"colorscale\":[[0.0,\"#440154\"],[0.1111111111111111,\"#482878\"],[0.2222222222222222,\"#3e4989\"],[0.3333333333333333,\"#31688e\"],[0.4444444444444444,\"#26828e\"],[0.5555555555555556,\"#1f9e89\"],[0.6666666666666666,\"#35b779\"],[0.7777777777777778,\"#6ece58\"],[0.8888888888888888,\"#b5de2b\"],[1.0,\"#fde725\"]],\"type\":\"surface\"}],\"table\":[{\"cells\":{\"fill\":{\"color\":\"rgb(237,237,237)\"},\"line\":{\"color\":\"white\"}},\"header\":{\"fill\":{\"color\":\"rgb(217,217,217)\"},\"line\":{\"color\":\"white\"}},\"type\":\"table\"}]},\"layout\":{\"annotationdefaults\":{\"arrowhead\":0,\"arrowwidth\":1},\"autotypenumbers\":\"strict\",\"coloraxis\":{\"colorbar\":{\"outlinewidth\":1,\"tickcolor\":\"rgb(36,36,36)\",\"ticks\":\"outside\"}},\"colorscale\":{\"diverging\":[[0.0,\"rgb(103,0,31)\"],[0.1,\"rgb(178,24,43)\"],[0.2,\"rgb(214,96,77)\"],[0.3,\"rgb(244,165,130)\"],[0.4,\"rgb(253,219,199)\"],[0.5,\"rgb(247,247,247)\"],[0.6,\"rgb(209,229,240)\"],[0.7,\"rgb(146,197,222)\"],[0.8,\"rgb(67,147,195)\"],[0.9,\"rgb(33,102,172)\"],[1.0,\"rgb(5,48,97)\"]],\"sequential\":[[0.0,\"#440154\"],[0.1111111111111111,\"#482878\"],[0.2222222222222222,\"#3e4989\"],[0.3333333333333333,\"#31688e\"],[0.4444444444444444,\"#26828e\"],[0.5555555555555556,\"#1f9e89\"],[0.6666666666666666,\"#35b779\"],[0.7777777777777778,\"#6ece58\"],[0.8888888888888888,\"#b5de2b\"],[1.0,\"#fde725\"]],\"sequentialminus\":[[0.0,\"#440154\"],[0.1111111111111111,\"#482878\"],[0.2222222222222222,\"#3e4989\"],[0.3333333333333333,\"#31688e\"],[0.4444444444444444,\"#26828e\"],[0.5555555555555556,\"#1f9e89\"],[0.6666666666666666,\"#35b779\"],[0.7777777777777778,\"#6ece58\"],[0.8888888888888888,\"#b5de2b\"],[1.0,\"#fde725\"]]},\"colorway\":[\"#1F77B4\",\"#FF7F0E\",\"#2CA02C\",\"#D62728\",\"#9467BD\",\"#8C564B\",\"#E377C2\",\"#7F7F7F\",\"#BCBD22\",\"#17BECF\"],\"font\":{\"color\":\"rgb(36,36,36)\"},\"geo\":{\"bgcolor\":\"white\",\"lakecolor\":\"white\",\"landcolor\":\"white\",\"showlakes\":true,\"showland\":true,\"subunitcolor\":\"white\"},\"hoverlabel\":{\"align\":\"left\"},\"hovermode\":\"closest\",\"mapbox\":{\"style\":\"light\"},\"paper_bgcolor\":\"white\",\"plot_bgcolor\":\"white\",\"polar\":{\"angularaxis\":{\"gridcolor\":\"rgb(232,232,232)\",\"linecolor\":\"rgb(36,36,36)\",\"showgrid\":false,\"showline\":true,\"ticks\":\"outside\"},\"bgcolor\":\"white\",\"radialaxis\":{\"gridcolor\":\"rgb(232,232,232)\",\"linecolor\":\"rgb(36,36,36)\",\"showgrid\":false,\"showline\":true,\"ticks\":\"outside\"}},\"scene\":{\"xaxis\":{\"backgroundcolor\":\"white\",\"gridcolor\":\"rgb(232,232,232)\",\"gridwidth\":2,\"linecolor\":\"rgb(36,36,36)\",\"showbackground\":true,\"showgrid\":false,\"showline\":true,\"ticks\":\"outside\",\"zeroline\":false,\"zerolinecolor\":\"rgb(36,36,36)\"},\"yaxis\":{\"backgroundcolor\":\"white\",\"gridcolor\":\"rgb(232,232,232)\",\"gridwidth\":2,\"linecolor\":\"rgb(36,36,36)\",\"showbackground\":true,\"showgrid\":false,\"showline\":true,\"ticks\":\"outside\",\"zeroline\":false,\"zerolinecolor\":\"rgb(36,36,36)\"},\"zaxis\":{\"backgroundcolor\":\"white\",\"gridcolor\":\"rgb(232,232,232)\",\"gridwidth\":2,\"linecolor\":\"rgb(36,36,36)\",\"showbackground\":true,\"showgrid\":false,\"showline\":true,\"ticks\":\"outside\",\"zeroline\":false,\"zerolinecolor\":\"rgb(36,36,36)\"}},\"shapedefaults\":{\"fillcolor\":\"black\",\"line\":{\"width\":0},\"opacity\":0.3},\"ternary\":{\"aaxis\":{\"gridcolor\":\"rgb(232,232,232)\",\"linecolor\":\"rgb(36,36,36)\",\"showgrid\":false,\"showline\":true,\"ticks\":\"outside\"},\"baxis\":{\"gridcolor\":\"rgb(232,232,232)\",\"linecolor\":\"rgb(36,36,36)\",\"showgrid\":false,\"showline\":true,\"ticks\":\"outside\"},\"bgcolor\":\"white\",\"caxis\":{\"gridcolor\":\"rgb(232,232,232)\",\"linecolor\":\"rgb(36,36,36)\",\"showgrid\":false,\"showline\":true,\"ticks\":\"outside\"}},\"title\":{\"x\":0.05},\"xaxis\":{\"automargin\":true,\"gridcolor\":\"rgb(232,232,232)\",\"linecolor\":\"rgb(36,36,36)\",\"showgrid\":false,\"showline\":true,\"ticks\":\"outside\",\"title\":{\"standoff\":15},\"zeroline\":false,\"zerolinecolor\":\"rgb(36,36,36)\"},\"yaxis\":{\"automargin\":true,\"gridcolor\":\"rgb(232,232,232)\",\"linecolor\":\"rgb(36,36,36)\",\"showgrid\":false,\"showline\":true,\"ticks\":\"outside\",\"title\":{\"standoff\":15},\"zeroline\":false,\"zerolinecolor\":\"rgb(36,36,36)\"}}},\"xaxis\":{\"anchor\":\"y\",\"domain\":[0.0,1.0],\"title\":{\"text\":\"x\"}},\"yaxis\":{\"anchor\":\"x\",\"domain\":[0.0,1.0],\"title\":{\"text\":\"y\"}},\"legend\":{\"tracegroupgap\":0},\"title\":{\"text\":\"Perplexity = 10\"}},                        {\"responsive\": true}                    ).then(function(){\n",
       "                            \n",
       "var gd = document.getElementById('cf7c79b6-0d45-4124-80ca-3570a472dc4c');\n",
       "var x = new MutationObserver(function (mutations, observer) {{\n",
       "        var display = window.getComputedStyle(gd).display;\n",
       "        if (!display || display === 'none') {{\n",
       "            console.log([gd, 'removed!']);\n",
       "            Plotly.purge(gd);\n",
       "            observer.disconnect();\n",
       "        }}\n",
       "}});\n",
       "\n",
       "// Listen for the removal of the full notebook cells\n",
       "var notebookContainer = gd.closest('#notebook-container');\n",
       "if (notebookContainer) {{\n",
       "    x.observe(notebookContainer, {childList: true});\n",
       "}}\n",
       "\n",
       "// Listen for the clearing of the current output cell\n",
       "var outputEl = gd.closest('.output');\n",
       "if (outputEl) {{\n",
       "    x.observe(outputEl, {childList: true});\n",
       "}}\n",
       "\n",
       "                        })                };                });            </script>        </div>"
      ]
     },
     "metadata": {},
     "output_type": "display_data"
    },
    {
     "data": {
      "text/html": [
       "\n",
       "        <iframe\n",
       "            width=\"800\"\n",
       "            height=\"600\"\n",
       "            src=\"per10_interactive.html\"\n",
       "            frameborder=\"0\"\n",
       "            allowfullscreen\n",
       "            \n",
       "        ></iframe>\n",
       "        "
      ],
      "text/plain": [
       "<IPython.lib.display.IFrame at 0x166231f50>"
      ]
     },
     "execution_count": 114,
     "metadata": {},
     "output_type": "execute_result"
    }
   ],
   "source": [
    "\n",
    "X_embedded = TSNE(n_components=2, learning_rate='auto',init='random', perplexity=10).fit_transform(X)\n",
    "\n",
    "data = {\n",
    "    'x': X_embedded[:, 0],\n",
    "    'y': X_embedded[:, 1],\n",
    "    'Stretching': si_subset[\"Prevention Measure Stretching\"],\n",
    "    'Warm Up': si_subset[\"Prevention Measure Warm Up\"],\n",
    "    'Strength Exercises': si_subset[\"Prevention Measure Specific Strength Exercises\"],\n",
    "    'Bracing': si_subset[\"Prevention Measure Bracing\"],\n",
    "    'Taping': si_subset[\"Prevention Measure Taping\"],\n",
    "    'Shoe Insoles': si_subset[\"Prevention Measure Shoe Insoles\"],\n",
    "    'Face Masks': si_subset[\"Prevention Measure Face Masks\"],\n",
    "    'Medical Corset': si_subset[\"Prevention Measure Medical Corset\"]\n",
    "}\n",
    "\n",
    "df = pd.DataFrame(data)\n",
    "\n",
    "print(\"RESULTS\") \n",
    "print(\"shape : \",X_embedded.shape)\n",
    "print(\"First few points : \\n\",X_embedded[0:2,:])\n",
    "\n",
    "scatter_fig_10 = px.scatter(df, x='x', y='y', \n",
    "                         hover_data=['Stretching', 'Warm Up', \"Strength Exercises\", \"Bracing\", \"Taping\", \"Shoe Insoles\", \"Face Masks\", \"Medical Corset\"], \n",
    "                         template='simple_white',\n",
    "                         title='Perplexity = 10')\n",
    "\n",
    "scatter_fig_10.show()\n",
    "\n",
    "pio.renderers.default = \"plotly_mimetype+notebook_connected\"\n",
    "plotly.offline.plot(scatter_fig_10, filename='per10_interactive.html')\n",
    "\n",
    "IFrame(src='per10_interactive.html', width=800, height=600)\n"
   ]
  },
  {
   "cell_type": "markdown",
   "metadata": {},
   "source": [
    "#### Perplexity = 30"
   ]
  },
  {
   "cell_type": "code",
   "execution_count": 115,
   "metadata": {},
   "outputs": [
    {
     "name": "stdout",
     "output_type": "stream",
     "text": [
      "RESULTS\n",
      "shape :  (139, 2)\n",
      "First few points : \n",
      " [[ 5.318501   3.3097527]\n",
      " [-0.8121508 -6.4789705]]\n"
     ]
    },
    {
     "data": {
      "text/html": [
       "        <script type=\"text/javascript\">\n",
       "        window.PlotlyConfig = {MathJaxConfig: 'local'};\n",
       "        if (window.MathJax && window.MathJax.Hub && window.MathJax.Hub.Config) {window.MathJax.Hub.Config({SVG: {font: \"STIX-Web\"}});}\n",
       "        if (typeof require !== 'undefined') {\n",
       "        require.undef(\"plotly\");\n",
       "        requirejs.config({\n",
       "            paths: {\n",
       "                'plotly': ['https://cdn.plot.ly/plotly-2.12.1.min']\n",
       "            }\n",
       "        });\n",
       "        require(['plotly'], function(Plotly) {\n",
       "            window._Plotly = Plotly;\n",
       "        });\n",
       "        }\n",
       "        </script>\n",
       "        "
      ]
     },
     "metadata": {},
     "output_type": "display_data"
    },
    {
     "data": {
      "application/vnd.plotly.v1+json": {
       "config": {
        "plotlyServerURL": "https://plot.ly"
       },
       "data": [
        {
         "customdata": [
          [
           1,
           0,
           1,
           0,
           0,
           0,
           0,
           0
          ],
          [
           1,
           1,
           0,
           0,
           0,
           0,
           0,
           0
          ],
          [
           1,
           0,
           0,
           0,
           0,
           1,
           0,
           0
          ],
          [
           1,
           1,
           1,
           0,
           0,
           0,
           0,
           0
          ],
          [
           1,
           1,
           0,
           0,
           1,
           0,
           0,
           0
          ],
          [
           1,
           1,
           1,
           0,
           0,
           0,
           0,
           0
          ],
          [
           1,
           1,
           0,
           0,
           1,
           1,
           0,
           0
          ],
          [
           1,
           0,
           1,
           0,
           0,
           0,
           0,
           0
          ],
          [
           1,
           1,
           0,
           0,
           0,
           0,
           0,
           0
          ],
          [
           1,
           1,
           0,
           0,
           1,
           0,
           0,
           0
          ],
          [
           1,
           0,
           0,
           0,
           0,
           0,
           0,
           0
          ],
          [
           1,
           1,
           1,
           0,
           0,
           0,
           0,
           0
          ],
          [
           1,
           0,
           0,
           0,
           0,
           0,
           0,
           0
          ],
          [
           1,
           0,
           0,
           0,
           1,
           0,
           0,
           0
          ],
          [
           0,
           1,
           0,
           0,
           0,
           0,
           0,
           0
          ],
          [
           1,
           0,
           0,
           0,
           0,
           1,
           0,
           0
          ],
          [
           1,
           1,
           1,
           0,
           0,
           1,
           0,
           0
          ],
          [
           1,
           0,
           0,
           0,
           1,
           0,
           0,
           0
          ],
          [
           1,
           1,
           1,
           0,
           0,
           1,
           0,
           0
          ],
          [
           1,
           1,
           0,
           0,
           0,
           0,
           0,
           0
          ],
          [
           1,
           0,
           0,
           0,
           0,
           0,
           0,
           0
          ],
          [
           1,
           1,
           1,
           0,
           1,
           1,
           0,
           0
          ],
          [
           1,
           0,
           0,
           0,
           1,
           0,
           0,
           0
          ],
          [
           1,
           0,
           0,
           0,
           1,
           0,
           0,
           0
          ],
          [
           1,
           0,
           0,
           0,
           1,
           0,
           0,
           0
          ],
          [
           1,
           0,
           0,
           0,
           0,
           0,
           0,
           0
          ],
          [
           1,
           0,
           1,
           1,
           1,
           0,
           0,
           0
          ],
          [
           1,
           1,
           0,
           0,
           0,
           0,
           0,
           0
          ],
          [
           1,
           1,
           0,
           0,
           1,
           0,
           0,
           0
          ],
          [
           1,
           0,
           0,
           0,
           1,
           0,
           0,
           0
          ],
          [
           1,
           0,
           1,
           0,
           0,
           0,
           0,
           0
          ],
          [
           1,
           0,
           0,
           0,
           0,
           1,
           0,
           0
          ],
          [
           0,
           0,
           1,
           0,
           0,
           0,
           0,
           0
          ],
          [
           1,
           1,
           0,
           0,
           1,
           0,
           0,
           0
          ],
          [
           1,
           1,
           0,
           1,
           1,
           1,
           0,
           0
          ],
          [
           1,
           1,
           0,
           0,
           0,
           0,
           0,
           0
          ],
          [
           0,
           1,
           1,
           0,
           0,
           0,
           0,
           0
          ],
          [
           1,
           0,
           1,
           0,
           0,
           0,
           0,
           0
          ],
          [
           1,
           0,
           0,
           0,
           0,
           0,
           0,
           0
          ],
          [
           1,
           1,
           0,
           0,
           0,
           0,
           0,
           0
          ],
          [
           1,
           1,
           1,
           0,
           0,
           0,
           0,
           0
          ],
          [
           1,
           0,
           0,
           0,
           0,
           1,
           0,
           0
          ],
          [
           1,
           0,
           0,
           0,
           1,
           0,
           0,
           0
          ],
          [
           1,
           1,
           0,
           0,
           0,
           0,
           0,
           0
          ],
          [
           1,
           0,
           1,
           0,
           1,
           0,
           0,
           0
          ],
          [
           1,
           1,
           0,
           0,
           0,
           0,
           0,
           0
          ],
          [
           1,
           0,
           0,
           0,
           0,
           0,
           0,
           0
          ],
          [
           1,
           1,
           0,
           1,
           1,
           0,
           0,
           0
          ],
          [
           0,
           0,
           1,
           0,
           0,
           1,
           0,
           0
          ],
          [
           1,
           1,
           1,
           0,
           0,
           0,
           0,
           0
          ],
          [
           1,
           1,
           0,
           0,
           0,
           1,
           0,
           0
          ],
          [
           1,
           1,
           0,
           0,
           0,
           1,
           0,
           0
          ],
          [
           1,
           0,
           1,
           0,
           1,
           1,
           0,
           0
          ],
          [
           1,
           0,
           0,
           0,
           0,
           0,
           0,
           0
          ],
          [
           1,
           1,
           0,
           0,
           0,
           0,
           0,
           0
          ],
          [
           1,
           1,
           1,
           0,
           1,
           1,
           0,
           0
          ],
          [
           1,
           0,
           1,
           0,
           0,
           1,
           0,
           0
          ],
          [
           1,
           1,
           1,
           1,
           1,
           0,
           0,
           0
          ],
          [
           1,
           1,
           1,
           0,
           0,
           0,
           0,
           0
          ],
          [
           1,
           1,
           1,
           0,
           1,
           0,
           0,
           0
          ],
          [
           1,
           0,
           1,
           0,
           0,
           0,
           0,
           0
          ],
          [
           1,
           1,
           0,
           0,
           0,
           0,
           0,
           0
          ],
          [
           0,
           0,
           1,
           0,
           1,
           1,
           0,
           0
          ],
          [
           1,
           0,
           1,
           1,
           1,
           0,
           0,
           0
          ],
          [
           1,
           1,
           1,
           0,
           1,
           0,
           0,
           0
          ],
          [
           1,
           1,
           0,
           0,
           0,
           0,
           0,
           0
          ],
          [
           0,
           0,
           1,
           1,
           1,
           0,
           0,
           0
          ],
          [
           0,
           0,
           0,
           0,
           0,
           0,
           0,
           0
          ],
          [
           1,
           1,
           1,
           0,
           0,
           0,
           0,
           0
          ],
          [
           1,
           1,
           1,
           0,
           1,
           0,
           0,
           0
          ],
          [
           1,
           1,
           1,
           0,
           1,
           1,
           0,
           0
          ],
          [
           1,
           0,
           0,
           0,
           0,
           1,
           0,
           0
          ],
          [
           1,
           1,
           0,
           1,
           1,
           1,
           0,
           0
          ],
          [
           1,
           1,
           0,
           1,
           1,
           1,
           0,
           0
          ],
          [
           1,
           1,
           0,
           0,
           1,
           1,
           0,
           0
          ],
          [
           1,
           0,
           0,
           0,
           0,
           0,
           0,
           0
          ],
          [
           1,
           1,
           0,
           1,
           0,
           0,
           0,
           0
          ],
          [
           1,
           1,
           0,
           0,
           0,
           1,
           0,
           0
          ],
          [
           1,
           1,
           0,
           1,
           1,
           0,
           0,
           0
          ],
          [
           1,
           1,
           1,
           0,
           1,
           0,
           0,
           0
          ],
          [
           1,
           1,
           0,
           0,
           1,
           1,
           0,
           0
          ],
          [
           1,
           1,
           0,
           0,
           0,
           0,
           0,
           0
          ],
          [
           1,
           1,
           0,
           0,
           1,
           0,
           0,
           0
          ],
          [
           1,
           1,
           0,
           1,
           1,
           0,
           0,
           0
          ],
          [
           1,
           1,
           1,
           0,
           0,
           1,
           0,
           0
          ],
          [
           1,
           0,
           0,
           0,
           0,
           0,
           0,
           0
          ],
          [
           1,
           0,
           0,
           0,
           0,
           0,
           0,
           0
          ],
          [
           1,
           0,
           0,
           0,
           0,
           0,
           0,
           0
          ],
          [
           1,
           1,
           0,
           0,
           1,
           1,
           0,
           0
          ],
          [
           1,
           1,
           1,
           0,
           0,
           1,
           0,
           0
          ],
          [
           1,
           0,
           0,
           0,
           0,
           0,
           0,
           0
          ],
          [
           1,
           1,
           0,
           0,
           0,
           0,
           0,
           0
          ],
          [
           1,
           1,
           1,
           0,
           1,
           1,
           0,
           0
          ],
          [
           1,
           0,
           1,
           1,
           0,
           1,
           0,
           0
          ],
          [
           1,
           0,
           0,
           0,
           0,
           0,
           0,
           0
          ],
          [
           0,
           0,
           0,
           0,
           0,
           1,
           0,
           0
          ],
          [
           1,
           1,
           0,
           0,
           1,
           0,
           0,
           0
          ],
          [
           1,
           1,
           0,
           0,
           0,
           0,
           0,
           0
          ],
          [
           1,
           1,
           0,
           0,
           0,
           1,
           0,
           0
          ],
          [
           1,
           0,
           0,
           0,
           1,
           1,
           0,
           0
          ],
          [
           0,
           0,
           0,
           0,
           0,
           1,
           0,
           0
          ],
          [
           1,
           0,
           1,
           0,
           0,
           0,
           0,
           0
          ],
          [
           1,
           1,
           1,
           0,
           1,
           0,
           0,
           0
          ],
          [
           1,
           1,
           1,
           0,
           1,
           1,
           0,
           0
          ],
          [
           0,
           1,
           0,
           0,
           0,
           0,
           0,
           0
          ],
          [
           1,
           0,
           1,
           0,
           0,
           0,
           0,
           0
          ],
          [
           1,
           0,
           0,
           0,
           0,
           0,
           0,
           0
          ],
          [
           1,
           0,
           0,
           1,
           1,
           1,
           0,
           0
          ],
          [
           1,
           1,
           1,
           0,
           0,
           0,
           0,
           0
          ],
          [
           1,
           1,
           0,
           0,
           1,
           0,
           0,
           0
          ],
          [
           1,
           1,
           0,
           0,
           1,
           0,
           0,
           0
          ],
          [
           1,
           1,
           0,
           0,
           0,
           1,
           0,
           0
          ],
          [
           1,
           1,
           0,
           0,
           0,
           0,
           0,
           0
          ],
          [
           1,
           1,
           0,
           0,
           0,
           0,
           0,
           0
          ],
          [
           1,
           0,
           0,
           0,
           0,
           1,
           0,
           0
          ],
          [
           1,
           1,
           1,
           0,
           0,
           0,
           0,
           0
          ],
          [
           1,
           0,
           0,
           0,
           1,
           0,
           0,
           0
          ],
          [
           1,
           1,
           0,
           1,
           0,
           0,
           0,
           0
          ],
          [
           1,
           1,
           0,
           0,
           0,
           1,
           0,
           0
          ],
          [
           0,
           0,
           0,
           0,
           1,
           0,
           0,
           0
          ],
          [
           1,
           0,
           0,
           0,
           0,
           0,
           0,
           0
          ],
          [
           1,
           1,
           1,
           0,
           0,
           0,
           0,
           0
          ],
          [
           1,
           0,
           0,
           0,
           0,
           0,
           0,
           0
          ],
          [
           1,
           0,
           1,
           0,
           0,
           0,
           0,
           0
          ],
          [
           1,
           1,
           0,
           0,
           0,
           0,
           0,
           0
          ],
          [
           1,
           0,
           0,
           0,
           1,
           0,
           0,
           0
          ],
          [
           1,
           0,
           1,
           0,
           0,
           0,
           0,
           0
          ],
          [
           0,
           0,
           0,
           0,
           1,
           0,
           0,
           0
          ],
          [
           1,
           0,
           0,
           0,
           0,
           0,
           0,
           0
          ],
          [
           1,
           1,
           0,
           0,
           0,
           0,
           0,
           0
          ],
          [
           1,
           0,
           0,
           0,
           0,
           0,
           0,
           0
          ],
          [
           1,
           0,
           0,
           1,
           0,
           0,
           0,
           0
          ],
          [
           1,
           0,
           0,
           0,
           0,
           0,
           0,
           0
          ],
          [
           1,
           1,
           0,
           0,
           0,
           0,
           0,
           0
          ],
          [
           1,
           0,
           0,
           0,
           0,
           0,
           0,
           0
          ],
          [
           1,
           0,
           0,
           1,
           0,
           0,
           0,
           0
          ],
          [
           1,
           1,
           1,
           0,
           1,
           0,
           0,
           1
          ],
          [
           1,
           0,
           0,
           0,
           1,
           1,
           0,
           0
          ],
          [
           1,
           1,
           0,
           0,
           0,
           0,
           0,
           0
          ]
         ],
         "hovertemplate": "x=%{x}<br>y=%{y}<br>Stretching=%{customdata[0]}<br>Warm Up=%{customdata[1]}<br>Strength Exercises=%{customdata[2]}<br>Bracing=%{customdata[3]}<br>Taping=%{customdata[4]}<br>Shoe Insoles=%{customdata[5]}<br>Face Masks=%{customdata[6]}<br>Medical Corset=%{customdata[7]}<extra></extra>",
         "legendgroup": "",
         "marker": {
          "color": "#1F77B4",
          "symbol": "circle"
         },
         "mode": "markers",
         "name": "",
         "orientation": "v",
         "showlegend": false,
         "type": "scatter",
         "x": [
          5.318500995635986,
          -0.812150776386261,
          -1.5840160846710205,
          6.5383405685424805,
          3.297774076461792,
          6.712471961975098,
          1.4006562232971191,
          5.200778484344482,
          -0.01581483706831932,
          3.418869733810425,
          -3.0380642414093018,
          6.527881622314453,
          -3.2684574127197266,
          0.25818100571632385,
          2.007134199142456,
          -1.5892473459243774,
          3.95123291015625,
          0.389585942029953,
          3.9504756927490234,
          -0.322279155254364,
          -2.6822195053100586,
          3.2281901836395264,
          0.6441413760185242,
          0.3504219353199005,
          0.5084866285324097,
          -3.464622974395752,
          -5.713699817657471,
          0.3676445186138153,
          3.2600338459014893,
          0.46736007928848267,
          5.0621466636657715,
          -1.5683672428131104,
          1.4374037981033325,
          3.2411561012268066,
          -5.352524280548096,
          0.49800175428390503,
          2.018688678741455,
          4.921234130859375,
          -3.862992763519287,
          -0.7973822355270386,
          6.818483829498291,
          -1.5773875713348389,
          0.4717549681663513,
          -0.4907839298248291,
          3.1072118282318115,
          -0.6006166934967041,
          -2.5641098022460938,
          -6.300961971282959,
          0.7075089812278748,
          6.9396586418151855,
          -0.6457039713859558,
          -0.6422585248947144,
          2.416775941848755,
          -3.0253090858459473,
          0.1140950620174408,
          3.221033811569214,
          3.0387723445892334,
          -5.821113109588623,
          6.575191020965576,
          5.682366847991943,
          5.225353717803955,
          -0.12756918370723724,
          0.3791486620903015,
          -5.715747833251953,
          5.650953769683838,
          0.16518403589725494,
          -0.3769226670265198,
          1.2818183898925781,
          6.813601493835449,
          5.624755859375,
          3.2187564373016357,
          -1.582565426826477,
          -5.355828285217285,
          -5.352142810821533,
          1.3954637050628662,
          -2.570079803466797,
          -7.205278396606445,
          -0.6340171694755554,
          -6.31168270111084,
          5.620394706726074,
          1.389390230178833,
          0.3933734595775604,
          3.2664167881011963,
          -6.301120758056641,
          3.9461417198181152,
          -2.6573562622070312,
          -3.047672748565674,
          -3.375453233718872,
          1.3965413570404053,
          3.9512860774993896,
          -3.591015338897705,
          0.349319726228714,
          3.228856086730957,
          -6.2264628410339355,
          -2.756671667098999,
          0.7976822853088379,
          3.2897675037384033,
          0.45903339982032776,
          -0.6417596340179443,
          0.3830150365829468,
          0.795828640460968,
          5.34058952331543,
          5.6274590492248535,
          3.212616205215454,
          2.0134382247924805,
          4.974707126617432,
          -3.5830297470092773,
          -5.141932487487793,
          7.0069708824157715,
          3.426697254180908,
          3.2807018756866455,
          -0.654115617275238,
          -0.534227192401886,
          -0.23524820804595947,
          -1.5770572423934937,
          6.978414058685303,
          0.36368152499198914,
          -7.203432559967041,
          -0.6473203897476196,
          0.7858641147613525,
          -3.7919607162475586,
          6.689572811126709,
          -2.7408735752105713,
          4.974488258361816,
          -0.6672390699386597,
          0.6447418928146362,
          5.0442280769348145,
          0.7869095802307129,
          -3.243529796600342,
          -0.04016929119825363,
          -3.7497692108154297,
          -7.310245513916016,
          -3.8330843448638916,
          -0.8034300208091736,
          -3.106584310531616,
          -7.312366008758545,
          6.421727180480957,
          0.37914755940437317,
          -0.2202121615409851
         ],
         "xaxis": "x",
         "y": [
          3.3097527027130127,
          -6.478970527648926,
          -0.15963247418403625,
          0.21827612817287445,
          -4.740767955780029,
          0.5649221539497375,
          -2.139803171157837,
          3.5814900398254395,
          -5.668447017669678,
          -4.611549377441406,
          2.7214550971984863,
          0.34322091937065125,
          3.3749630451202393,
          3.1459786891937256,
          7.859443187713623,
          -0.1559489518404007,
          0.05706090107560158,
          2.9063639640808105,
          0.059293728321790695,
          -6.911349296569824,
          3.7333827018737793,
          -1.3495874404907227,
          3.0545005798339844,
          3.2731575965881348,
          3.284076452255249,
          3.9391794204711914,
          -1.7725428342819214,
          -5.913415431976318,
          -4.582969665527344,
          3.2772161960601807,
          3.218421697616577,
          -0.17974527180194855,
          8.215994834899902,
          -4.651448726654053,
          -3.779515266418457,
          -6.176884174346924,
          8.108844757080078,
          3.38631010055542,
          3.4303128719329834,
          -6.075072765350342,
          0.556960940361023,
          -0.17351016402244568,
          2.899273633956909,
          -6.845750331878662,
          2.9533653259277344,
          -5.7658514976501465,
          3.4133856296539307,
          -3.2853994369506836,
          8.718828201293945,
          0.10539925843477249,
          -2.4309065341949463,
          -2.4307243824005127,
          -0.35148897767066956,
          2.6905229091644287,
          -5.717340469360352,
          -1.3497657775878906,
          0.9610755443572998,
          -2.3766632080078125,
          0.48561862111091614,
          -2.379180908203125,
          3.224107265472412,
          -6.308004856109619,
          8.555179595947266,
          -1.7753468751907349,
          -2.3529703617095947,
          -6.857805252075195,
          7.345524787902832,
          7.867351055145264,
          0.05010002851486206,
          -2.338967800140381,
          -1.3419251441955566,
          -0.160711869597435,
          -3.7761311531066895,
          -3.7755825519561768,
          -2.1268322467803955,
          3.3195130825042725,
          -2.884753465652466,
          -2.438032865524292,
          -3.2862470149993896,
          -2.3499062061309814,
          -2.1290767192840576,
          -6.155797481536865,
          -4.702240467071533,
          -3.288931131362915,
          0.0534026175737381,
          3.0155091285705566,
          3.9678475856781006,
          2.692375659942627,
          -2.116321325302124,
          0.0640595331788063,
          3.85068941116333,
          -6.702791690826416,
          -1.3386330604553223,
          -1.2335273027420044,
          3.806678533554077,
          8.733626365661621,
          -4.5840630531311035,
          -6.567598819732666,
          -2.4351558685302734,
          0.08605308830738068,
          8.734002113342285,
          3.3858799934387207,
          -2.3532609939575195,
          -1.3388051986694336,
          7.856625556945801,
          3.244490385055542,
          2.80307674407959,
          -3.4423940181732178,
          0.33131441473960876,
          -4.654515266418457,
          -4.584281921386719,
          -2.4311680793762207,
          -5.748414993286133,
          -5.635326862335205,
          -0.1618000715970993,
          0.38314545154571533,
          2.9305081367492676,
          -2.8865106105804443,
          -2.4308104515075684,
          7.388367176055908,
          3.633922815322876,
          0.06023259088397026,
          2.917731285095215,
          3.515184164047241,
          -6.665226459503174,
          3.0884342193603516,
          3.5707414150238037,
          7.386794090270996,
          3.3169498443603516,
          -6.93039608001709,
          2.9424686431884766,
          -1.9721062183380127,
          3.1439170837402344,
          -6.188960075378418,
          4.005342960357666,
          -1.9761799573898315,
          -2.8962957859039307,
          0.10140827298164368,
          -6.313906669616699
         ],
         "yaxis": "y"
        }
       ],
       "layout": {
        "legend": {
         "tracegroupgap": 0
        },
        "template": {
         "data": {
          "bar": [
           {
            "error_x": {
             "color": "rgb(36,36,36)"
            },
            "error_y": {
             "color": "rgb(36,36,36)"
            },
            "marker": {
             "line": {
              "color": "white",
              "width": 0.5
             },
             "pattern": {
              "fillmode": "overlay",
              "size": 10,
              "solidity": 0.2
             }
            },
            "type": "bar"
           }
          ],
          "barpolar": [
           {
            "marker": {
             "line": {
              "color": "white",
              "width": 0.5
             },
             "pattern": {
              "fillmode": "overlay",
              "size": 10,
              "solidity": 0.2
             }
            },
            "type": "barpolar"
           }
          ],
          "carpet": [
           {
            "aaxis": {
             "endlinecolor": "rgb(36,36,36)",
             "gridcolor": "white",
             "linecolor": "white",
             "minorgridcolor": "white",
             "startlinecolor": "rgb(36,36,36)"
            },
            "baxis": {
             "endlinecolor": "rgb(36,36,36)",
             "gridcolor": "white",
             "linecolor": "white",
             "minorgridcolor": "white",
             "startlinecolor": "rgb(36,36,36)"
            },
            "type": "carpet"
           }
          ],
          "choropleth": [
           {
            "colorbar": {
             "outlinewidth": 1,
             "tickcolor": "rgb(36,36,36)",
             "ticks": "outside"
            },
            "type": "choropleth"
           }
          ],
          "contour": [
           {
            "colorbar": {
             "outlinewidth": 1,
             "tickcolor": "rgb(36,36,36)",
             "ticks": "outside"
            },
            "colorscale": [
             [
              0,
              "#440154"
             ],
             [
              0.1111111111111111,
              "#482878"
             ],
             [
              0.2222222222222222,
              "#3e4989"
             ],
             [
              0.3333333333333333,
              "#31688e"
             ],
             [
              0.4444444444444444,
              "#26828e"
             ],
             [
              0.5555555555555556,
              "#1f9e89"
             ],
             [
              0.6666666666666666,
              "#35b779"
             ],
             [
              0.7777777777777778,
              "#6ece58"
             ],
             [
              0.8888888888888888,
              "#b5de2b"
             ],
             [
              1,
              "#fde725"
             ]
            ],
            "type": "contour"
           }
          ],
          "contourcarpet": [
           {
            "colorbar": {
             "outlinewidth": 1,
             "tickcolor": "rgb(36,36,36)",
             "ticks": "outside"
            },
            "type": "contourcarpet"
           }
          ],
          "heatmap": [
           {
            "colorbar": {
             "outlinewidth": 1,
             "tickcolor": "rgb(36,36,36)",
             "ticks": "outside"
            },
            "colorscale": [
             [
              0,
              "#440154"
             ],
             [
              0.1111111111111111,
              "#482878"
             ],
             [
              0.2222222222222222,
              "#3e4989"
             ],
             [
              0.3333333333333333,
              "#31688e"
             ],
             [
              0.4444444444444444,
              "#26828e"
             ],
             [
              0.5555555555555556,
              "#1f9e89"
             ],
             [
              0.6666666666666666,
              "#35b779"
             ],
             [
              0.7777777777777778,
              "#6ece58"
             ],
             [
              0.8888888888888888,
              "#b5de2b"
             ],
             [
              1,
              "#fde725"
             ]
            ],
            "type": "heatmap"
           }
          ],
          "heatmapgl": [
           {
            "colorbar": {
             "outlinewidth": 1,
             "tickcolor": "rgb(36,36,36)",
             "ticks": "outside"
            },
            "colorscale": [
             [
              0,
              "#440154"
             ],
             [
              0.1111111111111111,
              "#482878"
             ],
             [
              0.2222222222222222,
              "#3e4989"
             ],
             [
              0.3333333333333333,
              "#31688e"
             ],
             [
              0.4444444444444444,
              "#26828e"
             ],
             [
              0.5555555555555556,
              "#1f9e89"
             ],
             [
              0.6666666666666666,
              "#35b779"
             ],
             [
              0.7777777777777778,
              "#6ece58"
             ],
             [
              0.8888888888888888,
              "#b5de2b"
             ],
             [
              1,
              "#fde725"
             ]
            ],
            "type": "heatmapgl"
           }
          ],
          "histogram": [
           {
            "marker": {
             "line": {
              "color": "white",
              "width": 0.6
             }
            },
            "type": "histogram"
           }
          ],
          "histogram2d": [
           {
            "colorbar": {
             "outlinewidth": 1,
             "tickcolor": "rgb(36,36,36)",
             "ticks": "outside"
            },
            "colorscale": [
             [
              0,
              "#440154"
             ],
             [
              0.1111111111111111,
              "#482878"
             ],
             [
              0.2222222222222222,
              "#3e4989"
             ],
             [
              0.3333333333333333,
              "#31688e"
             ],
             [
              0.4444444444444444,
              "#26828e"
             ],
             [
              0.5555555555555556,
              "#1f9e89"
             ],
             [
              0.6666666666666666,
              "#35b779"
             ],
             [
              0.7777777777777778,
              "#6ece58"
             ],
             [
              0.8888888888888888,
              "#b5de2b"
             ],
             [
              1,
              "#fde725"
             ]
            ],
            "type": "histogram2d"
           }
          ],
          "histogram2dcontour": [
           {
            "colorbar": {
             "outlinewidth": 1,
             "tickcolor": "rgb(36,36,36)",
             "ticks": "outside"
            },
            "colorscale": [
             [
              0,
              "#440154"
             ],
             [
              0.1111111111111111,
              "#482878"
             ],
             [
              0.2222222222222222,
              "#3e4989"
             ],
             [
              0.3333333333333333,
              "#31688e"
             ],
             [
              0.4444444444444444,
              "#26828e"
             ],
             [
              0.5555555555555556,
              "#1f9e89"
             ],
             [
              0.6666666666666666,
              "#35b779"
             ],
             [
              0.7777777777777778,
              "#6ece58"
             ],
             [
              0.8888888888888888,
              "#b5de2b"
             ],
             [
              1,
              "#fde725"
             ]
            ],
            "type": "histogram2dcontour"
           }
          ],
          "mesh3d": [
           {
            "colorbar": {
             "outlinewidth": 1,
             "tickcolor": "rgb(36,36,36)",
             "ticks": "outside"
            },
            "type": "mesh3d"
           }
          ],
          "parcoords": [
           {
            "line": {
             "colorbar": {
              "outlinewidth": 1,
              "tickcolor": "rgb(36,36,36)",
              "ticks": "outside"
             }
            },
            "type": "parcoords"
           }
          ],
          "pie": [
           {
            "automargin": true,
            "type": "pie"
           }
          ],
          "scatter": [
           {
            "fillpattern": {
             "fillmode": "overlay",
             "size": 10,
             "solidity": 0.2
            },
            "type": "scatter"
           }
          ],
          "scatter3d": [
           {
            "line": {
             "colorbar": {
              "outlinewidth": 1,
              "tickcolor": "rgb(36,36,36)",
              "ticks": "outside"
             }
            },
            "marker": {
             "colorbar": {
              "outlinewidth": 1,
              "tickcolor": "rgb(36,36,36)",
              "ticks": "outside"
             }
            },
            "type": "scatter3d"
           }
          ],
          "scattercarpet": [
           {
            "marker": {
             "colorbar": {
              "outlinewidth": 1,
              "tickcolor": "rgb(36,36,36)",
              "ticks": "outside"
             }
            },
            "type": "scattercarpet"
           }
          ],
          "scattergeo": [
           {
            "marker": {
             "colorbar": {
              "outlinewidth": 1,
              "tickcolor": "rgb(36,36,36)",
              "ticks": "outside"
             }
            },
            "type": "scattergeo"
           }
          ],
          "scattergl": [
           {
            "marker": {
             "colorbar": {
              "outlinewidth": 1,
              "tickcolor": "rgb(36,36,36)",
              "ticks": "outside"
             }
            },
            "type": "scattergl"
           }
          ],
          "scattermapbox": [
           {
            "marker": {
             "colorbar": {
              "outlinewidth": 1,
              "tickcolor": "rgb(36,36,36)",
              "ticks": "outside"
             }
            },
            "type": "scattermapbox"
           }
          ],
          "scatterpolar": [
           {
            "marker": {
             "colorbar": {
              "outlinewidth": 1,
              "tickcolor": "rgb(36,36,36)",
              "ticks": "outside"
             }
            },
            "type": "scatterpolar"
           }
          ],
          "scatterpolargl": [
           {
            "marker": {
             "colorbar": {
              "outlinewidth": 1,
              "tickcolor": "rgb(36,36,36)",
              "ticks": "outside"
             }
            },
            "type": "scatterpolargl"
           }
          ],
          "scatterternary": [
           {
            "marker": {
             "colorbar": {
              "outlinewidth": 1,
              "tickcolor": "rgb(36,36,36)",
              "ticks": "outside"
             }
            },
            "type": "scatterternary"
           }
          ],
          "surface": [
           {
            "colorbar": {
             "outlinewidth": 1,
             "tickcolor": "rgb(36,36,36)",
             "ticks": "outside"
            },
            "colorscale": [
             [
              0,
              "#440154"
             ],
             [
              0.1111111111111111,
              "#482878"
             ],
             [
              0.2222222222222222,
              "#3e4989"
             ],
             [
              0.3333333333333333,
              "#31688e"
             ],
             [
              0.4444444444444444,
              "#26828e"
             ],
             [
              0.5555555555555556,
              "#1f9e89"
             ],
             [
              0.6666666666666666,
              "#35b779"
             ],
             [
              0.7777777777777778,
              "#6ece58"
             ],
             [
              0.8888888888888888,
              "#b5de2b"
             ],
             [
              1,
              "#fde725"
             ]
            ],
            "type": "surface"
           }
          ],
          "table": [
           {
            "cells": {
             "fill": {
              "color": "rgb(237,237,237)"
             },
             "line": {
              "color": "white"
             }
            },
            "header": {
             "fill": {
              "color": "rgb(217,217,217)"
             },
             "line": {
              "color": "white"
             }
            },
            "type": "table"
           }
          ]
         },
         "layout": {
          "annotationdefaults": {
           "arrowhead": 0,
           "arrowwidth": 1
          },
          "autotypenumbers": "strict",
          "coloraxis": {
           "colorbar": {
            "outlinewidth": 1,
            "tickcolor": "rgb(36,36,36)",
            "ticks": "outside"
           }
          },
          "colorscale": {
           "diverging": [
            [
             0,
             "rgb(103,0,31)"
            ],
            [
             0.1,
             "rgb(178,24,43)"
            ],
            [
             0.2,
             "rgb(214,96,77)"
            ],
            [
             0.3,
             "rgb(244,165,130)"
            ],
            [
             0.4,
             "rgb(253,219,199)"
            ],
            [
             0.5,
             "rgb(247,247,247)"
            ],
            [
             0.6,
             "rgb(209,229,240)"
            ],
            [
             0.7,
             "rgb(146,197,222)"
            ],
            [
             0.8,
             "rgb(67,147,195)"
            ],
            [
             0.9,
             "rgb(33,102,172)"
            ],
            [
             1,
             "rgb(5,48,97)"
            ]
           ],
           "sequential": [
            [
             0,
             "#440154"
            ],
            [
             0.1111111111111111,
             "#482878"
            ],
            [
             0.2222222222222222,
             "#3e4989"
            ],
            [
             0.3333333333333333,
             "#31688e"
            ],
            [
             0.4444444444444444,
             "#26828e"
            ],
            [
             0.5555555555555556,
             "#1f9e89"
            ],
            [
             0.6666666666666666,
             "#35b779"
            ],
            [
             0.7777777777777778,
             "#6ece58"
            ],
            [
             0.8888888888888888,
             "#b5de2b"
            ],
            [
             1,
             "#fde725"
            ]
           ],
           "sequentialminus": [
            [
             0,
             "#440154"
            ],
            [
             0.1111111111111111,
             "#482878"
            ],
            [
             0.2222222222222222,
             "#3e4989"
            ],
            [
             0.3333333333333333,
             "#31688e"
            ],
            [
             0.4444444444444444,
             "#26828e"
            ],
            [
             0.5555555555555556,
             "#1f9e89"
            ],
            [
             0.6666666666666666,
             "#35b779"
            ],
            [
             0.7777777777777778,
             "#6ece58"
            ],
            [
             0.8888888888888888,
             "#b5de2b"
            ],
            [
             1,
             "#fde725"
            ]
           ]
          },
          "colorway": [
           "#1F77B4",
           "#FF7F0E",
           "#2CA02C",
           "#D62728",
           "#9467BD",
           "#8C564B",
           "#E377C2",
           "#7F7F7F",
           "#BCBD22",
           "#17BECF"
          ],
          "font": {
           "color": "rgb(36,36,36)"
          },
          "geo": {
           "bgcolor": "white",
           "lakecolor": "white",
           "landcolor": "white",
           "showlakes": true,
           "showland": true,
           "subunitcolor": "white"
          },
          "hoverlabel": {
           "align": "left"
          },
          "hovermode": "closest",
          "mapbox": {
           "style": "light"
          },
          "paper_bgcolor": "white",
          "plot_bgcolor": "white",
          "polar": {
           "angularaxis": {
            "gridcolor": "rgb(232,232,232)",
            "linecolor": "rgb(36,36,36)",
            "showgrid": false,
            "showline": true,
            "ticks": "outside"
           },
           "bgcolor": "white",
           "radialaxis": {
            "gridcolor": "rgb(232,232,232)",
            "linecolor": "rgb(36,36,36)",
            "showgrid": false,
            "showline": true,
            "ticks": "outside"
           }
          },
          "scene": {
           "xaxis": {
            "backgroundcolor": "white",
            "gridcolor": "rgb(232,232,232)",
            "gridwidth": 2,
            "linecolor": "rgb(36,36,36)",
            "showbackground": true,
            "showgrid": false,
            "showline": true,
            "ticks": "outside",
            "zeroline": false,
            "zerolinecolor": "rgb(36,36,36)"
           },
           "yaxis": {
            "backgroundcolor": "white",
            "gridcolor": "rgb(232,232,232)",
            "gridwidth": 2,
            "linecolor": "rgb(36,36,36)",
            "showbackground": true,
            "showgrid": false,
            "showline": true,
            "ticks": "outside",
            "zeroline": false,
            "zerolinecolor": "rgb(36,36,36)"
           },
           "zaxis": {
            "backgroundcolor": "white",
            "gridcolor": "rgb(232,232,232)",
            "gridwidth": 2,
            "linecolor": "rgb(36,36,36)",
            "showbackground": true,
            "showgrid": false,
            "showline": true,
            "ticks": "outside",
            "zeroline": false,
            "zerolinecolor": "rgb(36,36,36)"
           }
          },
          "shapedefaults": {
           "fillcolor": "black",
           "line": {
            "width": 0
           },
           "opacity": 0.3
          },
          "ternary": {
           "aaxis": {
            "gridcolor": "rgb(232,232,232)",
            "linecolor": "rgb(36,36,36)",
            "showgrid": false,
            "showline": true,
            "ticks": "outside"
           },
           "baxis": {
            "gridcolor": "rgb(232,232,232)",
            "linecolor": "rgb(36,36,36)",
            "showgrid": false,
            "showline": true,
            "ticks": "outside"
           },
           "bgcolor": "white",
           "caxis": {
            "gridcolor": "rgb(232,232,232)",
            "linecolor": "rgb(36,36,36)",
            "showgrid": false,
            "showline": true,
            "ticks": "outside"
           }
          },
          "title": {
           "x": 0.05
          },
          "xaxis": {
           "automargin": true,
           "gridcolor": "rgb(232,232,232)",
           "linecolor": "rgb(36,36,36)",
           "showgrid": false,
           "showline": true,
           "ticks": "outside",
           "title": {
            "standoff": 15
           },
           "zeroline": false,
           "zerolinecolor": "rgb(36,36,36)"
          },
          "yaxis": {
           "automargin": true,
           "gridcolor": "rgb(232,232,232)",
           "linecolor": "rgb(36,36,36)",
           "showgrid": false,
           "showline": true,
           "ticks": "outside",
           "title": {
            "standoff": 15
           },
           "zeroline": false,
           "zerolinecolor": "rgb(36,36,36)"
          }
         }
        },
        "title": {
         "text": "Perplexity = 30"
        },
        "xaxis": {
         "anchor": "y",
         "domain": [
          0,
          1
         ],
         "title": {
          "text": "x"
         }
        },
        "yaxis": {
         "anchor": "x",
         "domain": [
          0,
          1
         ],
         "title": {
          "text": "y"
         }
        }
       }
      },
      "text/html": [
       "<div>                            <div id=\"136bb80f-af9d-4ab0-867f-697040083eb6\" class=\"plotly-graph-div\" style=\"height:525px; width:100%;\"></div>            <script type=\"text/javascript\">                require([\"plotly\"], function(Plotly) {                    window.PLOTLYENV=window.PLOTLYENV || {};                                    if (document.getElementById(\"136bb80f-af9d-4ab0-867f-697040083eb6\")) {                    Plotly.newPlot(                        \"136bb80f-af9d-4ab0-867f-697040083eb6\",                        [{\"customdata\":[[1,0,1,0,0,0,0,0],[1,1,0,0,0,0,0,0],[1,0,0,0,0,1,0,0],[1,1,1,0,0,0,0,0],[1,1,0,0,1,0,0,0],[1,1,1,0,0,0,0,0],[1,1,0,0,1,1,0,0],[1,0,1,0,0,0,0,0],[1,1,0,0,0,0,0,0],[1,1,0,0,1,0,0,0],[1,0,0,0,0,0,0,0],[1,1,1,0,0,0,0,0],[1,0,0,0,0,0,0,0],[1,0,0,0,1,0,0,0],[0,1,0,0,0,0,0,0],[1,0,0,0,0,1,0,0],[1,1,1,0,0,1,0,0],[1,0,0,0,1,0,0,0],[1,1,1,0,0,1,0,0],[1,1,0,0,0,0,0,0],[1,0,0,0,0,0,0,0],[1,1,1,0,1,1,0,0],[1,0,0,0,1,0,0,0],[1,0,0,0,1,0,0,0],[1,0,0,0,1,0,0,0],[1,0,0,0,0,0,0,0],[1,0,1,1,1,0,0,0],[1,1,0,0,0,0,0,0],[1,1,0,0,1,0,0,0],[1,0,0,0,1,0,0,0],[1,0,1,0,0,0,0,0],[1,0,0,0,0,1,0,0],[0,0,1,0,0,0,0,0],[1,1,0,0,1,0,0,0],[1,1,0,1,1,1,0,0],[1,1,0,0,0,0,0,0],[0,1,1,0,0,0,0,0],[1,0,1,0,0,0,0,0],[1,0,0,0,0,0,0,0],[1,1,0,0,0,0,0,0],[1,1,1,0,0,0,0,0],[1,0,0,0,0,1,0,0],[1,0,0,0,1,0,0,0],[1,1,0,0,0,0,0,0],[1,0,1,0,1,0,0,0],[1,1,0,0,0,0,0,0],[1,0,0,0,0,0,0,0],[1,1,0,1,1,0,0,0],[0,0,1,0,0,1,0,0],[1,1,1,0,0,0,0,0],[1,1,0,0,0,1,0,0],[1,1,0,0,0,1,0,0],[1,0,1,0,1,1,0,0],[1,0,0,0,0,0,0,0],[1,1,0,0,0,0,0,0],[1,1,1,0,1,1,0,0],[1,0,1,0,0,1,0,0],[1,1,1,1,1,0,0,0],[1,1,1,0,0,0,0,0],[1,1,1,0,1,0,0,0],[1,0,1,0,0,0,0,0],[1,1,0,0,0,0,0,0],[0,0,1,0,1,1,0,0],[1,0,1,1,1,0,0,0],[1,1,1,0,1,0,0,0],[1,1,0,0,0,0,0,0],[0,0,1,1,1,0,0,0],[0,0,0,0,0,0,0,0],[1,1,1,0,0,0,0,0],[1,1,1,0,1,0,0,0],[1,1,1,0,1,1,0,0],[1,0,0,0,0,1,0,0],[1,1,0,1,1,1,0,0],[1,1,0,1,1,1,0,0],[1,1,0,0,1,1,0,0],[1,0,0,0,0,0,0,0],[1,1,0,1,0,0,0,0],[1,1,0,0,0,1,0,0],[1,1,0,1,1,0,0,0],[1,1,1,0,1,0,0,0],[1,1,0,0,1,1,0,0],[1,1,0,0,0,0,0,0],[1,1,0,0,1,0,0,0],[1,1,0,1,1,0,0,0],[1,1,1,0,0,1,0,0],[1,0,0,0,0,0,0,0],[1,0,0,0,0,0,0,0],[1,0,0,0,0,0,0,0],[1,1,0,0,1,1,0,0],[1,1,1,0,0,1,0,0],[1,0,0,0,0,0,0,0],[1,1,0,0,0,0,0,0],[1,1,1,0,1,1,0,0],[1,0,1,1,0,1,0,0],[1,0,0,0,0,0,0,0],[0,0,0,0,0,1,0,0],[1,1,0,0,1,0,0,0],[1,1,0,0,0,0,0,0],[1,1,0,0,0,1,0,0],[1,0,0,0,1,1,0,0],[0,0,0,0,0,1,0,0],[1,0,1,0,0,0,0,0],[1,1,1,0,1,0,0,0],[1,1,1,0,1,1,0,0],[0,1,0,0,0,0,0,0],[1,0,1,0,0,0,0,0],[1,0,0,0,0,0,0,0],[1,0,0,1,1,1,0,0],[1,1,1,0,0,0,0,0],[1,1,0,0,1,0,0,0],[1,1,0,0,1,0,0,0],[1,1,0,0,0,1,0,0],[1,1,0,0,0,0,0,0],[1,1,0,0,0,0,0,0],[1,0,0,0,0,1,0,0],[1,1,1,0,0,0,0,0],[1,0,0,0,1,0,0,0],[1,1,0,1,0,0,0,0],[1,1,0,0,0,1,0,0],[0,0,0,0,1,0,0,0],[1,0,0,0,0,0,0,0],[1,1,1,0,0,0,0,0],[1,0,0,0,0,0,0,0],[1,0,1,0,0,0,0,0],[1,1,0,0,0,0,0,0],[1,0,0,0,1,0,0,0],[1,0,1,0,0,0,0,0],[0,0,0,0,1,0,0,0],[1,0,0,0,0,0,0,0],[1,1,0,0,0,0,0,0],[1,0,0,0,0,0,0,0],[1,0,0,1,0,0,0,0],[1,0,0,0,0,0,0,0],[1,1,0,0,0,0,0,0],[1,0,0,0,0,0,0,0],[1,0,0,1,0,0,0,0],[1,1,1,0,1,0,0,1],[1,0,0,0,1,1,0,0],[1,1,0,0,0,0,0,0]],\"hovertemplate\":\"x=%{x}<br>y=%{y}<br>Stretching=%{customdata[0]}<br>Warm Up=%{customdata[1]}<br>Strength Exercises=%{customdata[2]}<br>Bracing=%{customdata[3]}<br>Taping=%{customdata[4]}<br>Shoe Insoles=%{customdata[5]}<br>Face Masks=%{customdata[6]}<br>Medical Corset=%{customdata[7]}<extra></extra>\",\"legendgroup\":\"\",\"marker\":{\"color\":\"#1F77B4\",\"symbol\":\"circle\"},\"mode\":\"markers\",\"name\":\"\",\"orientation\":\"v\",\"showlegend\":false,\"x\":[5.318500995635986,-0.812150776386261,-1.5840160846710205,6.5383405685424805,3.297774076461792,6.712471961975098,1.4006562232971191,5.200778484344482,-0.01581483706831932,3.418869733810425,-3.0380642414093018,6.527881622314453,-3.2684574127197266,0.25818100571632385,2.007134199142456,-1.5892473459243774,3.95123291015625,0.389585942029953,3.9504756927490234,-0.322279155254364,-2.6822195053100586,3.2281901836395264,0.6441413760185242,0.3504219353199005,0.5084866285324097,-3.464622974395752,-5.713699817657471,0.3676445186138153,3.2600338459014893,0.46736007928848267,5.0621466636657715,-1.5683672428131104,1.4374037981033325,3.2411561012268066,-5.352524280548096,0.49800175428390503,2.018688678741455,4.921234130859375,-3.862992763519287,-0.7973822355270386,6.818483829498291,-1.5773875713348389,0.4717549681663513,-0.4907839298248291,3.1072118282318115,-0.6006166934967041,-2.5641098022460938,-6.300961971282959,0.7075089812278748,6.9396586418151855,-0.6457039713859558,-0.6422585248947144,2.416775941848755,-3.0253090858459473,0.1140950620174408,3.221033811569214,3.0387723445892334,-5.821113109588623,6.575191020965576,5.682366847991943,5.225353717803955,-0.12756918370723724,0.3791486620903015,-5.715747833251953,5.650953769683838,0.16518403589725494,-0.3769226670265198,1.2818183898925781,6.813601493835449,5.624755859375,3.2187564373016357,-1.582565426826477,-5.355828285217285,-5.352142810821533,1.3954637050628662,-2.570079803466797,-7.205278396606445,-0.6340171694755554,-6.31168270111084,5.620394706726074,1.389390230178833,0.3933734595775604,3.2664167881011963,-6.301120758056641,3.9461417198181152,-2.6573562622070312,-3.047672748565674,-3.375453233718872,1.3965413570404053,3.9512860774993896,-3.591015338897705,0.349319726228714,3.228856086730957,-6.2264628410339355,-2.756671667098999,0.7976822853088379,3.2897675037384033,0.45903339982032776,-0.6417596340179443,0.3830150365829468,0.795828640460968,5.34058952331543,5.6274590492248535,3.212616205215454,2.0134382247924805,4.974707126617432,-3.5830297470092773,-5.141932487487793,7.0069708824157715,3.426697254180908,3.2807018756866455,-0.654115617275238,-0.534227192401886,-0.23524820804595947,-1.5770572423934937,6.978414058685303,0.36368152499198914,-7.203432559967041,-0.6473203897476196,0.7858641147613525,-3.7919607162475586,6.689572811126709,-2.7408735752105713,4.974488258361816,-0.6672390699386597,0.6447418928146362,5.0442280769348145,0.7869095802307129,-3.243529796600342,-0.04016929119825363,-3.7497692108154297,-7.310245513916016,-3.8330843448638916,-0.8034300208091736,-3.106584310531616,-7.312366008758545,6.421727180480957,0.37914755940437317,-0.2202121615409851],\"xaxis\":\"x\",\"y\":[3.3097527027130127,-6.478970527648926,-0.15963247418403625,0.21827612817287445,-4.740767955780029,0.5649221539497375,-2.139803171157837,3.5814900398254395,-5.668447017669678,-4.611549377441406,2.7214550971984863,0.34322091937065125,3.3749630451202393,3.1459786891937256,7.859443187713623,-0.1559489518404007,0.05706090107560158,2.9063639640808105,0.059293728321790695,-6.911349296569824,3.7333827018737793,-1.3495874404907227,3.0545005798339844,3.2731575965881348,3.284076452255249,3.9391794204711914,-1.7725428342819214,-5.913415431976318,-4.582969665527344,3.2772161960601807,3.218421697616577,-0.17974527180194855,8.215994834899902,-4.651448726654053,-3.779515266418457,-6.176884174346924,8.108844757080078,3.38631010055542,3.4303128719329834,-6.075072765350342,0.556960940361023,-0.17351016402244568,2.899273633956909,-6.845750331878662,2.9533653259277344,-5.7658514976501465,3.4133856296539307,-3.2853994369506836,8.718828201293945,0.10539925843477249,-2.4309065341949463,-2.4307243824005127,-0.35148897767066956,2.6905229091644287,-5.717340469360352,-1.3497657775878906,0.9610755443572998,-2.3766632080078125,0.48561862111091614,-2.379180908203125,3.224107265472412,-6.308004856109619,8.555179595947266,-1.7753468751907349,-2.3529703617095947,-6.857805252075195,7.345524787902832,7.867351055145264,0.05010002851486206,-2.338967800140381,-1.3419251441955566,-0.160711869597435,-3.7761311531066895,-3.7755825519561768,-2.1268322467803955,3.3195130825042725,-2.884753465652466,-2.438032865524292,-3.2862470149993896,-2.3499062061309814,-2.1290767192840576,-6.155797481536865,-4.702240467071533,-3.288931131362915,0.0534026175737381,3.0155091285705566,3.9678475856781006,2.692375659942627,-2.116321325302124,0.0640595331788063,3.85068941116333,-6.702791690826416,-1.3386330604553223,-1.2335273027420044,3.806678533554077,8.733626365661621,-4.5840630531311035,-6.567598819732666,-2.4351558685302734,0.08605308830738068,8.734002113342285,3.3858799934387207,-2.3532609939575195,-1.3388051986694336,7.856625556945801,3.244490385055542,2.80307674407959,-3.4423940181732178,0.33131441473960876,-4.654515266418457,-4.584281921386719,-2.4311680793762207,-5.748414993286133,-5.635326862335205,-0.1618000715970993,0.38314545154571533,2.9305081367492676,-2.8865106105804443,-2.4308104515075684,7.388367176055908,3.633922815322876,0.06023259088397026,2.917731285095215,3.515184164047241,-6.665226459503174,3.0884342193603516,3.5707414150238037,7.386794090270996,3.3169498443603516,-6.93039608001709,2.9424686431884766,-1.9721062183380127,3.1439170837402344,-6.188960075378418,4.005342960357666,-1.9761799573898315,-2.8962957859039307,0.10140827298164368,-6.313906669616699],\"yaxis\":\"y\",\"type\":\"scatter\"}],                        {\"template\":{\"data\":{\"barpolar\":[{\"marker\":{\"line\":{\"color\":\"white\",\"width\":0.5},\"pattern\":{\"fillmode\":\"overlay\",\"size\":10,\"solidity\":0.2}},\"type\":\"barpolar\"}],\"bar\":[{\"error_x\":{\"color\":\"rgb(36,36,36)\"},\"error_y\":{\"color\":\"rgb(36,36,36)\"},\"marker\":{\"line\":{\"color\":\"white\",\"width\":0.5},\"pattern\":{\"fillmode\":\"overlay\",\"size\":10,\"solidity\":0.2}},\"type\":\"bar\"}],\"carpet\":[{\"aaxis\":{\"endlinecolor\":\"rgb(36,36,36)\",\"gridcolor\":\"white\",\"linecolor\":\"white\",\"minorgridcolor\":\"white\",\"startlinecolor\":\"rgb(36,36,36)\"},\"baxis\":{\"endlinecolor\":\"rgb(36,36,36)\",\"gridcolor\":\"white\",\"linecolor\":\"white\",\"minorgridcolor\":\"white\",\"startlinecolor\":\"rgb(36,36,36)\"},\"type\":\"carpet\"}],\"choropleth\":[{\"colorbar\":{\"outlinewidth\":1,\"tickcolor\":\"rgb(36,36,36)\",\"ticks\":\"outside\"},\"type\":\"choropleth\"}],\"contourcarpet\":[{\"colorbar\":{\"outlinewidth\":1,\"tickcolor\":\"rgb(36,36,36)\",\"ticks\":\"outside\"},\"type\":\"contourcarpet\"}],\"contour\":[{\"colorbar\":{\"outlinewidth\":1,\"tickcolor\":\"rgb(36,36,36)\",\"ticks\":\"outside\"},\"colorscale\":[[0.0,\"#440154\"],[0.1111111111111111,\"#482878\"],[0.2222222222222222,\"#3e4989\"],[0.3333333333333333,\"#31688e\"],[0.4444444444444444,\"#26828e\"],[0.5555555555555556,\"#1f9e89\"],[0.6666666666666666,\"#35b779\"],[0.7777777777777778,\"#6ece58\"],[0.8888888888888888,\"#b5de2b\"],[1.0,\"#fde725\"]],\"type\":\"contour\"}],\"heatmapgl\":[{\"colorbar\":{\"outlinewidth\":1,\"tickcolor\":\"rgb(36,36,36)\",\"ticks\":\"outside\"},\"colorscale\":[[0.0,\"#440154\"],[0.1111111111111111,\"#482878\"],[0.2222222222222222,\"#3e4989\"],[0.3333333333333333,\"#31688e\"],[0.4444444444444444,\"#26828e\"],[0.5555555555555556,\"#1f9e89\"],[0.6666666666666666,\"#35b779\"],[0.7777777777777778,\"#6ece58\"],[0.8888888888888888,\"#b5de2b\"],[1.0,\"#fde725\"]],\"type\":\"heatmapgl\"}],\"heatmap\":[{\"colorbar\":{\"outlinewidth\":1,\"tickcolor\":\"rgb(36,36,36)\",\"ticks\":\"outside\"},\"colorscale\":[[0.0,\"#440154\"],[0.1111111111111111,\"#482878\"],[0.2222222222222222,\"#3e4989\"],[0.3333333333333333,\"#31688e\"],[0.4444444444444444,\"#26828e\"],[0.5555555555555556,\"#1f9e89\"],[0.6666666666666666,\"#35b779\"],[0.7777777777777778,\"#6ece58\"],[0.8888888888888888,\"#b5de2b\"],[1.0,\"#fde725\"]],\"type\":\"heatmap\"}],\"histogram2dcontour\":[{\"colorbar\":{\"outlinewidth\":1,\"tickcolor\":\"rgb(36,36,36)\",\"ticks\":\"outside\"},\"colorscale\":[[0.0,\"#440154\"],[0.1111111111111111,\"#482878\"],[0.2222222222222222,\"#3e4989\"],[0.3333333333333333,\"#31688e\"],[0.4444444444444444,\"#26828e\"],[0.5555555555555556,\"#1f9e89\"],[0.6666666666666666,\"#35b779\"],[0.7777777777777778,\"#6ece58\"],[0.8888888888888888,\"#b5de2b\"],[1.0,\"#fde725\"]],\"type\":\"histogram2dcontour\"}],\"histogram2d\":[{\"colorbar\":{\"outlinewidth\":1,\"tickcolor\":\"rgb(36,36,36)\",\"ticks\":\"outside\"},\"colorscale\":[[0.0,\"#440154\"],[0.1111111111111111,\"#482878\"],[0.2222222222222222,\"#3e4989\"],[0.3333333333333333,\"#31688e\"],[0.4444444444444444,\"#26828e\"],[0.5555555555555556,\"#1f9e89\"],[0.6666666666666666,\"#35b779\"],[0.7777777777777778,\"#6ece58\"],[0.8888888888888888,\"#b5de2b\"],[1.0,\"#fde725\"]],\"type\":\"histogram2d\"}],\"histogram\":[{\"marker\":{\"line\":{\"color\":\"white\",\"width\":0.6}},\"type\":\"histogram\"}],\"mesh3d\":[{\"colorbar\":{\"outlinewidth\":1,\"tickcolor\":\"rgb(36,36,36)\",\"ticks\":\"outside\"},\"type\":\"mesh3d\"}],\"parcoords\":[{\"line\":{\"colorbar\":{\"outlinewidth\":1,\"tickcolor\":\"rgb(36,36,36)\",\"ticks\":\"outside\"}},\"type\":\"parcoords\"}],\"pie\":[{\"automargin\":true,\"type\":\"pie\"}],\"scatter3d\":[{\"line\":{\"colorbar\":{\"outlinewidth\":1,\"tickcolor\":\"rgb(36,36,36)\",\"ticks\":\"outside\"}},\"marker\":{\"colorbar\":{\"outlinewidth\":1,\"tickcolor\":\"rgb(36,36,36)\",\"ticks\":\"outside\"}},\"type\":\"scatter3d\"}],\"scattercarpet\":[{\"marker\":{\"colorbar\":{\"outlinewidth\":1,\"tickcolor\":\"rgb(36,36,36)\",\"ticks\":\"outside\"}},\"type\":\"scattercarpet\"}],\"scattergeo\":[{\"marker\":{\"colorbar\":{\"outlinewidth\":1,\"tickcolor\":\"rgb(36,36,36)\",\"ticks\":\"outside\"}},\"type\":\"scattergeo\"}],\"scattergl\":[{\"marker\":{\"colorbar\":{\"outlinewidth\":1,\"tickcolor\":\"rgb(36,36,36)\",\"ticks\":\"outside\"}},\"type\":\"scattergl\"}],\"scattermapbox\":[{\"marker\":{\"colorbar\":{\"outlinewidth\":1,\"tickcolor\":\"rgb(36,36,36)\",\"ticks\":\"outside\"}},\"type\":\"scattermapbox\"}],\"scatterpolargl\":[{\"marker\":{\"colorbar\":{\"outlinewidth\":1,\"tickcolor\":\"rgb(36,36,36)\",\"ticks\":\"outside\"}},\"type\":\"scatterpolargl\"}],\"scatterpolar\":[{\"marker\":{\"colorbar\":{\"outlinewidth\":1,\"tickcolor\":\"rgb(36,36,36)\",\"ticks\":\"outside\"}},\"type\":\"scatterpolar\"}],\"scatter\":[{\"fillpattern\":{\"fillmode\":\"overlay\",\"size\":10,\"solidity\":0.2},\"type\":\"scatter\"}],\"scatterternary\":[{\"marker\":{\"colorbar\":{\"outlinewidth\":1,\"tickcolor\":\"rgb(36,36,36)\",\"ticks\":\"outside\"}},\"type\":\"scatterternary\"}],\"surface\":[{\"colorbar\":{\"outlinewidth\":1,\"tickcolor\":\"rgb(36,36,36)\",\"ticks\":\"outside\"},\"colorscale\":[[0.0,\"#440154\"],[0.1111111111111111,\"#482878\"],[0.2222222222222222,\"#3e4989\"],[0.3333333333333333,\"#31688e\"],[0.4444444444444444,\"#26828e\"],[0.5555555555555556,\"#1f9e89\"],[0.6666666666666666,\"#35b779\"],[0.7777777777777778,\"#6ece58\"],[0.8888888888888888,\"#b5de2b\"],[1.0,\"#fde725\"]],\"type\":\"surface\"}],\"table\":[{\"cells\":{\"fill\":{\"color\":\"rgb(237,237,237)\"},\"line\":{\"color\":\"white\"}},\"header\":{\"fill\":{\"color\":\"rgb(217,217,217)\"},\"line\":{\"color\":\"white\"}},\"type\":\"table\"}]},\"layout\":{\"annotationdefaults\":{\"arrowhead\":0,\"arrowwidth\":1},\"autotypenumbers\":\"strict\",\"coloraxis\":{\"colorbar\":{\"outlinewidth\":1,\"tickcolor\":\"rgb(36,36,36)\",\"ticks\":\"outside\"}},\"colorscale\":{\"diverging\":[[0.0,\"rgb(103,0,31)\"],[0.1,\"rgb(178,24,43)\"],[0.2,\"rgb(214,96,77)\"],[0.3,\"rgb(244,165,130)\"],[0.4,\"rgb(253,219,199)\"],[0.5,\"rgb(247,247,247)\"],[0.6,\"rgb(209,229,240)\"],[0.7,\"rgb(146,197,222)\"],[0.8,\"rgb(67,147,195)\"],[0.9,\"rgb(33,102,172)\"],[1.0,\"rgb(5,48,97)\"]],\"sequential\":[[0.0,\"#440154\"],[0.1111111111111111,\"#482878\"],[0.2222222222222222,\"#3e4989\"],[0.3333333333333333,\"#31688e\"],[0.4444444444444444,\"#26828e\"],[0.5555555555555556,\"#1f9e89\"],[0.6666666666666666,\"#35b779\"],[0.7777777777777778,\"#6ece58\"],[0.8888888888888888,\"#b5de2b\"],[1.0,\"#fde725\"]],\"sequentialminus\":[[0.0,\"#440154\"],[0.1111111111111111,\"#482878\"],[0.2222222222222222,\"#3e4989\"],[0.3333333333333333,\"#31688e\"],[0.4444444444444444,\"#26828e\"],[0.5555555555555556,\"#1f9e89\"],[0.6666666666666666,\"#35b779\"],[0.7777777777777778,\"#6ece58\"],[0.8888888888888888,\"#b5de2b\"],[1.0,\"#fde725\"]]},\"colorway\":[\"#1F77B4\",\"#FF7F0E\",\"#2CA02C\",\"#D62728\",\"#9467BD\",\"#8C564B\",\"#E377C2\",\"#7F7F7F\",\"#BCBD22\",\"#17BECF\"],\"font\":{\"color\":\"rgb(36,36,36)\"},\"geo\":{\"bgcolor\":\"white\",\"lakecolor\":\"white\",\"landcolor\":\"white\",\"showlakes\":true,\"showland\":true,\"subunitcolor\":\"white\"},\"hoverlabel\":{\"align\":\"left\"},\"hovermode\":\"closest\",\"mapbox\":{\"style\":\"light\"},\"paper_bgcolor\":\"white\",\"plot_bgcolor\":\"white\",\"polar\":{\"angularaxis\":{\"gridcolor\":\"rgb(232,232,232)\",\"linecolor\":\"rgb(36,36,36)\",\"showgrid\":false,\"showline\":true,\"ticks\":\"outside\"},\"bgcolor\":\"white\",\"radialaxis\":{\"gridcolor\":\"rgb(232,232,232)\",\"linecolor\":\"rgb(36,36,36)\",\"showgrid\":false,\"showline\":true,\"ticks\":\"outside\"}},\"scene\":{\"xaxis\":{\"backgroundcolor\":\"white\",\"gridcolor\":\"rgb(232,232,232)\",\"gridwidth\":2,\"linecolor\":\"rgb(36,36,36)\",\"showbackground\":true,\"showgrid\":false,\"showline\":true,\"ticks\":\"outside\",\"zeroline\":false,\"zerolinecolor\":\"rgb(36,36,36)\"},\"yaxis\":{\"backgroundcolor\":\"white\",\"gridcolor\":\"rgb(232,232,232)\",\"gridwidth\":2,\"linecolor\":\"rgb(36,36,36)\",\"showbackground\":true,\"showgrid\":false,\"showline\":true,\"ticks\":\"outside\",\"zeroline\":false,\"zerolinecolor\":\"rgb(36,36,36)\"},\"zaxis\":{\"backgroundcolor\":\"white\",\"gridcolor\":\"rgb(232,232,232)\",\"gridwidth\":2,\"linecolor\":\"rgb(36,36,36)\",\"showbackground\":true,\"showgrid\":false,\"showline\":true,\"ticks\":\"outside\",\"zeroline\":false,\"zerolinecolor\":\"rgb(36,36,36)\"}},\"shapedefaults\":{\"fillcolor\":\"black\",\"line\":{\"width\":0},\"opacity\":0.3},\"ternary\":{\"aaxis\":{\"gridcolor\":\"rgb(232,232,232)\",\"linecolor\":\"rgb(36,36,36)\",\"showgrid\":false,\"showline\":true,\"ticks\":\"outside\"},\"baxis\":{\"gridcolor\":\"rgb(232,232,232)\",\"linecolor\":\"rgb(36,36,36)\",\"showgrid\":false,\"showline\":true,\"ticks\":\"outside\"},\"bgcolor\":\"white\",\"caxis\":{\"gridcolor\":\"rgb(232,232,232)\",\"linecolor\":\"rgb(36,36,36)\",\"showgrid\":false,\"showline\":true,\"ticks\":\"outside\"}},\"title\":{\"x\":0.05},\"xaxis\":{\"automargin\":true,\"gridcolor\":\"rgb(232,232,232)\",\"linecolor\":\"rgb(36,36,36)\",\"showgrid\":false,\"showline\":true,\"ticks\":\"outside\",\"title\":{\"standoff\":15},\"zeroline\":false,\"zerolinecolor\":\"rgb(36,36,36)\"},\"yaxis\":{\"automargin\":true,\"gridcolor\":\"rgb(232,232,232)\",\"linecolor\":\"rgb(36,36,36)\",\"showgrid\":false,\"showline\":true,\"ticks\":\"outside\",\"title\":{\"standoff\":15},\"zeroline\":false,\"zerolinecolor\":\"rgb(36,36,36)\"}}},\"xaxis\":{\"anchor\":\"y\",\"domain\":[0.0,1.0],\"title\":{\"text\":\"x\"}},\"yaxis\":{\"anchor\":\"x\",\"domain\":[0.0,1.0],\"title\":{\"text\":\"y\"}},\"legend\":{\"tracegroupgap\":0},\"title\":{\"text\":\"Perplexity = 30\"}},                        {\"responsive\": true}                    ).then(function(){\n",
       "                            \n",
       "var gd = document.getElementById('136bb80f-af9d-4ab0-867f-697040083eb6');\n",
       "var x = new MutationObserver(function (mutations, observer) {{\n",
       "        var display = window.getComputedStyle(gd).display;\n",
       "        if (!display || display === 'none') {{\n",
       "            console.log([gd, 'removed!']);\n",
       "            Plotly.purge(gd);\n",
       "            observer.disconnect();\n",
       "        }}\n",
       "}});\n",
       "\n",
       "// Listen for the removal of the full notebook cells\n",
       "var notebookContainer = gd.closest('#notebook-container');\n",
       "if (notebookContainer) {{\n",
       "    x.observe(notebookContainer, {childList: true});\n",
       "}}\n",
       "\n",
       "// Listen for the clearing of the current output cell\n",
       "var outputEl = gd.closest('.output');\n",
       "if (outputEl) {{\n",
       "    x.observe(outputEl, {childList: true});\n",
       "}}\n",
       "\n",
       "                        })                };                });            </script>        </div>"
      ]
     },
     "metadata": {},
     "output_type": "display_data"
    },
    {
     "data": {
      "text/html": [
       "\n",
       "        <iframe\n",
       "            width=\"800\"\n",
       "            height=\"600\"\n",
       "            src=\"per30_interactive.html\"\n",
       "            frameborder=\"0\"\n",
       "            allowfullscreen\n",
       "            \n",
       "        ></iframe>\n",
       "        "
      ],
      "text/plain": [
       "<IPython.lib.display.IFrame at 0x16605c290>"
      ]
     },
     "execution_count": 115,
     "metadata": {},
     "output_type": "execute_result"
    }
   ],
   "source": [
    "X_embedded = TSNE(n_components=2, learning_rate='auto',init='random', perplexity=30).fit_transform(X)\n",
    "\n",
    "data = {\n",
    "    'x': X_embedded[:, 0],\n",
    "    'y': X_embedded[:, 1],\n",
    "    'Stretching': si_subset[\"Prevention Measure Stretching\"],\n",
    "    'Warm Up': si_subset[\"Prevention Measure Warm Up\"],\n",
    "    'Strength Exercises': si_subset[\"Prevention Measure Specific Strength Exercises\"],\n",
    "    'Bracing': si_subset[\"Prevention Measure Bracing\"],\n",
    "    'Taping': si_subset[\"Prevention Measure Taping\"],\n",
    "    'Shoe Insoles': si_subset[\"Prevention Measure Shoe Insoles\"],\n",
    "    'Face Masks': si_subset[\"Prevention Measure Face Masks\"],\n",
    "    'Medical Corset': si_subset[\"Prevention Measure Medical Corset\"]\n",
    "}\n",
    "\n",
    "df = pd.DataFrame(data)\n",
    "\n",
    "print(\"RESULTS\") \n",
    "print(\"shape : \",X_embedded.shape)\n",
    "print(\"First few points : \\n\",X_embedded[0:2,:])\n",
    "\n",
    "scatter_fig_30 = px.scatter(df, x='x', y='y', \n",
    "                         hover_data=['Stretching', 'Warm Up', \"Strength Exercises\", \"Bracing\", \"Taping\", \"Shoe Insoles\", \"Face Masks\", \"Medical Corset\"], \n",
    "                         template='simple_white',\n",
    "                         title='Perplexity = 30')\n",
    "\n",
    "scatter_fig_30.show()\n",
    "\n",
    "pio.renderers.default = \"plotly_mimetype+notebook_connected\"\n",
    "plotly.offline.plot(scatter_fig_30, filename='per30_interactive.html')\n",
    "\n",
    "IFrame(src='per30_interactive.html', width=800, height=600)"
   ]
  },
  {
   "cell_type": "markdown",
   "metadata": {},
   "source": [
    "#### Perplexity = 50"
   ]
  },
  {
   "cell_type": "code",
   "execution_count": 116,
   "metadata": {},
   "outputs": [
    {
     "name": "stdout",
     "output_type": "stream",
     "text": [
      "RESULTS\n",
      "shape :  (139, 2)\n",
      "First few points : \n",
      " [[ 3.780566  -0.6897387]\n",
      " [ 4.4418926 -3.2397008]]\n"
     ]
    },
    {
     "data": {
      "text/html": [
       "        <script type=\"text/javascript\">\n",
       "        window.PlotlyConfig = {MathJaxConfig: 'local'};\n",
       "        if (window.MathJax && window.MathJax.Hub && window.MathJax.Hub.Config) {window.MathJax.Hub.Config({SVG: {font: \"STIX-Web\"}});}\n",
       "        if (typeof require !== 'undefined') {\n",
       "        require.undef(\"plotly\");\n",
       "        requirejs.config({\n",
       "            paths: {\n",
       "                'plotly': ['https://cdn.plot.ly/plotly-2.12.1.min']\n",
       "            }\n",
       "        });\n",
       "        require(['plotly'], function(Plotly) {\n",
       "            window._Plotly = Plotly;\n",
       "        });\n",
       "        }\n",
       "        </script>\n",
       "        "
      ]
     },
     "metadata": {},
     "output_type": "display_data"
    },
    {
     "data": {
      "application/vnd.plotly.v1+json": {
       "config": {
        "plotlyServerURL": "https://plot.ly"
       },
       "data": [
        {
         "customdata": [
          [
           1,
           0,
           1,
           0,
           0,
           0,
           0,
           0
          ],
          [
           1,
           1,
           0,
           0,
           0,
           0,
           0,
           0
          ],
          [
           1,
           0,
           0,
           0,
           0,
           1,
           0,
           0
          ],
          [
           1,
           1,
           1,
           0,
           0,
           0,
           0,
           0
          ],
          [
           1,
           1,
           0,
           0,
           1,
           0,
           0,
           0
          ],
          [
           1,
           1,
           1,
           0,
           0,
           0,
           0,
           0
          ],
          [
           1,
           1,
           0,
           0,
           1,
           1,
           0,
           0
          ],
          [
           1,
           0,
           1,
           0,
           0,
           0,
           0,
           0
          ],
          [
           1,
           1,
           0,
           0,
           0,
           0,
           0,
           0
          ],
          [
           1,
           1,
           0,
           0,
           1,
           0,
           0,
           0
          ],
          [
           1,
           0,
           0,
           0,
           0,
           0,
           0,
           0
          ],
          [
           1,
           1,
           1,
           0,
           0,
           0,
           0,
           0
          ],
          [
           1,
           0,
           0,
           0,
           0,
           0,
           0,
           0
          ],
          [
           1,
           0,
           0,
           0,
           1,
           0,
           0,
           0
          ],
          [
           0,
           1,
           0,
           0,
           0,
           0,
           0,
           0
          ],
          [
           1,
           0,
           0,
           0,
           0,
           1,
           0,
           0
          ],
          [
           1,
           1,
           1,
           0,
           0,
           1,
           0,
           0
          ],
          [
           1,
           0,
           0,
           0,
           1,
           0,
           0,
           0
          ],
          [
           1,
           1,
           1,
           0,
           0,
           1,
           0,
           0
          ],
          [
           1,
           1,
           0,
           0,
           0,
           0,
           0,
           0
          ],
          [
           1,
           0,
           0,
           0,
           0,
           0,
           0,
           0
          ],
          [
           1,
           1,
           1,
           0,
           1,
           1,
           0,
           0
          ],
          [
           1,
           0,
           0,
           0,
           1,
           0,
           0,
           0
          ],
          [
           1,
           0,
           0,
           0,
           1,
           0,
           0,
           0
          ],
          [
           1,
           0,
           0,
           0,
           1,
           0,
           0,
           0
          ],
          [
           1,
           0,
           0,
           0,
           0,
           0,
           0,
           0
          ],
          [
           1,
           0,
           1,
           1,
           1,
           0,
           0,
           0
          ],
          [
           1,
           1,
           0,
           0,
           0,
           0,
           0,
           0
          ],
          [
           1,
           1,
           0,
           0,
           1,
           0,
           0,
           0
          ],
          [
           1,
           0,
           0,
           0,
           1,
           0,
           0,
           0
          ],
          [
           1,
           0,
           1,
           0,
           0,
           0,
           0,
           0
          ],
          [
           1,
           0,
           0,
           0,
           0,
           1,
           0,
           0
          ],
          [
           0,
           0,
           1,
           0,
           0,
           0,
           0,
           0
          ],
          [
           1,
           1,
           0,
           0,
           1,
           0,
           0,
           0
          ],
          [
           1,
           1,
           0,
           1,
           1,
           1,
           0,
           0
          ],
          [
           1,
           1,
           0,
           0,
           0,
           0,
           0,
           0
          ],
          [
           0,
           1,
           1,
           0,
           0,
           0,
           0,
           0
          ],
          [
           1,
           0,
           1,
           0,
           0,
           0,
           0,
           0
          ],
          [
           1,
           0,
           0,
           0,
           0,
           0,
           0,
           0
          ],
          [
           1,
           1,
           0,
           0,
           0,
           0,
           0,
           0
          ],
          [
           1,
           1,
           1,
           0,
           0,
           0,
           0,
           0
          ],
          [
           1,
           0,
           0,
           0,
           0,
           1,
           0,
           0
          ],
          [
           1,
           0,
           0,
           0,
           1,
           0,
           0,
           0
          ],
          [
           1,
           1,
           0,
           0,
           0,
           0,
           0,
           0
          ],
          [
           1,
           0,
           1,
           0,
           1,
           0,
           0,
           0
          ],
          [
           1,
           1,
           0,
           0,
           0,
           0,
           0,
           0
          ],
          [
           1,
           0,
           0,
           0,
           0,
           0,
           0,
           0
          ],
          [
           1,
           1,
           0,
           1,
           1,
           0,
           0,
           0
          ],
          [
           0,
           0,
           1,
           0,
           0,
           1,
           0,
           0
          ],
          [
           1,
           1,
           1,
           0,
           0,
           0,
           0,
           0
          ],
          [
           1,
           1,
           0,
           0,
           0,
           1,
           0,
           0
          ],
          [
           1,
           1,
           0,
           0,
           0,
           1,
           0,
           0
          ],
          [
           1,
           0,
           1,
           0,
           1,
           1,
           0,
           0
          ],
          [
           1,
           0,
           0,
           0,
           0,
           0,
           0,
           0
          ],
          [
           1,
           1,
           0,
           0,
           0,
           0,
           0,
           0
          ],
          [
           1,
           1,
           1,
           0,
           1,
           1,
           0,
           0
          ],
          [
           1,
           0,
           1,
           0,
           0,
           1,
           0,
           0
          ],
          [
           1,
           1,
           1,
           1,
           1,
           0,
           0,
           0
          ],
          [
           1,
           1,
           1,
           0,
           0,
           0,
           0,
           0
          ],
          [
           1,
           1,
           1,
           0,
           1,
           0,
           0,
           0
          ],
          [
           1,
           0,
           1,
           0,
           0,
           0,
           0,
           0
          ],
          [
           1,
           1,
           0,
           0,
           0,
           0,
           0,
           0
          ],
          [
           0,
           0,
           1,
           0,
           1,
           1,
           0,
           0
          ],
          [
           1,
           0,
           1,
           1,
           1,
           0,
           0,
           0
          ],
          [
           1,
           1,
           1,
           0,
           1,
           0,
           0,
           0
          ],
          [
           1,
           1,
           0,
           0,
           0,
           0,
           0,
           0
          ],
          [
           0,
           0,
           1,
           1,
           1,
           0,
           0,
           0
          ],
          [
           0,
           0,
           0,
           0,
           0,
           0,
           0,
           0
          ],
          [
           1,
           1,
           1,
           0,
           0,
           0,
           0,
           0
          ],
          [
           1,
           1,
           1,
           0,
           1,
           0,
           0,
           0
          ],
          [
           1,
           1,
           1,
           0,
           1,
           1,
           0,
           0
          ],
          [
           1,
           0,
           0,
           0,
           0,
           1,
           0,
           0
          ],
          [
           1,
           1,
           0,
           1,
           1,
           1,
           0,
           0
          ],
          [
           1,
           1,
           0,
           1,
           1,
           1,
           0,
           0
          ],
          [
           1,
           1,
           0,
           0,
           1,
           1,
           0,
           0
          ],
          [
           1,
           0,
           0,
           0,
           0,
           0,
           0,
           0
          ],
          [
           1,
           1,
           0,
           1,
           0,
           0,
           0,
           0
          ],
          [
           1,
           1,
           0,
           0,
           0,
           1,
           0,
           0
          ],
          [
           1,
           1,
           0,
           1,
           1,
           0,
           0,
           0
          ],
          [
           1,
           1,
           1,
           0,
           1,
           0,
           0,
           0
          ],
          [
           1,
           1,
           0,
           0,
           1,
           1,
           0,
           0
          ],
          [
           1,
           1,
           0,
           0,
           0,
           0,
           0,
           0
          ],
          [
           1,
           1,
           0,
           0,
           1,
           0,
           0,
           0
          ],
          [
           1,
           1,
           0,
           1,
           1,
           0,
           0,
           0
          ],
          [
           1,
           1,
           1,
           0,
           0,
           1,
           0,
           0
          ],
          [
           1,
           0,
           0,
           0,
           0,
           0,
           0,
           0
          ],
          [
           1,
           0,
           0,
           0,
           0,
           0,
           0,
           0
          ],
          [
           1,
           0,
           0,
           0,
           0,
           0,
           0,
           0
          ],
          [
           1,
           1,
           0,
           0,
           1,
           1,
           0,
           0
          ],
          [
           1,
           1,
           1,
           0,
           0,
           1,
           0,
           0
          ],
          [
           1,
           0,
           0,
           0,
           0,
           0,
           0,
           0
          ],
          [
           1,
           1,
           0,
           0,
           0,
           0,
           0,
           0
          ],
          [
           1,
           1,
           1,
           0,
           1,
           1,
           0,
           0
          ],
          [
           1,
           0,
           1,
           1,
           0,
           1,
           0,
           0
          ],
          [
           1,
           0,
           0,
           0,
           0,
           0,
           0,
           0
          ],
          [
           0,
           0,
           0,
           0,
           0,
           1,
           0,
           0
          ],
          [
           1,
           1,
           0,
           0,
           1,
           0,
           0,
           0
          ],
          [
           1,
           1,
           0,
           0,
           0,
           0,
           0,
           0
          ],
          [
           1,
           1,
           0,
           0,
           0,
           1,
           0,
           0
          ],
          [
           1,
           0,
           0,
           0,
           1,
           1,
           0,
           0
          ],
          [
           0,
           0,
           0,
           0,
           0,
           1,
           0,
           0
          ],
          [
           1,
           0,
           1,
           0,
           0,
           0,
           0,
           0
          ],
          [
           1,
           1,
           1,
           0,
           1,
           0,
           0,
           0
          ],
          [
           1,
           1,
           1,
           0,
           1,
           1,
           0,
           0
          ],
          [
           0,
           1,
           0,
           0,
           0,
           0,
           0,
           0
          ],
          [
           1,
           0,
           1,
           0,
           0,
           0,
           0,
           0
          ],
          [
           1,
           0,
           0,
           0,
           0,
           0,
           0,
           0
          ],
          [
           1,
           0,
           0,
           1,
           1,
           1,
           0,
           0
          ],
          [
           1,
           1,
           1,
           0,
           0,
           0,
           0,
           0
          ],
          [
           1,
           1,
           0,
           0,
           1,
           0,
           0,
           0
          ],
          [
           1,
           1,
           0,
           0,
           1,
           0,
           0,
           0
          ],
          [
           1,
           1,
           0,
           0,
           0,
           1,
           0,
           0
          ],
          [
           1,
           1,
           0,
           0,
           0,
           0,
           0,
           0
          ],
          [
           1,
           1,
           0,
           0,
           0,
           0,
           0,
           0
          ],
          [
           1,
           0,
           0,
           0,
           0,
           1,
           0,
           0
          ],
          [
           1,
           1,
           1,
           0,
           0,
           0,
           0,
           0
          ],
          [
           1,
           0,
           0,
           0,
           1,
           0,
           0,
           0
          ],
          [
           1,
           1,
           0,
           1,
           0,
           0,
           0,
           0
          ],
          [
           1,
           1,
           0,
           0,
           0,
           1,
           0,
           0
          ],
          [
           0,
           0,
           0,
           0,
           1,
           0,
           0,
           0
          ],
          [
           1,
           0,
           0,
           0,
           0,
           0,
           0,
           0
          ],
          [
           1,
           1,
           1,
           0,
           0,
           0,
           0,
           0
          ],
          [
           1,
           0,
           0,
           0,
           0,
           0,
           0,
           0
          ],
          [
           1,
           0,
           1,
           0,
           0,
           0,
           0,
           0
          ],
          [
           1,
           1,
           0,
           0,
           0,
           0,
           0,
           0
          ],
          [
           1,
           0,
           0,
           0,
           1,
           0,
           0,
           0
          ],
          [
           1,
           0,
           1,
           0,
           0,
           0,
           0,
           0
          ],
          [
           0,
           0,
           0,
           0,
           1,
           0,
           0,
           0
          ],
          [
           1,
           0,
           0,
           0,
           0,
           0,
           0,
           0
          ],
          [
           1,
           1,
           0,
           0,
           0,
           0,
           0,
           0
          ],
          [
           1,
           0,
           0,
           0,
           0,
           0,
           0,
           0
          ],
          [
           1,
           0,
           0,
           1,
           0,
           0,
           0,
           0
          ],
          [
           1,
           0,
           0,
           0,
           0,
           0,
           0,
           0
          ],
          [
           1,
           1,
           0,
           0,
           0,
           0,
           0,
           0
          ],
          [
           1,
           0,
           0,
           0,
           0,
           0,
           0,
           0
          ],
          [
           1,
           0,
           0,
           1,
           0,
           0,
           0,
           0
          ],
          [
           1,
           1,
           1,
           0,
           1,
           0,
           0,
           1
          ],
          [
           1,
           0,
           0,
           0,
           1,
           1,
           0,
           0
          ],
          [
           1,
           1,
           0,
           0,
           0,
           0,
           0,
           0
          ]
         ],
         "hovertemplate": "x=%{x}<br>y=%{y}<br>Stretching=%{customdata[0]}<br>Warm Up=%{customdata[1]}<br>Strength Exercises=%{customdata[2]}<br>Bracing=%{customdata[3]}<br>Taping=%{customdata[4]}<br>Shoe Insoles=%{customdata[5]}<br>Face Masks=%{customdata[6]}<br>Medical Corset=%{customdata[7]}<extra></extra>",
         "legendgroup": "",
         "marker": {
          "color": "#1F77B4",
          "symbol": "circle"
         },
         "mode": "markers",
         "name": "",
         "orientation": "v",
         "showlegend": false,
         "type": "scatter",
         "x": [
          3.7805659770965576,
          4.441892623901367,
          1.8907289505004883,
          5.4819254875183105,
          2.0417685508728027,
          5.489290714263916,
          2.8935062885284424,
          3.702272891998291,
          5.16839075088501,
          2.049433469772339,
          2.278716802597046,
          5.519317626953125,
          2.2819273471832275,
          0.8071168065071106,
          6.589540004730225,
          1.8859511613845825,
          6.116208553314209,
          0.8118737936019897,
          6.118681907653809,
          5.050724029541016,
          2.0657920837402344,
          4.872762203216553,
          0.7951759099960327,
          0.8072019219398499,
          0.7791721224784851,
          2.1645288467407227,
          8.414392471313477,
          5.043380260467529,
          2.035027503967285,
          0.8088687658309937,
          3.7379443645477295,
          1.9048242568969727,
          7.140685558319092,
          2.03570818901062,
          9.77206039428711,
          5.005880355834961,
          6.964310646057129,
          3.7176244258880615,
          1.7644658088684082,
          4.464516639709473,
          5.490072250366211,
          1.8997132778167725,
          0.792476236820221,
          4.397111415863037,
          3.3488199710845947,
          4.920719623565674,
          2.058354139328003,
          9.257179260253906,
          7.396274089813232,
          5.564669609069824,
          3.5168533325195312,
          3.5176281929016113,
          4.582157135009766,
          1.7421995401382446,
          4.556650161743164,
          4.875308990478516,
          6.537542343139648,
          8.672806739807129,
          5.490147590637207,
          4.241794586181641,
          3.7577168941497803,
          4.638650417327881,
          7.510315418243408,
          8.422738075256348,
          4.266306400299072,
          5.234233856201172,
          8.141469955444336,
          6.651594161987305,
          5.517122745513916,
          4.2751641273498535,
          4.879530429840088,
          1.898040533065796,
          9.767133712768555,
          9.768351554870605,
          2.9056615829467773,
          1.792650818824768,
          8.783374786376953,
          3.527688980102539,
          9.254563331604004,
          4.256124496459961,
          2.8982882499694824,
          4.399539947509766,
          2.025240421295166,
          9.257524490356445,
          6.114867210388184,
          1.9558786153793335,
          2.286325216293335,
          2.2096238136291504,
          2.9155242443084717,
          6.118003845214844,
          1.4323322772979736,
          4.439483165740967,
          4.889476776123047,
          8.55091667175293,
          1.7104213237762451,
          7.058720111846924,
          2.0192205905914307,
          5.251141548156738,
          3.5204434394836426,
          1.6736608743667603,
          7.060744285583496,
          3.7432920932769775,
          4.263643264770508,
          4.876252174377441,
          6.584810256958008,
          3.7452566623687744,
          1.5834790468215942,
          9.635705947875977,
          5.520719051361084,
          2.0451531410217285,
          2.049211025238037,
          3.5165162086486816,
          4.930771350860596,
          5.105953693389893,
          1.8993481397628784,
          5.51022481918335,
          0.8263072371482849,
          8.786145210266113,
          3.515899419784546,
          6.426942825317383,
          2.1351158618927,
          5.492481231689453,
          2.3038671016693115,
          3.706902027130127,
          4.737675189971924,
          0.8118070363998413,
          3.7043919563293457,
          6.426126956939697,
          1.4413655996322632,
          5.255763053894043,
          1.459604263305664,
          8.390551567077637,
          1.481979489326477,
          4.5641045570373535,
          1.5911813974380493,
          8.396346092224121,
          3.8521554470062256,
          1.6562564373016357,
          4.724312782287598
         ],
         "xaxis": "x",
         "y": [
          -0.6897386908531189,
          -3.2397007942199707,
          -4.783755779266357,
          -0.16496685147285461,
          1.206352710723877,
          -0.24144989252090454,
          3.0382044315338135,
          -0.7404596209526062,
          -2.7369158267974854,
          1.1893635988235474,
          -2.672175645828247,
          -0.28985804319381714,
          -2.372504711151123,
          -0.22496560215950012,
          -5.743947982788086,
          -4.789609432220459,
          1.8481974601745605,
          -0.1742245852947235,
          1.8448151350021362,
          -3.3918635845184326,
          -2.856231212615967,
          2.8814127445220947,
          -0.13748039305210114,
          -0.193868026137352,
          -0.16085068881511688,
          -2.213320732116699,
          -0.711794912815094,
          -2.6779520511627197,
          1.1906331777572632,
          -0.17339658737182617,
          -0.7153415083885193,
          -4.803304195404053,
          -6.021087646484375,
          1.1732271909713745,
          -0.7513236999511719,
          -3.3858187198638916,
          -5.654322147369385,
          -0.7283310294151306,
          -2.887129306793213,
          -2.8169422149658203,
          -0.24979187548160553,
          -4.79836368560791,
          -0.1371401995420456,
          -3.0739307403564453,
          0.49752670526504517,
          -2.651862621307373,
          -2.11728835105896,
          -1.4201300144195557,
          -6.576761722564697,
          -0.2370423972606659,
          -5.080231189727783,
          -5.076749801635742,
          3.3132667541503906,
          -2.8690502643585205,
          -2.7289230823516846,
          2.880174398422241,
          1.344161033630371,
          -0.9050611257553101,
          -0.1906334012746811,
          1.3986303806304932,
          -0.6903022527694702,
          -2.678227424621582,
          -6.603497505187988,
          -0.7095231413841248,
          1.4038658142089844,
          -2.854588508605957,
          -5.003667831420898,
          -6.25338077545166,
          -0.1984284371137619,
          1.3965321779251099,
          2.8831796646118164,
          -4.784872055053711,
          -0.7546109557151794,
          -0.7518911361694336,
          3.0557432174682617,
          -2.1103711128234863,
          -2.091064453125,
          -5.075088024139404,
          -1.4288568496704102,
          1.4055637121200562,
          3.0458691120147705,
          -3.126371383666992,
          1.2106108665466309,
          -1.4204436540603638,
          1.855692982673645,
          -2.1021804809570312,
          -2.3022303581237793,
          -2.754565715789795,
          3.0557050704956055,
          1.8294984102249146,
          -2.3673055171966553,
          -2.8338000774383545,
          2.8813254833221436,
          -0.018991831690073013,
          -2.1691439151763916,
          -6.746143341064453,
          1.2040190696716309,
          -3.089772939682007,
          -5.070852756500244,
          2.886867046356201,
          -6.7481303215026855,
          -0.710865318775177,
          1.4163868427276611,
          2.887584924697876,
          -5.738186836242676,
          -0.6963404417037964,
          -2.7841219902038574,
          -0.49402713775634766,
          -0.3354596197605133,
          1.2097434997558594,
          1.2032467126846313,
          -5.083413600921631,
          -2.647918939590454,
          -3.28191876411438,
          -4.782323360443115,
          -0.18736137449741364,
          -0.18525107204914093,
          -2.088655948638916,
          -5.078967094421387,
          -6.494777202606201,
          -2.8630359172821045,
          -0.25551745295524597,
          -2.5649962425231934,
          -0.7306750416755676,
          -3.427142381668091,
          -0.15079918503761292,
          -0.7268632650375366,
          -6.492980480194092,
          -2.409588098526001,
          -3.0288197994232178,
          -2.65801739692688,
          -2.160865545272827,
          -2.6931281089782715,
          -3.3756372928619385,
          -2.2209692001342773,
          -2.162755012512207,
          1.8135160207748413,
          2.8732211589813232,
          -3.426987886428833
         ],
         "yaxis": "y"
        }
       ],
       "layout": {
        "legend": {
         "tracegroupgap": 0
        },
        "template": {
         "data": {
          "bar": [
           {
            "error_x": {
             "color": "rgb(36,36,36)"
            },
            "error_y": {
             "color": "rgb(36,36,36)"
            },
            "marker": {
             "line": {
              "color": "white",
              "width": 0.5
             },
             "pattern": {
              "fillmode": "overlay",
              "size": 10,
              "solidity": 0.2
             }
            },
            "type": "bar"
           }
          ],
          "barpolar": [
           {
            "marker": {
             "line": {
              "color": "white",
              "width": 0.5
             },
             "pattern": {
              "fillmode": "overlay",
              "size": 10,
              "solidity": 0.2
             }
            },
            "type": "barpolar"
           }
          ],
          "carpet": [
           {
            "aaxis": {
             "endlinecolor": "rgb(36,36,36)",
             "gridcolor": "white",
             "linecolor": "white",
             "minorgridcolor": "white",
             "startlinecolor": "rgb(36,36,36)"
            },
            "baxis": {
             "endlinecolor": "rgb(36,36,36)",
             "gridcolor": "white",
             "linecolor": "white",
             "minorgridcolor": "white",
             "startlinecolor": "rgb(36,36,36)"
            },
            "type": "carpet"
           }
          ],
          "choropleth": [
           {
            "colorbar": {
             "outlinewidth": 1,
             "tickcolor": "rgb(36,36,36)",
             "ticks": "outside"
            },
            "type": "choropleth"
           }
          ],
          "contour": [
           {
            "colorbar": {
             "outlinewidth": 1,
             "tickcolor": "rgb(36,36,36)",
             "ticks": "outside"
            },
            "colorscale": [
             [
              0,
              "#440154"
             ],
             [
              0.1111111111111111,
              "#482878"
             ],
             [
              0.2222222222222222,
              "#3e4989"
             ],
             [
              0.3333333333333333,
              "#31688e"
             ],
             [
              0.4444444444444444,
              "#26828e"
             ],
             [
              0.5555555555555556,
              "#1f9e89"
             ],
             [
              0.6666666666666666,
              "#35b779"
             ],
             [
              0.7777777777777778,
              "#6ece58"
             ],
             [
              0.8888888888888888,
              "#b5de2b"
             ],
             [
              1,
              "#fde725"
             ]
            ],
            "type": "contour"
           }
          ],
          "contourcarpet": [
           {
            "colorbar": {
             "outlinewidth": 1,
             "tickcolor": "rgb(36,36,36)",
             "ticks": "outside"
            },
            "type": "contourcarpet"
           }
          ],
          "heatmap": [
           {
            "colorbar": {
             "outlinewidth": 1,
             "tickcolor": "rgb(36,36,36)",
             "ticks": "outside"
            },
            "colorscale": [
             [
              0,
              "#440154"
             ],
             [
              0.1111111111111111,
              "#482878"
             ],
             [
              0.2222222222222222,
              "#3e4989"
             ],
             [
              0.3333333333333333,
              "#31688e"
             ],
             [
              0.4444444444444444,
              "#26828e"
             ],
             [
              0.5555555555555556,
              "#1f9e89"
             ],
             [
              0.6666666666666666,
              "#35b779"
             ],
             [
              0.7777777777777778,
              "#6ece58"
             ],
             [
              0.8888888888888888,
              "#b5de2b"
             ],
             [
              1,
              "#fde725"
             ]
            ],
            "type": "heatmap"
           }
          ],
          "heatmapgl": [
           {
            "colorbar": {
             "outlinewidth": 1,
             "tickcolor": "rgb(36,36,36)",
             "ticks": "outside"
            },
            "colorscale": [
             [
              0,
              "#440154"
             ],
             [
              0.1111111111111111,
              "#482878"
             ],
             [
              0.2222222222222222,
              "#3e4989"
             ],
             [
              0.3333333333333333,
              "#31688e"
             ],
             [
              0.4444444444444444,
              "#26828e"
             ],
             [
              0.5555555555555556,
              "#1f9e89"
             ],
             [
              0.6666666666666666,
              "#35b779"
             ],
             [
              0.7777777777777778,
              "#6ece58"
             ],
             [
              0.8888888888888888,
              "#b5de2b"
             ],
             [
              1,
              "#fde725"
             ]
            ],
            "type": "heatmapgl"
           }
          ],
          "histogram": [
           {
            "marker": {
             "line": {
              "color": "white",
              "width": 0.6
             }
            },
            "type": "histogram"
           }
          ],
          "histogram2d": [
           {
            "colorbar": {
             "outlinewidth": 1,
             "tickcolor": "rgb(36,36,36)",
             "ticks": "outside"
            },
            "colorscale": [
             [
              0,
              "#440154"
             ],
             [
              0.1111111111111111,
              "#482878"
             ],
             [
              0.2222222222222222,
              "#3e4989"
             ],
             [
              0.3333333333333333,
              "#31688e"
             ],
             [
              0.4444444444444444,
              "#26828e"
             ],
             [
              0.5555555555555556,
              "#1f9e89"
             ],
             [
              0.6666666666666666,
              "#35b779"
             ],
             [
              0.7777777777777778,
              "#6ece58"
             ],
             [
              0.8888888888888888,
              "#b5de2b"
             ],
             [
              1,
              "#fde725"
             ]
            ],
            "type": "histogram2d"
           }
          ],
          "histogram2dcontour": [
           {
            "colorbar": {
             "outlinewidth": 1,
             "tickcolor": "rgb(36,36,36)",
             "ticks": "outside"
            },
            "colorscale": [
             [
              0,
              "#440154"
             ],
             [
              0.1111111111111111,
              "#482878"
             ],
             [
              0.2222222222222222,
              "#3e4989"
             ],
             [
              0.3333333333333333,
              "#31688e"
             ],
             [
              0.4444444444444444,
              "#26828e"
             ],
             [
              0.5555555555555556,
              "#1f9e89"
             ],
             [
              0.6666666666666666,
              "#35b779"
             ],
             [
              0.7777777777777778,
              "#6ece58"
             ],
             [
              0.8888888888888888,
              "#b5de2b"
             ],
             [
              1,
              "#fde725"
             ]
            ],
            "type": "histogram2dcontour"
           }
          ],
          "mesh3d": [
           {
            "colorbar": {
             "outlinewidth": 1,
             "tickcolor": "rgb(36,36,36)",
             "ticks": "outside"
            },
            "type": "mesh3d"
           }
          ],
          "parcoords": [
           {
            "line": {
             "colorbar": {
              "outlinewidth": 1,
              "tickcolor": "rgb(36,36,36)",
              "ticks": "outside"
             }
            },
            "type": "parcoords"
           }
          ],
          "pie": [
           {
            "automargin": true,
            "type": "pie"
           }
          ],
          "scatter": [
           {
            "fillpattern": {
             "fillmode": "overlay",
             "size": 10,
             "solidity": 0.2
            },
            "type": "scatter"
           }
          ],
          "scatter3d": [
           {
            "line": {
             "colorbar": {
              "outlinewidth": 1,
              "tickcolor": "rgb(36,36,36)",
              "ticks": "outside"
             }
            },
            "marker": {
             "colorbar": {
              "outlinewidth": 1,
              "tickcolor": "rgb(36,36,36)",
              "ticks": "outside"
             }
            },
            "type": "scatter3d"
           }
          ],
          "scattercarpet": [
           {
            "marker": {
             "colorbar": {
              "outlinewidth": 1,
              "tickcolor": "rgb(36,36,36)",
              "ticks": "outside"
             }
            },
            "type": "scattercarpet"
           }
          ],
          "scattergeo": [
           {
            "marker": {
             "colorbar": {
              "outlinewidth": 1,
              "tickcolor": "rgb(36,36,36)",
              "ticks": "outside"
             }
            },
            "type": "scattergeo"
           }
          ],
          "scattergl": [
           {
            "marker": {
             "colorbar": {
              "outlinewidth": 1,
              "tickcolor": "rgb(36,36,36)",
              "ticks": "outside"
             }
            },
            "type": "scattergl"
           }
          ],
          "scattermapbox": [
           {
            "marker": {
             "colorbar": {
              "outlinewidth": 1,
              "tickcolor": "rgb(36,36,36)",
              "ticks": "outside"
             }
            },
            "type": "scattermapbox"
           }
          ],
          "scatterpolar": [
           {
            "marker": {
             "colorbar": {
              "outlinewidth": 1,
              "tickcolor": "rgb(36,36,36)",
              "ticks": "outside"
             }
            },
            "type": "scatterpolar"
           }
          ],
          "scatterpolargl": [
           {
            "marker": {
             "colorbar": {
              "outlinewidth": 1,
              "tickcolor": "rgb(36,36,36)",
              "ticks": "outside"
             }
            },
            "type": "scatterpolargl"
           }
          ],
          "scatterternary": [
           {
            "marker": {
             "colorbar": {
              "outlinewidth": 1,
              "tickcolor": "rgb(36,36,36)",
              "ticks": "outside"
             }
            },
            "type": "scatterternary"
           }
          ],
          "surface": [
           {
            "colorbar": {
             "outlinewidth": 1,
             "tickcolor": "rgb(36,36,36)",
             "ticks": "outside"
            },
            "colorscale": [
             [
              0,
              "#440154"
             ],
             [
              0.1111111111111111,
              "#482878"
             ],
             [
              0.2222222222222222,
              "#3e4989"
             ],
             [
              0.3333333333333333,
              "#31688e"
             ],
             [
              0.4444444444444444,
              "#26828e"
             ],
             [
              0.5555555555555556,
              "#1f9e89"
             ],
             [
              0.6666666666666666,
              "#35b779"
             ],
             [
              0.7777777777777778,
              "#6ece58"
             ],
             [
              0.8888888888888888,
              "#b5de2b"
             ],
             [
              1,
              "#fde725"
             ]
            ],
            "type": "surface"
           }
          ],
          "table": [
           {
            "cells": {
             "fill": {
              "color": "rgb(237,237,237)"
             },
             "line": {
              "color": "white"
             }
            },
            "header": {
             "fill": {
              "color": "rgb(217,217,217)"
             },
             "line": {
              "color": "white"
             }
            },
            "type": "table"
           }
          ]
         },
         "layout": {
          "annotationdefaults": {
           "arrowhead": 0,
           "arrowwidth": 1
          },
          "autotypenumbers": "strict",
          "coloraxis": {
           "colorbar": {
            "outlinewidth": 1,
            "tickcolor": "rgb(36,36,36)",
            "ticks": "outside"
           }
          },
          "colorscale": {
           "diverging": [
            [
             0,
             "rgb(103,0,31)"
            ],
            [
             0.1,
             "rgb(178,24,43)"
            ],
            [
             0.2,
             "rgb(214,96,77)"
            ],
            [
             0.3,
             "rgb(244,165,130)"
            ],
            [
             0.4,
             "rgb(253,219,199)"
            ],
            [
             0.5,
             "rgb(247,247,247)"
            ],
            [
             0.6,
             "rgb(209,229,240)"
            ],
            [
             0.7,
             "rgb(146,197,222)"
            ],
            [
             0.8,
             "rgb(67,147,195)"
            ],
            [
             0.9,
             "rgb(33,102,172)"
            ],
            [
             1,
             "rgb(5,48,97)"
            ]
           ],
           "sequential": [
            [
             0,
             "#440154"
            ],
            [
             0.1111111111111111,
             "#482878"
            ],
            [
             0.2222222222222222,
             "#3e4989"
            ],
            [
             0.3333333333333333,
             "#31688e"
            ],
            [
             0.4444444444444444,
             "#26828e"
            ],
            [
             0.5555555555555556,
             "#1f9e89"
            ],
            [
             0.6666666666666666,
             "#35b779"
            ],
            [
             0.7777777777777778,
             "#6ece58"
            ],
            [
             0.8888888888888888,
             "#b5de2b"
            ],
            [
             1,
             "#fde725"
            ]
           ],
           "sequentialminus": [
            [
             0,
             "#440154"
            ],
            [
             0.1111111111111111,
             "#482878"
            ],
            [
             0.2222222222222222,
             "#3e4989"
            ],
            [
             0.3333333333333333,
             "#31688e"
            ],
            [
             0.4444444444444444,
             "#26828e"
            ],
            [
             0.5555555555555556,
             "#1f9e89"
            ],
            [
             0.6666666666666666,
             "#35b779"
            ],
            [
             0.7777777777777778,
             "#6ece58"
            ],
            [
             0.8888888888888888,
             "#b5de2b"
            ],
            [
             1,
             "#fde725"
            ]
           ]
          },
          "colorway": [
           "#1F77B4",
           "#FF7F0E",
           "#2CA02C",
           "#D62728",
           "#9467BD",
           "#8C564B",
           "#E377C2",
           "#7F7F7F",
           "#BCBD22",
           "#17BECF"
          ],
          "font": {
           "color": "rgb(36,36,36)"
          },
          "geo": {
           "bgcolor": "white",
           "lakecolor": "white",
           "landcolor": "white",
           "showlakes": true,
           "showland": true,
           "subunitcolor": "white"
          },
          "hoverlabel": {
           "align": "left"
          },
          "hovermode": "closest",
          "mapbox": {
           "style": "light"
          },
          "paper_bgcolor": "white",
          "plot_bgcolor": "white",
          "polar": {
           "angularaxis": {
            "gridcolor": "rgb(232,232,232)",
            "linecolor": "rgb(36,36,36)",
            "showgrid": false,
            "showline": true,
            "ticks": "outside"
           },
           "bgcolor": "white",
           "radialaxis": {
            "gridcolor": "rgb(232,232,232)",
            "linecolor": "rgb(36,36,36)",
            "showgrid": false,
            "showline": true,
            "ticks": "outside"
           }
          },
          "scene": {
           "xaxis": {
            "backgroundcolor": "white",
            "gridcolor": "rgb(232,232,232)",
            "gridwidth": 2,
            "linecolor": "rgb(36,36,36)",
            "showbackground": true,
            "showgrid": false,
            "showline": true,
            "ticks": "outside",
            "zeroline": false,
            "zerolinecolor": "rgb(36,36,36)"
           },
           "yaxis": {
            "backgroundcolor": "white",
            "gridcolor": "rgb(232,232,232)",
            "gridwidth": 2,
            "linecolor": "rgb(36,36,36)",
            "showbackground": true,
            "showgrid": false,
            "showline": true,
            "ticks": "outside",
            "zeroline": false,
            "zerolinecolor": "rgb(36,36,36)"
           },
           "zaxis": {
            "backgroundcolor": "white",
            "gridcolor": "rgb(232,232,232)",
            "gridwidth": 2,
            "linecolor": "rgb(36,36,36)",
            "showbackground": true,
            "showgrid": false,
            "showline": true,
            "ticks": "outside",
            "zeroline": false,
            "zerolinecolor": "rgb(36,36,36)"
           }
          },
          "shapedefaults": {
           "fillcolor": "black",
           "line": {
            "width": 0
           },
           "opacity": 0.3
          },
          "ternary": {
           "aaxis": {
            "gridcolor": "rgb(232,232,232)",
            "linecolor": "rgb(36,36,36)",
            "showgrid": false,
            "showline": true,
            "ticks": "outside"
           },
           "baxis": {
            "gridcolor": "rgb(232,232,232)",
            "linecolor": "rgb(36,36,36)",
            "showgrid": false,
            "showline": true,
            "ticks": "outside"
           },
           "bgcolor": "white",
           "caxis": {
            "gridcolor": "rgb(232,232,232)",
            "linecolor": "rgb(36,36,36)",
            "showgrid": false,
            "showline": true,
            "ticks": "outside"
           }
          },
          "title": {
           "x": 0.05
          },
          "xaxis": {
           "automargin": true,
           "gridcolor": "rgb(232,232,232)",
           "linecolor": "rgb(36,36,36)",
           "showgrid": false,
           "showline": true,
           "ticks": "outside",
           "title": {
            "standoff": 15
           },
           "zeroline": false,
           "zerolinecolor": "rgb(36,36,36)"
          },
          "yaxis": {
           "automargin": true,
           "gridcolor": "rgb(232,232,232)",
           "linecolor": "rgb(36,36,36)",
           "showgrid": false,
           "showline": true,
           "ticks": "outside",
           "title": {
            "standoff": 15
           },
           "zeroline": false,
           "zerolinecolor": "rgb(36,36,36)"
          }
         }
        },
        "title": {
         "text": "Perplexity = 50"
        },
        "xaxis": {
         "anchor": "y",
         "domain": [
          0,
          1
         ],
         "title": {
          "text": "x"
         }
        },
        "yaxis": {
         "anchor": "x",
         "domain": [
          0,
          1
         ],
         "title": {
          "text": "y"
         }
        }
       }
      },
      "text/html": [
       "<div>                            <div id=\"3b21f2ea-5544-4066-9564-3c64907a960e\" class=\"plotly-graph-div\" style=\"height:525px; width:100%;\"></div>            <script type=\"text/javascript\">                require([\"plotly\"], function(Plotly) {                    window.PLOTLYENV=window.PLOTLYENV || {};                                    if (document.getElementById(\"3b21f2ea-5544-4066-9564-3c64907a960e\")) {                    Plotly.newPlot(                        \"3b21f2ea-5544-4066-9564-3c64907a960e\",                        [{\"customdata\":[[1,0,1,0,0,0,0,0],[1,1,0,0,0,0,0,0],[1,0,0,0,0,1,0,0],[1,1,1,0,0,0,0,0],[1,1,0,0,1,0,0,0],[1,1,1,0,0,0,0,0],[1,1,0,0,1,1,0,0],[1,0,1,0,0,0,0,0],[1,1,0,0,0,0,0,0],[1,1,0,0,1,0,0,0],[1,0,0,0,0,0,0,0],[1,1,1,0,0,0,0,0],[1,0,0,0,0,0,0,0],[1,0,0,0,1,0,0,0],[0,1,0,0,0,0,0,0],[1,0,0,0,0,1,0,0],[1,1,1,0,0,1,0,0],[1,0,0,0,1,0,0,0],[1,1,1,0,0,1,0,0],[1,1,0,0,0,0,0,0],[1,0,0,0,0,0,0,0],[1,1,1,0,1,1,0,0],[1,0,0,0,1,0,0,0],[1,0,0,0,1,0,0,0],[1,0,0,0,1,0,0,0],[1,0,0,0,0,0,0,0],[1,0,1,1,1,0,0,0],[1,1,0,0,0,0,0,0],[1,1,0,0,1,0,0,0],[1,0,0,0,1,0,0,0],[1,0,1,0,0,0,0,0],[1,0,0,0,0,1,0,0],[0,0,1,0,0,0,0,0],[1,1,0,0,1,0,0,0],[1,1,0,1,1,1,0,0],[1,1,0,0,0,0,0,0],[0,1,1,0,0,0,0,0],[1,0,1,0,0,0,0,0],[1,0,0,0,0,0,0,0],[1,1,0,0,0,0,0,0],[1,1,1,0,0,0,0,0],[1,0,0,0,0,1,0,0],[1,0,0,0,1,0,0,0],[1,1,0,0,0,0,0,0],[1,0,1,0,1,0,0,0],[1,1,0,0,0,0,0,0],[1,0,0,0,0,0,0,0],[1,1,0,1,1,0,0,0],[0,0,1,0,0,1,0,0],[1,1,1,0,0,0,0,0],[1,1,0,0,0,1,0,0],[1,1,0,0,0,1,0,0],[1,0,1,0,1,1,0,0],[1,0,0,0,0,0,0,0],[1,1,0,0,0,0,0,0],[1,1,1,0,1,1,0,0],[1,0,1,0,0,1,0,0],[1,1,1,1,1,0,0,0],[1,1,1,0,0,0,0,0],[1,1,1,0,1,0,0,0],[1,0,1,0,0,0,0,0],[1,1,0,0,0,0,0,0],[0,0,1,0,1,1,0,0],[1,0,1,1,1,0,0,0],[1,1,1,0,1,0,0,0],[1,1,0,0,0,0,0,0],[0,0,1,1,1,0,0,0],[0,0,0,0,0,0,0,0],[1,1,1,0,0,0,0,0],[1,1,1,0,1,0,0,0],[1,1,1,0,1,1,0,0],[1,0,0,0,0,1,0,0],[1,1,0,1,1,1,0,0],[1,1,0,1,1,1,0,0],[1,1,0,0,1,1,0,0],[1,0,0,0,0,0,0,0],[1,1,0,1,0,0,0,0],[1,1,0,0,0,1,0,0],[1,1,0,1,1,0,0,0],[1,1,1,0,1,0,0,0],[1,1,0,0,1,1,0,0],[1,1,0,0,0,0,0,0],[1,1,0,0,1,0,0,0],[1,1,0,1,1,0,0,0],[1,1,1,0,0,1,0,0],[1,0,0,0,0,0,0,0],[1,0,0,0,0,0,0,0],[1,0,0,0,0,0,0,0],[1,1,0,0,1,1,0,0],[1,1,1,0,0,1,0,0],[1,0,0,0,0,0,0,0],[1,1,0,0,0,0,0,0],[1,1,1,0,1,1,0,0],[1,0,1,1,0,1,0,0],[1,0,0,0,0,0,0,0],[0,0,0,0,0,1,0,0],[1,1,0,0,1,0,0,0],[1,1,0,0,0,0,0,0],[1,1,0,0,0,1,0,0],[1,0,0,0,1,1,0,0],[0,0,0,0,0,1,0,0],[1,0,1,0,0,0,0,0],[1,1,1,0,1,0,0,0],[1,1,1,0,1,1,0,0],[0,1,0,0,0,0,0,0],[1,0,1,0,0,0,0,0],[1,0,0,0,0,0,0,0],[1,0,0,1,1,1,0,0],[1,1,1,0,0,0,0,0],[1,1,0,0,1,0,0,0],[1,1,0,0,1,0,0,0],[1,1,0,0,0,1,0,0],[1,1,0,0,0,0,0,0],[1,1,0,0,0,0,0,0],[1,0,0,0,0,1,0,0],[1,1,1,0,0,0,0,0],[1,0,0,0,1,0,0,0],[1,1,0,1,0,0,0,0],[1,1,0,0,0,1,0,0],[0,0,0,0,1,0,0,0],[1,0,0,0,0,0,0,0],[1,1,1,0,0,0,0,0],[1,0,0,0,0,0,0,0],[1,0,1,0,0,0,0,0],[1,1,0,0,0,0,0,0],[1,0,0,0,1,0,0,0],[1,0,1,0,0,0,0,0],[0,0,0,0,1,0,0,0],[1,0,0,0,0,0,0,0],[1,1,0,0,0,0,0,0],[1,0,0,0,0,0,0,0],[1,0,0,1,0,0,0,0],[1,0,0,0,0,0,0,0],[1,1,0,0,0,0,0,0],[1,0,0,0,0,0,0,0],[1,0,0,1,0,0,0,0],[1,1,1,0,1,0,0,1],[1,0,0,0,1,1,0,0],[1,1,0,0,0,0,0,0]],\"hovertemplate\":\"x=%{x}<br>y=%{y}<br>Stretching=%{customdata[0]}<br>Warm Up=%{customdata[1]}<br>Strength Exercises=%{customdata[2]}<br>Bracing=%{customdata[3]}<br>Taping=%{customdata[4]}<br>Shoe Insoles=%{customdata[5]}<br>Face Masks=%{customdata[6]}<br>Medical Corset=%{customdata[7]}<extra></extra>\",\"legendgroup\":\"\",\"marker\":{\"color\":\"#1F77B4\",\"symbol\":\"circle\"},\"mode\":\"markers\",\"name\":\"\",\"orientation\":\"v\",\"showlegend\":false,\"x\":[3.7805659770965576,4.441892623901367,1.8907289505004883,5.4819254875183105,2.0417685508728027,5.489290714263916,2.8935062885284424,3.702272891998291,5.16839075088501,2.049433469772339,2.278716802597046,5.519317626953125,2.2819273471832275,0.8071168065071106,6.589540004730225,1.8859511613845825,6.116208553314209,0.8118737936019897,6.118681907653809,5.050724029541016,2.0657920837402344,4.872762203216553,0.7951759099960327,0.8072019219398499,0.7791721224784851,2.1645288467407227,8.414392471313477,5.043380260467529,2.035027503967285,0.8088687658309937,3.7379443645477295,1.9048242568969727,7.140685558319092,2.03570818901062,9.77206039428711,5.005880355834961,6.964310646057129,3.7176244258880615,1.7644658088684082,4.464516639709473,5.490072250366211,1.8997132778167725,0.792476236820221,4.397111415863037,3.3488199710845947,4.920719623565674,2.058354139328003,9.257179260253906,7.396274089813232,5.564669609069824,3.5168533325195312,3.5176281929016113,4.582157135009766,1.7421995401382446,4.556650161743164,4.875308990478516,6.537542343139648,8.672806739807129,5.490147590637207,4.241794586181641,3.7577168941497803,4.638650417327881,7.510315418243408,8.422738075256348,4.266306400299072,5.234233856201172,8.141469955444336,6.651594161987305,5.517122745513916,4.2751641273498535,4.879530429840088,1.898040533065796,9.767133712768555,9.768351554870605,2.9056615829467773,1.792650818824768,8.783374786376953,3.527688980102539,9.254563331604004,4.256124496459961,2.8982882499694824,4.399539947509766,2.025240421295166,9.257524490356445,6.114867210388184,1.9558786153793335,2.286325216293335,2.2096238136291504,2.9155242443084717,6.118003845214844,1.4323322772979736,4.439483165740967,4.889476776123047,8.55091667175293,1.7104213237762451,7.058720111846924,2.0192205905914307,5.251141548156738,3.5204434394836426,1.6736608743667603,7.060744285583496,3.7432920932769775,4.263643264770508,4.876252174377441,6.584810256958008,3.7452566623687744,1.5834790468215942,9.635705947875977,5.520719051361084,2.0451531410217285,2.049211025238037,3.5165162086486816,4.930771350860596,5.105953693389893,1.8993481397628784,5.51022481918335,0.8263072371482849,8.786145210266113,3.515899419784546,6.426942825317383,2.1351158618927,5.492481231689453,2.3038671016693115,3.706902027130127,4.737675189971924,0.8118070363998413,3.7043919563293457,6.426126956939697,1.4413655996322632,5.255763053894043,1.459604263305664,8.390551567077637,1.481979489326477,4.5641045570373535,1.5911813974380493,8.396346092224121,3.8521554470062256,1.6562564373016357,4.724312782287598],\"xaxis\":\"x\",\"y\":[-0.6897386908531189,-3.2397007942199707,-4.783755779266357,-0.16496685147285461,1.206352710723877,-0.24144989252090454,3.0382044315338135,-0.7404596209526062,-2.7369158267974854,1.1893635988235474,-2.672175645828247,-0.28985804319381714,-2.372504711151123,-0.22496560215950012,-5.743947982788086,-4.789609432220459,1.8481974601745605,-0.1742245852947235,1.8448151350021362,-3.3918635845184326,-2.856231212615967,2.8814127445220947,-0.13748039305210114,-0.193868026137352,-0.16085068881511688,-2.213320732116699,-0.711794912815094,-2.6779520511627197,1.1906331777572632,-0.17339658737182617,-0.7153415083885193,-4.803304195404053,-6.021087646484375,1.1732271909713745,-0.7513236999511719,-3.3858187198638916,-5.654322147369385,-0.7283310294151306,-2.887129306793213,-2.8169422149658203,-0.24979187548160553,-4.79836368560791,-0.1371401995420456,-3.0739307403564453,0.49752670526504517,-2.651862621307373,-2.11728835105896,-1.4201300144195557,-6.576761722564697,-0.2370423972606659,-5.080231189727783,-5.076749801635742,3.3132667541503906,-2.8690502643585205,-2.7289230823516846,2.880174398422241,1.344161033630371,-0.9050611257553101,-0.1906334012746811,1.3986303806304932,-0.6903022527694702,-2.678227424621582,-6.603497505187988,-0.7095231413841248,1.4038658142089844,-2.854588508605957,-5.003667831420898,-6.25338077545166,-0.1984284371137619,1.3965321779251099,2.8831796646118164,-4.784872055053711,-0.7546109557151794,-0.7518911361694336,3.0557432174682617,-2.1103711128234863,-2.091064453125,-5.075088024139404,-1.4288568496704102,1.4055637121200562,3.0458691120147705,-3.126371383666992,1.2106108665466309,-1.4204436540603638,1.855692982673645,-2.1021804809570312,-2.3022303581237793,-2.754565715789795,3.0557050704956055,1.8294984102249146,-2.3673055171966553,-2.8338000774383545,2.8813254833221436,-0.018991831690073013,-2.1691439151763916,-6.746143341064453,1.2040190696716309,-3.089772939682007,-5.070852756500244,2.886867046356201,-6.7481303215026855,-0.710865318775177,1.4163868427276611,2.887584924697876,-5.738186836242676,-0.6963404417037964,-2.7841219902038574,-0.49402713775634766,-0.3354596197605133,1.2097434997558594,1.2032467126846313,-5.083413600921631,-2.647918939590454,-3.28191876411438,-4.782323360443115,-0.18736137449741364,-0.18525107204914093,-2.088655948638916,-5.078967094421387,-6.494777202606201,-2.8630359172821045,-0.25551745295524597,-2.5649962425231934,-0.7306750416755676,-3.427142381668091,-0.15079918503761292,-0.7268632650375366,-6.492980480194092,-2.409588098526001,-3.0288197994232178,-2.65801739692688,-2.160865545272827,-2.6931281089782715,-3.3756372928619385,-2.2209692001342773,-2.162755012512207,1.8135160207748413,2.8732211589813232,-3.426987886428833],\"yaxis\":\"y\",\"type\":\"scatter\"}],                        {\"template\":{\"data\":{\"barpolar\":[{\"marker\":{\"line\":{\"color\":\"white\",\"width\":0.5},\"pattern\":{\"fillmode\":\"overlay\",\"size\":10,\"solidity\":0.2}},\"type\":\"barpolar\"}],\"bar\":[{\"error_x\":{\"color\":\"rgb(36,36,36)\"},\"error_y\":{\"color\":\"rgb(36,36,36)\"},\"marker\":{\"line\":{\"color\":\"white\",\"width\":0.5},\"pattern\":{\"fillmode\":\"overlay\",\"size\":10,\"solidity\":0.2}},\"type\":\"bar\"}],\"carpet\":[{\"aaxis\":{\"endlinecolor\":\"rgb(36,36,36)\",\"gridcolor\":\"white\",\"linecolor\":\"white\",\"minorgridcolor\":\"white\",\"startlinecolor\":\"rgb(36,36,36)\"},\"baxis\":{\"endlinecolor\":\"rgb(36,36,36)\",\"gridcolor\":\"white\",\"linecolor\":\"white\",\"minorgridcolor\":\"white\",\"startlinecolor\":\"rgb(36,36,36)\"},\"type\":\"carpet\"}],\"choropleth\":[{\"colorbar\":{\"outlinewidth\":1,\"tickcolor\":\"rgb(36,36,36)\",\"ticks\":\"outside\"},\"type\":\"choropleth\"}],\"contourcarpet\":[{\"colorbar\":{\"outlinewidth\":1,\"tickcolor\":\"rgb(36,36,36)\",\"ticks\":\"outside\"},\"type\":\"contourcarpet\"}],\"contour\":[{\"colorbar\":{\"outlinewidth\":1,\"tickcolor\":\"rgb(36,36,36)\",\"ticks\":\"outside\"},\"colorscale\":[[0.0,\"#440154\"],[0.1111111111111111,\"#482878\"],[0.2222222222222222,\"#3e4989\"],[0.3333333333333333,\"#31688e\"],[0.4444444444444444,\"#26828e\"],[0.5555555555555556,\"#1f9e89\"],[0.6666666666666666,\"#35b779\"],[0.7777777777777778,\"#6ece58\"],[0.8888888888888888,\"#b5de2b\"],[1.0,\"#fde725\"]],\"type\":\"contour\"}],\"heatmapgl\":[{\"colorbar\":{\"outlinewidth\":1,\"tickcolor\":\"rgb(36,36,36)\",\"ticks\":\"outside\"},\"colorscale\":[[0.0,\"#440154\"],[0.1111111111111111,\"#482878\"],[0.2222222222222222,\"#3e4989\"],[0.3333333333333333,\"#31688e\"],[0.4444444444444444,\"#26828e\"],[0.5555555555555556,\"#1f9e89\"],[0.6666666666666666,\"#35b779\"],[0.7777777777777778,\"#6ece58\"],[0.8888888888888888,\"#b5de2b\"],[1.0,\"#fde725\"]],\"type\":\"heatmapgl\"}],\"heatmap\":[{\"colorbar\":{\"outlinewidth\":1,\"tickcolor\":\"rgb(36,36,36)\",\"ticks\":\"outside\"},\"colorscale\":[[0.0,\"#440154\"],[0.1111111111111111,\"#482878\"],[0.2222222222222222,\"#3e4989\"],[0.3333333333333333,\"#31688e\"],[0.4444444444444444,\"#26828e\"],[0.5555555555555556,\"#1f9e89\"],[0.6666666666666666,\"#35b779\"],[0.7777777777777778,\"#6ece58\"],[0.8888888888888888,\"#b5de2b\"],[1.0,\"#fde725\"]],\"type\":\"heatmap\"}],\"histogram2dcontour\":[{\"colorbar\":{\"outlinewidth\":1,\"tickcolor\":\"rgb(36,36,36)\",\"ticks\":\"outside\"},\"colorscale\":[[0.0,\"#440154\"],[0.1111111111111111,\"#482878\"],[0.2222222222222222,\"#3e4989\"],[0.3333333333333333,\"#31688e\"],[0.4444444444444444,\"#26828e\"],[0.5555555555555556,\"#1f9e89\"],[0.6666666666666666,\"#35b779\"],[0.7777777777777778,\"#6ece58\"],[0.8888888888888888,\"#b5de2b\"],[1.0,\"#fde725\"]],\"type\":\"histogram2dcontour\"}],\"histogram2d\":[{\"colorbar\":{\"outlinewidth\":1,\"tickcolor\":\"rgb(36,36,36)\",\"ticks\":\"outside\"},\"colorscale\":[[0.0,\"#440154\"],[0.1111111111111111,\"#482878\"],[0.2222222222222222,\"#3e4989\"],[0.3333333333333333,\"#31688e\"],[0.4444444444444444,\"#26828e\"],[0.5555555555555556,\"#1f9e89\"],[0.6666666666666666,\"#35b779\"],[0.7777777777777778,\"#6ece58\"],[0.8888888888888888,\"#b5de2b\"],[1.0,\"#fde725\"]],\"type\":\"histogram2d\"}],\"histogram\":[{\"marker\":{\"line\":{\"color\":\"white\",\"width\":0.6}},\"type\":\"histogram\"}],\"mesh3d\":[{\"colorbar\":{\"outlinewidth\":1,\"tickcolor\":\"rgb(36,36,36)\",\"ticks\":\"outside\"},\"type\":\"mesh3d\"}],\"parcoords\":[{\"line\":{\"colorbar\":{\"outlinewidth\":1,\"tickcolor\":\"rgb(36,36,36)\",\"ticks\":\"outside\"}},\"type\":\"parcoords\"}],\"pie\":[{\"automargin\":true,\"type\":\"pie\"}],\"scatter3d\":[{\"line\":{\"colorbar\":{\"outlinewidth\":1,\"tickcolor\":\"rgb(36,36,36)\",\"ticks\":\"outside\"}},\"marker\":{\"colorbar\":{\"outlinewidth\":1,\"tickcolor\":\"rgb(36,36,36)\",\"ticks\":\"outside\"}},\"type\":\"scatter3d\"}],\"scattercarpet\":[{\"marker\":{\"colorbar\":{\"outlinewidth\":1,\"tickcolor\":\"rgb(36,36,36)\",\"ticks\":\"outside\"}},\"type\":\"scattercarpet\"}],\"scattergeo\":[{\"marker\":{\"colorbar\":{\"outlinewidth\":1,\"tickcolor\":\"rgb(36,36,36)\",\"ticks\":\"outside\"}},\"type\":\"scattergeo\"}],\"scattergl\":[{\"marker\":{\"colorbar\":{\"outlinewidth\":1,\"tickcolor\":\"rgb(36,36,36)\",\"ticks\":\"outside\"}},\"type\":\"scattergl\"}],\"scattermapbox\":[{\"marker\":{\"colorbar\":{\"outlinewidth\":1,\"tickcolor\":\"rgb(36,36,36)\",\"ticks\":\"outside\"}},\"type\":\"scattermapbox\"}],\"scatterpolargl\":[{\"marker\":{\"colorbar\":{\"outlinewidth\":1,\"tickcolor\":\"rgb(36,36,36)\",\"ticks\":\"outside\"}},\"type\":\"scatterpolargl\"}],\"scatterpolar\":[{\"marker\":{\"colorbar\":{\"outlinewidth\":1,\"tickcolor\":\"rgb(36,36,36)\",\"ticks\":\"outside\"}},\"type\":\"scatterpolar\"}],\"scatter\":[{\"fillpattern\":{\"fillmode\":\"overlay\",\"size\":10,\"solidity\":0.2},\"type\":\"scatter\"}],\"scatterternary\":[{\"marker\":{\"colorbar\":{\"outlinewidth\":1,\"tickcolor\":\"rgb(36,36,36)\",\"ticks\":\"outside\"}},\"type\":\"scatterternary\"}],\"surface\":[{\"colorbar\":{\"outlinewidth\":1,\"tickcolor\":\"rgb(36,36,36)\",\"ticks\":\"outside\"},\"colorscale\":[[0.0,\"#440154\"],[0.1111111111111111,\"#482878\"],[0.2222222222222222,\"#3e4989\"],[0.3333333333333333,\"#31688e\"],[0.4444444444444444,\"#26828e\"],[0.5555555555555556,\"#1f9e89\"],[0.6666666666666666,\"#35b779\"],[0.7777777777777778,\"#6ece58\"],[0.8888888888888888,\"#b5de2b\"],[1.0,\"#fde725\"]],\"type\":\"surface\"}],\"table\":[{\"cells\":{\"fill\":{\"color\":\"rgb(237,237,237)\"},\"line\":{\"color\":\"white\"}},\"header\":{\"fill\":{\"color\":\"rgb(217,217,217)\"},\"line\":{\"color\":\"white\"}},\"type\":\"table\"}]},\"layout\":{\"annotationdefaults\":{\"arrowhead\":0,\"arrowwidth\":1},\"autotypenumbers\":\"strict\",\"coloraxis\":{\"colorbar\":{\"outlinewidth\":1,\"tickcolor\":\"rgb(36,36,36)\",\"ticks\":\"outside\"}},\"colorscale\":{\"diverging\":[[0.0,\"rgb(103,0,31)\"],[0.1,\"rgb(178,24,43)\"],[0.2,\"rgb(214,96,77)\"],[0.3,\"rgb(244,165,130)\"],[0.4,\"rgb(253,219,199)\"],[0.5,\"rgb(247,247,247)\"],[0.6,\"rgb(209,229,240)\"],[0.7,\"rgb(146,197,222)\"],[0.8,\"rgb(67,147,195)\"],[0.9,\"rgb(33,102,172)\"],[1.0,\"rgb(5,48,97)\"]],\"sequential\":[[0.0,\"#440154\"],[0.1111111111111111,\"#482878\"],[0.2222222222222222,\"#3e4989\"],[0.3333333333333333,\"#31688e\"],[0.4444444444444444,\"#26828e\"],[0.5555555555555556,\"#1f9e89\"],[0.6666666666666666,\"#35b779\"],[0.7777777777777778,\"#6ece58\"],[0.8888888888888888,\"#b5de2b\"],[1.0,\"#fde725\"]],\"sequentialminus\":[[0.0,\"#440154\"],[0.1111111111111111,\"#482878\"],[0.2222222222222222,\"#3e4989\"],[0.3333333333333333,\"#31688e\"],[0.4444444444444444,\"#26828e\"],[0.5555555555555556,\"#1f9e89\"],[0.6666666666666666,\"#35b779\"],[0.7777777777777778,\"#6ece58\"],[0.8888888888888888,\"#b5de2b\"],[1.0,\"#fde725\"]]},\"colorway\":[\"#1F77B4\",\"#FF7F0E\",\"#2CA02C\",\"#D62728\",\"#9467BD\",\"#8C564B\",\"#E377C2\",\"#7F7F7F\",\"#BCBD22\",\"#17BECF\"],\"font\":{\"color\":\"rgb(36,36,36)\"},\"geo\":{\"bgcolor\":\"white\",\"lakecolor\":\"white\",\"landcolor\":\"white\",\"showlakes\":true,\"showland\":true,\"subunitcolor\":\"white\"},\"hoverlabel\":{\"align\":\"left\"},\"hovermode\":\"closest\",\"mapbox\":{\"style\":\"light\"},\"paper_bgcolor\":\"white\",\"plot_bgcolor\":\"white\",\"polar\":{\"angularaxis\":{\"gridcolor\":\"rgb(232,232,232)\",\"linecolor\":\"rgb(36,36,36)\",\"showgrid\":false,\"showline\":true,\"ticks\":\"outside\"},\"bgcolor\":\"white\",\"radialaxis\":{\"gridcolor\":\"rgb(232,232,232)\",\"linecolor\":\"rgb(36,36,36)\",\"showgrid\":false,\"showline\":true,\"ticks\":\"outside\"}},\"scene\":{\"xaxis\":{\"backgroundcolor\":\"white\",\"gridcolor\":\"rgb(232,232,232)\",\"gridwidth\":2,\"linecolor\":\"rgb(36,36,36)\",\"showbackground\":true,\"showgrid\":false,\"showline\":true,\"ticks\":\"outside\",\"zeroline\":false,\"zerolinecolor\":\"rgb(36,36,36)\"},\"yaxis\":{\"backgroundcolor\":\"white\",\"gridcolor\":\"rgb(232,232,232)\",\"gridwidth\":2,\"linecolor\":\"rgb(36,36,36)\",\"showbackground\":true,\"showgrid\":false,\"showline\":true,\"ticks\":\"outside\",\"zeroline\":false,\"zerolinecolor\":\"rgb(36,36,36)\"},\"zaxis\":{\"backgroundcolor\":\"white\",\"gridcolor\":\"rgb(232,232,232)\",\"gridwidth\":2,\"linecolor\":\"rgb(36,36,36)\",\"showbackground\":true,\"showgrid\":false,\"showline\":true,\"ticks\":\"outside\",\"zeroline\":false,\"zerolinecolor\":\"rgb(36,36,36)\"}},\"shapedefaults\":{\"fillcolor\":\"black\",\"line\":{\"width\":0},\"opacity\":0.3},\"ternary\":{\"aaxis\":{\"gridcolor\":\"rgb(232,232,232)\",\"linecolor\":\"rgb(36,36,36)\",\"showgrid\":false,\"showline\":true,\"ticks\":\"outside\"},\"baxis\":{\"gridcolor\":\"rgb(232,232,232)\",\"linecolor\":\"rgb(36,36,36)\",\"showgrid\":false,\"showline\":true,\"ticks\":\"outside\"},\"bgcolor\":\"white\",\"caxis\":{\"gridcolor\":\"rgb(232,232,232)\",\"linecolor\":\"rgb(36,36,36)\",\"showgrid\":false,\"showline\":true,\"ticks\":\"outside\"}},\"title\":{\"x\":0.05},\"xaxis\":{\"automargin\":true,\"gridcolor\":\"rgb(232,232,232)\",\"linecolor\":\"rgb(36,36,36)\",\"showgrid\":false,\"showline\":true,\"ticks\":\"outside\",\"title\":{\"standoff\":15},\"zeroline\":false,\"zerolinecolor\":\"rgb(36,36,36)\"},\"yaxis\":{\"automargin\":true,\"gridcolor\":\"rgb(232,232,232)\",\"linecolor\":\"rgb(36,36,36)\",\"showgrid\":false,\"showline\":true,\"ticks\":\"outside\",\"title\":{\"standoff\":15},\"zeroline\":false,\"zerolinecolor\":\"rgb(36,36,36)\"}}},\"xaxis\":{\"anchor\":\"y\",\"domain\":[0.0,1.0],\"title\":{\"text\":\"x\"}},\"yaxis\":{\"anchor\":\"x\",\"domain\":[0.0,1.0],\"title\":{\"text\":\"y\"}},\"legend\":{\"tracegroupgap\":0},\"title\":{\"text\":\"Perplexity = 50\"}},                        {\"responsive\": true}                    ).then(function(){\n",
       "                            \n",
       "var gd = document.getElementById('3b21f2ea-5544-4066-9564-3c64907a960e');\n",
       "var x = new MutationObserver(function (mutations, observer) {{\n",
       "        var display = window.getComputedStyle(gd).display;\n",
       "        if (!display || display === 'none') {{\n",
       "            console.log([gd, 'removed!']);\n",
       "            Plotly.purge(gd);\n",
       "            observer.disconnect();\n",
       "        }}\n",
       "}});\n",
       "\n",
       "// Listen for the removal of the full notebook cells\n",
       "var notebookContainer = gd.closest('#notebook-container');\n",
       "if (notebookContainer) {{\n",
       "    x.observe(notebookContainer, {childList: true});\n",
       "}}\n",
       "\n",
       "// Listen for the clearing of the current output cell\n",
       "var outputEl = gd.closest('.output');\n",
       "if (outputEl) {{\n",
       "    x.observe(outputEl, {childList: true});\n",
       "}}\n",
       "\n",
       "                        })                };                });            </script>        </div>"
      ]
     },
     "metadata": {},
     "output_type": "display_data"
    },
    {
     "data": {
      "text/html": [
       "\n",
       "        <iframe\n",
       "            width=\"800\"\n",
       "            height=\"600\"\n",
       "            src=\"per50_interactive.html\"\n",
       "            frameborder=\"0\"\n",
       "            allowfullscreen\n",
       "            \n",
       "        ></iframe>\n",
       "        "
      ],
      "text/plain": [
       "<IPython.lib.display.IFrame at 0x166050890>"
      ]
     },
     "execution_count": 116,
     "metadata": {},
     "output_type": "execute_result"
    }
   ],
   "source": [
    "X_embedded = TSNE(n_components=2, learning_rate='auto',init='random', perplexity=50).fit_transform(X)\n",
    "\n",
    "data = {\n",
    "    'x': X_embedded[:, 0],\n",
    "    'y': X_embedded[:, 1],\n",
    "    'Stretching': si_subset[\"Prevention Measure Stretching\"],\n",
    "    'Warm Up': si_subset[\"Prevention Measure Warm Up\"],\n",
    "    'Strength Exercises': si_subset[\"Prevention Measure Specific Strength Exercises\"],\n",
    "    'Bracing': si_subset[\"Prevention Measure Bracing\"],\n",
    "    'Taping': si_subset[\"Prevention Measure Taping\"],\n",
    "    'Shoe Insoles': si_subset[\"Prevention Measure Shoe Insoles\"],\n",
    "    'Face Masks': si_subset[\"Prevention Measure Face Masks\"],\n",
    "    'Medical Corset': si_subset[\"Prevention Measure Medical Corset\"]\n",
    "}\n",
    "\n",
    "df = pd.DataFrame(data)\n",
    "\n",
    "print(\"RESULTS\") \n",
    "print(\"shape : \",X_embedded.shape)\n",
    "print(\"First few points : \\n\",X_embedded[0:2,:])\n",
    "\n",
    "scatter_fig_50 = px.scatter(df, x='x', y='y', \n",
    "                         hover_data=['Stretching', 'Warm Up', \"Strength Exercises\", \"Bracing\", \"Taping\", \"Shoe Insoles\", \"Face Masks\", \"Medical Corset\"], \n",
    "                         template='simple_white',\n",
    "                         title='Perplexity = 50')\n",
    "\n",
    "scatter_fig_50.show()\n",
    "\n",
    "pio.renderers.default = \"plotly_mimetype+notebook_connected\"\n",
    "plotly.offline.plot(scatter_fig_50, filename='per50_interactive.html')\n",
    "\n",
    "IFrame(src='per50_interactive.html', width=800, height=600)"
   ]
  },
  {
   "cell_type": "markdown",
   "metadata": {},
   "source": [
    "#### Perplexity = 100"
   ]
  },
  {
   "cell_type": "code",
   "execution_count": 117,
   "metadata": {},
   "outputs": [
    {
     "name": "stdout",
     "output_type": "stream",
     "text": [
      "RESULTS\n",
      "shape :  (139, 2)\n",
      "First few points : \n",
      " [[-0.2851685   1.3840965 ]\n",
      " [-0.0115345   0.28123257]]\n"
     ]
    },
    {
     "data": {
      "text/html": [
       "        <script type=\"text/javascript\">\n",
       "        window.PlotlyConfig = {MathJaxConfig: 'local'};\n",
       "        if (window.MathJax && window.MathJax.Hub && window.MathJax.Hub.Config) {window.MathJax.Hub.Config({SVG: {font: \"STIX-Web\"}});}\n",
       "        if (typeof require !== 'undefined') {\n",
       "        require.undef(\"plotly\");\n",
       "        requirejs.config({\n",
       "            paths: {\n",
       "                'plotly': ['https://cdn.plot.ly/plotly-2.12.1.min']\n",
       "            }\n",
       "        });\n",
       "        require(['plotly'], function(Plotly) {\n",
       "            window._Plotly = Plotly;\n",
       "        });\n",
       "        }\n",
       "        </script>\n",
       "        "
      ]
     },
     "metadata": {},
     "output_type": "display_data"
    },
    {
     "data": {
      "application/vnd.plotly.v1+json": {
       "config": {
        "plotlyServerURL": "https://plot.ly"
       },
       "data": [
        {
         "customdata": [
          [
           1,
           0,
           1,
           0,
           0,
           0,
           0,
           0
          ],
          [
           1,
           1,
           0,
           0,
           0,
           0,
           0,
           0
          ],
          [
           1,
           0,
           0,
           0,
           0,
           1,
           0,
           0
          ],
          [
           1,
           1,
           1,
           0,
           0,
           0,
           0,
           0
          ],
          [
           1,
           1,
           0,
           0,
           1,
           0,
           0,
           0
          ],
          [
           1,
           1,
           1,
           0,
           0,
           0,
           0,
           0
          ],
          [
           1,
           1,
           0,
           0,
           1,
           1,
           0,
           0
          ],
          [
           1,
           0,
           1,
           0,
           0,
           0,
           0,
           0
          ],
          [
           1,
           1,
           0,
           0,
           0,
           0,
           0,
           0
          ],
          [
           1,
           1,
           0,
           0,
           1,
           0,
           0,
           0
          ],
          [
           1,
           0,
           0,
           0,
           0,
           0,
           0,
           0
          ],
          [
           1,
           1,
           1,
           0,
           0,
           0,
           0,
           0
          ],
          [
           1,
           0,
           0,
           0,
           0,
           0,
           0,
           0
          ],
          [
           1,
           0,
           0,
           0,
           1,
           0,
           0,
           0
          ],
          [
           0,
           1,
           0,
           0,
           0,
           0,
           0,
           0
          ],
          [
           1,
           0,
           0,
           0,
           0,
           1,
           0,
           0
          ],
          [
           1,
           1,
           1,
           0,
           0,
           1,
           0,
           0
          ],
          [
           1,
           0,
           0,
           0,
           1,
           0,
           0,
           0
          ],
          [
           1,
           1,
           1,
           0,
           0,
           1,
           0,
           0
          ],
          [
           1,
           1,
           0,
           0,
           0,
           0,
           0,
           0
          ],
          [
           1,
           0,
           0,
           0,
           0,
           0,
           0,
           0
          ],
          [
           1,
           1,
           1,
           0,
           1,
           1,
           0,
           0
          ],
          [
           1,
           0,
           0,
           0,
           1,
           0,
           0,
           0
          ],
          [
           1,
           0,
           0,
           0,
           1,
           0,
           0,
           0
          ],
          [
           1,
           0,
           0,
           0,
           1,
           0,
           0,
           0
          ],
          [
           1,
           0,
           0,
           0,
           0,
           0,
           0,
           0
          ],
          [
           1,
           0,
           1,
           1,
           1,
           0,
           0,
           0
          ],
          [
           1,
           1,
           0,
           0,
           0,
           0,
           0,
           0
          ],
          [
           1,
           1,
           0,
           0,
           1,
           0,
           0,
           0
          ],
          [
           1,
           0,
           0,
           0,
           1,
           0,
           0,
           0
          ],
          [
           1,
           0,
           1,
           0,
           0,
           0,
           0,
           0
          ],
          [
           1,
           0,
           0,
           0,
           0,
           1,
           0,
           0
          ],
          [
           0,
           0,
           1,
           0,
           0,
           0,
           0,
           0
          ],
          [
           1,
           1,
           0,
           0,
           1,
           0,
           0,
           0
          ],
          [
           1,
           1,
           0,
           1,
           1,
           1,
           0,
           0
          ],
          [
           1,
           1,
           0,
           0,
           0,
           0,
           0,
           0
          ],
          [
           0,
           1,
           1,
           0,
           0,
           0,
           0,
           0
          ],
          [
           1,
           0,
           1,
           0,
           0,
           0,
           0,
           0
          ],
          [
           1,
           0,
           0,
           0,
           0,
           0,
           0,
           0
          ],
          [
           1,
           1,
           0,
           0,
           0,
           0,
           0,
           0
          ],
          [
           1,
           1,
           1,
           0,
           0,
           0,
           0,
           0
          ],
          [
           1,
           0,
           0,
           0,
           0,
           1,
           0,
           0
          ],
          [
           1,
           0,
           0,
           0,
           1,
           0,
           0,
           0
          ],
          [
           1,
           1,
           0,
           0,
           0,
           0,
           0,
           0
          ],
          [
           1,
           0,
           1,
           0,
           1,
           0,
           0,
           0
          ],
          [
           1,
           1,
           0,
           0,
           0,
           0,
           0,
           0
          ],
          [
           1,
           0,
           0,
           0,
           0,
           0,
           0,
           0
          ],
          [
           1,
           1,
           0,
           1,
           1,
           0,
           0,
           0
          ],
          [
           0,
           0,
           1,
           0,
           0,
           1,
           0,
           0
          ],
          [
           1,
           1,
           1,
           0,
           0,
           0,
           0,
           0
          ],
          [
           1,
           1,
           0,
           0,
           0,
           1,
           0,
           0
          ],
          [
           1,
           1,
           0,
           0,
           0,
           1,
           0,
           0
          ],
          [
           1,
           0,
           1,
           0,
           1,
           1,
           0,
           0
          ],
          [
           1,
           0,
           0,
           0,
           0,
           0,
           0,
           0
          ],
          [
           1,
           1,
           0,
           0,
           0,
           0,
           0,
           0
          ],
          [
           1,
           1,
           1,
           0,
           1,
           1,
           0,
           0
          ],
          [
           1,
           0,
           1,
           0,
           0,
           1,
           0,
           0
          ],
          [
           1,
           1,
           1,
           1,
           1,
           0,
           0,
           0
          ],
          [
           1,
           1,
           1,
           0,
           0,
           0,
           0,
           0
          ],
          [
           1,
           1,
           1,
           0,
           1,
           0,
           0,
           0
          ],
          [
           1,
           0,
           1,
           0,
           0,
           0,
           0,
           0
          ],
          [
           1,
           1,
           0,
           0,
           0,
           0,
           0,
           0
          ],
          [
           0,
           0,
           1,
           0,
           1,
           1,
           0,
           0
          ],
          [
           1,
           0,
           1,
           1,
           1,
           0,
           0,
           0
          ],
          [
           1,
           1,
           1,
           0,
           1,
           0,
           0,
           0
          ],
          [
           1,
           1,
           0,
           0,
           0,
           0,
           0,
           0
          ],
          [
           0,
           0,
           1,
           1,
           1,
           0,
           0,
           0
          ],
          [
           0,
           0,
           0,
           0,
           0,
           0,
           0,
           0
          ],
          [
           1,
           1,
           1,
           0,
           0,
           0,
           0,
           0
          ],
          [
           1,
           1,
           1,
           0,
           1,
           0,
           0,
           0
          ],
          [
           1,
           1,
           1,
           0,
           1,
           1,
           0,
           0
          ],
          [
           1,
           0,
           0,
           0,
           0,
           1,
           0,
           0
          ],
          [
           1,
           1,
           0,
           1,
           1,
           1,
           0,
           0
          ],
          [
           1,
           1,
           0,
           1,
           1,
           1,
           0,
           0
          ],
          [
           1,
           1,
           0,
           0,
           1,
           1,
           0,
           0
          ],
          [
           1,
           0,
           0,
           0,
           0,
           0,
           0,
           0
          ],
          [
           1,
           1,
           0,
           1,
           0,
           0,
           0,
           0
          ],
          [
           1,
           1,
           0,
           0,
           0,
           1,
           0,
           0
          ],
          [
           1,
           1,
           0,
           1,
           1,
           0,
           0,
           0
          ],
          [
           1,
           1,
           1,
           0,
           1,
           0,
           0,
           0
          ],
          [
           1,
           1,
           0,
           0,
           1,
           1,
           0,
           0
          ],
          [
           1,
           1,
           0,
           0,
           0,
           0,
           0,
           0
          ],
          [
           1,
           1,
           0,
           0,
           1,
           0,
           0,
           0
          ],
          [
           1,
           1,
           0,
           1,
           1,
           0,
           0,
           0
          ],
          [
           1,
           1,
           1,
           0,
           0,
           1,
           0,
           0
          ],
          [
           1,
           0,
           0,
           0,
           0,
           0,
           0,
           0
          ],
          [
           1,
           0,
           0,
           0,
           0,
           0,
           0,
           0
          ],
          [
           1,
           0,
           0,
           0,
           0,
           0,
           0,
           0
          ],
          [
           1,
           1,
           0,
           0,
           1,
           1,
           0,
           0
          ],
          [
           1,
           1,
           1,
           0,
           0,
           1,
           0,
           0
          ],
          [
           1,
           0,
           0,
           0,
           0,
           0,
           0,
           0
          ],
          [
           1,
           1,
           0,
           0,
           0,
           0,
           0,
           0
          ],
          [
           1,
           1,
           1,
           0,
           1,
           1,
           0,
           0
          ],
          [
           1,
           0,
           1,
           1,
           0,
           1,
           0,
           0
          ],
          [
           1,
           0,
           0,
           0,
           0,
           0,
           0,
           0
          ],
          [
           0,
           0,
           0,
           0,
           0,
           1,
           0,
           0
          ],
          [
           1,
           1,
           0,
           0,
           1,
           0,
           0,
           0
          ],
          [
           1,
           1,
           0,
           0,
           0,
           0,
           0,
           0
          ],
          [
           1,
           1,
           0,
           0,
           0,
           1,
           0,
           0
          ],
          [
           1,
           0,
           0,
           0,
           1,
           1,
           0,
           0
          ],
          [
           0,
           0,
           0,
           0,
           0,
           1,
           0,
           0
          ],
          [
           1,
           0,
           1,
           0,
           0,
           0,
           0,
           0
          ],
          [
           1,
           1,
           1,
           0,
           1,
           0,
           0,
           0
          ],
          [
           1,
           1,
           1,
           0,
           1,
           1,
           0,
           0
          ],
          [
           0,
           1,
           0,
           0,
           0,
           0,
           0,
           0
          ],
          [
           1,
           0,
           1,
           0,
           0,
           0,
           0,
           0
          ],
          [
           1,
           0,
           0,
           0,
           0,
           0,
           0,
           0
          ],
          [
           1,
           0,
           0,
           1,
           1,
           1,
           0,
           0
          ],
          [
           1,
           1,
           1,
           0,
           0,
           0,
           0,
           0
          ],
          [
           1,
           1,
           0,
           0,
           1,
           0,
           0,
           0
          ],
          [
           1,
           1,
           0,
           0,
           1,
           0,
           0,
           0
          ],
          [
           1,
           1,
           0,
           0,
           0,
           1,
           0,
           0
          ],
          [
           1,
           1,
           0,
           0,
           0,
           0,
           0,
           0
          ],
          [
           1,
           1,
           0,
           0,
           0,
           0,
           0,
           0
          ],
          [
           1,
           0,
           0,
           0,
           0,
           1,
           0,
           0
          ],
          [
           1,
           1,
           1,
           0,
           0,
           0,
           0,
           0
          ],
          [
           1,
           0,
           0,
           0,
           1,
           0,
           0,
           0
          ],
          [
           1,
           1,
           0,
           1,
           0,
           0,
           0,
           0
          ],
          [
           1,
           1,
           0,
           0,
           0,
           1,
           0,
           0
          ],
          [
           0,
           0,
           0,
           0,
           1,
           0,
           0,
           0
          ],
          [
           1,
           0,
           0,
           0,
           0,
           0,
           0,
           0
          ],
          [
           1,
           1,
           1,
           0,
           0,
           0,
           0,
           0
          ],
          [
           1,
           0,
           0,
           0,
           0,
           0,
           0,
           0
          ],
          [
           1,
           0,
           1,
           0,
           0,
           0,
           0,
           0
          ],
          [
           1,
           1,
           0,
           0,
           0,
           0,
           0,
           0
          ],
          [
           1,
           0,
           0,
           0,
           1,
           0,
           0,
           0
          ],
          [
           1,
           0,
           1,
           0,
           0,
           0,
           0,
           0
          ],
          [
           0,
           0,
           0,
           0,
           1,
           0,
           0,
           0
          ],
          [
           1,
           0,
           0,
           0,
           0,
           0,
           0,
           0
          ],
          [
           1,
           1,
           0,
           0,
           0,
           0,
           0,
           0
          ],
          [
           1,
           0,
           0,
           0,
           0,
           0,
           0,
           0
          ],
          [
           1,
           0,
           0,
           1,
           0,
           0,
           0,
           0
          ],
          [
           1,
           0,
           0,
           0,
           0,
           0,
           0,
           0
          ],
          [
           1,
           1,
           0,
           0,
           0,
           0,
           0,
           0
          ],
          [
           1,
           0,
           0,
           0,
           0,
           0,
           0,
           0
          ],
          [
           1,
           0,
           0,
           1,
           0,
           0,
           0,
           0
          ],
          [
           1,
           1,
           1,
           0,
           1,
           0,
           0,
           1
          ],
          [
           1,
           0,
           0,
           0,
           1,
           1,
           0,
           0
          ],
          [
           1,
           1,
           0,
           0,
           0,
           0,
           0,
           0
          ]
         ],
         "hovertemplate": "x=%{x}<br>y=%{y}<br>Stretching=%{customdata[0]}<br>Warm Up=%{customdata[1]}<br>Strength Exercises=%{customdata[2]}<br>Bracing=%{customdata[3]}<br>Taping=%{customdata[4]}<br>Shoe Insoles=%{customdata[5]}<br>Face Masks=%{customdata[6]}<br>Medical Corset=%{customdata[7]}<extra></extra>",
         "legendgroup": "",
         "marker": {
          "color": "#1F77B4",
          "symbol": "circle"
         },
         "mode": "markers",
         "name": "",
         "orientation": "v",
         "showlegend": false,
         "type": "scatter",
         "x": [
          -0.28516849875450134,
          -0.011534501798450947,
          1.3815430402755737,
          -0.8696531653404236,
          0.30897727608680725,
          -0.863814651966095,
          -0.3083975315093994,
          -0.2603648006916046,
          -0.02420160546898842,
          0.31025463342666626,
          0.6660858392715454,
          -0.8596956133842468,
          0.6631067991256714,
          1.0875729322433472,
          0.6287804841995239,
          1.3912755250930786,
          -1.1867291927337646,
          1.0844656229019165,
          -1.1842272281646729,
          -0.008912204764783382,
          0.6703335642814636,
          -1.1704695224761963,
          1.0892983675003052,
          1.085464596748352,
          1.0933541059494019,
          0.6654783487319946,
          1.43867826461792,
          -0.022294897586107254,
          0.3174933195114136,
          1.0868300199508667,
          -0.26932141184806824,
          1.392982006072998,
          0.6402681469917297,
          0.3137798011302948,
          0.6979561448097229,
          -0.010406157933175564,
          0.3835999071598053,
          -0.26134881377220154,
          0.6761747598648071,
          -0.0076768468134105206,
          -0.8644108772277832,
          1.392252802848816,
          1.0843771696090698,
          -0.00933255348354578,
          -0.6084532737731934,
          -0.0138945197686553,
          0.6634277701377869,
          0.9151673316955566,
          0.7756156325340271,
          -0.8760867118835449,
          -0.3970670700073242,
          -0.3898594379425049,
          -1.1812713146209717,
          0.6765137910842896,
          -0.013355647213757038,
          -1.1614481210708618,
          -0.606580913066864,
          0.9517459869384766,
          -0.8692446947097778,
          -1.1492692232131958,
          -0.2809869945049286,
          -0.007526007015258074,
          0.9161428809165955,
          1.4335806369781494,
          -1.164819598197937,
          -0.016959132626652718,
          1.5216293334960938,
          0.876628041267395,
          -0.8725520372390747,
          -1.1558061838150024,
          -1.1641924381256104,
          1.3800386190414429,
          0.6982148885726929,
          0.6994333863258362,
          -0.32922205328941345,
          0.6708353161811829,
          1.0499846935272217,
          -0.3992113769054413,
          0.9129002094268799,
          -1.1563124656677246,
          -0.31739744544029236,
          -0.0012153988936915994,
          0.31665387749671936,
          0.910000741481781,
          -1.1884502172470093,
          0.6693629026412964,
          0.6480326056480408,
          0.6635059714317322,
          -0.32910215854644775,
          -1.169085144996643,
          0.6889702677726746,
          -0.0001872655120678246,
          -1.1734497547149658,
          1.606014370918274,
          0.6674959659576416,
          0.9744992852210999,
          0.31961992383003235,
          -0.014692346565425396,
          -0.3921917676925659,
          1.4395604133605957,
          0.976344883441925,
          -0.27812835574150085,
          -1.1551096439361572,
          -1.1650184392929077,
          0.6274542212486267,
          -0.2740931808948517,
          0.6658059358596802,
          1.1581459045410156,
          -0.8611541390419006,
          0.30949416756629944,
          0.3079947829246521,
          -0.3973826467990875,
          -0.008070467039942741,
          -0.007915573194622993,
          1.3766169548034668,
          -0.8749250769615173,
          1.082031011581421,
          1.0451217889785767,
          -0.39379575848579407,
          1.0891995429992676,
          0.6647118330001831,
          -0.8607506155967712,
          0.6687117218971252,
          -0.26321759819984436,
          -0.008510008454322815,
          1.0848495960235596,
          -0.26413241028785706,
          1.0901150703430176,
          0.6803035140037537,
          -0.009897274896502495,
          0.6795077919960022,
          1.5083599090576172,
          0.6826082468032837,
          -0.004717780277132988,
          0.6730856895446777,
          1.5092211961746216,
          -2.061127185821533,
          1.4387893676757812,
          -0.0038983637932687998
         ],
         "xaxis": "x",
         "y": [
          1.3840965032577515,
          0.2812325656414032,
          0.755861222743988,
          0.7386561632156372,
          -0.4620082378387451,
          0.7460315227508545,
          -0.9711386561393738,
          1.385433316230774,
          0.2717868685722351,
          -0.45073309540748596,
          0.8990229964256287,
          0.738226592540741,
          0.9189349412918091,
          0.07198746502399445,
          2.3888776302337646,
          0.7629335522651672,
          -0.1677929162979126,
          0.05833052471280098,
          -0.1676992028951645,
          0.25756382942199707,
          0.923316240310669,
          -0.649126410484314,
          0.0533769428730011,
          0.06470942497253418,
          0.0565812923014164,
          0.9207903742790222,
          -1.3533084392547607,
          0.26720285415649414,
          -0.45638248324394226,
          0.06226872652769089,
          1.3834483623504639,
          0.7524687051773071,
          2.4619007110595703,
          -0.4398064911365509,
          -1.668835997581482,
          0.25116604566574097,
          2.4921438694000244,
          1.3744637966156006,
          0.9053359627723694,
          0.2693195343017578,
          0.7468860149383545,
          0.7556406855583191,
          0.05099052935838699,
          0.27506282925605774,
          1.280564308166504,
          0.26221293210983276,
          0.9148409962654114,
          -1.4845101833343506,
          2.5501511096954346,
          0.7364775538444519,
          -0.5207722783088684,
          -0.5231716632843018,
          -0.7236648797988892,
          0.898525595664978,
          0.2576320171356201,
          -0.6528121829032898,
          1.4702385663986206,
          -1.5792460441589355,
          0.7439913153648376,
          0.22348862886428833,
          1.381813645362854,
          0.264384925365448,
          2.571985960006714,
          -1.357953667640686,
          0.21226897835731506,
          0.2609415054321289,
          2.3420517444610596,
          2.3281843662261963,
          0.7373850345611572,
          0.20566464960575104,
          -0.6518037915229797,
          0.7603476047515869,
          -1.6646519899368286,
          -1.664258599281311,
          -0.9830852150917053,
          0.8995530009269714,
          -1.2655032873153687,
          -0.5196248888969421,
          -1.4789503812789917,
          0.20037207007408142,
          -0.9711039066314697,
          0.2636958658695221,
          -0.46804919838905334,
          -1.4803478717803955,
          -0.17499905824661255,
          0.900712788105011,
          0.926830530166626,
          0.9209817051887512,
          -0.979869544506073,
          -0.15553084015846252,
          0.9101561903953552,
          0.26945972442626953,
          -0.6471941471099854,
          -1.2987786531448364,
          0.9192746877670288,
          2.411719799041748,
          -0.4635317623615265,
          0.2516661584377289,
          -0.5129279494285583,
          -0.08099301904439926,
          2.4135522842407227,
          1.3815462589263916,
          0.19991569221019745,
          -0.6523014903068542,
          2.393080949783325,
          1.3775084018707275,
          0.9218839406967163,
          -1.5288810729980469,
          0.7466740608215332,
          -0.4644906222820282,
          -0.4563588798046112,
          -0.5204513072967529,
          0.261676162481308,
          0.25910484790802,
          0.755932629108429,
          0.7446001768112183,
          0.06300954520702362,
          -1.2681249380111694,
          -0.5211445689201355,
          2.331084966659546,
          0.9149115681648254,
          0.7340008616447449,
          0.8994131684303284,
          1.3793411254882812,
          0.25679317116737366,
          0.05719045549631119,
          1.3853050470352173,
          2.33021879196167,
          0.9034634232521057,
          0.25955459475517273,
          0.9096574783325195,
          -0.9768821001052856,
          0.9026212692260742,
          0.25288137793540955,
          0.9098540544509888,
          -0.9836327433586121,
          0.4760425388813019,
          -0.06751156598329544,
          0.26110225915908813
         ],
         "yaxis": "y"
        }
       ],
       "layout": {
        "legend": {
         "tracegroupgap": 0
        },
        "template": {
         "data": {
          "bar": [
           {
            "error_x": {
             "color": "rgb(36,36,36)"
            },
            "error_y": {
             "color": "rgb(36,36,36)"
            },
            "marker": {
             "line": {
              "color": "white",
              "width": 0.5
             },
             "pattern": {
              "fillmode": "overlay",
              "size": 10,
              "solidity": 0.2
             }
            },
            "type": "bar"
           }
          ],
          "barpolar": [
           {
            "marker": {
             "line": {
              "color": "white",
              "width": 0.5
             },
             "pattern": {
              "fillmode": "overlay",
              "size": 10,
              "solidity": 0.2
             }
            },
            "type": "barpolar"
           }
          ],
          "carpet": [
           {
            "aaxis": {
             "endlinecolor": "rgb(36,36,36)",
             "gridcolor": "white",
             "linecolor": "white",
             "minorgridcolor": "white",
             "startlinecolor": "rgb(36,36,36)"
            },
            "baxis": {
             "endlinecolor": "rgb(36,36,36)",
             "gridcolor": "white",
             "linecolor": "white",
             "minorgridcolor": "white",
             "startlinecolor": "rgb(36,36,36)"
            },
            "type": "carpet"
           }
          ],
          "choropleth": [
           {
            "colorbar": {
             "outlinewidth": 1,
             "tickcolor": "rgb(36,36,36)",
             "ticks": "outside"
            },
            "type": "choropleth"
           }
          ],
          "contour": [
           {
            "colorbar": {
             "outlinewidth": 1,
             "tickcolor": "rgb(36,36,36)",
             "ticks": "outside"
            },
            "colorscale": [
             [
              0,
              "#440154"
             ],
             [
              0.1111111111111111,
              "#482878"
             ],
             [
              0.2222222222222222,
              "#3e4989"
             ],
             [
              0.3333333333333333,
              "#31688e"
             ],
             [
              0.4444444444444444,
              "#26828e"
             ],
             [
              0.5555555555555556,
              "#1f9e89"
             ],
             [
              0.6666666666666666,
              "#35b779"
             ],
             [
              0.7777777777777778,
              "#6ece58"
             ],
             [
              0.8888888888888888,
              "#b5de2b"
             ],
             [
              1,
              "#fde725"
             ]
            ],
            "type": "contour"
           }
          ],
          "contourcarpet": [
           {
            "colorbar": {
             "outlinewidth": 1,
             "tickcolor": "rgb(36,36,36)",
             "ticks": "outside"
            },
            "type": "contourcarpet"
           }
          ],
          "heatmap": [
           {
            "colorbar": {
             "outlinewidth": 1,
             "tickcolor": "rgb(36,36,36)",
             "ticks": "outside"
            },
            "colorscale": [
             [
              0,
              "#440154"
             ],
             [
              0.1111111111111111,
              "#482878"
             ],
             [
              0.2222222222222222,
              "#3e4989"
             ],
             [
              0.3333333333333333,
              "#31688e"
             ],
             [
              0.4444444444444444,
              "#26828e"
             ],
             [
              0.5555555555555556,
              "#1f9e89"
             ],
             [
              0.6666666666666666,
              "#35b779"
             ],
             [
              0.7777777777777778,
              "#6ece58"
             ],
             [
              0.8888888888888888,
              "#b5de2b"
             ],
             [
              1,
              "#fde725"
             ]
            ],
            "type": "heatmap"
           }
          ],
          "heatmapgl": [
           {
            "colorbar": {
             "outlinewidth": 1,
             "tickcolor": "rgb(36,36,36)",
             "ticks": "outside"
            },
            "colorscale": [
             [
              0,
              "#440154"
             ],
             [
              0.1111111111111111,
              "#482878"
             ],
             [
              0.2222222222222222,
              "#3e4989"
             ],
             [
              0.3333333333333333,
              "#31688e"
             ],
             [
              0.4444444444444444,
              "#26828e"
             ],
             [
              0.5555555555555556,
              "#1f9e89"
             ],
             [
              0.6666666666666666,
              "#35b779"
             ],
             [
              0.7777777777777778,
              "#6ece58"
             ],
             [
              0.8888888888888888,
              "#b5de2b"
             ],
             [
              1,
              "#fde725"
             ]
            ],
            "type": "heatmapgl"
           }
          ],
          "histogram": [
           {
            "marker": {
             "line": {
              "color": "white",
              "width": 0.6
             }
            },
            "type": "histogram"
           }
          ],
          "histogram2d": [
           {
            "colorbar": {
             "outlinewidth": 1,
             "tickcolor": "rgb(36,36,36)",
             "ticks": "outside"
            },
            "colorscale": [
             [
              0,
              "#440154"
             ],
             [
              0.1111111111111111,
              "#482878"
             ],
             [
              0.2222222222222222,
              "#3e4989"
             ],
             [
              0.3333333333333333,
              "#31688e"
             ],
             [
              0.4444444444444444,
              "#26828e"
             ],
             [
              0.5555555555555556,
              "#1f9e89"
             ],
             [
              0.6666666666666666,
              "#35b779"
             ],
             [
              0.7777777777777778,
              "#6ece58"
             ],
             [
              0.8888888888888888,
              "#b5de2b"
             ],
             [
              1,
              "#fde725"
             ]
            ],
            "type": "histogram2d"
           }
          ],
          "histogram2dcontour": [
           {
            "colorbar": {
             "outlinewidth": 1,
             "tickcolor": "rgb(36,36,36)",
             "ticks": "outside"
            },
            "colorscale": [
             [
              0,
              "#440154"
             ],
             [
              0.1111111111111111,
              "#482878"
             ],
             [
              0.2222222222222222,
              "#3e4989"
             ],
             [
              0.3333333333333333,
              "#31688e"
             ],
             [
              0.4444444444444444,
              "#26828e"
             ],
             [
              0.5555555555555556,
              "#1f9e89"
             ],
             [
              0.6666666666666666,
              "#35b779"
             ],
             [
              0.7777777777777778,
              "#6ece58"
             ],
             [
              0.8888888888888888,
              "#b5de2b"
             ],
             [
              1,
              "#fde725"
             ]
            ],
            "type": "histogram2dcontour"
           }
          ],
          "mesh3d": [
           {
            "colorbar": {
             "outlinewidth": 1,
             "tickcolor": "rgb(36,36,36)",
             "ticks": "outside"
            },
            "type": "mesh3d"
           }
          ],
          "parcoords": [
           {
            "line": {
             "colorbar": {
              "outlinewidth": 1,
              "tickcolor": "rgb(36,36,36)",
              "ticks": "outside"
             }
            },
            "type": "parcoords"
           }
          ],
          "pie": [
           {
            "automargin": true,
            "type": "pie"
           }
          ],
          "scatter": [
           {
            "fillpattern": {
             "fillmode": "overlay",
             "size": 10,
             "solidity": 0.2
            },
            "type": "scatter"
           }
          ],
          "scatter3d": [
           {
            "line": {
             "colorbar": {
              "outlinewidth": 1,
              "tickcolor": "rgb(36,36,36)",
              "ticks": "outside"
             }
            },
            "marker": {
             "colorbar": {
              "outlinewidth": 1,
              "tickcolor": "rgb(36,36,36)",
              "ticks": "outside"
             }
            },
            "type": "scatter3d"
           }
          ],
          "scattercarpet": [
           {
            "marker": {
             "colorbar": {
              "outlinewidth": 1,
              "tickcolor": "rgb(36,36,36)",
              "ticks": "outside"
             }
            },
            "type": "scattercarpet"
           }
          ],
          "scattergeo": [
           {
            "marker": {
             "colorbar": {
              "outlinewidth": 1,
              "tickcolor": "rgb(36,36,36)",
              "ticks": "outside"
             }
            },
            "type": "scattergeo"
           }
          ],
          "scattergl": [
           {
            "marker": {
             "colorbar": {
              "outlinewidth": 1,
              "tickcolor": "rgb(36,36,36)",
              "ticks": "outside"
             }
            },
            "type": "scattergl"
           }
          ],
          "scattermapbox": [
           {
            "marker": {
             "colorbar": {
              "outlinewidth": 1,
              "tickcolor": "rgb(36,36,36)",
              "ticks": "outside"
             }
            },
            "type": "scattermapbox"
           }
          ],
          "scatterpolar": [
           {
            "marker": {
             "colorbar": {
              "outlinewidth": 1,
              "tickcolor": "rgb(36,36,36)",
              "ticks": "outside"
             }
            },
            "type": "scatterpolar"
           }
          ],
          "scatterpolargl": [
           {
            "marker": {
             "colorbar": {
              "outlinewidth": 1,
              "tickcolor": "rgb(36,36,36)",
              "ticks": "outside"
             }
            },
            "type": "scatterpolargl"
           }
          ],
          "scatterternary": [
           {
            "marker": {
             "colorbar": {
              "outlinewidth": 1,
              "tickcolor": "rgb(36,36,36)",
              "ticks": "outside"
             }
            },
            "type": "scatterternary"
           }
          ],
          "surface": [
           {
            "colorbar": {
             "outlinewidth": 1,
             "tickcolor": "rgb(36,36,36)",
             "ticks": "outside"
            },
            "colorscale": [
             [
              0,
              "#440154"
             ],
             [
              0.1111111111111111,
              "#482878"
             ],
             [
              0.2222222222222222,
              "#3e4989"
             ],
             [
              0.3333333333333333,
              "#31688e"
             ],
             [
              0.4444444444444444,
              "#26828e"
             ],
             [
              0.5555555555555556,
              "#1f9e89"
             ],
             [
              0.6666666666666666,
              "#35b779"
             ],
             [
              0.7777777777777778,
              "#6ece58"
             ],
             [
              0.8888888888888888,
              "#b5de2b"
             ],
             [
              1,
              "#fde725"
             ]
            ],
            "type": "surface"
           }
          ],
          "table": [
           {
            "cells": {
             "fill": {
              "color": "rgb(237,237,237)"
             },
             "line": {
              "color": "white"
             }
            },
            "header": {
             "fill": {
              "color": "rgb(217,217,217)"
             },
             "line": {
              "color": "white"
             }
            },
            "type": "table"
           }
          ]
         },
         "layout": {
          "annotationdefaults": {
           "arrowhead": 0,
           "arrowwidth": 1
          },
          "autotypenumbers": "strict",
          "coloraxis": {
           "colorbar": {
            "outlinewidth": 1,
            "tickcolor": "rgb(36,36,36)",
            "ticks": "outside"
           }
          },
          "colorscale": {
           "diverging": [
            [
             0,
             "rgb(103,0,31)"
            ],
            [
             0.1,
             "rgb(178,24,43)"
            ],
            [
             0.2,
             "rgb(214,96,77)"
            ],
            [
             0.3,
             "rgb(244,165,130)"
            ],
            [
             0.4,
             "rgb(253,219,199)"
            ],
            [
             0.5,
             "rgb(247,247,247)"
            ],
            [
             0.6,
             "rgb(209,229,240)"
            ],
            [
             0.7,
             "rgb(146,197,222)"
            ],
            [
             0.8,
             "rgb(67,147,195)"
            ],
            [
             0.9,
             "rgb(33,102,172)"
            ],
            [
             1,
             "rgb(5,48,97)"
            ]
           ],
           "sequential": [
            [
             0,
             "#440154"
            ],
            [
             0.1111111111111111,
             "#482878"
            ],
            [
             0.2222222222222222,
             "#3e4989"
            ],
            [
             0.3333333333333333,
             "#31688e"
            ],
            [
             0.4444444444444444,
             "#26828e"
            ],
            [
             0.5555555555555556,
             "#1f9e89"
            ],
            [
             0.6666666666666666,
             "#35b779"
            ],
            [
             0.7777777777777778,
             "#6ece58"
            ],
            [
             0.8888888888888888,
             "#b5de2b"
            ],
            [
             1,
             "#fde725"
            ]
           ],
           "sequentialminus": [
            [
             0,
             "#440154"
            ],
            [
             0.1111111111111111,
             "#482878"
            ],
            [
             0.2222222222222222,
             "#3e4989"
            ],
            [
             0.3333333333333333,
             "#31688e"
            ],
            [
             0.4444444444444444,
             "#26828e"
            ],
            [
             0.5555555555555556,
             "#1f9e89"
            ],
            [
             0.6666666666666666,
             "#35b779"
            ],
            [
             0.7777777777777778,
             "#6ece58"
            ],
            [
             0.8888888888888888,
             "#b5de2b"
            ],
            [
             1,
             "#fde725"
            ]
           ]
          },
          "colorway": [
           "#1F77B4",
           "#FF7F0E",
           "#2CA02C",
           "#D62728",
           "#9467BD",
           "#8C564B",
           "#E377C2",
           "#7F7F7F",
           "#BCBD22",
           "#17BECF"
          ],
          "font": {
           "color": "rgb(36,36,36)"
          },
          "geo": {
           "bgcolor": "white",
           "lakecolor": "white",
           "landcolor": "white",
           "showlakes": true,
           "showland": true,
           "subunitcolor": "white"
          },
          "hoverlabel": {
           "align": "left"
          },
          "hovermode": "closest",
          "mapbox": {
           "style": "light"
          },
          "paper_bgcolor": "white",
          "plot_bgcolor": "white",
          "polar": {
           "angularaxis": {
            "gridcolor": "rgb(232,232,232)",
            "linecolor": "rgb(36,36,36)",
            "showgrid": false,
            "showline": true,
            "ticks": "outside"
           },
           "bgcolor": "white",
           "radialaxis": {
            "gridcolor": "rgb(232,232,232)",
            "linecolor": "rgb(36,36,36)",
            "showgrid": false,
            "showline": true,
            "ticks": "outside"
           }
          },
          "scene": {
           "xaxis": {
            "backgroundcolor": "white",
            "gridcolor": "rgb(232,232,232)",
            "gridwidth": 2,
            "linecolor": "rgb(36,36,36)",
            "showbackground": true,
            "showgrid": false,
            "showline": true,
            "ticks": "outside",
            "zeroline": false,
            "zerolinecolor": "rgb(36,36,36)"
           },
           "yaxis": {
            "backgroundcolor": "white",
            "gridcolor": "rgb(232,232,232)",
            "gridwidth": 2,
            "linecolor": "rgb(36,36,36)",
            "showbackground": true,
            "showgrid": false,
            "showline": true,
            "ticks": "outside",
            "zeroline": false,
            "zerolinecolor": "rgb(36,36,36)"
           },
           "zaxis": {
            "backgroundcolor": "white",
            "gridcolor": "rgb(232,232,232)",
            "gridwidth": 2,
            "linecolor": "rgb(36,36,36)",
            "showbackground": true,
            "showgrid": false,
            "showline": true,
            "ticks": "outside",
            "zeroline": false,
            "zerolinecolor": "rgb(36,36,36)"
           }
          },
          "shapedefaults": {
           "fillcolor": "black",
           "line": {
            "width": 0
           },
           "opacity": 0.3
          },
          "ternary": {
           "aaxis": {
            "gridcolor": "rgb(232,232,232)",
            "linecolor": "rgb(36,36,36)",
            "showgrid": false,
            "showline": true,
            "ticks": "outside"
           },
           "baxis": {
            "gridcolor": "rgb(232,232,232)",
            "linecolor": "rgb(36,36,36)",
            "showgrid": false,
            "showline": true,
            "ticks": "outside"
           },
           "bgcolor": "white",
           "caxis": {
            "gridcolor": "rgb(232,232,232)",
            "linecolor": "rgb(36,36,36)",
            "showgrid": false,
            "showline": true,
            "ticks": "outside"
           }
          },
          "title": {
           "x": 0.05
          },
          "xaxis": {
           "automargin": true,
           "gridcolor": "rgb(232,232,232)",
           "linecolor": "rgb(36,36,36)",
           "showgrid": false,
           "showline": true,
           "ticks": "outside",
           "title": {
            "standoff": 15
           },
           "zeroline": false,
           "zerolinecolor": "rgb(36,36,36)"
          },
          "yaxis": {
           "automargin": true,
           "gridcolor": "rgb(232,232,232)",
           "linecolor": "rgb(36,36,36)",
           "showgrid": false,
           "showline": true,
           "ticks": "outside",
           "title": {
            "standoff": 15
           },
           "zeroline": false,
           "zerolinecolor": "rgb(36,36,36)"
          }
         }
        },
        "title": {
         "text": "Perplexity = 100"
        },
        "xaxis": {
         "anchor": "y",
         "domain": [
          0,
          1
         ],
         "title": {
          "text": "x"
         }
        },
        "yaxis": {
         "anchor": "x",
         "domain": [
          0,
          1
         ],
         "title": {
          "text": "y"
         }
        }
       }
      },
      "text/html": [
       "<div>                            <div id=\"9c9baefa-bdcb-4b39-8f89-b474d6370a03\" class=\"plotly-graph-div\" style=\"height:525px; width:100%;\"></div>            <script type=\"text/javascript\">                require([\"plotly\"], function(Plotly) {                    window.PLOTLYENV=window.PLOTLYENV || {};                                    if (document.getElementById(\"9c9baefa-bdcb-4b39-8f89-b474d6370a03\")) {                    Plotly.newPlot(                        \"9c9baefa-bdcb-4b39-8f89-b474d6370a03\",                        [{\"customdata\":[[1,0,1,0,0,0,0,0],[1,1,0,0,0,0,0,0],[1,0,0,0,0,1,0,0],[1,1,1,0,0,0,0,0],[1,1,0,0,1,0,0,0],[1,1,1,0,0,0,0,0],[1,1,0,0,1,1,0,0],[1,0,1,0,0,0,0,0],[1,1,0,0,0,0,0,0],[1,1,0,0,1,0,0,0],[1,0,0,0,0,0,0,0],[1,1,1,0,0,0,0,0],[1,0,0,0,0,0,0,0],[1,0,0,0,1,0,0,0],[0,1,0,0,0,0,0,0],[1,0,0,0,0,1,0,0],[1,1,1,0,0,1,0,0],[1,0,0,0,1,0,0,0],[1,1,1,0,0,1,0,0],[1,1,0,0,0,0,0,0],[1,0,0,0,0,0,0,0],[1,1,1,0,1,1,0,0],[1,0,0,0,1,0,0,0],[1,0,0,0,1,0,0,0],[1,0,0,0,1,0,0,0],[1,0,0,0,0,0,0,0],[1,0,1,1,1,0,0,0],[1,1,0,0,0,0,0,0],[1,1,0,0,1,0,0,0],[1,0,0,0,1,0,0,0],[1,0,1,0,0,0,0,0],[1,0,0,0,0,1,0,0],[0,0,1,0,0,0,0,0],[1,1,0,0,1,0,0,0],[1,1,0,1,1,1,0,0],[1,1,0,0,0,0,0,0],[0,1,1,0,0,0,0,0],[1,0,1,0,0,0,0,0],[1,0,0,0,0,0,0,0],[1,1,0,0,0,0,0,0],[1,1,1,0,0,0,0,0],[1,0,0,0,0,1,0,0],[1,0,0,0,1,0,0,0],[1,1,0,0,0,0,0,0],[1,0,1,0,1,0,0,0],[1,1,0,0,0,0,0,0],[1,0,0,0,0,0,0,0],[1,1,0,1,1,0,0,0],[0,0,1,0,0,1,0,0],[1,1,1,0,0,0,0,0],[1,1,0,0,0,1,0,0],[1,1,0,0,0,1,0,0],[1,0,1,0,1,1,0,0],[1,0,0,0,0,0,0,0],[1,1,0,0,0,0,0,0],[1,1,1,0,1,1,0,0],[1,0,1,0,0,1,0,0],[1,1,1,1,1,0,0,0],[1,1,1,0,0,0,0,0],[1,1,1,0,1,0,0,0],[1,0,1,0,0,0,0,0],[1,1,0,0,0,0,0,0],[0,0,1,0,1,1,0,0],[1,0,1,1,1,0,0,0],[1,1,1,0,1,0,0,0],[1,1,0,0,0,0,0,0],[0,0,1,1,1,0,0,0],[0,0,0,0,0,0,0,0],[1,1,1,0,0,0,0,0],[1,1,1,0,1,0,0,0],[1,1,1,0,1,1,0,0],[1,0,0,0,0,1,0,0],[1,1,0,1,1,1,0,0],[1,1,0,1,1,1,0,0],[1,1,0,0,1,1,0,0],[1,0,0,0,0,0,0,0],[1,1,0,1,0,0,0,0],[1,1,0,0,0,1,0,0],[1,1,0,1,1,0,0,0],[1,1,1,0,1,0,0,0],[1,1,0,0,1,1,0,0],[1,1,0,0,0,0,0,0],[1,1,0,0,1,0,0,0],[1,1,0,1,1,0,0,0],[1,1,1,0,0,1,0,0],[1,0,0,0,0,0,0,0],[1,0,0,0,0,0,0,0],[1,0,0,0,0,0,0,0],[1,1,0,0,1,1,0,0],[1,1,1,0,0,1,0,0],[1,0,0,0,0,0,0,0],[1,1,0,0,0,0,0,0],[1,1,1,0,1,1,0,0],[1,0,1,1,0,1,0,0],[1,0,0,0,0,0,0,0],[0,0,0,0,0,1,0,0],[1,1,0,0,1,0,0,0],[1,1,0,0,0,0,0,0],[1,1,0,0,0,1,0,0],[1,0,0,0,1,1,0,0],[0,0,0,0,0,1,0,0],[1,0,1,0,0,0,0,0],[1,1,1,0,1,0,0,0],[1,1,1,0,1,1,0,0],[0,1,0,0,0,0,0,0],[1,0,1,0,0,0,0,0],[1,0,0,0,0,0,0,0],[1,0,0,1,1,1,0,0],[1,1,1,0,0,0,0,0],[1,1,0,0,1,0,0,0],[1,1,0,0,1,0,0,0],[1,1,0,0,0,1,0,0],[1,1,0,0,0,0,0,0],[1,1,0,0,0,0,0,0],[1,0,0,0,0,1,0,0],[1,1,1,0,0,0,0,0],[1,0,0,0,1,0,0,0],[1,1,0,1,0,0,0,0],[1,1,0,0,0,1,0,0],[0,0,0,0,1,0,0,0],[1,0,0,0,0,0,0,0],[1,1,1,0,0,0,0,0],[1,0,0,0,0,0,0,0],[1,0,1,0,0,0,0,0],[1,1,0,0,0,0,0,0],[1,0,0,0,1,0,0,0],[1,0,1,0,0,0,0,0],[0,0,0,0,1,0,0,0],[1,0,0,0,0,0,0,0],[1,1,0,0,0,0,0,0],[1,0,0,0,0,0,0,0],[1,0,0,1,0,0,0,0],[1,0,0,0,0,0,0,0],[1,1,0,0,0,0,0,0],[1,0,0,0,0,0,0,0],[1,0,0,1,0,0,0,0],[1,1,1,0,1,0,0,1],[1,0,0,0,1,1,0,0],[1,1,0,0,0,0,0,0]],\"hovertemplate\":\"x=%{x}<br>y=%{y}<br>Stretching=%{customdata[0]}<br>Warm Up=%{customdata[1]}<br>Strength Exercises=%{customdata[2]}<br>Bracing=%{customdata[3]}<br>Taping=%{customdata[4]}<br>Shoe Insoles=%{customdata[5]}<br>Face Masks=%{customdata[6]}<br>Medical Corset=%{customdata[7]}<extra></extra>\",\"legendgroup\":\"\",\"marker\":{\"color\":\"#1F77B4\",\"symbol\":\"circle\"},\"mode\":\"markers\",\"name\":\"\",\"orientation\":\"v\",\"showlegend\":false,\"x\":[-0.28516849875450134,-0.011534501798450947,1.3815430402755737,-0.8696531653404236,0.30897727608680725,-0.863814651966095,-0.3083975315093994,-0.2603648006916046,-0.02420160546898842,0.31025463342666626,0.6660858392715454,-0.8596956133842468,0.6631067991256714,1.0875729322433472,0.6287804841995239,1.3912755250930786,-1.1867291927337646,1.0844656229019165,-1.1842272281646729,-0.008912204764783382,0.6703335642814636,-1.1704695224761963,1.0892983675003052,1.085464596748352,1.0933541059494019,0.6654783487319946,1.43867826461792,-0.022294897586107254,0.3174933195114136,1.0868300199508667,-0.26932141184806824,1.392982006072998,0.6402681469917297,0.3137798011302948,0.6979561448097229,-0.010406157933175564,0.3835999071598053,-0.26134881377220154,0.6761747598648071,-0.0076768468134105206,-0.8644108772277832,1.392252802848816,1.0843771696090698,-0.00933255348354578,-0.6084532737731934,-0.0138945197686553,0.6634277701377869,0.9151673316955566,0.7756156325340271,-0.8760867118835449,-0.3970670700073242,-0.3898594379425049,-1.1812713146209717,0.6765137910842896,-0.013355647213757038,-1.1614481210708618,-0.606580913066864,0.9517459869384766,-0.8692446947097778,-1.1492692232131958,-0.2809869945049286,-0.007526007015258074,0.9161428809165955,1.4335806369781494,-1.164819598197937,-0.016959132626652718,1.5216293334960938,0.876628041267395,-0.8725520372390747,-1.1558061838150024,-1.1641924381256104,1.3800386190414429,0.6982148885726929,0.6994333863258362,-0.32922205328941345,0.6708353161811829,1.0499846935272217,-0.3992113769054413,0.9129002094268799,-1.1563124656677246,-0.31739744544029236,-0.0012153988936915994,0.31665387749671936,0.910000741481781,-1.1884502172470093,0.6693629026412964,0.6480326056480408,0.6635059714317322,-0.32910215854644775,-1.169085144996643,0.6889702677726746,-0.0001872655120678246,-1.1734497547149658,1.606014370918274,0.6674959659576416,0.9744992852210999,0.31961992383003235,-0.014692346565425396,-0.3921917676925659,1.4395604133605957,0.976344883441925,-0.27812835574150085,-1.1551096439361572,-1.1650184392929077,0.6274542212486267,-0.2740931808948517,0.6658059358596802,1.1581459045410156,-0.8611541390419006,0.30949416756629944,0.3079947829246521,-0.3973826467990875,-0.008070467039942741,-0.007915573194622993,1.3766169548034668,-0.8749250769615173,1.082031011581421,1.0451217889785767,-0.39379575848579407,1.0891995429992676,0.6647118330001831,-0.8607506155967712,0.6687117218971252,-0.26321759819984436,-0.008510008454322815,1.0848495960235596,-0.26413241028785706,1.0901150703430176,0.6803035140037537,-0.009897274896502495,0.6795077919960022,1.5083599090576172,0.6826082468032837,-0.004717780277132988,0.6730856895446777,1.5092211961746216,-2.061127185821533,1.4387893676757812,-0.0038983637932687998],\"xaxis\":\"x\",\"y\":[1.3840965032577515,0.2812325656414032,0.755861222743988,0.7386561632156372,-0.4620082378387451,0.7460315227508545,-0.9711386561393738,1.385433316230774,0.2717868685722351,-0.45073309540748596,0.8990229964256287,0.738226592540741,0.9189349412918091,0.07198746502399445,2.3888776302337646,0.7629335522651672,-0.1677929162979126,0.05833052471280098,-0.1676992028951645,0.25756382942199707,0.923316240310669,-0.649126410484314,0.0533769428730011,0.06470942497253418,0.0565812923014164,0.9207903742790222,-1.3533084392547607,0.26720285415649414,-0.45638248324394226,0.06226872652769089,1.3834483623504639,0.7524687051773071,2.4619007110595703,-0.4398064911365509,-1.668835997581482,0.25116604566574097,2.4921438694000244,1.3744637966156006,0.9053359627723694,0.2693195343017578,0.7468860149383545,0.7556406855583191,0.05099052935838699,0.27506282925605774,1.280564308166504,0.26221293210983276,0.9148409962654114,-1.4845101833343506,2.5501511096954346,0.7364775538444519,-0.5207722783088684,-0.5231716632843018,-0.7236648797988892,0.898525595664978,0.2576320171356201,-0.6528121829032898,1.4702385663986206,-1.5792460441589355,0.7439913153648376,0.22348862886428833,1.381813645362854,0.264384925365448,2.571985960006714,-1.357953667640686,0.21226897835731506,0.2609415054321289,2.3420517444610596,2.3281843662261963,0.7373850345611572,0.20566464960575104,-0.6518037915229797,0.7603476047515869,-1.6646519899368286,-1.664258599281311,-0.9830852150917053,0.8995530009269714,-1.2655032873153687,-0.5196248888969421,-1.4789503812789917,0.20037207007408142,-0.9711039066314697,0.2636958658695221,-0.46804919838905334,-1.4803478717803955,-0.17499905824661255,0.900712788105011,0.926830530166626,0.9209817051887512,-0.979869544506073,-0.15553084015846252,0.9101561903953552,0.26945972442626953,-0.6471941471099854,-1.2987786531448364,0.9192746877670288,2.411719799041748,-0.4635317623615265,0.2516661584377289,-0.5129279494285583,-0.08099301904439926,2.4135522842407227,1.3815462589263916,0.19991569221019745,-0.6523014903068542,2.393080949783325,1.3775084018707275,0.9218839406967163,-1.5288810729980469,0.7466740608215332,-0.4644906222820282,-0.4563588798046112,-0.5204513072967529,0.261676162481308,0.25910484790802,0.755932629108429,0.7446001768112183,0.06300954520702362,-1.2681249380111694,-0.5211445689201355,2.331084966659546,0.9149115681648254,0.7340008616447449,0.8994131684303284,1.3793411254882812,0.25679317116737366,0.05719045549631119,1.3853050470352173,2.33021879196167,0.9034634232521057,0.25955459475517273,0.9096574783325195,-0.9768821001052856,0.9026212692260742,0.25288137793540955,0.9098540544509888,-0.9836327433586121,0.4760425388813019,-0.06751156598329544,0.26110225915908813],\"yaxis\":\"y\",\"type\":\"scatter\"}],                        {\"template\":{\"data\":{\"barpolar\":[{\"marker\":{\"line\":{\"color\":\"white\",\"width\":0.5},\"pattern\":{\"fillmode\":\"overlay\",\"size\":10,\"solidity\":0.2}},\"type\":\"barpolar\"}],\"bar\":[{\"error_x\":{\"color\":\"rgb(36,36,36)\"},\"error_y\":{\"color\":\"rgb(36,36,36)\"},\"marker\":{\"line\":{\"color\":\"white\",\"width\":0.5},\"pattern\":{\"fillmode\":\"overlay\",\"size\":10,\"solidity\":0.2}},\"type\":\"bar\"}],\"carpet\":[{\"aaxis\":{\"endlinecolor\":\"rgb(36,36,36)\",\"gridcolor\":\"white\",\"linecolor\":\"white\",\"minorgridcolor\":\"white\",\"startlinecolor\":\"rgb(36,36,36)\"},\"baxis\":{\"endlinecolor\":\"rgb(36,36,36)\",\"gridcolor\":\"white\",\"linecolor\":\"white\",\"minorgridcolor\":\"white\",\"startlinecolor\":\"rgb(36,36,36)\"},\"type\":\"carpet\"}],\"choropleth\":[{\"colorbar\":{\"outlinewidth\":1,\"tickcolor\":\"rgb(36,36,36)\",\"ticks\":\"outside\"},\"type\":\"choropleth\"}],\"contourcarpet\":[{\"colorbar\":{\"outlinewidth\":1,\"tickcolor\":\"rgb(36,36,36)\",\"ticks\":\"outside\"},\"type\":\"contourcarpet\"}],\"contour\":[{\"colorbar\":{\"outlinewidth\":1,\"tickcolor\":\"rgb(36,36,36)\",\"ticks\":\"outside\"},\"colorscale\":[[0.0,\"#440154\"],[0.1111111111111111,\"#482878\"],[0.2222222222222222,\"#3e4989\"],[0.3333333333333333,\"#31688e\"],[0.4444444444444444,\"#26828e\"],[0.5555555555555556,\"#1f9e89\"],[0.6666666666666666,\"#35b779\"],[0.7777777777777778,\"#6ece58\"],[0.8888888888888888,\"#b5de2b\"],[1.0,\"#fde725\"]],\"type\":\"contour\"}],\"heatmapgl\":[{\"colorbar\":{\"outlinewidth\":1,\"tickcolor\":\"rgb(36,36,36)\",\"ticks\":\"outside\"},\"colorscale\":[[0.0,\"#440154\"],[0.1111111111111111,\"#482878\"],[0.2222222222222222,\"#3e4989\"],[0.3333333333333333,\"#31688e\"],[0.4444444444444444,\"#26828e\"],[0.5555555555555556,\"#1f9e89\"],[0.6666666666666666,\"#35b779\"],[0.7777777777777778,\"#6ece58\"],[0.8888888888888888,\"#b5de2b\"],[1.0,\"#fde725\"]],\"type\":\"heatmapgl\"}],\"heatmap\":[{\"colorbar\":{\"outlinewidth\":1,\"tickcolor\":\"rgb(36,36,36)\",\"ticks\":\"outside\"},\"colorscale\":[[0.0,\"#440154\"],[0.1111111111111111,\"#482878\"],[0.2222222222222222,\"#3e4989\"],[0.3333333333333333,\"#31688e\"],[0.4444444444444444,\"#26828e\"],[0.5555555555555556,\"#1f9e89\"],[0.6666666666666666,\"#35b779\"],[0.7777777777777778,\"#6ece58\"],[0.8888888888888888,\"#b5de2b\"],[1.0,\"#fde725\"]],\"type\":\"heatmap\"}],\"histogram2dcontour\":[{\"colorbar\":{\"outlinewidth\":1,\"tickcolor\":\"rgb(36,36,36)\",\"ticks\":\"outside\"},\"colorscale\":[[0.0,\"#440154\"],[0.1111111111111111,\"#482878\"],[0.2222222222222222,\"#3e4989\"],[0.3333333333333333,\"#31688e\"],[0.4444444444444444,\"#26828e\"],[0.5555555555555556,\"#1f9e89\"],[0.6666666666666666,\"#35b779\"],[0.7777777777777778,\"#6ece58\"],[0.8888888888888888,\"#b5de2b\"],[1.0,\"#fde725\"]],\"type\":\"histogram2dcontour\"}],\"histogram2d\":[{\"colorbar\":{\"outlinewidth\":1,\"tickcolor\":\"rgb(36,36,36)\",\"ticks\":\"outside\"},\"colorscale\":[[0.0,\"#440154\"],[0.1111111111111111,\"#482878\"],[0.2222222222222222,\"#3e4989\"],[0.3333333333333333,\"#31688e\"],[0.4444444444444444,\"#26828e\"],[0.5555555555555556,\"#1f9e89\"],[0.6666666666666666,\"#35b779\"],[0.7777777777777778,\"#6ece58\"],[0.8888888888888888,\"#b5de2b\"],[1.0,\"#fde725\"]],\"type\":\"histogram2d\"}],\"histogram\":[{\"marker\":{\"line\":{\"color\":\"white\",\"width\":0.6}},\"type\":\"histogram\"}],\"mesh3d\":[{\"colorbar\":{\"outlinewidth\":1,\"tickcolor\":\"rgb(36,36,36)\",\"ticks\":\"outside\"},\"type\":\"mesh3d\"}],\"parcoords\":[{\"line\":{\"colorbar\":{\"outlinewidth\":1,\"tickcolor\":\"rgb(36,36,36)\",\"ticks\":\"outside\"}},\"type\":\"parcoords\"}],\"pie\":[{\"automargin\":true,\"type\":\"pie\"}],\"scatter3d\":[{\"line\":{\"colorbar\":{\"outlinewidth\":1,\"tickcolor\":\"rgb(36,36,36)\",\"ticks\":\"outside\"}},\"marker\":{\"colorbar\":{\"outlinewidth\":1,\"tickcolor\":\"rgb(36,36,36)\",\"ticks\":\"outside\"}},\"type\":\"scatter3d\"}],\"scattercarpet\":[{\"marker\":{\"colorbar\":{\"outlinewidth\":1,\"tickcolor\":\"rgb(36,36,36)\",\"ticks\":\"outside\"}},\"type\":\"scattercarpet\"}],\"scattergeo\":[{\"marker\":{\"colorbar\":{\"outlinewidth\":1,\"tickcolor\":\"rgb(36,36,36)\",\"ticks\":\"outside\"}},\"type\":\"scattergeo\"}],\"scattergl\":[{\"marker\":{\"colorbar\":{\"outlinewidth\":1,\"tickcolor\":\"rgb(36,36,36)\",\"ticks\":\"outside\"}},\"type\":\"scattergl\"}],\"scattermapbox\":[{\"marker\":{\"colorbar\":{\"outlinewidth\":1,\"tickcolor\":\"rgb(36,36,36)\",\"ticks\":\"outside\"}},\"type\":\"scattermapbox\"}],\"scatterpolargl\":[{\"marker\":{\"colorbar\":{\"outlinewidth\":1,\"tickcolor\":\"rgb(36,36,36)\",\"ticks\":\"outside\"}},\"type\":\"scatterpolargl\"}],\"scatterpolar\":[{\"marker\":{\"colorbar\":{\"outlinewidth\":1,\"tickcolor\":\"rgb(36,36,36)\",\"ticks\":\"outside\"}},\"type\":\"scatterpolar\"}],\"scatter\":[{\"fillpattern\":{\"fillmode\":\"overlay\",\"size\":10,\"solidity\":0.2},\"type\":\"scatter\"}],\"scatterternary\":[{\"marker\":{\"colorbar\":{\"outlinewidth\":1,\"tickcolor\":\"rgb(36,36,36)\",\"ticks\":\"outside\"}},\"type\":\"scatterternary\"}],\"surface\":[{\"colorbar\":{\"outlinewidth\":1,\"tickcolor\":\"rgb(36,36,36)\",\"ticks\":\"outside\"},\"colorscale\":[[0.0,\"#440154\"],[0.1111111111111111,\"#482878\"],[0.2222222222222222,\"#3e4989\"],[0.3333333333333333,\"#31688e\"],[0.4444444444444444,\"#26828e\"],[0.5555555555555556,\"#1f9e89\"],[0.6666666666666666,\"#35b779\"],[0.7777777777777778,\"#6ece58\"],[0.8888888888888888,\"#b5de2b\"],[1.0,\"#fde725\"]],\"type\":\"surface\"}],\"table\":[{\"cells\":{\"fill\":{\"color\":\"rgb(237,237,237)\"},\"line\":{\"color\":\"white\"}},\"header\":{\"fill\":{\"color\":\"rgb(217,217,217)\"},\"line\":{\"color\":\"white\"}},\"type\":\"table\"}]},\"layout\":{\"annotationdefaults\":{\"arrowhead\":0,\"arrowwidth\":1},\"autotypenumbers\":\"strict\",\"coloraxis\":{\"colorbar\":{\"outlinewidth\":1,\"tickcolor\":\"rgb(36,36,36)\",\"ticks\":\"outside\"}},\"colorscale\":{\"diverging\":[[0.0,\"rgb(103,0,31)\"],[0.1,\"rgb(178,24,43)\"],[0.2,\"rgb(214,96,77)\"],[0.3,\"rgb(244,165,130)\"],[0.4,\"rgb(253,219,199)\"],[0.5,\"rgb(247,247,247)\"],[0.6,\"rgb(209,229,240)\"],[0.7,\"rgb(146,197,222)\"],[0.8,\"rgb(67,147,195)\"],[0.9,\"rgb(33,102,172)\"],[1.0,\"rgb(5,48,97)\"]],\"sequential\":[[0.0,\"#440154\"],[0.1111111111111111,\"#482878\"],[0.2222222222222222,\"#3e4989\"],[0.3333333333333333,\"#31688e\"],[0.4444444444444444,\"#26828e\"],[0.5555555555555556,\"#1f9e89\"],[0.6666666666666666,\"#35b779\"],[0.7777777777777778,\"#6ece58\"],[0.8888888888888888,\"#b5de2b\"],[1.0,\"#fde725\"]],\"sequentialminus\":[[0.0,\"#440154\"],[0.1111111111111111,\"#482878\"],[0.2222222222222222,\"#3e4989\"],[0.3333333333333333,\"#31688e\"],[0.4444444444444444,\"#26828e\"],[0.5555555555555556,\"#1f9e89\"],[0.6666666666666666,\"#35b779\"],[0.7777777777777778,\"#6ece58\"],[0.8888888888888888,\"#b5de2b\"],[1.0,\"#fde725\"]]},\"colorway\":[\"#1F77B4\",\"#FF7F0E\",\"#2CA02C\",\"#D62728\",\"#9467BD\",\"#8C564B\",\"#E377C2\",\"#7F7F7F\",\"#BCBD22\",\"#17BECF\"],\"font\":{\"color\":\"rgb(36,36,36)\"},\"geo\":{\"bgcolor\":\"white\",\"lakecolor\":\"white\",\"landcolor\":\"white\",\"showlakes\":true,\"showland\":true,\"subunitcolor\":\"white\"},\"hoverlabel\":{\"align\":\"left\"},\"hovermode\":\"closest\",\"mapbox\":{\"style\":\"light\"},\"paper_bgcolor\":\"white\",\"plot_bgcolor\":\"white\",\"polar\":{\"angularaxis\":{\"gridcolor\":\"rgb(232,232,232)\",\"linecolor\":\"rgb(36,36,36)\",\"showgrid\":false,\"showline\":true,\"ticks\":\"outside\"},\"bgcolor\":\"white\",\"radialaxis\":{\"gridcolor\":\"rgb(232,232,232)\",\"linecolor\":\"rgb(36,36,36)\",\"showgrid\":false,\"showline\":true,\"ticks\":\"outside\"}},\"scene\":{\"xaxis\":{\"backgroundcolor\":\"white\",\"gridcolor\":\"rgb(232,232,232)\",\"gridwidth\":2,\"linecolor\":\"rgb(36,36,36)\",\"showbackground\":true,\"showgrid\":false,\"showline\":true,\"ticks\":\"outside\",\"zeroline\":false,\"zerolinecolor\":\"rgb(36,36,36)\"},\"yaxis\":{\"backgroundcolor\":\"white\",\"gridcolor\":\"rgb(232,232,232)\",\"gridwidth\":2,\"linecolor\":\"rgb(36,36,36)\",\"showbackground\":true,\"showgrid\":false,\"showline\":true,\"ticks\":\"outside\",\"zeroline\":false,\"zerolinecolor\":\"rgb(36,36,36)\"},\"zaxis\":{\"backgroundcolor\":\"white\",\"gridcolor\":\"rgb(232,232,232)\",\"gridwidth\":2,\"linecolor\":\"rgb(36,36,36)\",\"showbackground\":true,\"showgrid\":false,\"showline\":true,\"ticks\":\"outside\",\"zeroline\":false,\"zerolinecolor\":\"rgb(36,36,36)\"}},\"shapedefaults\":{\"fillcolor\":\"black\",\"line\":{\"width\":0},\"opacity\":0.3},\"ternary\":{\"aaxis\":{\"gridcolor\":\"rgb(232,232,232)\",\"linecolor\":\"rgb(36,36,36)\",\"showgrid\":false,\"showline\":true,\"ticks\":\"outside\"},\"baxis\":{\"gridcolor\":\"rgb(232,232,232)\",\"linecolor\":\"rgb(36,36,36)\",\"showgrid\":false,\"showline\":true,\"ticks\":\"outside\"},\"bgcolor\":\"white\",\"caxis\":{\"gridcolor\":\"rgb(232,232,232)\",\"linecolor\":\"rgb(36,36,36)\",\"showgrid\":false,\"showline\":true,\"ticks\":\"outside\"}},\"title\":{\"x\":0.05},\"xaxis\":{\"automargin\":true,\"gridcolor\":\"rgb(232,232,232)\",\"linecolor\":\"rgb(36,36,36)\",\"showgrid\":false,\"showline\":true,\"ticks\":\"outside\",\"title\":{\"standoff\":15},\"zeroline\":false,\"zerolinecolor\":\"rgb(36,36,36)\"},\"yaxis\":{\"automargin\":true,\"gridcolor\":\"rgb(232,232,232)\",\"linecolor\":\"rgb(36,36,36)\",\"showgrid\":false,\"showline\":true,\"ticks\":\"outside\",\"title\":{\"standoff\":15},\"zeroline\":false,\"zerolinecolor\":\"rgb(36,36,36)\"}}},\"xaxis\":{\"anchor\":\"y\",\"domain\":[0.0,1.0],\"title\":{\"text\":\"x\"}},\"yaxis\":{\"anchor\":\"x\",\"domain\":[0.0,1.0],\"title\":{\"text\":\"y\"}},\"legend\":{\"tracegroupgap\":0},\"title\":{\"text\":\"Perplexity = 100\"}},                        {\"responsive\": true}                    ).then(function(){\n",
       "                            \n",
       "var gd = document.getElementById('9c9baefa-bdcb-4b39-8f89-b474d6370a03');\n",
       "var x = new MutationObserver(function (mutations, observer) {{\n",
       "        var display = window.getComputedStyle(gd).display;\n",
       "        if (!display || display === 'none') {{\n",
       "            console.log([gd, 'removed!']);\n",
       "            Plotly.purge(gd);\n",
       "            observer.disconnect();\n",
       "        }}\n",
       "}});\n",
       "\n",
       "// Listen for the removal of the full notebook cells\n",
       "var notebookContainer = gd.closest('#notebook-container');\n",
       "if (notebookContainer) {{\n",
       "    x.observe(notebookContainer, {childList: true});\n",
       "}}\n",
       "\n",
       "// Listen for the clearing of the current output cell\n",
       "var outputEl = gd.closest('.output');\n",
       "if (outputEl) {{\n",
       "    x.observe(outputEl, {childList: true});\n",
       "}}\n",
       "\n",
       "                        })                };                });            </script>        </div>"
      ]
     },
     "metadata": {},
     "output_type": "display_data"
    },
    {
     "data": {
      "text/html": [
       "\n",
       "        <iframe\n",
       "            width=\"800\"\n",
       "            height=\"600\"\n",
       "            src=\"per100_interactive.html\"\n",
       "            frameborder=\"0\"\n",
       "            allowfullscreen\n",
       "            \n",
       "        ></iframe>\n",
       "        "
      ],
      "text/plain": [
       "<IPython.lib.display.IFrame at 0x169a74050>"
      ]
     },
     "execution_count": 117,
     "metadata": {},
     "output_type": "execute_result"
    }
   ],
   "source": [
    "X_embedded = TSNE(n_components=2, learning_rate='auto',init='random', perplexity=100).fit_transform(X)\n",
    "\n",
    "data = {\n",
    "    'x': X_embedded[:, 0],\n",
    "    'y': X_embedded[:, 1],\n",
    "    'Stretching': si_subset[\"Prevention Measure Stretching\"],\n",
    "    'Warm Up': si_subset[\"Prevention Measure Warm Up\"],\n",
    "    'Strength Exercises': si_subset[\"Prevention Measure Specific Strength Exercises\"],\n",
    "    'Bracing': si_subset[\"Prevention Measure Bracing\"],\n",
    "    'Taping': si_subset[\"Prevention Measure Taping\"],\n",
    "    'Shoe Insoles': si_subset[\"Prevention Measure Shoe Insoles\"],\n",
    "    'Face Masks': si_subset[\"Prevention Measure Face Masks\"],\n",
    "    'Medical Corset': si_subset[\"Prevention Measure Medical Corset\"]\n",
    "}\n",
    "\n",
    "df = pd.DataFrame(data)\n",
    "\n",
    "print(\"RESULTS\") \n",
    "print(\"shape : \",X_embedded.shape)\n",
    "print(\"First few points : \\n\",X_embedded[0:2,:])\n",
    "\n",
    "scatter_fig_100 = px.scatter(df, x='x', y='y', \n",
    "                         hover_data=['Stretching', 'Warm Up', \"Strength Exercises\", \"Bracing\", \"Taping\", \"Shoe Insoles\", \"Face Masks\", \"Medical Corset\"], \n",
    "                         template='simple_white',\n",
    "                         title='Perplexity = 100')\n",
    "\n",
    "scatter_fig_100.show()\n",
    "\n",
    "pio.renderers.default = \"plotly_mimetype+notebook_connected\"\n",
    "plotly.offline.plot(scatter_fig_100, filename='per100_interactive.html')\n",
    "\n",
    "IFrame(src='per100_interactive.html', width=800, height=600)"
   ]
  },
  {
   "cell_type": "markdown",
   "metadata": {},
   "source": [
    "## Project Report \n",
    "\n",
    "In this dimensionality reduction section of my project, I first applied PCA to my dataset and determined the optimal number of prinicpal components to retain which was 5. I also was able to create a number of visualizations to display the structure and PCA's groupings of my data. Next, I applied t-SNE to my dataset and created multiple visualizations displaying the impact of the different values of perplexity, all of which are interactive plots. My analyses of the results of my application of PCA and t-SNE can be found below. \n",
    "\n",
    "### Analysis of PCA Results \n",
    "\n",
    "Using PCA, we can determine that the optimal number of principal components to retain is 5. Based on the 3D visualization, we can see that PCA is grouping the data into the clusters, likely based on what injury prevention measures that an athlete took. The interactive version of the plot confirms that the clusters are created using prevention measures as each colour represents a different prevention measure that was used to group the points. While it is common for athletes to do more than one prevention measure, PCA is grouping them based off of one common one. \n",
    "\n",
    "There seem to be one or two evident outliers based on the non-interactive 3D plot. The first is most easily seen in the 3D plot, and it sits in the position (1.5, -3.5, 0.25). This point is not around many other points, which could be due to the athlete using an uncommon injury prevention measure. The other notable outlier has the approximate position (1.25, -4, -1.5). The reasons for this outlier are likely the same as the first. \n",
    "\n",
    "The 2D visualization is a little less obvious, as it fails the capture the dimensionality of the data in the same way that the 3D plot does. However, we do see one obvious outlier in the top right corner of the plot, with the approximate position of (3.25, 8.25). \n",
    "\n",
    "### Analysis of t-SNE Results \n",
    "\n",
    "The different values of perplexity seem to effect how tightly the points are clustered together. When values of perplexity are lower, points are very tightly grouped, whereas when perplexity is higher, points are much more spread out. When perplexity is 10 and 30, we see relatively tightly grouped points, but not too tight. I believe that a perplexity value of 10 gives a good indication of points that are similar to each other as, compared to other perplexity values, more tightly groups the points that are obviously in groups (such as the ones around (0, -7)). When we hover over the points, we can see that clusters are formed by what prevention measures an athlete took. The more obvious clusters are formed of points in which athletes took all of the same prevention measures, whereas the ones that don't obviously belong to clusters may have one or two differing prevention measures. \n",
    "\n",
    "PCA and t-SNE have relatively similar results. Both of the dimensionality reduction techniques form groups based on clusters, indicating that they both recognize that the target may be closely related to what prevention measures an athlete took. \n",
    "\n",
    "### Evaluation and Comparison \n",
    "\n",
    "In my specific case, PCA and t-SNE were both very effective as retaining the data structure and information. Both methods were able to effectively group the data together into meaningful clusters. Visually, I found t-SNE more useful for visualizing how clusters were formed and what common variables clusters have. However, I found PCA more useful for visualizing the clusters and how similar or different each of the clusters were. The nature of the 3D plot made it quite easy to see how similar or dissimilar the clusters were since the distance between the clusters can easily be seen. \n",
    "\n",
    "PCA is more effective for linear data, whereas t-SNE can be more effective for non-linear data. If your objective is to preserve the overall structure of the data, because PCA focuses on overall variance, PCA may do a better job that t-SNE, as t-SNE focuses on smaller-scale relationships between points. However, because PCA focuses on variance, it is very sensitive to outliers, so if a dataset has a lot of outliers, PCA may have a hard time with it. In that case, t-SNE would be a better choice as it focuses on local relationships rather than variance. Both methods create opportunity for various visualizations. Due to PCA's focus on overall structure and variance and t-SNE's focus on preserving smaller-scale relationships within the data, each method's visualizations will have its benefits and caveats. PCA's visualizations will give a more comprehensive picture of the overarching structure of the data but may be more affected by outliers, whereas t-SNE will be more robust when it comes to outliers but may be less effective in showing overall data structure."
   ]
  }
 ],
 "metadata": {
  "kernelspec": {
   "display_name": "base",
   "language": "python",
   "name": "python3"
  },
  "language_info": {
   "codemirror_mode": {
    "name": "ipython",
    "version": 3
   },
   "file_extension": ".py",
   "mimetype": "text/x-python",
   "name": "python",
   "nbconvert_exporter": "python",
   "pygments_lexer": "ipython3",
   "version": "3.11.5"
  },
  "orig_nbformat": 4
 },
 "nbformat": 4,
 "nbformat_minor": 2
}
