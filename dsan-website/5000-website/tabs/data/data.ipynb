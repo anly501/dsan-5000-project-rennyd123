{
 "cells": [
  {
   "cell_type": "markdown",
   "metadata": {},
   "source": [
    "# Basketball Injury Data from 2010-2018\n",
    "\n",
    "This data comes from [this website](https://www.kaggle.com/datasets/ghopkins/nba-injuries-2010-2018/code)"
   ]
  },
  {
   "cell_type": "code",
   "execution_count": 6,
   "metadata": {},
   "outputs": [],
   "source": [
    "import requests\n",
    "import pandas as pd\n",
    "import requests\n",
    "\n",
    "csv_url = \"https://raw.githubusercontent.com/anly501/dsan-5000-project-rennyd123/main/dsan-website/5000-website/data/raw/injuries_2010-2020.csv\"\n"
   ]
  },
  {
   "cell_type": "code",
   "execution_count": 8,
   "metadata": {},
   "outputs": [
    {
     "name": "stdout",
     "output_type": "stream",
     "text": [
      "         Date     Team Acquired   Relinquished  \\\n",
      "0  2010-10-03    Bulls      NaN  Carlos Boozer   \n",
      "1  2010-10-06  Pistons      NaN  Jonas Jerebko   \n",
      "2  2010-10-06  Pistons      NaN  Terrico White   \n",
      "3  2010-10-08  Blazers      NaN     Jeff Ayres   \n",
      "4  2010-10-08     Nets      NaN    Troy Murphy   \n",
      "\n",
      "                                               Notes  \n",
      "0  fractured bone in right pinky finger (out inde...  \n",
      "1      torn right Achilles tendon (out indefinitely)  \n",
      "2  broken fifth metatarsal in right foot (out ind...  \n",
      "3          torn ACL in right knee (out indefinitely)  \n",
      "4             strained lower back (out indefinitely)  \n"
     ]
    }
   ],
   "source": [
    "bball_injury_data = pd.read_csv(csv_url)\n",
    "print(bball_injury_data.head())"
   ]
  }
 ],
 "metadata": {
  "kernelspec": {
   "display_name": "base",
   "language": "python",
   "name": "python3"
  },
  "language_info": {
   "codemirror_mode": {
    "name": "ipython",
    "version": 3
   },
   "file_extension": ".py",
   "mimetype": "text/x-python",
   "name": "python",
   "nbconvert_exporter": "python",
   "pygments_lexer": "ipython3",
   "version": "3.11.5"
  },
  "orig_nbformat": 4
 },
 "nbformat": 4,
 "nbformat_minor": 2
}
