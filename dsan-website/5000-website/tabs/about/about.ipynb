{
 "cells": [
  {
   "attachments": {},
   "cell_type": "markdown",
   "metadata": {},
   "source": [
    "# Introduction\n",
    "![](images/photo.png){height=250, width=250}\n",
    "\n",
    "Renee DeMaio (she/her) is a fourth year undergraduate and first year graduate student at Georgetown University. Her undergraduate degree is in Chinese with a minor in mathematics. Her graduate degree is in Data Science and Analytics. She is from Hong Kong, and spent all of her adolecent life in Hong Kong and Singapore. At the age of 18, she moved to the United States for the first time to attend university. Her academic interests include how LGBTQ+ identities exist and flourish within a rigid Chinese social and familial structure, as well as artificial intelligence and machine learning. She hopes to further explore the latter two throughout the duration of her masters. Outside of school, her hobbies include dance, running, cooking, and reading.\n",
    "\n",
    "# Favourite Books:\n",
    "1. Crying at H Mart by Michelle Zauner\n",
    "2. Sidelined: Sports, Culture, and Being a Woman in America by Julie Dicaro\n",
    "3. Killers of a Certain Age by Deanna Raybourn\n",
    "4. Joan is Okay by Weike Wang\n",
    "5. If He Had Been with Me by Laura Nowlin\n",
    "6. Happy Place by Emily Henry\n",
    "\n",
    "![](images/crying.jpg){height=50, width=100}\n",
    "![](images/sidelined.jpg){height=50, width=100}\n",
    "![](images/killers.jpg){height=50, width=100}\n",
    "![](images/joan.jpg){height=50, width=100}\n",
    "![](images/ifhe.jpg){height=50, width=100}\n",
    "![](images/happy.jpg){height=50, width=100}\n",
    "\n",
    "# Recent Personal Accomplishments\n",
    "\n",
    "- 2023: Acceptance into the DSAN Masters Programme\n",
    "- 2021 & 2022: Completing the National Women's Half Marathon\n",
    "- 2020: Becoming a Lead Coach at Splash Foundation Hong Kong, an organization that teaches foreign domestic helpers water safety skills and how to swim. \n"
   ]
  }
 ],
 "metadata": {
  "kernelspec": {
   "display_name": "Python 3",
   "language": "python",
   "name": "python3"
  },
  "language_info": {
   "name": "python",
   "version": "3.8.2"
  },
  "orig_nbformat": 4,
  "vscode": {
   "interpreter": {
    "hash": "31f2aee4e71d21fbe5cf8b01ff0e069b9275f58929596ceb00d14d90e3e16cd6"
   }
  }
 },
 "nbformat": 4,
 "nbformat_minor": 2
}
