{
 "cells": [
  {
   "cell_type": "markdown",
   "metadata": {},
   "source": [
    "## Conclusion\n",
    "\n",
    "### Summary\n",
    "\n",
    "When I started on this project, my goal was to understand more about how athletes sustain injuries and what we can do to keep athletes safe. Taking a data approach to a topic that is heavily influenced by a person’s nature can make analysis difficult. However, through the different machine learning methods I tried out, I was able to have some success.\n",
    "\n",
    "I first started this project by gathering and cleaning data. I found that it was hard to find data sets only about injury prevention methods so I felt very lucky to find one within the injury prevention methods data set. I decided to collect the other data sets to paint the bigger picture of injuries in athletes before diving deep into how we can prevent them. I used a mix of record data and text data, but due to the numerical nature of sports data, record data was more common. I found six record data sets and one text data set. Through these data sets, I was able to explore topics such as the number of injuries per activity by age group, National Basketball Association (NBA) data, National Football League (NFL) concussion data, as well as data on what the conditions were when the NFL injuries were experienced. My text data focused on the news, which was a little less relevant due to the nature of the news cycle and recent soccer-related injuries.\n",
    "\n",
    "I then went on to explore many different machine learning methods, including decision trees, Naive Bayes, clustering, and dimensionality reduction. I found that decision trees weren’t the most successful method for predicting how many injuries each athlete had. The accuracy rate was a mere 17.86%, which was just above a random classifier, and just below a random classifier that had been weighted according to the distribution of the number of injuries each athlete had. Naive Bayes, on the other hand, was a relatively successful method for predicting how many injuries an athlete has had. When combined with feature selection and using SelectPercentile, the accuracy rate was 25%! The model was very good at predicting the number of injuries for athletes who had 0, 1, or 2 previous injuries, but less so if the athlete had any more. We were also able to discover that stretching, warming up, and specific strength exercises were the most successful at preventing injuries.\n",
    "\n",
    "In the clustering tab, I learned that agglomerative clustering was the most successful of the clustering methods as it was able to make distinct clusters. K-Means clustering and DBSCAN were successful but didn’t make as well-defined clusters so they didn’t live up to the standards that agglomerative clustering set. The optimal number of clusters was found to be 5 which makes sense since 5 prevention methods were commonly used: stretching, warming up, taping, strength exercises, and shoe insoles.\n",
    "\n",
    "Finally, the dimensionality reduction process helped me determine that the optimal number of principal components to retain is 5. PCA helped to reveal a few outliers that were quite evident from both the 2D and 3D plots. PCA’s visualizations were quite accurate and were conducive to an interactive nature.\n",
    "\n",
    "### Reflection\n",
    "\n",
    "When it comes to the research questions that I posed at the beginning of the project, I think I can answer quite a few of them. The questions I posed were:\n",
    "\n",
    "1. What information about injuries can be discovered with machine learning?\n",
    "2. How can we use machine learning and artificial intelligence to predict and prevent sports injuries?\n",
    "3. Is there a difference in the data between predicting injuries in male athletes versus predicting injuries in female athletes?\n",
    "4. How can we make the results of many of these studies more useful to clinicians?\n",
    "5. How can we more efficiently use machine learning to predict and prevent sports injuries?\n",
    "6. How can we more efficiently use artificial intelligence to predict and prevent sports injuries?\n",
    "7. What does it look like on the day-to-day sports level when advice from machine learning findings are incorporated?\n",
    "8. What does using machine learning and artificial intelligence mean for the future of sports?\n",
    "9. What effect has machine learning and artificial intelligence had on predicting and preventing sports injuries so far?\n",
    "10. How can we use machine learning to achieve the goals of the injury prevention field?\n",
    "\n",
    "As shown throughout this project, we can learn a lot about injuries that athletes sustain as well as what measures athletes should be taking to prevent injuries. The types of injuries that athletes will sustain vary from sport to sport but the prevention methods are relatively standard across the board. As I learnt, machine learning can help to evaluate which injury prevention methods are the most effective, and what injury prevention athletes with fewer injuries take. Were the findings of this study to be implemented, it would take the form of more athletes partaking in stretching and warming up before activities, and regularly completing specific strength exercises.\n",
    "\n",
    "### Future Considerations\n",
    "\n",
    "However, because there hasn’t been much exploration into this topic as it is very specific, there is a lot that I was limited by and a lot that I would still like to explore. First, I would love to explore more into how female athletes versus male athletes tend to be injured and what prevention methods are best for athletes who compete in different ways. I’d also like to look more at other injury prevention methods such as physical therapy or sports medicine treatments, but I know that that data would be hard to come by because of how niche it is. Additionally, I would like to spend more time focusing on artificial intelligence and learning how it can be beneficial to athletes, but due to the scope of the project, I was not able to focus on it this time.\n",
    "\n",
    "Injuries in athletes are not only really common but also can be very severe. Because sports are such a big part of many countries’ cultures and many people look up to these athletes, athletes must take care of themselves. This project not only taught me a lot about injury prevention but also a lot about data science and I am excited to do more like this in the future."
   ]
  }
 ],
 "metadata": {
  "language_info": {
   "name": "python"
  },
  "orig_nbformat": 4
 },
 "nbformat": 4,
 "nbformat_minor": 2
}
