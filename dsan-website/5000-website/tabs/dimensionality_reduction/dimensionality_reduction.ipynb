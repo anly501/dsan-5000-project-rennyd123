{
 "cells": [
  {
   "cell_type": "markdown",
   "metadata": {},
   "source": [
    "## Project Proposal \n",
    "\n",
    "- A brief proposal outlining your project’s objectives, dataset selection, and the tools or libraries you plan to use (e.g., Python, scikit-learn).\n",
    "\n",
    "The objective of my project is to explore what factors can affect athletes ability to get injuries. There are various factors that can be involved, such as how an athlete warms up, the nature of the position or sport that they play, the location that they play in or on, etc. My goal is to explore if any factors have positive correlations with injuries so that athletes can be sure to do what they can avoid injury. For this section of the paper, I've decided to use a dataset regarding injuries that soccer players have. "
   ]
  },
  {
   "cell_type": "code",
   "execution_count": 1,
   "metadata": {},
   "outputs": [],
   "source": [
    "from sklearn.model_selection import train_test_split\n",
    "import pandas as pd \n",
    "import matplotlib as plt\n",
    "from sklearn.preprocessing import StandardScaler\n",
    "\n",
    "file_path = \"../../../../data/01-modified-data/injury_prevention_data_soccer.csv\"\n",
    "soccer_injury = pd.read_csv(file_path)\n",
    "\n",
    "soccer_injury.columns = soccer_injury.columns.str.strip()\n",
    "\n",
    "soccer_injury = soccer_injury.replace({\"yes\": 1, \"no\": 0})\n",
    "soccer_injury.head()\n",
    "\n",
    "x_vars = ['Prevention Measure Stretching', 'Prevention Measure Warm Up',\n",
    "       'Prevention Measure Specific Strength Exercises',\n",
    "       'Prevention Measure Bracing', 'Prevention Measure Taping',\n",
    "       'Prevention Measure Shoe Insoles', 'Prevention Measure Face Masks',\n",
    "       'Prevention Measure Medical Corset']\n",
    "\n",
    "si_subset = soccer_injury[x_vars]\n",
    "si_subset.head()\n",
    "\n",
    "X = si_subset.copy()\n",
    "X_norm = StandardScaler().fit_transform(X)"
   ]
  },
  {
   "cell_type": "markdown",
   "metadata": {},
   "source": [
    "## Principal Component Analysis (PCA)\n",
    "\n",
    "- Apply PCA to your record dataset.\n",
    "- Determine the optimal number of principal components to retain.\n",
    "- Visualize the reduced-dimensional data using PCA.\n",
    "- Analyze and interpret the results.\n"
   ]
  },
  {
   "cell_type": "code",
   "execution_count": null,
   "metadata": {},
   "outputs": [],
   "source": []
  },
  {
   "cell_type": "markdown",
   "metadata": {},
   "source": [
    "## Dimensionality Reduction with t-SNE \n",
    "\n",
    "- Implement t-SNE on the same dataset.\n",
    "- Explore different perplexity values and their impact.\n",
    "- Visualize the t-SNE output to reveal patterns and clusters.\n",
    "- Compare t-SNE results with PCA results.\n",
    "- Code should include parameter tuning for t-SNE (perplexity) and visualization of the results.\n"
   ]
  },
  {
   "cell_type": "markdown",
   "metadata": {},
   "source": [
    "## Evaluation and Comparison \n",
    "\n",
    "- Evaluate the effectiveness of PCA and t-SNE in terms of preserving data structure and information.\n",
    "- Compare the visualization capabilities of PCA and t-SNE.\n",
    "- Discuss the trade-offs and scenarios where one technique may outperform the other."
   ]
  },
  {
   "cell_type": "markdown",
   "metadata": {},
   "source": [
    "## Project Report \n",
    "\n",
    "- A comprehensive project report detailing the steps taken, results obtained, and your analysis.\n",
    "- Include visualizations, comparisons, and insights gained from the dimensionality reduction techniques."
   ]
  }
 ],
 "metadata": {
  "kernelspec": {
   "display_name": "base",
   "language": "python",
   "name": "python3"
  },
  "language_info": {
   "codemirror_mode": {
    "name": "ipython",
    "version": 3
   },
   "file_extension": ".py",
   "mimetype": "text/x-python",
   "name": "python",
   "nbconvert_exporter": "python",
   "pygments_lexer": "ipython3",
   "version": "3.11.5"
  },
  "orig_nbformat": 4
 },
 "nbformat": 4,
 "nbformat_minor": 2
}
