{
 "cells": [
  {
   "cell_type": "markdown",
   "metadata": {},
   "source": [
    "# General Injury Data"
   ]
  },
  {
   "cell_type": "markdown",
   "metadata": {},
   "source": [
    "### Injury & Injury Prevention Data Soccer \n",
    "\n",
    "In order to clean this data set, I dropped all unnecessary columns, added binary values to columns that expressed binary data, and renamed columns appropriately. \n",
    "\n",
    "The cleaned data can be found [here](https://drive.google.com/file/d/1LnRYCGYcPy09mGPZhpgtNCemL3LeXXFa/view?usp=drive_link) and the cleaning code can be found [here.](https://github.com/anly501/dsan-5000-project-rennyd123/blob/main/codes/01-data-gathering/data_gathering%26cleaning.Rmd)."
   ]
  },
  {
   "cell_type": "markdown",
   "metadata": {},
   "source": [
    "### Injury Data From Different Activites\n",
    "\n",
    "In order to clean this data, I first had to reformat it into a tabular format and then had drop unnecessary columns. \n",
    "\n",
    "The cleaned data can be found [here](https://drive.google.com/file/d/16FtjsrknfpajtxkCK-SfjUChLKJmmPRP/view?usp=drive_link) and the cleaning code can be found [here.](https://github.com/anly501/dsan-5000-project-rennyd123/blob/main/codes/01-data-gathering/data_gathering%26cleaning.Rmd)"
   ]
  },
  {
   "cell_type": "markdown",
   "metadata": {},
   "source": [
    "# NBA Data"
   ]
  },
  {
   "cell_type": "markdown",
   "metadata": {},
   "source": [
    "### NBA Injury Data\n",
    "\n",
    "The main cleaning that I had to do for this data set was subsetting to ensure that I had the columns that I needed. I dropped the \"Acquired\" column and then also split the \"Notes\" column into \"Notes\" and \"Injury Status\" which extracts information about the duration of the stint on the Injured List into a new column.  \n",
    "\n",
    "The link to my cleaned can be found [here](https://github.com/anly501/dsan-5000-project-rennyd123/blob/main/dsan-website/5000-website/data/raw/injuries_2010-2020.csv) and the link my code can be found [here](https://github.com/anly501/dsan-5000-project-rennyd123/blob/main/codes/01-data-gathering/data_gathering%26cleaning.ipynb). "
   ]
  },
  {
   "cell_type": "markdown",
   "metadata": {},
   "source": [
    "### NBA Data \n",
    "\n",
    "The cleaning done for this data set included joining all three data sets - the players, teams, and rankings data sets - together. I dropped unnecessary columns and filtered out NA values. The cleaned data set and associated code can be found below. \n",
    "\n",
    "The cleaned data set can be found [here](https://drive.google.com/file/d/1Oia6kxCLGjhlcp1rD0WrZEUymnjl_L0w/view?usp=sharing) and the cleaning code can be found [here.](https://github.com/anly501/dsan-5000-project-rennyd123/blob/main/codes/01-data-gathering/data_gathering%26cleaning.Rmd)"
   ]
  },
  {
   "cell_type": "markdown",
   "metadata": {},
   "source": [
    "# NFL Data"
   ]
  },
  {
   "cell_type": "markdown",
   "metadata": {},
   "source": [
    "### NFL Concussion Data\n",
    "\n",
    "The cleaning done to this data set at this point has been minimal. I simply dropped unnecessary columns in order to make the dataset more suitable to my project. \n",
    "\n",
    "The link to the cleaned data set is [here](https://drive.google.com/file/d/1ZpaY2z3yJCd1OvBREqEq5izX8hJNQgBM/view?usp=drive_link) and the link to the cleaning code is [here.](https://github.com/anly501/dsan-5000-project-rennyd123/blob/main/codes/01-data-gathering/data_gathering%26cleaning.ipynb)"
   ]
  },
  {
   "cell_type": "markdown",
   "metadata": {},
   "source": [
    "### NFL Game Injury Data\n",
    "\n",
    "The data cleaning for this data set involved merging two data sets together and dropping columns to make the data set more suitable for my project. \n",
    "\n",
    "The link to the cleaned data can be found [here](https://drive.google.com/file/d/1K3vm1MIEF-w3xa85KpyWYhYin08-pQNH/view?usp=drive_link) and the link to the cleaning code can be found [here.](https://github.com/anly501/dsan-5000-project-rennyd123/blob/main/codes/01-data-gathering/data_gathering%26cleaning.ipynb)"
   ]
  }
 ],
 "metadata": {
  "kernelspec": {
   "display_name": "Python 3",
   "language": "python",
   "name": "python3"
  },
  "language_info": {
   "codemirror_mode": {
    "name": "ipython",
    "version": 3
   },
   "file_extension": ".py",
   "mimetype": "text/x-python",
   "name": "python",
   "nbconvert_exporter": "python",
   "pygments_lexer": "ipython3",
   "version": "3.11.5"
  },
  "orig_nbformat": 4
 },
 "nbformat": 4,
 "nbformat_minor": 2
}
