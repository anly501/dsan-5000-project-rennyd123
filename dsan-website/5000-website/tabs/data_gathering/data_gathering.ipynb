{
 "cells": [
  {
   "cell_type": "markdown",
   "metadata": {},
   "source": [
    "# General Injury Data"
   ]
  },
  {
   "cell_type": "markdown",
   "metadata": {},
   "source": [
    "### Injury & Injury Prevention Data Soccer \n",
    "\n",
    "This data set focuses on the factors that may have influenced injuries that occured in soccer. The data collects information about the injury that occured, any history of injuries, and factors that may have affected the injury beforehand. This data will be useful to see what factors can influence injuries, such as warming up, previous injuries, etc. \n",
    "\n",
    "The raw data and dataset can be found [here.](https://datadryad.org/stash/dataset/doi:10.5061/dryad.t5r56 )\n"
   ]
  },
  {
   "cell_type": "markdown",
   "metadata": {},
   "source": [
    "### Injury Data From Different Activites\n",
    "\n",
    "This data breaks down the how many injuries per age group come from different types of activities. While this data isn't directly related to professional sports, it helps provide a basic understanding of what sports or physical activities produce the most injuries. \n",
    "\n",
    "The data source can be found [here.](https://www.iii.org/fact-statistic/facts-statistics-sports-injuries)"
   ]
  },
  {
   "cell_type": "markdown",
   "metadata": {},
   "source": [
    "# NBA Data"
   ]
  },
  {
   "cell_type": "markdown",
   "metadata": {},
   "source": [
    "### NBA Injury Data\n",
    "\n",
    "The first data set that I selected to use is a NBA Injury Data set. This data set records all of the roster moves related to injuries made by each NBA team in every season betwwen the 2010 and 2020 seasons. The raw data contains 5 features, including player name, team name, date of transaction, acquired players, relinquished players, and notes about the injury. I thought this data source would be useful to help gather information about what kinds of injuries are most common and how many injuries each team had per season. \n",
    "\n",
    "The link to the raw data can be found [here](https://github.com/anly501/dsan-5000-project-rennyd123/blob/main/dsan-website/5000-website/data/raw/injuries_2010-2020.csv) and the link to the data source can be found [here](https://www.kaggle.com/datasets/ghopkins/nba-injuries-2010-2018/code). "
   ]
  },
  {
   "cell_type": "markdown",
   "metadata": {},
   "source": []
  },
  {
   "cell_type": "markdown",
   "metadata": {},
   "source": [
    "### NBA Data \n",
    "\n",
    "These three data sets are derived from Kaggle and are all related to the NBA. One is a players data set which contains information about players in the NBA including player name, team ID, and the season. Next is the rankings data set which includes information about each team's record in each season and well as information about their conference. Last is the teams data which includes information about each team and where they play. These datasets combined would provide me with information about the NBA records for each season. \n",
    "\n",
    "The link to raw data and data source can be found [here](https://www.kaggle.com/datasets/nathanlauga/nba-games?select=ranking.csv)"
   ]
  },
  {
   "cell_type": "markdown",
   "metadata": {},
   "source": [
    "# NFL Data"
   ]
  },
  {
   "cell_type": "markdown",
   "metadata": {},
   "source": [
    "### NFL Concussion Data\n",
    "\n",
    "This data sources is a list of all the concussion or head injuries in the NFL during the 2012-2014. The data set has information about the time of the injury within the season, the severity of the injury, and the aftermath of the injury. This information is helpful to provide injury context for the NFL seasons. \n",
    "\n",
    "The link to the raw data and data source can be found [here](https://www.kaggle.com/datasets/rishidamarla/concussions-in-the-nfl-20122014)"
   ]
  },
  {
   "cell_type": "markdown",
   "metadata": {},
   "source": [
    "### NFL Game Injury Data\n",
    "\n",
    "This data set provides anonymous information about NFL injuries and the situation in which the injury occured, such as the stadium type, the field type, and the temperature. This data will be useful for seeing how the weather and game circumstances can influence injuries. \n",
    "\n",
    "The link to the raw data and data source can be found [here.](https://www.kaggle.com/competitions/nfl-playing-surface-analytics/data )"
   ]
  }
 ],
 "metadata": {
  "kernelspec": {
   "display_name": "base",
   "language": "python",
   "name": "python3"
  },
  "language_info": {
   "codemirror_mode": {
    "name": "ipython",
    "version": 3
   },
   "file_extension": ".py",
   "mimetype": "text/x-python",
   "name": "python",
   "nbconvert_exporter": "python",
   "pygments_lexer": "ipython3",
   "version": "3.9.6"
  },
  "orig_nbformat": 4
 },
 "nbformat": 4,
 "nbformat_minor": 2
}
